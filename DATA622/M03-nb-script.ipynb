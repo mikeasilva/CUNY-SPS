{
 "cells": [
  {
   "cell_type": "markdown",
   "metadata": {},
   "source": [
    "# NaiveBayes\n",
    "\n",
    "Let us train NaiveBayes model using standard implementation \n",
    "and compare it with our own computation. TO make our computation simpler\n",
    "we will include only categorical variables in the dataset."
   ]
  },
  {
   "cell_type": "code",
   "execution_count": 1,
   "metadata": {
    "ExecuteTime": {
     "end_time": "2020-09-24T12:30:03.009864Z",
     "start_time": "2020-09-24T12:29:48.731850Z"
    }
   },
   "outputs": [],
   "source": [
    "import pandas as pd\n",
    "import numpy as np\n",
    "from sklearn import naive_bayes\n",
    "from sklearn.metrics import confusion_matrix, classification_report, accuracy_score\n",
    "from sklearn.model_selection import train_test_split\n",
    "\n",
    "path = \"heart.csv\"\n",
    "heart = pd.read_csv(path)"
   ]
  },
  {
   "cell_type": "markdown",
   "metadata": {},
   "source": [
    "As practitioners we must always be wary of Overfitting and underfitting. \n",
    "\n",
    "We consider when the performance of a classifier falls by 50% from \n",
    "training to test dataset to be due to overfitting.\n",
    "\n",
    "We consider when the performance of a classifier is below 50% to be\n",
    "an indication of a weak classifier unable to learn. Also known as\n",
    "underfitting.\n",
    "\n",
    "Let us create some utility functions."
   ]
  },
  {
   "cell_type": "code",
   "execution_count": 2,
   "metadata": {
    "ExecuteTime": {
     "end_time": "2020-09-24T12:30:03.025557Z",
     "start_time": "2020-09-24T12:30:03.011595Z"
    }
   },
   "outputs": [],
   "source": [
    "def is_overfitting(train_y, train_y_hat, test_y, test_y_hat):\n",
    "    # if the accuracy from training is much more than accuracy testing phase\n",
    "    # then we conclude Model is overfitting \n",
    "    # unable to generalize\n",
    "    tracc = accuracy_score(train_y, train_y_hat)\n",
    "    tstacc = accuracy_score(test_y, test_y_hat)\n",
    "    if tracc > 2 * tstacc:\n",
    "        return \"model is overfitting -- too complex\"\n",
    "    else:\n",
    "        return \"There is no overfitting, model is an effective learner@ [\" + str(round(tracc,2)) + \"] training accuracy vs testing accuracy=[\" + str(round(tstacc,2)) + \"]\"                                                                               \n",
    "        \n",
    "\n",
    "def is_underfitting(train_y, train_y_hat):\n",
    "    # if the accuracy from training is much more than accuracy testing phase\n",
    "    # then we conclude Model is overfitting \n",
    "    # unable to generalize\n",
    "    tracc = accuracy_score(train_y, train_y_hat)\n",
    "    if 0.5 >  tracc:\n",
    "        return \"model is deficient\"\n",
    "    else:\n",
    "        return \"There is no underfitting.  model is an effective learner@ [\" + str(round(tracc,2)) + \"] accuracy\""
   ]
  },
  {
   "cell_type": "markdown",
   "metadata": {},
   "source": [
    "## Load data and EDA\n",
    "\n",
    "Let us load the data.\n",
    "And subset it to include only categorical predictors."
   ]
  },
  {
   "cell_type": "code",
   "execution_count": 3,
   "metadata": {
    "ExecuteTime": {
     "end_time": "2020-09-24T12:30:03.165464Z",
     "start_time": "2020-09-24T12:30:03.026555Z"
    }
   },
   "outputs": [
    {
     "data": {
      "text/html": [
       "<div>\n",
       "<style scoped>\n",
       "    .dataframe tbody tr th:only-of-type {\n",
       "        vertical-align: middle;\n",
       "    }\n",
       "\n",
       "    .dataframe tbody tr th {\n",
       "        vertical-align: top;\n",
       "    }\n",
       "\n",
       "    .dataframe thead th {\n",
       "        text-align: right;\n",
       "    }\n",
       "</style>\n",
       "<table border=\"1\" class=\"dataframe\">\n",
       "  <thead>\n",
       "    <tr style=\"text-align: right;\">\n",
       "      <th></th>\n",
       "      <th>age</th>\n",
       "      <th>sex</th>\n",
       "      <th>cp</th>\n",
       "      <th>trestbps</th>\n",
       "      <th>chol</th>\n",
       "      <th>fbs</th>\n",
       "      <th>restecg</th>\n",
       "      <th>thalach</th>\n",
       "      <th>exang</th>\n",
       "      <th>oldpeak</th>\n",
       "      <th>slope</th>\n",
       "      <th>ca</th>\n",
       "      <th>thal</th>\n",
       "      <th>target</th>\n",
       "    </tr>\n",
       "  </thead>\n",
       "  <tbody>\n",
       "    <tr>\n",
       "      <th>0</th>\n",
       "      <td>63</td>\n",
       "      <td>1</td>\n",
       "      <td>3</td>\n",
       "      <td>145</td>\n",
       "      <td>233</td>\n",
       "      <td>1</td>\n",
       "      <td>0</td>\n",
       "      <td>150</td>\n",
       "      <td>0</td>\n",
       "      <td>2.3</td>\n",
       "      <td>0</td>\n",
       "      <td>0</td>\n",
       "      <td>1</td>\n",
       "      <td>1</td>\n",
       "    </tr>\n",
       "    <tr>\n",
       "      <th>1</th>\n",
       "      <td>37</td>\n",
       "      <td>1</td>\n",
       "      <td>2</td>\n",
       "      <td>130</td>\n",
       "      <td>250</td>\n",
       "      <td>0</td>\n",
       "      <td>1</td>\n",
       "      <td>187</td>\n",
       "      <td>0</td>\n",
       "      <td>3.5</td>\n",
       "      <td>0</td>\n",
       "      <td>0</td>\n",
       "      <td>2</td>\n",
       "      <td>1</td>\n",
       "    </tr>\n",
       "    <tr>\n",
       "      <th>2</th>\n",
       "      <td>41</td>\n",
       "      <td>0</td>\n",
       "      <td>1</td>\n",
       "      <td>130</td>\n",
       "      <td>204</td>\n",
       "      <td>0</td>\n",
       "      <td>0</td>\n",
       "      <td>172</td>\n",
       "      <td>0</td>\n",
       "      <td>1.4</td>\n",
       "      <td>2</td>\n",
       "      <td>0</td>\n",
       "      <td>2</td>\n",
       "      <td>1</td>\n",
       "    </tr>\n",
       "    <tr>\n",
       "      <th>3</th>\n",
       "      <td>56</td>\n",
       "      <td>1</td>\n",
       "      <td>1</td>\n",
       "      <td>120</td>\n",
       "      <td>236</td>\n",
       "      <td>0</td>\n",
       "      <td>1</td>\n",
       "      <td>178</td>\n",
       "      <td>0</td>\n",
       "      <td>0.8</td>\n",
       "      <td>2</td>\n",
       "      <td>0</td>\n",
       "      <td>2</td>\n",
       "      <td>1</td>\n",
       "    </tr>\n",
       "    <tr>\n",
       "      <th>4</th>\n",
       "      <td>57</td>\n",
       "      <td>0</td>\n",
       "      <td>0</td>\n",
       "      <td>120</td>\n",
       "      <td>354</td>\n",
       "      <td>0</td>\n",
       "      <td>1</td>\n",
       "      <td>163</td>\n",
       "      <td>1</td>\n",
       "      <td>0.6</td>\n",
       "      <td>2</td>\n",
       "      <td>0</td>\n",
       "      <td>2</td>\n",
       "      <td>1</td>\n",
       "    </tr>\n",
       "  </tbody>\n",
       "</table>\n",
       "</div>"
      ],
      "text/plain": [
       "   age  sex  cp  trestbps  chol  fbs  restecg  thalach  exang  oldpeak  slope  \\\n",
       "0   63    1   3       145   233    1        0      150      0      2.3      0   \n",
       "1   37    1   2       130   250    0        1      187      0      3.5      0   \n",
       "2   41    0   1       130   204    0        0      172      0      1.4      2   \n",
       "3   56    1   1       120   236    0        1      178      0      0.8      2   \n",
       "4   57    0   0       120   354    0        1      163      1      0.6      2   \n",
       "\n",
       "   ca  thal  target  \n",
       "0   0     1       1  \n",
       "1   0     2       1  \n",
       "2   0     2       1  \n",
       "3   0     2       1  \n",
       "4   0     2       1  "
      ]
     },
     "execution_count": 3,
     "metadata": {},
     "output_type": "execute_result"
    }
   ],
   "source": [
    "heart.head()"
   ]
  },
  {
   "cell_type": "code",
   "execution_count": 4,
   "metadata": {
    "ExecuteTime": {
     "end_time": "2020-09-24T12:30:03.243784Z",
     "start_time": "2020-09-24T12:30:03.167462Z"
    }
   },
   "outputs": [],
   "source": [
    "catheart = heart.iloc[:,[1,2,5,6,8,10,11,12,13]]"
   ]
  },
  {
   "cell_type": "markdown",
   "metadata": {},
   "source": [
    "## Preliminary EDA"
   ]
  },
  {
   "cell_type": "code",
   "execution_count": 5,
   "metadata": {
    "ExecuteTime": {
     "end_time": "2020-09-24T12:30:03.337757Z",
     "start_time": "2020-09-24T12:30:03.246739Z"
    }
   },
   "outputs": [
    {
     "data": {
      "text/html": [
       "<div>\n",
       "<style scoped>\n",
       "    .dataframe tbody tr th:only-of-type {\n",
       "        vertical-align: middle;\n",
       "    }\n",
       "\n",
       "    .dataframe tbody tr th {\n",
       "        vertical-align: top;\n",
       "    }\n",
       "\n",
       "    .dataframe thead th {\n",
       "        text-align: right;\n",
       "    }\n",
       "</style>\n",
       "<table border=\"1\" class=\"dataframe\">\n",
       "  <thead>\n",
       "    <tr style=\"text-align: right;\">\n",
       "      <th></th>\n",
       "      <th>sex</th>\n",
       "      <th>cp</th>\n",
       "      <th>fbs</th>\n",
       "      <th>restecg</th>\n",
       "      <th>exang</th>\n",
       "      <th>slope</th>\n",
       "      <th>ca</th>\n",
       "      <th>thal</th>\n",
       "      <th>target</th>\n",
       "    </tr>\n",
       "  </thead>\n",
       "  <tbody>\n",
       "    <tr>\n",
       "      <th>0</th>\n",
       "      <td>1</td>\n",
       "      <td>3</td>\n",
       "      <td>1</td>\n",
       "      <td>0</td>\n",
       "      <td>0</td>\n",
       "      <td>0</td>\n",
       "      <td>0</td>\n",
       "      <td>1</td>\n",
       "      <td>1</td>\n",
       "    </tr>\n",
       "    <tr>\n",
       "      <th>1</th>\n",
       "      <td>1</td>\n",
       "      <td>2</td>\n",
       "      <td>0</td>\n",
       "      <td>1</td>\n",
       "      <td>0</td>\n",
       "      <td>0</td>\n",
       "      <td>0</td>\n",
       "      <td>2</td>\n",
       "      <td>1</td>\n",
       "    </tr>\n",
       "    <tr>\n",
       "      <th>2</th>\n",
       "      <td>0</td>\n",
       "      <td>1</td>\n",
       "      <td>0</td>\n",
       "      <td>0</td>\n",
       "      <td>0</td>\n",
       "      <td>2</td>\n",
       "      <td>0</td>\n",
       "      <td>2</td>\n",
       "      <td>1</td>\n",
       "    </tr>\n",
       "    <tr>\n",
       "      <th>3</th>\n",
       "      <td>1</td>\n",
       "      <td>1</td>\n",
       "      <td>0</td>\n",
       "      <td>1</td>\n",
       "      <td>0</td>\n",
       "      <td>2</td>\n",
       "      <td>0</td>\n",
       "      <td>2</td>\n",
       "      <td>1</td>\n",
       "    </tr>\n",
       "    <tr>\n",
       "      <th>4</th>\n",
       "      <td>0</td>\n",
       "      <td>0</td>\n",
       "      <td>0</td>\n",
       "      <td>1</td>\n",
       "      <td>1</td>\n",
       "      <td>2</td>\n",
       "      <td>0</td>\n",
       "      <td>2</td>\n",
       "      <td>1</td>\n",
       "    </tr>\n",
       "  </tbody>\n",
       "</table>\n",
       "</div>"
      ],
      "text/plain": [
       "   sex  cp  fbs  restecg  exang  slope  ca  thal  target\n",
       "0    1   3    1        0      0      0   0     1       1\n",
       "1    1   2    0        1      0      0   0     2       1\n",
       "2    0   1    0        0      0      2   0     2       1\n",
       "3    1   1    0        1      0      2   0     2       1\n",
       "4    0   0    0        1      1      2   0     2       1"
      ]
     },
     "execution_count": 5,
     "metadata": {},
     "output_type": "execute_result"
    }
   ],
   "source": [
    "catheart.head()"
   ]
  },
  {
   "cell_type": "code",
   "execution_count": 6,
   "metadata": {
    "ExecuteTime": {
     "end_time": "2020-09-24T12:30:03.368912Z",
     "start_time": "2020-09-24T12:30:03.341749Z"
    }
   },
   "outputs": [
    {
     "data": {
      "text/plain": [
       "(303, 9)"
      ]
     },
     "execution_count": 6,
     "metadata": {},
     "output_type": "execute_result"
    }
   ],
   "source": [
    "catheart.shape"
   ]
  },
  {
   "cell_type": "code",
   "execution_count": 7,
   "metadata": {
    "ExecuteTime": {
     "end_time": "2020-09-24T12:30:03.447085Z",
     "start_time": "2020-09-24T12:30:03.370904Z"
    }
   },
   "outputs": [
    {
     "data": {
      "text/plain": [
       "1    165\n",
       "0    138\n",
       "Name: target, dtype: int64"
      ]
     },
     "execution_count": 7,
     "metadata": {},
     "output_type": "execute_result"
    }
   ],
   "source": [
    "catheart[\"target\"].value_counts()"
   ]
  },
  {
   "cell_type": "markdown",
   "metadata": {
    "ExecuteTime": {
     "end_time": "2020-09-24T01:35:12.324094Z",
     "start_time": "2020-09-24T01:35:12.309101Z"
    }
   },
   "source": [
    "## Repeatable and Reproducible Experiments\n",
    "Set a seed for repeatable/reproducible random number sequence\n",
    "and split the data into training/test sets.\n",
    "<span style=\"color:red\">**NOTE: The RMD file used set.seed and a selection process to choose the training/test split.  I will show how could be done in python but will ultimately use a list of the same observations so the model results are consistent.**</span>"
   ]
  },
  {
   "cell_type": "code",
   "execution_count": 8,
   "metadata": {
    "ExecuteTime": {
     "end_time": "2020-09-24T12:30:03.494083Z",
     "start_time": "2020-09-24T12:30:03.448084Z"
    }
   },
   "outputs": [],
   "source": [
    "# Here's how to split the data in python\n",
    "X = catheart.loc[:, catheart.columns != \"target\"]\n",
    "Y = catheart[\"target\"]\n",
    "X_train, X_test, Y_train, Y_test = train_test_split(X, Y, test_size = 0.30, random_state = 43)\n",
    "\n",
    "# Here's the rows selected by the process in R\n",
    "r_tstidx = [44, 296, 196, 149, 66, 261, 216, 7, 167, 130, 270, 225, 180, 147, 173, 22, 78, 228, 259, 110, 161, 142, 297, 72, 301, 39, 249, 274, 81, 121, 286, 98, 55, 230, 263, 120, 102, 291, 49, 245, 128, 166, 40, 154, 89, 218, 43, 165, 85, 184, 158, 303, 150, 169, 170, 67, 99, 9, 21, 205, 123, 209, 300, 234, 281, 5, 69, 268, 74, 93, 236, 30, 254, 279, 45, 176, 90, 233, 237, 103, 38, 191, 220, 194, 285, 217, 80, 115, 88, 299, 127, 227, 293, 145, 248, 298, 104, 179, 117, 160, 61, 174, 70, 221, 182, 140, 256, 146, 253, 136, 290, 222, 24, 125, 143, 212, 292, 276, 239, 34, 244, 219, 157, 162, 294, 168, 151, 114, 52, 210, 11, 42, 97, 163, 266, 269, 264, 108, 208, 172, 175, 107, 64, 27, 201, 211, 8, 18, 116, 59, 273, 251, 159, 181, 229, 223, 10, 1, 153, 189, 129, 156, 25, 283, 284, 235, 101, 12, 33, 92, 91, 152, 71, 133, 141, 77, 131, 250, 135, 195, 207, 242, 54, 109, 185, 126, 198, 111, 271, 76, 86, 105, 203, 164, 206, 199, 275, 202, 272, 118, 31, 139, 200, 14, 257, 2, 37, 138, 19, 94, 302, 3]\n",
    "python_tstidx = [x - 1 for x in r_tstidx]\n",
    "trdidx = catheart.index.isin(python_tstidx)\n",
    "trcatheart = catheart[trdidx]\n",
    "tstcatheart = catheart[~trdidx]"
   ]
  },
  {
   "cell_type": "markdown",
   "metadata": {},
   "source": [
    "## Check for class imbalance\n",
    "Here we check visually to see if there are labels which occur in the single digit.\n",
    "If a class exists in just once, if we wish to learn then we cannot test the algorithm for that class and if we include it in the test then we cannot train on it.\n",
    "There are many statistical techniques to correct for class imbalance, left to another follow up workshop."
   ]
  },
  {
   "cell_type": "code",
   "execution_count": 9,
   "metadata": {
    "ExecuteTime": {
     "end_time": "2020-09-24T12:30:03.524511Z",
     "start_time": "2020-09-24T12:30:03.495084Z"
    }
   },
   "outputs": [
    {
     "data": {
      "text/plain": [
       "1    165\n",
       "0    138\n",
       "Name: target, dtype: int64"
      ]
     },
     "execution_count": 9,
     "metadata": {},
     "output_type": "execute_result"
    }
   ],
   "source": [
    "catheart[\"target\"].value_counts()"
   ]
  },
  {
   "cell_type": "markdown",
   "metadata": {},
   "source": [
    "## Training and testing sets must be similar to the entire dataset\n",
    "Are the training and test set distributed approximately similar to\n",
    "given dataset. This is important so that statistics that applies \n",
    "to training and test sets, are applicable to the entire dataset.\n",
    "### Otherwise, we cannot generalize."
   ]
  },
  {
   "cell_type": "code",
   "execution_count": 10,
   "metadata": {
    "ExecuteTime": {
     "end_time": "2020-09-24T12:30:03.664065Z",
     "start_time": "2020-09-24T12:30:03.525479Z"
    }
   },
   "outputs": [
    {
     "data": {
      "text/plain": [
       "(212, 9)"
      ]
     },
     "execution_count": 10,
     "metadata": {},
     "output_type": "execute_result"
    }
   ],
   "source": [
    "trcatheart.shape"
   ]
  },
  {
   "cell_type": "code",
   "execution_count": 11,
   "metadata": {
    "ExecuteTime": {
     "end_time": "2020-09-24T12:30:03.710678Z",
     "start_time": "2020-09-24T12:30:03.665049Z"
    }
   },
   "outputs": [
    {
     "data": {
      "text/plain": [
       "1    114\n",
       "0     98\n",
       "Name: target, dtype: int64"
      ]
     },
     "execution_count": 11,
     "metadata": {},
     "output_type": "execute_result"
    }
   ],
   "source": [
    "trcatheart[\"target\"].value_counts()"
   ]
  },
  {
   "cell_type": "code",
   "execution_count": 12,
   "metadata": {
    "ExecuteTime": {
     "end_time": "2020-09-24T12:30:03.742710Z",
     "start_time": "2020-09-24T12:30:03.712678Z"
    }
   },
   "outputs": [
    {
     "data": {
      "text/plain": [
       "(91, 9)"
      ]
     },
     "execution_count": 12,
     "metadata": {},
     "output_type": "execute_result"
    }
   ],
   "source": [
    "tstcatheart.shape"
   ]
  },
  {
   "cell_type": "code",
   "execution_count": 13,
   "metadata": {
    "ExecuteTime": {
     "end_time": "2020-09-24T12:30:03.773937Z",
     "start_time": "2020-09-24T12:30:03.744671Z"
    }
   },
   "outputs": [
    {
     "data": {
      "text/plain": [
       "1    51\n",
       "0    40\n",
       "Name: target, dtype: int64"
      ]
     },
     "execution_count": 13,
     "metadata": {},
     "output_type": "execute_result"
    }
   ],
   "source": [
    "tstcatheart[\"target\"].value_counts()"
   ]
  },
  {
   "cell_type": "markdown",
   "metadata": {},
   "source": [
    "Train NB model, standard implementation using training set"
   ]
  },
  {
   "cell_type": "code",
   "execution_count": 14,
   "metadata": {
    "ExecuteTime": {
     "end_time": "2020-09-24T12:30:03.805149Z",
     "start_time": "2020-09-24T12:30:03.775942Z"
    }
   },
   "outputs": [],
   "source": [
    "X_train = trcatheart.loc[:, trcatheart.columns != \"target\"]\n",
    "Y_train = trcatheart[\"target\"]\n",
    "nbtr_model = naive_bayes.CategoricalNB().fit(X_train, Y_train)"
   ]
  },
  {
   "cell_type": "markdown",
   "metadata": {},
   "source": [
    "Performance over the training set"
   ]
  },
  {
   "cell_type": "code",
   "execution_count": 15,
   "metadata": {
    "ExecuteTime": {
     "end_time": "2020-09-24T12:30:03.851312Z",
     "start_time": "2020-09-24T12:30:03.808172Z"
    }
   },
   "outputs": [
    {
     "data": {
      "text/html": [
       "<div>\n",
       "<style scoped>\n",
       "    .dataframe tbody tr th:only-of-type {\n",
       "        vertical-align: middle;\n",
       "    }\n",
       "\n",
       "    .dataframe tbody tr th {\n",
       "        vertical-align: top;\n",
       "    }\n",
       "\n",
       "    .dataframe thead th {\n",
       "        text-align: right;\n",
       "    }\n",
       "</style>\n",
       "<table border=\"1\" class=\"dataframe\">\n",
       "  <thead>\n",
       "    <tr style=\"text-align: right;\">\n",
       "      <th></th>\n",
       "      <th>0</th>\n",
       "      <th>1</th>\n",
       "    </tr>\n",
       "  </thead>\n",
       "  <tbody>\n",
       "    <tr>\n",
       "      <th>0</th>\n",
       "      <td>81</td>\n",
       "      <td>17</td>\n",
       "    </tr>\n",
       "    <tr>\n",
       "      <th>1</th>\n",
       "      <td>13</td>\n",
       "      <td>101</td>\n",
       "    </tr>\n",
       "  </tbody>\n",
       "</table>\n",
       "</div>"
      ],
      "text/plain": [
       "    0    1\n",
       "0  81   17\n",
       "1  13  101"
      ]
     },
     "execution_count": 15,
     "metadata": {},
     "output_type": "execute_result"
    }
   ],
   "source": [
    "nbtr_trclass = nbtr_model.predict(X_train)\n",
    "pd.DataFrame(confusion_matrix(Y_train, nbtr_trclass))"
   ]
  },
  {
   "cell_type": "markdown",
   "metadata": {},
   "source": [
    "<span style=\"color:red\">**NOTE: This model preforms slightly better than the R NaiveBayes model.  I currently cannot explain the difference.**</span>"
   ]
  },
  {
   "cell_type": "code",
   "execution_count": 16,
   "metadata": {
    "ExecuteTime": {
     "end_time": "2020-09-24T12:30:03.883287Z",
     "start_time": "2020-09-24T12:30:03.852311Z"
    }
   },
   "outputs": [
    {
     "name": "stdout",
     "output_type": "stream",
     "text": [
      "              precision    recall  f1-score   support\n",
      "\n",
      "           0     0.8617    0.8265    0.8438        98\n",
      "           1     0.8559    0.8860    0.8707       114\n",
      "\n",
      "    accuracy                         0.8585       212\n",
      "   macro avg     0.8588    0.8562    0.8572       212\n",
      "weighted avg     0.8586    0.8585    0.8582       212\n",
      "\n"
     ]
    }
   ],
   "source": [
    "print(classification_report(Y_train, nbtr_trclass, digits = 4))"
   ]
  },
  {
   "cell_type": "markdown",
   "metadata": {},
   "source": [
    "Performance over held out data, the test set"
   ]
  },
  {
   "cell_type": "code",
   "execution_count": 17,
   "metadata": {
    "ExecuteTime": {
     "end_time": "2020-09-24T12:30:03.915128Z",
     "start_time": "2020-09-24T12:30:03.884173Z"
    }
   },
   "outputs": [
    {
     "data": {
      "text/html": [
       "<div>\n",
       "<style scoped>\n",
       "    .dataframe tbody tr th:only-of-type {\n",
       "        vertical-align: middle;\n",
       "    }\n",
       "\n",
       "    .dataframe tbody tr th {\n",
       "        vertical-align: top;\n",
       "    }\n",
       "\n",
       "    .dataframe thead th {\n",
       "        text-align: right;\n",
       "    }\n",
       "</style>\n",
       "<table border=\"1\" class=\"dataframe\">\n",
       "  <thead>\n",
       "    <tr style=\"text-align: right;\">\n",
       "      <th></th>\n",
       "      <th>0</th>\n",
       "      <th>1</th>\n",
       "    </tr>\n",
       "  </thead>\n",
       "  <tbody>\n",
       "    <tr>\n",
       "      <th>0</th>\n",
       "      <td>30</td>\n",
       "      <td>10</td>\n",
       "    </tr>\n",
       "    <tr>\n",
       "      <th>1</th>\n",
       "      <td>3</td>\n",
       "      <td>48</td>\n",
       "    </tr>\n",
       "  </tbody>\n",
       "</table>\n",
       "</div>"
      ],
      "text/plain": [
       "    0   1\n",
       "0  30  10\n",
       "1   3  48"
      ]
     },
     "execution_count": 17,
     "metadata": {},
     "output_type": "execute_result"
    }
   ],
   "source": [
    "X_test = tstcatheart.loc[:, tstcatheart.columns != \"target\"]\n",
    "Y_test = tstcatheart[\"target\"]\n",
    "nbtr_tsclass = nbtr_model.predict(X_test)\n",
    "pd.DataFrame(confusion_matrix(Y_test, nbtr_tsclass))"
   ]
  },
  {
   "cell_type": "code",
   "execution_count": 18,
   "metadata": {
    "ExecuteTime": {
     "end_time": "2020-09-24T12:30:03.947142Z",
     "start_time": "2020-09-24T12:30:03.917085Z"
    }
   },
   "outputs": [
    {
     "name": "stdout",
     "output_type": "stream",
     "text": [
      "              precision    recall  f1-score   support\n",
      "\n",
      "           0     0.9091    0.7500    0.8219        40\n",
      "           1     0.8276    0.9412    0.8807        51\n",
      "\n",
      "    accuracy                         0.8571        91\n",
      "   macro avg     0.8683    0.8456    0.8513        91\n",
      "weighted avg     0.8634    0.8571    0.8549        91\n",
      "\n"
     ]
    }
   ],
   "source": [
    "print(classification_report(Y_test, nbtr_tsclass, digits = 4))"
   ]
  },
  {
   "cell_type": "markdown",
   "metadata": {
    "ExecuteTime": {
     "end_time": "2020-09-24T02:09:50.267558Z",
     "start_time": "2020-09-24T02:09:50.254591Z"
    }
   },
   "source": [
    "## Underfitting / Overfitting"
   ]
  },
  {
   "cell_type": "code",
   "execution_count": 19,
   "metadata": {
    "ExecuteTime": {
     "end_time": "2020-09-24T12:30:03.978852Z",
     "start_time": "2020-09-24T12:30:03.948069Z"
    }
   },
   "outputs": [
    {
     "name": "stdout",
     "output_type": "stream",
     "text": [
      "There is no underfitting.  model is an effective learner@ [0.86] accuracy\n"
     ]
    }
   ],
   "source": [
    "print(is_underfitting(Y_train, nbtr_trclass))"
   ]
  },
  {
   "cell_type": "code",
   "execution_count": 20,
   "metadata": {
    "ExecuteTime": {
     "end_time": "2020-09-24T12:30:04.025866Z",
     "start_time": "2020-09-24T12:30:03.980847Z"
    }
   },
   "outputs": [
    {
     "name": "stdout",
     "output_type": "stream",
     "text": [
      "There is no overfitting, model is an effective learner@ [0.86] training accuracy vs testing accuracy=[0.86]\n"
     ]
    }
   ],
   "source": [
    "print(is_overfitting(Y_train, nbtr_trclass, Y_test, nbtr_tsclass))"
   ]
  },
  {
   "cell_type": "markdown",
   "metadata": {},
   "source": [
    "## Conditionally Independent Class Probabilities\n",
    "\n",
    "Let us now compute NaiveBayes probabilities for each class\n",
    "directly from data.\n",
    "Given any predictor and a value\n",
    "we compute the class conditional probabilities\n",
    "\n",
    "p(c1|x) and p(c2|x) using \n",
    "\n",
    "p(c1|X)=p(x1|c1)p(x2|c1)p(x3|c1)..p(xn|c1)p(c1)\n",
    "\n",
    "and\n",
    "\n",
    "p(c2|X)=p(x1|c2)p(x2|c2)p(x3|c2)..p(xn|c2)p(c2)\n",
    "\n",
    "Here p(c1)=frequency of c1 / total frequency\n",
    "\n",
    "p(x1|c1)=frequency of x1 given c1/frequency of c1\n",
    "\n",
    "we assign the class with the higher probability"
   ]
  },
  {
   "cell_type": "code",
   "execution_count": 21,
   "metadata": {
    "ExecuteTime": {
     "end_time": "2020-09-24T12:30:04.087675Z",
     "start_time": "2020-09-24T12:30:04.027621Z"
    }
   },
   "outputs": [],
   "source": [
    "trcathearttarget_0 = trcatheart.loc[trcatheart[\"target\"] == 0]\n",
    "trcathearttarget_1 = trcatheart.loc[trcatheart[\"target\"] == 1]\n",
    "tstcathearttarget_0 = tstcatheart.loc[tstcatheart[\"target\"] == 0]\n",
    "tstcathearttarget_1 = tstcatheart.loc[tstcatheart[\"target\"] == 1]"
   ]
  },
  {
   "cell_type": "markdown",
   "metadata": {},
   "source": [
    "We compute class frequencies as follows, \n",
    "the number of rows in each class is the frequency of that class.\n",
    "## class c1 proportion"
   ]
  },
  {
   "cell_type": "code",
   "execution_count": 22,
   "metadata": {
    "ExecuteTime": {
     "end_time": "2020-09-24T12:30:04.134577Z",
     "start_time": "2020-09-24T12:30:04.090672Z"
    }
   },
   "outputs": [
    {
     "name": "stdout",
     "output_type": "stream",
     "text": [
      "(0.46226415094339623, 0.5377358490566038)\n"
     ]
    }
   ],
   "source": [
    "c0freq = len(trcathearttarget_0)\n",
    "c1freq = len(trcathearttarget_1)\n",
    "p0 = c0freq / (c0freq + c1freq)\n",
    "p1 = c1freq / (c0freq + c1freq)\n",
    "print((p0,p1))"
   ]
  },
  {
   "cell_type": "markdown",
   "metadata": {},
   "source": [
    "We count, the number of observations in which the attribute has the given value\n",
    "## We return the two proportions for a binary classifier."
   ]
  },
  {
   "cell_type": "code",
   "execution_count": 23,
   "metadata": {
    "ExecuteTime": {
     "end_time": "2020-09-24T12:30:04.165840Z",
     "start_time": "2020-09-24T12:30:04.135768Z"
    }
   },
   "outputs": [],
   "source": [
    "def classProbabilities(dsetc1,dsetc2,prop,val,c1prob,c2prob):\n",
    "    propdsetc1 = dsetc1.loc[dsetc1[prop]==val]\n",
    "    propdsetc2 = dsetc2.loc[dsetc2[prop]==val]\n",
    "    return (len(propdsetc1) / len(dsetc1), len(propdsetc2) / len(dsetc1))"
   ]
  },
  {
   "cell_type": "markdown",
   "metadata": {},
   "source": [
    "Let us put our utility functions to test, calculate conditional probability"
   ]
  },
  {
   "cell_type": "code",
   "execution_count": 24,
   "metadata": {
    "ExecuteTime": {
     "end_time": "2020-09-24T12:30:04.211884Z",
     "start_time": "2020-09-24T12:30:04.167801Z"
    }
   },
   "outputs": [
    {
     "data": {
      "text/plain": [
       "sex        1\n",
       "cp         0\n",
       "fbs        0\n",
       "restecg    0\n",
       "exang      1\n",
       "slope      2\n",
       "ca         2\n",
       "thal       3\n",
       "target     0\n",
       "Name: 295, dtype: int64"
      ]
     },
     "execution_count": 24,
     "metadata": {},
     "output_type": "execute_result"
    }
   ],
   "source": [
    "trcatheart.loc[295,]"
   ]
  },
  {
   "cell_type": "code",
   "execution_count": 25,
   "metadata": {
    "ExecuteTime": {
     "end_time": "2020-09-24T12:30:04.274809Z",
     "start_time": "2020-09-24T12:30:04.213775Z"
    }
   },
   "outputs": [
    {
     "data": {
      "text/plain": [
       "(0.8061224489795918, 0.673469387755102)"
      ]
     },
     "execution_count": 25,
     "metadata": {},
     "output_type": "execute_result"
    }
   ],
   "source": [
    "classProbabilities(trcathearttarget_0,trcathearttarget_1,'sex',1,p0,p1)"
   ]
  },
  {
   "cell_type": "code",
   "execution_count": 26,
   "metadata": {
    "ExecuteTime": {
     "end_time": "2020-09-24T12:30:04.319954Z",
     "start_time": "2020-09-24T12:30:04.276804Z"
    }
   },
   "outputs": [
    {
     "data": {
      "text/plain": [
       "(0.7653061224489796, 0.29591836734693877)"
      ]
     },
     "execution_count": 26,
     "metadata": {},
     "output_type": "execute_result"
    }
   ],
   "source": [
    "classProbabilities(trcathearttarget_0,trcathearttarget_1,'cp',0,p0,p1)"
   ]
  },
  {
   "cell_type": "code",
   "execution_count": 27,
   "metadata": {
    "ExecuteTime": {
     "end_time": "2020-09-24T12:30:04.351738Z",
     "start_time": "2020-09-24T12:30:04.321863Z"
    }
   },
   "outputs": [
    {
     "data": {
      "text/plain": [
       "(0.8571428571428571, 1.010204081632653)"
      ]
     },
     "execution_count": 27,
     "metadata": {},
     "output_type": "execute_result"
    }
   ],
   "source": [
    "classProbabilities(trcathearttarget_0,trcathearttarget_1,'fbs',0,p0,p1)"
   ]
  },
  {
   "cell_type": "code",
   "execution_count": 28,
   "metadata": {
    "ExecuteTime": {
     "end_time": "2020-09-24T12:30:04.398580Z",
     "start_time": "2020-09-24T12:30:04.353636Z"
    }
   },
   "outputs": [
    {
     "data": {
      "text/plain": [
       "(0.5816326530612245, 0.46938775510204084)"
      ]
     },
     "execution_count": 28,
     "metadata": {},
     "output_type": "execute_result"
    }
   ],
   "source": [
    "classProbabilities(trcathearttarget_0,trcathearttarget_1,'restecg',0,p0,p1)"
   ]
  },
  {
   "cell_type": "code",
   "execution_count": 29,
   "metadata": {
    "ExecuteTime": {
     "end_time": "2020-09-24T12:30:04.445616Z",
     "start_time": "2020-09-24T12:30:04.400369Z"
    }
   },
   "outputs": [
    {
     "data": {
      "text/plain": [
       "(0.5510204081632653, 0.20408163265306123)"
      ]
     },
     "execution_count": 29,
     "metadata": {},
     "output_type": "execute_result"
    }
   ],
   "source": [
    "classProbabilities(trcathearttarget_0,trcathearttarget_1,'exang',1,p0,p1)"
   ]
  },
  {
   "cell_type": "code",
   "execution_count": 30,
   "metadata": {
    "ExecuteTime": {
     "end_time": "2020-09-24T12:30:04.476863Z",
     "start_time": "2020-09-24T12:30:04.447581Z"
    }
   },
   "outputs": [
    {
     "data": {
      "text/plain": [
       "(0.22448979591836735, 0.6938775510204082)"
      ]
     },
     "execution_count": 30,
     "metadata": {},
     "output_type": "execute_result"
    }
   ],
   "source": [
    "classProbabilities(trcathearttarget_0,trcathearttarget_1,'slope',2,p0,p1)"
   ]
  },
  {
   "cell_type": "code",
   "execution_count": 31,
   "metadata": {
    "ExecuteTime": {
     "end_time": "2020-09-24T12:30:04.524242Z",
     "start_time": "2020-09-24T12:30:04.478861Z"
    }
   },
   "outputs": [
    {
     "data": {
      "text/plain": [
       "(0.25510204081632654, 0.04081632653061224)"
      ]
     },
     "execution_count": 31,
     "metadata": {},
     "output_type": "execute_result"
    }
   ],
   "source": [
    "classProbabilities(trcathearttarget_0,trcathearttarget_1,'ca',2,p0,p1)"
   ]
  },
  {
   "cell_type": "code",
   "execution_count": 32,
   "metadata": {
    "ExecuteTime": {
     "end_time": "2020-09-24T12:30:04.555130Z",
     "start_time": "2020-09-24T12:30:04.528226Z"
    }
   },
   "outputs": [
    {
     "data": {
      "text/plain": [
       "(0.673469387755102, 0.20408163265306123)"
      ]
     },
     "execution_count": 32,
     "metadata": {},
     "output_type": "execute_result"
    }
   ],
   "source": [
    "classProbabilities(trcathearttarget_0,trcathearttarget_1,'thal',3,p0,p1)"
   ]
  },
  {
   "cell_type": "code",
   "execution_count": 33,
   "metadata": {
    "ExecuteTime": {
     "end_time": "2020-09-24T12:30:04.601320Z",
     "start_time": "2020-09-24T12:30:04.557123Z"
    }
   },
   "outputs": [
    {
     "data": {
      "text/plain": [
       "(0.46226415094339623, 0.5377358490566038)"
      ]
     },
     "execution_count": 33,
     "metadata": {},
     "output_type": "execute_result"
    }
   ],
   "source": [
    "xx = [\n",
    "  classProbabilities(trcathearttarget_0,trcathearttarget_1,'sex',1,p0,p1),\n",
    "  classProbabilities(trcathearttarget_0,trcathearttarget_1,'cp',0,p0,p1),\n",
    "  classProbabilities(trcathearttarget_0,trcathearttarget_1,'fbs',0,p0,p1),\n",
    "  classProbabilities(trcathearttarget_0,trcathearttarget_1,'restecg',0,p0,p1),\n",
    "  classProbabilities(trcathearttarget_0,trcathearttarget_1,'exang',1,p0,p1),\n",
    "  classProbabilities(trcathearttarget_0,trcathearttarget_1,'slope',2,p0,p1),\n",
    "  classProbabilities(trcathearttarget_0,trcathearttarget_1,'ca',2,p0,p1),\n",
    "  classProbabilities(trcathearttarget_0,trcathearttarget_1,'thal',3,p0,p1),\n",
    "  (p0,p1)]\n",
    "(p0,p1)"
   ]
  },
  {
   "cell_type": "code",
   "execution_count": 34,
   "metadata": {
    "ExecuteTime": {
     "end_time": "2020-09-24T12:30:04.632089Z",
     "start_time": "2020-09-24T12:30:04.603302Z"
    }
   },
   "outputs": [
    {
     "data": {
      "text/plain": [
       "0"
      ]
     },
     "execution_count": 34,
     "metadata": {},
     "output_type": "execute_result"
    }
   ],
   "source": [
    "mx = np.array(xx)\n",
    "cp = np.prod(mx, axis=0)\n",
    "pred_class = [i for (i, v) in zip([0,1], cp == max(cp)) if v][0]\n",
    "actual_class = trcatheart.loc[295,][\"target\"]\n",
    "actual_class"
   ]
  },
  {
   "cell_type": "code",
   "execution_count": 35,
   "metadata": {
    "ExecuteTime": {
     "end_time": "2020-09-24T12:30:04.664202Z",
     "start_time": "2020-09-24T12:30:04.634083Z"
    }
   },
   "outputs": [
    {
     "name": "stdout",
     "output_type": "stream",
     "text": [
      "TP\n"
     ]
    }
   ],
   "source": [
    "def binominal_classification_result(actual_class, pred_class):\n",
    "    if actual_class == 0:\n",
    "        if pred_class == 0:\n",
    "            print(\"TP\")\n",
    "        else:\n",
    "            print(\"FN\")\n",
    "    elif pred_class == 1:\n",
    "        print(\"TN\")\n",
    "    else:\n",
    "        print(\"FP\")\n",
    "\n",
    "binominal_classification_result(actual_class, pred_class)"
   ]
  },
  {
   "cell_type": "code",
   "execution_count": 36,
   "metadata": {
    "ExecuteTime": {
     "end_time": "2020-09-24T12:30:04.712035Z",
     "start_time": "2020-09-24T12:30:04.665966Z"
    }
   },
   "outputs": [
    {
     "data": {
      "text/plain": [
       "sex        0\n",
       "cp         3\n",
       "fbs        0\n",
       "restecg    1\n",
       "exang      0\n",
       "slope      2\n",
       "ca         2\n",
       "thal       2\n",
       "target     1\n",
       "Name: 19, dtype: int64"
      ]
     },
     "execution_count": 36,
     "metadata": {},
     "output_type": "execute_result"
    }
   ],
   "source": [
    "tstcatheart.loc[19,]"
   ]
  },
  {
   "cell_type": "code",
   "execution_count": 37,
   "metadata": {
    "ExecuteTime": {
     "end_time": "2020-09-24T12:30:04.742957Z",
     "start_time": "2020-09-24T12:30:04.713004Z"
    }
   },
   "outputs": [
    {
     "data": {
      "text/plain": [
       "1"
      ]
     },
     "execution_count": 37,
     "metadata": {},
     "output_type": "execute_result"
    }
   ],
   "source": [
    "xx = [\n",
    "  classProbabilities(trcathearttarget_0,trcathearttarget_1,'sex',0,p0,p1),\n",
    "  classProbabilities(trcathearttarget_0,trcathearttarget_1,'cp',1,p0,p1),\n",
    "  classProbabilities(trcathearttarget_0,trcathearttarget_1,'fbs',0,p0,p1),\n",
    "  classProbabilities(trcathearttarget_0,trcathearttarget_1,'restecg',1,p0,p1),\n",
    "  classProbabilities(trcathearttarget_0,trcathearttarget_1,'exang',0,p0,p1),\n",
    "  classProbabilities(trcathearttarget_0,trcathearttarget_1,'slope',2,p0,p1),\n",
    "  classProbabilities(trcathearttarget_0,trcathearttarget_1,'ca',2,p0,p1),\n",
    "  classProbabilities(trcathearttarget_0,trcathearttarget_1,'thal',2,p0,p1),\n",
    "  (p0,p1)]\n",
    "mx = np.array(xx)\n",
    "cp = np.prod(mx, axis=0)\n",
    "pred_class = [i for (i, v) in zip([0,1], cp == max(cp)) if v][0]\n",
    "pred_class"
   ]
  },
  {
   "cell_type": "code",
   "execution_count": 38,
   "metadata": {
    "ExecuteTime": {
     "end_time": "2020-09-24T12:30:04.790547Z",
     "start_time": "2020-09-24T12:30:04.744950Z"
    }
   },
   "outputs": [
    {
     "data": {
      "text/plain": [
       "1"
      ]
     },
     "execution_count": 38,
     "metadata": {},
     "output_type": "execute_result"
    }
   ],
   "source": [
    "actual_class = tstcatheart.loc[19,][\"target\"]\n",
    "actual_class"
   ]
  },
  {
   "cell_type": "code",
   "execution_count": 39,
   "metadata": {
    "ExecuteTime": {
     "end_time": "2020-09-24T12:30:04.822040Z",
     "start_time": "2020-09-24T12:30:04.792542Z"
    }
   },
   "outputs": [
    {
     "name": "stdout",
     "output_type": "stream",
     "text": [
      "TN\n"
     ]
    }
   ],
   "source": [
    "binominal_classification_result(actual_class, pred_class)"
   ]
  },
  {
   "cell_type": "markdown",
   "metadata": {},
   "source": [
    "## NOTE THAT we are using the distribution of training set to evaluate the test set probabilities otherwise we could not claim to be generalizing\n",
    "Let us do one more 23rd observation from the test set.seed\n",
    "\n",
    "<span style=\"color:red\">**NOTE: This is the 57th row in R.**</span>"
   ]
  },
  {
   "cell_type": "code",
   "execution_count": 40,
   "metadata": {
    "ExecuteTime": {
     "end_time": "2020-09-24T12:30:04.853487Z",
     "start_time": "2020-09-24T12:30:04.824033Z"
    }
   },
   "outputs": [
    {
     "data": {
      "text/plain": [
       "sex        1\n",
       "cp         0\n",
       "fbs        0\n",
       "restecg    0\n",
       "exang      0\n",
       "slope      2\n",
       "ca         0\n",
       "thal       2\n",
       "target     1\n",
       "Name: 56, dtype: int64"
      ]
     },
     "execution_count": 40,
     "metadata": {},
     "output_type": "execute_result"
    }
   ],
   "source": [
    "tstcatheart.loc[56,]"
   ]
  },
  {
   "cell_type": "code",
   "execution_count": 41,
   "metadata": {
    "ExecuteTime": {
     "end_time": "2020-09-24T12:30:04.900555Z",
     "start_time": "2020-09-24T12:30:04.855498Z"
    }
   },
   "outputs": [
    {
     "data": {
      "text/plain": [
       "1"
      ]
     },
     "execution_count": 41,
     "metadata": {},
     "output_type": "execute_result"
    }
   ],
   "source": [
    "xx = [\n",
    "  classProbabilities(trcathearttarget_0,trcathearttarget_1,'sex',1,p0,p1),\n",
    "  classProbabilities(trcathearttarget_0,trcathearttarget_1,'cp',0,p0,p1),\n",
    "  classProbabilities(trcathearttarget_0,trcathearttarget_1,'fbs',0,p0,p1),\n",
    "  classProbabilities(trcathearttarget_0,trcathearttarget_1,'restecg',0,p0,p1),\n",
    "  classProbabilities(trcathearttarget_0,trcathearttarget_1,'exang',0,p0,p1),\n",
    "  classProbabilities(trcathearttarget_0,trcathearttarget_1,'slope',2,p0,p1),\n",
    "  classProbabilities(trcathearttarget_0,trcathearttarget_1,'ca',0,p0,p1),\n",
    "  classProbabilities(trcathearttarget_0,trcathearttarget_1,'thal',2,p0,p1),\n",
    "  (p0,p1)]\n",
    "mx = np.array(xx)\n",
    "cp = np.prod(mx, axis=0)\n",
    "pred_class = [i for (i, v) in zip([0,1], cp == max(cp)) if v][0]\n",
    "pred_class"
   ]
  },
  {
   "cell_type": "code",
   "execution_count": 42,
   "metadata": {
    "ExecuteTime": {
     "end_time": "2020-09-24T12:30:04.931837Z",
     "start_time": "2020-09-24T12:30:04.901557Z"
    }
   },
   "outputs": [
    {
     "data": {
      "text/plain": [
       "1"
      ]
     },
     "execution_count": 42,
     "metadata": {},
     "output_type": "execute_result"
    }
   ],
   "source": [
    "actual_class = tstcatheart.loc[56,][\"target\"]\n",
    "actual_class"
   ]
  },
  {
   "cell_type": "code",
   "execution_count": 43,
   "metadata": {
    "ExecuteTime": {
     "end_time": "2020-09-24T12:30:04.962732Z",
     "start_time": "2020-09-24T12:30:04.932802Z"
    }
   },
   "outputs": [
    {
     "name": "stdout",
     "output_type": "stream",
     "text": [
      "TN\n"
     ]
    }
   ],
   "source": [
    "binominal_classification_result(actual_class, pred_class)"
   ]
  },
  {
   "cell_type": "code",
   "execution_count": 50,
   "metadata": {
    "ExecuteTime": {
     "end_time": "2020-09-24T12:35:07.459857Z",
     "start_time": "2020-09-24T12:35:07.450874Z"
    }
   },
   "outputs": [
    {
     "name": "stdout",
     "output_type": "stream",
     "text": [
      "sex\n",
      "cp\n",
      "fbs\n",
      "restecg\n",
      "exang\n",
      "slope\n",
      "ca\n",
      "thal\n"
     ]
    }
   ],
   "source": [
    "def evaluate_naiveBayes(nv,vv,targetclass,trdsetcl1,trdsetcl2,cl1prob,cl2prob):\n",
    "    nvl = len(nv)\n",
    "    xx = []\n",
    "    for idx in nv:#range(0, nvl):\n",
    "        print(idx)\n",
    "\"\"\"\n",
    "{\n",
    "attr<-nv[idx]\n",
    "value<-vv[[idx]]\n",
    "#print(c(attr,value))\n",
    "#xx<-c(xx,classProbabilities(trdsetcl1,trdsetcl2,nv[idx],vv[[idx]],cl1prob,cl2prob))\n",
    "xx<-c(xx,classProbabilities(trdsetcl1,trdsetcl2,attr,value,cl1prob,cl2prob))\n",
    "}\n",
    "xx<-unlist(c(xx,  c(p0,p1)))\n",
    "nvl<-nvl+1\n",
    "mx<-matrix(xx,nrow=nvl,ncol=2,byrow=T)\n",
    "\n",
    "unlist(apply(mx,2,cumprod))\n",
    "cp<-unlist(apply(mx,2,cumprod))\n",
    "\n",
    "pred_class<-which.max(cp[nvl,])-1\n",
    "pred_class\n",
    "targetclass\n",
    "metric<-ifelse(targetclass==0,\n",
    "       ifelse(pred_class==0,'TP','FN'),\n",
    "       ifelse(pred_class==1,'TN','FP'))\n",
    "c(targetclass,pred_class,metric)\n",
    "}\n",
    "\"\"\"\n",
    "\n",
    "evaluate_naiveBayes(X_train.columns, X_train, Y_train, None,None,p0,p1)"
   ]
  },
  {
   "cell_type": "code",
   "execution_count": null,
   "metadata": {},
   "outputs": [],
   "source": []
  }
 ],
 "metadata": {
  "kernelspec": {
   "display_name": "Python 3",
   "language": "python",
   "name": "python3"
  }
 },
 "nbformat": 4,
 "nbformat_minor": 4
}
