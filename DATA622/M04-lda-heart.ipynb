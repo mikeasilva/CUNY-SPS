{
 "cells": [
  {
   "cell_type": "markdown",
   "metadata": {},
   "source": [
    "# Linear Discriminant Analysis\n",
    "\n",
    "LDA attempts to identify a dimension in which the separation between classes is maximized. It can be implemented using linear algebra or the ISLR formulation. In the accompanying chapter we illustrated using iris to show that LDA can handle multi-class problems. Here, we will customize it for heart dataset, a binary classification problem."
   ]
  },
  {
   "cell_type": "code",
   "execution_count": 1,
   "metadata": {
    "ExecuteTime": {
     "end_time": "2020-09-30T10:54:29.201964Z",
     "start_time": "2020-09-30T10:54:27.091157Z"
    }
   },
   "outputs": [],
   "source": [
    "import pandas as pd\n",
    "import numpy as np\n",
    "import matplotlib.pyplot as plt\n",
    "from sklearn.metrics import confusion_matrix, classification_report, roc_auc_score, roc_curve\n",
    "from sklearn.discriminant_analysis import LinearDiscriminantAnalysis\n",
    "\n",
    "path = \"heart.csv\"\n",
    "heart = pd.read_csv(path)"
   ]
  },
  {
   "cell_type": "code",
   "execution_count": 2,
   "metadata": {
    "ExecuteTime": {
     "end_time": "2020-09-30T10:54:29.231960Z",
     "start_time": "2020-09-30T10:54:29.204932Z"
    }
   },
   "outputs": [
    {
     "data": {
      "text/html": [
       "<div>\n",
       "<style scoped>\n",
       "    .dataframe tbody tr th:only-of-type {\n",
       "        vertical-align: middle;\n",
       "    }\n",
       "\n",
       "    .dataframe tbody tr th {\n",
       "        vertical-align: top;\n",
       "    }\n",
       "\n",
       "    .dataframe thead th {\n",
       "        text-align: right;\n",
       "    }\n",
       "</style>\n",
       "<table border=\"1\" class=\"dataframe\">\n",
       "  <thead>\n",
       "    <tr style=\"text-align: right;\">\n",
       "      <th></th>\n",
       "      <th>cname</th>\n",
       "      <th>uvalfreq</th>\n",
       "    </tr>\n",
       "  </thead>\n",
       "  <tbody>\n",
       "    <tr>\n",
       "      <th>0</th>\n",
       "      <td>age</td>\n",
       "      <td>41</td>\n",
       "    </tr>\n",
       "    <tr>\n",
       "      <th>1</th>\n",
       "      <td>sex</td>\n",
       "      <td>2</td>\n",
       "    </tr>\n",
       "    <tr>\n",
       "      <th>2</th>\n",
       "      <td>cp</td>\n",
       "      <td>4</td>\n",
       "    </tr>\n",
       "    <tr>\n",
       "      <th>3</th>\n",
       "      <td>trestbps</td>\n",
       "      <td>49</td>\n",
       "    </tr>\n",
       "    <tr>\n",
       "      <th>4</th>\n",
       "      <td>chol</td>\n",
       "      <td>152</td>\n",
       "    </tr>\n",
       "    <tr>\n",
       "      <th>5</th>\n",
       "      <td>fbs</td>\n",
       "      <td>2</td>\n",
       "    </tr>\n",
       "    <tr>\n",
       "      <th>6</th>\n",
       "      <td>restecg</td>\n",
       "      <td>3</td>\n",
       "    </tr>\n",
       "    <tr>\n",
       "      <th>7</th>\n",
       "      <td>thalach</td>\n",
       "      <td>91</td>\n",
       "    </tr>\n",
       "    <tr>\n",
       "      <th>8</th>\n",
       "      <td>exang</td>\n",
       "      <td>2</td>\n",
       "    </tr>\n",
       "    <tr>\n",
       "      <th>9</th>\n",
       "      <td>oldpeak</td>\n",
       "      <td>40</td>\n",
       "    </tr>\n",
       "    <tr>\n",
       "      <th>10</th>\n",
       "      <td>slope</td>\n",
       "      <td>3</td>\n",
       "    </tr>\n",
       "    <tr>\n",
       "      <th>11</th>\n",
       "      <td>ca</td>\n",
       "      <td>5</td>\n",
       "    </tr>\n",
       "    <tr>\n",
       "      <th>12</th>\n",
       "      <td>thal</td>\n",
       "      <td>4</td>\n",
       "    </tr>\n",
       "    <tr>\n",
       "      <th>13</th>\n",
       "      <td>target</td>\n",
       "      <td>2</td>\n",
       "    </tr>\n",
       "  </tbody>\n",
       "</table>\n",
       "</div>"
      ],
      "text/plain": [
       "       cname  uvalfreq\n",
       "0        age        41\n",
       "1        sex         2\n",
       "2         cp         4\n",
       "3   trestbps        49\n",
       "4       chol       152\n",
       "5        fbs         2\n",
       "6    restecg         3\n",
       "7    thalach        91\n",
       "8      exang         2\n",
       "9    oldpeak        40\n",
       "10     slope         3\n",
       "11        ca         5\n",
       "12      thal         4\n",
       "13    target         2"
      ]
     },
     "execution_count": 2,
     "metadata": {},
     "output_type": "execute_result"
    }
   ],
   "source": [
    "nvpairsdf3 = []\n",
    "for col in heart.columns:\n",
    "    nvpairsdf3.append({\"cname\": col, \"uvalfreq\":len(heart[col].unique())})\n",
    "nvpairsdf3 = pd.DataFrame(nvpairsdf3)\n",
    "nvpairsdf3"
   ]
  },
  {
   "cell_type": "code",
   "execution_count": 3,
   "metadata": {
    "ExecuteTime": {
     "end_time": "2020-09-30T10:54:29.288294Z",
     "start_time": "2020-09-30T10:54:29.233253Z"
    },
    "code_folding": [
     6
    ]
   },
   "outputs": [],
   "source": [
    "def categorical_features(dset, ncol=7):\n",
    "    df4 = []\n",
    "    for col in dset.columns:\n",
    "        df4.append({\"cname\": col, \"uvalfreq\":len(dset[col].unique())})\n",
    "    df4 = pd.DataFrame(df4)\n",
    "    cols = df4[df4.uvalfreq <= ncol][\"cname\"].values.tolist()\n",
    "    return(dset[cols])\n",
    "X = categorical_features(heart)"
   ]
  },
  {
   "cell_type": "code",
   "execution_count": 4,
   "metadata": {
    "ExecuteTime": {
     "end_time": "2020-09-30T10:54:29.329078Z",
     "start_time": "2020-09-30T10:54:29.292990Z"
    }
   },
   "outputs": [
    {
     "data": {
      "text/plain": [
       "1    165\n",
       "0    138\n",
       "Name: target, dtype: int64"
      ]
     },
     "execution_count": 4,
     "metadata": {},
     "output_type": "execute_result"
    }
   ],
   "source": [
    "heart[\"target\"].value_counts()"
   ]
  },
  {
   "cell_type": "code",
   "execution_count": 5,
   "metadata": {
    "ExecuteTime": {
     "end_time": "2020-09-30T10:54:29.371287Z",
     "start_time": "2020-09-30T10:54:29.337098Z"
    }
   },
   "outputs": [
    {
     "data": {
      "text/plain": [
       "(303, 9)"
      ]
     },
     "execution_count": 5,
     "metadata": {},
     "output_type": "execute_result"
    }
   ],
   "source": [
    "X.shape"
   ]
  },
  {
   "cell_type": "code",
   "execution_count": 6,
   "metadata": {
    "ExecuteTime": {
     "end_time": "2020-09-30T10:54:29.412377Z",
     "start_time": "2020-09-30T10:54:29.376095Z"
    }
   },
   "outputs": [
    {
     "name": "stdout",
     "output_type": "stream",
     "text": [
      "Index(['sex', 'cp', 'fbs', 'restecg', 'exang', 'slope', 'ca', 'thal',\n",
      "       'target'],\n",
      "      dtype='object')\n"
     ]
    }
   ],
   "source": [
    "heart0 = X[X.target == 0]\n",
    "heart1 = X[X.target == 1]\n",
    "print(heart0.columns)"
   ]
  },
  {
   "cell_type": "markdown",
   "metadata": {},
   "source": [
    "## Let us compute class means for each feature\n",
    "\n",
    "data.frames and vector manipulation"
   ]
  },
  {
   "cell_type": "code",
   "execution_count": 7,
   "metadata": {
    "ExecuteTime": {
     "end_time": "2020-09-30T10:54:29.444010Z",
     "start_time": "2020-09-30T10:54:29.414377Z"
    }
   },
   "outputs": [],
   "source": [
    "# The R code no longer uses the target\n",
    "heart0 = heart0.drop(\"target\", axis=1)\n",
    "heart1 = heart1.drop(\"target\", axis=1)\n",
    "\n",
    "heart0mean = heart0.mean(axis=0)\n",
    "heart1mean = heart1.mean(axis=0)"
   ]
  },
  {
   "cell_type": "markdown",
   "metadata": {},
   "source": [
    "Let us compute the mean for the entire dataset"
   ]
  },
  {
   "cell_type": "code",
   "execution_count": 8,
   "metadata": {
    "ExecuteTime": {
     "end_time": "2020-09-30T10:54:29.478497Z",
     "start_time": "2020-09-30T10:54:29.446925Z"
    }
   },
   "outputs": [],
   "source": [
    "allclassmean = X.drop(\"target\", axis=1).mean(axis=0)"
   ]
  },
  {
   "cell_type": "markdown",
   "metadata": {},
   "source": [
    "And the covariances"
   ]
  },
  {
   "cell_type": "code",
   "execution_count": 9,
   "metadata": {
    "ExecuteTime": {
     "end_time": "2020-09-30T10:54:29.521653Z",
     "start_time": "2020-09-30T10:54:29.481943Z"
    }
   },
   "outputs": [],
   "source": [
    "S1 = heart0.cov()\n",
    "S2 = heart1.cov()"
   ]
  },
  {
   "cell_type": "markdown",
   "metadata": {},
   "source": [
    "Class frequencies"
   ]
  },
  {
   "cell_type": "code",
   "execution_count": 10,
   "metadata": {
    "ExecuteTime": {
     "end_time": "2020-09-30T10:54:29.547192Z",
     "start_time": "2020-09-30T10:54:29.526163Z"
    }
   },
   "outputs": [],
   "source": [
    "N1 = len(heart0.index)\n",
    "N2 = len(heart1.index)"
   ]
  },
  {
   "cell_type": "markdown",
   "metadata": {},
   "source": [
    "Let us compute pooled covariance"
   ]
  },
  {
   "cell_type": "code",
   "execution_count": 11,
   "metadata": {
    "ExecuteTime": {
     "end_time": "2020-09-30T10:54:29.582278Z",
     "start_time": "2020-09-30T10:54:29.551982Z"
    }
   },
   "outputs": [],
   "source": [
    "SWpooled = ((N1 - 1) * S1 + (N2 - 1) * S2) / (N1 + N2 - 2)"
   ]
  },
  {
   "cell_type": "markdown",
   "metadata": {},
   "source": [
    "For LDA we need scatter between (SB) for each class."
   ]
  },
  {
   "cell_type": "code",
   "execution_count": 12,
   "metadata": {
    "ExecuteTime": {
     "end_time": "2020-09-30T10:54:29.621457Z",
     "start_time": "2020-09-30T10:54:29.585698Z"
    }
   },
   "outputs": [],
   "source": [
    "SB1 = N1 * (heart0mean - allclassmean) * (heart0mean - allclassmean)\n",
    "SB2 = N2 * (heart1mean - allclassmean) * (heart1mean - allclassmean)\n",
    "SB = SB1 + SB2"
   ]
  },
  {
   "cell_type": "markdown",
   "metadata": {},
   "source": [
    "Let us predict using linear algebra"
   ]
  },
  {
   "cell_type": "code",
   "execution_count": 13,
   "metadata": {
    "ExecuteTime": {
     "end_time": "2020-09-30T10:54:29.671725Z",
     "start_time": "2020-09-30T10:54:29.625113Z"
    }
   },
   "outputs": [],
   "source": [
    "invSWpooled = pd.DataFrame(np.linalg.pinv(SWpooled.values), SWpooled.columns, SWpooled.index)\n",
    "invSWSBpooled = invSWpooled * SB\n",
    "invSWSBpooled = invSWSBpooled.transpose()\n",
    "SWSBpooledeigendecomp_values, SWSBpooledeigendecomp_vectors = np.linalg.eig(invSWSBpooled)\n",
    "lambdas = pd.DataFrame(SWSBpooledeigendecomp_vectors, columns=invSWSBpooled.columns, index=invSWSBpooled.index)[invSWSBpooled.columns[SWSBpooledeigendecomp_values == max(SWSBpooledeigendecomp_values)]].values\n",
    "heart_projections_pooled = X.drop(\"target\", axis=1).dot(lambdas)"
   ]
  },
  {
   "cell_type": "markdown",
   "metadata": {
    "ExecuteTime": {
     "end_time": "2020-09-30T01:49:13.718698Z",
     "start_time": "2020-09-30T01:49:13.703074Z"
    }
   },
   "source": [
    "Convert probabilities into class projections..."
   ]
  },
  {
   "cell_type": "code",
   "execution_count": 14,
   "metadata": {
    "ExecuteTime": {
     "end_time": "2020-09-30T10:54:29.717165Z",
     "start_time": "2020-09-30T10:54:29.676119Z"
    }
   },
   "outputs": [
    {
     "data": {
      "text/html": [
       "<div>\n",
       "<style scoped>\n",
       "    .dataframe tbody tr th:only-of-type {\n",
       "        vertical-align: middle;\n",
       "    }\n",
       "\n",
       "    .dataframe tbody tr th {\n",
       "        vertical-align: top;\n",
       "    }\n",
       "\n",
       "    .dataframe thead th {\n",
       "        text-align: right;\n",
       "    }\n",
       "</style>\n",
       "<table border=\"1\" class=\"dataframe\">\n",
       "  <thead>\n",
       "    <tr style=\"text-align: right;\">\n",
       "      <th></th>\n",
       "      <th>0</th>\n",
       "      <th>1</th>\n",
       "    </tr>\n",
       "  </thead>\n",
       "  <tbody>\n",
       "    <tr>\n",
       "      <th>0</th>\n",
       "      <td>112</td>\n",
       "      <td>26</td>\n",
       "    </tr>\n",
       "    <tr>\n",
       "      <th>1</th>\n",
       "      <td>78</td>\n",
       "      <td>87</td>\n",
       "    </tr>\n",
       "  </tbody>\n",
       "</table>\n",
       "</div>"
      ],
      "text/plain": [
       "     0   1\n",
       "0  112  26\n",
       "1   78  87"
      ]
     },
     "execution_count": 14,
     "metadata": {},
     "output_type": "execute_result"
    }
   ],
   "source": [
    "rounded_heart_projections_pooled = round(heart_projections_pooled)\n",
    "heart_lda_pooled = X.copy()\n",
    "heart_lda_pooled[\"classp\"] = heart_projections_pooled\n",
    "heart_lda_pooled[\"spectral\"] = rounded_heart_projections_pooled\n",
    "heart_lda_pooled[\"predicted\"] = heart_lda_pooled[\"spectral\"].apply(lambda x: 1 if x < -1 else 0)\n",
    "heart_lda_confmat_pooled = pd.DataFrame(confusion_matrix(heart_lda_pooled[\"target\"], heart_lda_pooled[\"predicted\"]))\n",
    "heart_lda_confmat_pooled"
   ]
  },
  {
   "cell_type": "markdown",
   "metadata": {},
   "source": [
    "Not exactly impressive...\n",
    "Let us calculate the metrics "
   ]
  },
  {
   "cell_type": "code",
   "execution_count": 15,
   "metadata": {
    "ExecuteTime": {
     "end_time": "2020-09-30T10:54:29.754473Z",
     "start_time": "2020-09-30T10:54:29.720682Z"
    }
   },
   "outputs": [
    {
     "name": "stdout",
     "output_type": "stream",
     "text": [
      "Accuracy is:: 0.6567656765676567\n"
     ]
    }
   ],
   "source": [
    "print(\"Accuracy is:: \" + str(sum(np.diag(heart_lda_confmat_pooled)) / len(heart_lda_pooled.index)))"
   ]
  },
  {
   "cell_type": "code",
   "execution_count": 16,
   "metadata": {
    "ExecuteTime": {
     "end_time": "2020-09-30T10:54:29.788171Z",
     "start_time": "2020-09-30T10:54:29.757465Z"
    }
   },
   "outputs": [
    {
     "name": "stdout",
     "output_type": "stream",
     "text": [
      "Error is:: 0.3432343234323433\n"
     ]
    }
   ],
   "source": [
    "print(\"Error is:: \" + str(1-sum(np.diag(heart_lda_confmat_pooled)) / len(heart_lda_pooled.index)))"
   ]
  },
  {
   "cell_type": "code",
   "execution_count": 17,
   "metadata": {
    "ExecuteTime": {
     "end_time": "2020-09-30T10:54:29.971241Z",
     "start_time": "2020-09-30T10:54:29.793529Z"
    }
   },
   "outputs": [
    {
     "data": {
      "image/png": "[encoded data removed]",
      "text/plain": [
       "<Figure size 432x288 with 1 Axes>"
      ]
     },
     "metadata": {
      "needs_background": "light"
     },
     "output_type": "display_data"
    }
   ],
   "source": [
    "heart_lda_pooled.reset_index().plot.scatter(x=\"index\", y=\"classp\", c=\"predicted\", colormap=\"Spectral\", colorbar=False);"
   ]
  },
  {
   "cell_type": "markdown",
   "metadata": {},
   "source": [
    "Let us now reimplement ISLR chapter 4 - implemented by Professor Dalal (Columbia.edu)\n",
    "for the heart dataset."
   ]
  },
  {
   "cell_type": "code",
   "execution_count": 18,
   "metadata": {
    "ExecuteTime": {
     "end_time": "2020-09-30T10:54:29.994271Z",
     "start_time": "2020-09-30T10:54:29.975175Z"
    }
   },
   "outputs": [
    {
     "data": {
      "text/plain": [
       "(138, 9)"
      ]
     },
     "execution_count": 18,
     "metadata": {},
     "output_type": "execute_result"
    }
   ],
   "source": [
    "default_pos = X[X.target == 0]\n",
    "default_neg = X[X.target == 1]\n",
    "default_pos.shape"
   ]
  },
  {
   "cell_type": "code",
   "execution_count": 19,
   "metadata": {
    "ExecuteTime": {
     "end_time": "2020-09-30T10:54:30.048282Z",
     "start_time": "2020-09-30T10:54:29.997847Z"
    }
   },
   "outputs": [],
   "source": [
    "mu_pos = default_pos.drop(\"target\", axis=1).mean(axis=0)\n",
    "mu_neg = default_neg.drop(\"target\", axis=1).mean(axis=0)\n",
    "sigma_pos = default_pos.drop(\"target\", axis=1).cov()\n",
    "sigma_neg = default_neg.drop(\"target\", axis=1).cov()\n",
    "n_pos = len(default_pos.index)\n",
    "n_neg = len(default_neg.index)\n",
    "sigma_all = ((n_pos - 1) * sigma_pos + (n_neg - 1) * sigma_neg) / (n_pos + n_neg - 2) #pooled Cov matrix-\n",
    "mu = pd.concat([mu_pos, mu_neg], axis=1).rename(columns={0:\"mu_pos\",1:\"mu_neg\"})\n",
    "pi_vec = pd.Series([n_pos / len(X.index), n_neg / len(X.index)])\n",
    "def my_lda(pi_vec, mu, Sigma, x):\n",
    "    x_dims = x.shape\n",
    "    n = x_dims[0]\n",
    "    Sigma_inv = pd.DataFrame(np.linalg.pinv(Sigma.values), Sigma.columns, Sigma.index) #Find inverse of Sigma\n",
    "    out_prod = np.zeros(n) #all items initiated to be negative\n",
    "    # equation 4.19 from ISLR Sixth Printing Page 157\n",
    "    discrim_pos = x.apply(lambda y : y.dot(Sigma_inv).dot(mu[\"mu_pos\"]) - 0.5 * mu[\"mu_pos\"].transpose().dot(Sigma_inv).dot(mu[\"mu_pos\"]) + np.log(pi_vec[0]), axis = 1) # target == 0\n",
    "    discrim_neg = x.apply(lambda y : y.dot(Sigma_inv).dot(mu[\"mu_neg\"]) - 0.5 * mu[\"mu_neg\"].transpose().dot(Sigma_inv).dot(mu[\"mu_neg\"]) + np.log(pi_vec[1]), axis = 1) # target == 1 \n",
    "    out_prod[discrim_neg >= discrim_pos] = 1\n",
    "    out_prod = pd.Series(out_prod)\n",
    "    out_prod_df = pd.concat([discrim_pos, discrim_neg, out_prod], axis=1).rename(columns={0:\"posp\",1:\"negp\", 2:\"prod\"})\n",
    "    return(out_prod_df)\n"
   ]
  },
  {
   "cell_type": "markdown",
   "metadata": {},
   "source": [
    "Let us run LDA on heart dataset using Sid's implementation."
   ]
  },
  {
   "cell_type": "code",
   "execution_count": 20,
   "metadata": {
    "ExecuteTime": {
     "end_time": "2020-09-30T10:54:30.473044Z",
     "start_time": "2020-09-30T10:54:30.051749Z"
    }
   },
   "outputs": [
    {
     "data": {
      "text/html": [
       "<div>\n",
       "<style scoped>\n",
       "    .dataframe tbody tr th:only-of-type {\n",
       "        vertical-align: middle;\n",
       "    }\n",
       "\n",
       "    .dataframe tbody tr th {\n",
       "        vertical-align: top;\n",
       "    }\n",
       "\n",
       "    .dataframe thead th {\n",
       "        text-align: right;\n",
       "    }\n",
       "</style>\n",
       "<table border=\"1\" class=\"dataframe\">\n",
       "  <thead>\n",
       "    <tr style=\"text-align: right;\">\n",
       "      <th></th>\n",
       "      <th>0</th>\n",
       "      <th>1</th>\n",
       "    </tr>\n",
       "  </thead>\n",
       "  <tbody>\n",
       "    <tr>\n",
       "      <th>0</th>\n",
       "      <td>101</td>\n",
       "      <td>37</td>\n",
       "    </tr>\n",
       "    <tr>\n",
       "      <th>1</th>\n",
       "      <td>22</td>\n",
       "      <td>143</td>\n",
       "    </tr>\n",
       "  </tbody>\n",
       "</table>\n",
       "</div>"
      ],
      "text/plain": [
       "     0    1\n",
       "0  101   37\n",
       "1   22  143"
      ]
     },
     "execution_count": 20,
     "metadata": {},
     "output_type": "execute_result"
    }
   ],
   "source": [
    "heart_default_all = my_lda(pi_vec, mu, sigma_all, X.drop(\"target\", axis=1))\n",
    "hda = heart_default_all.copy()\n",
    "hda[\"posprob\"] = hda[\"posp\"] / (hda[\"posp\"] + hda[\"negp\"])\n",
    "hda[\"negprob\"] = hda[\"negp\"] / (hda[\"posp\"] + hda[\"negp\"])\n",
    "#produce confusion matrices\n",
    "cfmx = pd.DataFrame(confusion_matrix(X[\"target\"], heart_default_all[\"prod\"]))\n",
    "cfmx"
   ]
  },
  {
   "cell_type": "markdown",
   "metadata": {},
   "source": [
    "Now let us run LDA using standard implementation in sklearn"
   ]
  },
  {
   "cell_type": "code",
   "execution_count": 21,
   "metadata": {
    "ExecuteTime": {
     "end_time": "2020-09-30T10:54:30.498838Z",
     "start_time": "2020-09-30T10:54:30.474234Z"
    }
   },
   "outputs": [
    {
     "data": {
      "text/html": [
       "<div>\n",
       "<style scoped>\n",
       "    .dataframe tbody tr th:only-of-type {\n",
       "        vertical-align: middle;\n",
       "    }\n",
       "\n",
       "    .dataframe tbody tr th {\n",
       "        vertical-align: top;\n",
       "    }\n",
       "\n",
       "    .dataframe thead th {\n",
       "        text-align: right;\n",
       "    }\n",
       "</style>\n",
       "<table border=\"1\" class=\"dataframe\">\n",
       "  <thead>\n",
       "    <tr style=\"text-align: right;\">\n",
       "      <th></th>\n",
       "      <th>0</th>\n",
       "      <th>1</th>\n",
       "    </tr>\n",
       "  </thead>\n",
       "  <tbody>\n",
       "    <tr>\n",
       "      <th>0</th>\n",
       "      <td>101</td>\n",
       "      <td>37</td>\n",
       "    </tr>\n",
       "    <tr>\n",
       "      <th>1</th>\n",
       "      <td>22</td>\n",
       "      <td>143</td>\n",
       "    </tr>\n",
       "  </tbody>\n",
       "</table>\n",
       "</div>"
      ],
      "text/plain": [
       "     0    1\n",
       "0  101   37\n",
       "1   22  143"
      ]
     },
     "execution_count": 21,
     "metadata": {},
     "output_type": "execute_result"
    }
   ],
   "source": [
    "lda_model = LinearDiscriminantAnalysis().fit(X.drop(\"target\", axis=1), X[\"target\"])\n",
    "lda_pred = lda_model.predict(X.drop(\"target\", axis=1))\n",
    "cfmx_sklearn =  pd.DataFrame(confusion_matrix(X[\"target\"], lda_pred))\n",
    "cfmx_sklearn"
   ]
  },
  {
   "cell_type": "code",
   "execution_count": 22,
   "metadata": {
    "ExecuteTime": {
     "end_time": "2020-09-30T10:54:30.530981Z",
     "start_time": "2020-09-30T10:54:30.500833Z"
    }
   },
   "outputs": [
    {
     "data": {
      "text/html": [
       "<div>\n",
       "<style scoped>\n",
       "    .dataframe tbody tr th:only-of-type {\n",
       "        vertical-align: middle;\n",
       "    }\n",
       "\n",
       "    .dataframe tbody tr th {\n",
       "        vertical-align: top;\n",
       "    }\n",
       "\n",
       "    .dataframe thead th {\n",
       "        text-align: right;\n",
       "    }\n",
       "</style>\n",
       "<table border=\"1\" class=\"dataframe\">\n",
       "  <thead>\n",
       "    <tr style=\"text-align: right;\">\n",
       "      <th></th>\n",
       "      <th>Sensitivity</th>\n",
       "      <th>Specificity</th>\n",
       "      <th>Pos Pred Value</th>\n",
       "      <th>Neg Pred Value</th>\n",
       "      <th>Recall</th>\n",
       "      <th>F1</th>\n",
       "    </tr>\n",
       "  </thead>\n",
       "  <tbody>\n",
       "    <tr>\n",
       "      <th>sid</th>\n",
       "      <td>0.821138</td>\n",
       "      <td>0.794444</td>\n",
       "      <td>0.731884</td>\n",
       "      <td>0.866667</td>\n",
       "      <td>0.821138</td>\n",
       "      <td>0.773946</td>\n",
       "    </tr>\n",
       "    <tr>\n",
       "      <th>sklearn</th>\n",
       "      <td>0.821138</td>\n",
       "      <td>0.794444</td>\n",
       "      <td>0.731884</td>\n",
       "      <td>0.866667</td>\n",
       "      <td>0.821138</td>\n",
       "      <td>0.773946</td>\n",
       "    </tr>\n",
       "  </tbody>\n",
       "</table>\n",
       "</div>"
      ],
      "text/plain": [
       "         Sensitivity  Specificity  Pos Pred Value  Neg Pred Value    Recall  \\\n",
       "sid         0.821138     0.794444        0.731884        0.866667  0.821138   \n",
       "sklearn     0.821138     0.794444        0.731884        0.866667  0.821138   \n",
       "\n",
       "               F1  \n",
       "sid      0.773946  \n",
       "sklearn  0.773946  "
      ]
     },
     "execution_count": 22,
     "metadata": {},
     "output_type": "execute_result"
    }
   ],
   "source": [
    "cr = classification_report(X[\"target\"], heart_default_all[\"prod\"], output_dict = True)\n",
    "sid = {\"Sensitivity\": cr[\"0\"][\"precision\"], \"Specificity\": cr[\"1\"][\"precision\"], \"Pos Pred Value\":cr[\"0\"][\"recall\"], \"Neg Pred Value\":cr[\"1\"][\"recall\"], \"Recall\":cr[\"0\"][\"precision\"], \"F1\":cr[\"0\"][\"f1-score\"]}\n",
    "cr = classification_report(X[\"target\"], lda_pred, output_dict = True)\n",
    "sklearn = {\"Sensitivity\": cr[\"0\"][\"precision\"], \"Specificity\": cr[\"1\"][\"precision\"], \"Pos Pred Value\":cr[\"0\"][\"recall\"], \"Neg Pred Value\":cr[\"1\"][\"recall\"], \"Recall\":cr[\"0\"][\"precision\"], \"F1\":cr[\"0\"][\"f1-score\"]}\n",
    "dfcomp = pd.DataFrame([sid, sklearn], index=[\"sid\", \"sklearn\"])\n",
    "dfcomp"
   ]
  },
  {
   "cell_type": "code",
   "execution_count": 23,
   "metadata": {
    "ExecuteTime": {
     "end_time": "2020-09-30T10:54:30.685640Z",
     "start_time": "2020-09-30T10:54:30.531979Z"
    }
   },
   "outputs": [
    {
     "data": {
      "image/png": "[encoded data removed]",
      "text/plain": [
       "<Figure size 432x288 with 1 Axes>"
      ]
     },
     "metadata": {
      "needs_background": "light"
     },
     "output_type": "display_data"
    }
   ],
   "source": [
    "lda_posterior = pd.DataFrame(lda_model.predict_proba(X.drop(\"target\", axis=1)))[1]\n",
    "fpr, tpr, thresholds = roc_curve(X[\"target\"], lda_posterior)\n",
    "plt.figure()\n",
    "plt.plot(fpr, tpr)\n",
    "plt.plot([0, 1], [0, 1],'r--')\n",
    "plt.xlim([0.0, 1.0])\n",
    "plt.ylim([0.0, 1.05])\n",
    "plt.xlabel('False Positive Rate')\n",
    "plt.ylabel('True Positive Rate')\n",
    "plt.title(\"LDA AUC = \" + str(roc_auc_score(X[\"target\"], lda_posterior)))\n",
    "plt.show()"
   ]
  }
 ],
 "metadata": {
  "kernelspec": {
   "display_name": "Python 3",
   "language": "python",
   "name": "python3"
  },
  "language_info": {
   "codemirror_mode": {
    "name": "ipython",
    "version": 3
   },
   "file_extension": ".py",
   "mimetype": "text/x-python",
   "name": "python",
   "nbconvert_exporter": "python",
   "pygments_lexer": "ipython3",
   "version": "3.7.9"
  }
 },
 "nbformat": 4,
 "nbformat_minor": 4
}
