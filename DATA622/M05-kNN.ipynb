{
 "cells": [
  {
   "cell_type": "markdown",
   "metadata": {},
   "source": [
    "# kNN\n",
    "\n",
    "We will continue with Instance based methods. These algorithms do NOT compute\n",
    "probability distribution.\n",
    "\n",
    "kNN works as follows\n",
    "\n",
    "compute the distance between the given instance and all the known instance.\n",
    "Sort by distance and assign the most frequent class of the k nearest neighbors."
   ]
  },
  {
   "cell_type": "code",
   "execution_count": 32,
   "metadata": {
    "ExecuteTime": {
     "end_time": "2020-10-06T01:08:17.077578Z",
     "start_time": "2020-10-06T01:08:17.070627Z"
    }
   },
   "outputs": [],
   "source": [
    "import math\n",
    "import pandas as pd\n",
    "from sklearn.model_selection import train_test_split"
   ]
  },
  {
   "cell_type": "code",
   "execution_count": 18,
   "metadata": {
    "ExecuteTime": {
     "end_time": "2020-10-06T00:56:55.721485Z",
     "start_time": "2020-10-06T00:56:55.707777Z"
    }
   },
   "outputs": [],
   "source": [
    "def euclidean_distance(a, b):\n",
    "    d = [(x - y)**2 for x, y in zip(a, b)]\n",
    "    d = math.sqrt(sum(d))\n",
    "    return d"
   ]
  },
  {
   "cell_type": "markdown",
   "metadata": {},
   "source": [
    "Let us write another function to iterate over the test set \n",
    "and over the training set for each observation in the test set."
   ]
  },
  {
   "cell_type": "code",
   "execution_count": 19,
   "metadata": {
    "ExecuteTime": {
     "end_time": "2020-10-06T00:56:55.768531Z",
     "start_time": "2020-10-06T00:56:55.724302Z"
    }
   },
   "outputs": [],
   "source": [
    "def knn_predict2(test_data, train_data, k_value, labelcol):\n",
    "    eu_char = train_data[[labelcol]]\n",
    "    b = train_df.drop(columns = [labelcol])\n",
    "    pred = []\n",
    "    for i in range(0, len(test_data)): \n",
    "        a = test_data.iloc[i]\n",
    "        eu_dist = b.apply(lambda x: euclidean_distance(a, x), axis=1)\n",
    "        eu = pd.concat([eu_char, eu_dist], axis=1).rename(columns={\"target\":\"eu_char\", 0:\"eu_dist\"}).sort_values(\"eu_dist\").head(k_value)\n",
    "        prediction = eu[\"eu_char\"].value_counts().reset_index().sort_values(\"eu_char\", ascending = False).at[0, \"index\"]\n",
    "        pred.append(prediction)\n",
    "    \n",
    "    return(pred)"
   ]
  },
  {
   "cell_type": "markdown",
   "metadata": {},
   "source": [
    "Let us also write a utility function for accuracy."
   ]
  },
  {
   "cell_type": "code",
   "execution_count": 87,
   "metadata": {
    "ExecuteTime": {
     "end_time": "2020-10-06T01:43:13.320503Z",
     "start_time": "2020-10-06T01:43:13.302389Z"
    }
   },
   "outputs": [],
   "source": [
    "def accuracy(test_data, labelcol, predcol):\n",
    "    correct = 0\n",
    "    test_data = test_data[[labelcol]].reset_index(drop=True)\n",
    "    for i, row in test_data.iterrows():\n",
    "        if row[labelcol] == predcol[i]:\n",
    "            correct += 1\n",
    "    accu = (correct / len(test_data.index)) * 100  \n",
    "    return(accu)\n",
    "\n",
    "# Here's a faster and I find clearer implementation\n",
    "def accuracy2(y, yhat):\n",
    "    is_correct = y == yhat\n",
    "    n_correct = len(y[is_correct].index)\n",
    "    accu = (n_correct / len(y.index)) * 100  \n",
    "    return(accu)"
   ]
  },
  {
   "cell_type": "markdown",
   "metadata": {},
   "source": [
    "Now let us load and prepare training/test set from the heart dataset.\n",
    "\n",
    "We will call the predict function we wrote above."
   ]
  },
  {
   "cell_type": "code",
   "execution_count": 88,
   "metadata": {
    "ExecuteTime": {
     "end_time": "2020-10-06T01:43:18.192474Z",
     "start_time": "2020-10-06T01:43:18.171530Z"
    }
   },
   "outputs": [
    {
     "data": {
      "text/html": [
       "<div>\n",
       "<style scoped>\n",
       "    .dataframe tbody tr th:only-of-type {\n",
       "        vertical-align: middle;\n",
       "    }\n",
       "\n",
       "    .dataframe tbody tr th {\n",
       "        vertical-align: top;\n",
       "    }\n",
       "\n",
       "    .dataframe thead th {\n",
       "        text-align: right;\n",
       "    }\n",
       "</style>\n",
       "<table border=\"1\" class=\"dataframe\">\n",
       "  <thead>\n",
       "    <tr style=\"text-align: right;\">\n",
       "      <th></th>\n",
       "      <th>age</th>\n",
       "      <th>sex</th>\n",
       "      <th>cp</th>\n",
       "      <th>trestbps</th>\n",
       "      <th>chol</th>\n",
       "      <th>fbs</th>\n",
       "      <th>restecg</th>\n",
       "      <th>thalach</th>\n",
       "      <th>exang</th>\n",
       "      <th>oldpeak</th>\n",
       "      <th>slope</th>\n",
       "      <th>ca</th>\n",
       "      <th>thal</th>\n",
       "      <th>target</th>\n",
       "    </tr>\n",
       "  </thead>\n",
       "  <tbody>\n",
       "    <tr>\n",
       "      <th>0</th>\n",
       "      <td>63</td>\n",
       "      <td>1</td>\n",
       "      <td>3</td>\n",
       "      <td>145</td>\n",
       "      <td>233</td>\n",
       "      <td>1</td>\n",
       "      <td>0</td>\n",
       "      <td>150</td>\n",
       "      <td>0</td>\n",
       "      <td>2.3</td>\n",
       "      <td>0</td>\n",
       "      <td>0</td>\n",
       "      <td>1</td>\n",
       "      <td>1</td>\n",
       "    </tr>\n",
       "    <tr>\n",
       "      <th>1</th>\n",
       "      <td>37</td>\n",
       "      <td>1</td>\n",
       "      <td>2</td>\n",
       "      <td>130</td>\n",
       "      <td>250</td>\n",
       "      <td>0</td>\n",
       "      <td>1</td>\n",
       "      <td>187</td>\n",
       "      <td>0</td>\n",
       "      <td>3.5</td>\n",
       "      <td>0</td>\n",
       "      <td>0</td>\n",
       "      <td>2</td>\n",
       "      <td>1</td>\n",
       "    </tr>\n",
       "    <tr>\n",
       "      <th>2</th>\n",
       "      <td>41</td>\n",
       "      <td>0</td>\n",
       "      <td>1</td>\n",
       "      <td>130</td>\n",
       "      <td>204</td>\n",
       "      <td>0</td>\n",
       "      <td>0</td>\n",
       "      <td>172</td>\n",
       "      <td>0</td>\n",
       "      <td>1.4</td>\n",
       "      <td>2</td>\n",
       "      <td>0</td>\n",
       "      <td>2</td>\n",
       "      <td>1</td>\n",
       "    </tr>\n",
       "    <tr>\n",
       "      <th>3</th>\n",
       "      <td>56</td>\n",
       "      <td>1</td>\n",
       "      <td>1</td>\n",
       "      <td>120</td>\n",
       "      <td>236</td>\n",
       "      <td>0</td>\n",
       "      <td>1</td>\n",
       "      <td>178</td>\n",
       "      <td>0</td>\n",
       "      <td>0.8</td>\n",
       "      <td>2</td>\n",
       "      <td>0</td>\n",
       "      <td>2</td>\n",
       "      <td>1</td>\n",
       "    </tr>\n",
       "    <tr>\n",
       "      <th>4</th>\n",
       "      <td>57</td>\n",
       "      <td>0</td>\n",
       "      <td>0</td>\n",
       "      <td>120</td>\n",
       "      <td>354</td>\n",
       "      <td>0</td>\n",
       "      <td>1</td>\n",
       "      <td>163</td>\n",
       "      <td>1</td>\n",
       "      <td>0.6</td>\n",
       "      <td>2</td>\n",
       "      <td>0</td>\n",
       "      <td>2</td>\n",
       "      <td>1</td>\n",
       "    </tr>\n",
       "  </tbody>\n",
       "</table>\n",
       "</div>"
      ],
      "text/plain": [
       "   age  sex  cp  trestbps  chol  fbs  restecg  thalach  exang  oldpeak  slope  \\\n",
       "0   63    1   3       145   233    1        0      150      0      2.3      0   \n",
       "1   37    1   2       130   250    0        1      187      0      3.5      0   \n",
       "2   41    0   1       130   204    0        0      172      0      1.4      2   \n",
       "3   56    1   1       120   236    0        1      178      0      0.8      2   \n",
       "4   57    0   0       120   354    0        1      163      1      0.6      2   \n",
       "\n",
       "   ca  thal  target  \n",
       "0   0     1       1  \n",
       "1   0     2       1  \n",
       "2   0     2       1  \n",
       "3   0     2       1  \n",
       "4   0     2       1  "
      ]
     },
     "execution_count": 88,
     "metadata": {},
     "output_type": "execute_result"
    }
   ],
   "source": [
    "#load data\n",
    "heart = pd.read_csv(\"heart.csv\")\n",
    "heart.head()"
   ]
  },
  {
   "cell_type": "code",
   "execution_count": 89,
   "metadata": {
    "ExecuteTime": {
     "end_time": "2020-10-06T01:43:18.971470Z",
     "start_time": "2020-10-06T01:43:18.965412Z"
    }
   },
   "outputs": [],
   "source": [
    "knn_df = heart[[\"sex\", \"cp\", \"fbs\", \"restecg\", \"exang\", \"slope\", \"ca\", \"thal\", \"target\"]]"
   ]
  },
  {
   "cell_type": "markdown",
   "metadata": {},
   "source": [
    "<span style=\"color:red\">**NOTE: The RMD file used set.seed and a selection process to choose the training/test split.  I will show how could be done in python but will ultimately use a list of the same observations so the model results are consistent.**</span>"
   ]
  },
  {
   "cell_type": "code",
   "execution_count": 90,
   "metadata": {
    "ExecuteTime": {
     "end_time": "2020-10-06T01:43:20.912235Z",
     "start_time": "2020-10-06T01:43:20.341727Z"
    }
   },
   "outputs": [],
   "source": [
    "# Here's how to split the data in python\n",
    "X = knn_df.loc[:, knn_df.columns != \"target\"]\n",
    "Y = knn_df[\"target\"]\n",
    "X_train, X_test, Y_train, Y_test = train_test_split(X, Y, test_size = 0.30, random_state = 43)\n",
    "\n",
    "# Here's the rows selected by the process in R\n",
    "r_tstidx = [44, 296, 196, 149, 66, 261, 216, 7, 167, 130, 270, 225, 180, 147, 173, 22, 78, 228, 259, 110, 161, 142, 297, 72, 301, 39, 249, 274, 81, 121, 286, 98, 55, 230, 263, 120, 102, 291, 49, 245, 128, 166, 40, 154, 89, 218, 43, 165, 85, 184, 158, 303, 150, 169, 170, 67, 99, 9, 21, 205, 123, 209, 300, 234, 281, 5, 69, 268, 74, 93, 236, 30, 254, 279, 45, 176, 90, 233, 37, 103, 38, 191, 220, 194, 285, 217, 80, 115, 88, 299, 127, 227, 293, 145, 248, 298, 104, 179, 117, 160, 61, 174, 70, 221, 182, 140, 256, 146, 253, 136, 290, 222, 24, 125, 143, 212, 292, 276, 239, 34, 244, 219, 157, 162, 294, 168, 151, 114, 52, 210, 11, 42, 97, 163, 266, 269, 264, 108, 208, 172, 175, 107, 64, 27, 201, 211, 8, 18, 116, 59, 273, 251, 159, 181, 229, 223, 10, 1, 153, 189, 129, 156, 25, 283, 284, 235, 101, 12, 33, 92, 91, 152, 71, 133, 141, 77, 131, 250, 135, 195, 207, 242, 54, 109, 185, 126, 198, 111, 271, 76, 86, 105, 203, 164, 206, 199, 275, 202, 272, 118, 31, 139, 200, 14, 257, 2, 37, 138, 19, 94, 302, 3]\n",
    "python_tstidx = [x - 1 for x in r_tstidx]\n",
    "trdidx = knn_df.index.isin(python_tstidx)\n",
    "train_df = knn_df[trdidx]\n",
    "test_df = knn_df[~trdidx]\n",
    "K = 3\n",
    "predictions = knn_predict2(test_df, train_df, K, \"target\") "
   ]
  },
  {
   "cell_type": "markdown",
   "metadata": {},
   "source": [
    "Computing ROCR and AUC is some what non-trivial as kNN do not compute probabilities\n",
    "and results in unreliable ROCR plots."
   ]
  },
  {
   "cell_type": "code",
   "execution_count": 92,
   "metadata": {
    "ExecuteTime": {
     "end_time": "2020-10-06T01:44:20.448523Z",
     "start_time": "2020-10-06T01:44:20.430735Z"
    }
   },
   "outputs": [
    {
     "name": "stdout",
     "output_type": "stream",
     "text": [
      "accuracy=85.86956521739131\n"
     ]
    }
   ],
   "source": [
    "print('accuracy=' + str(accuracy(test_df, \"target\", predictions)))\n",
    "# or\n",
    "# print('accuracy=' + str(accuracy2(test_df[\"target\"], predictions)))"
   ]
  },
  {
   "cell_type": "code",
   "execution_count": 93,
   "metadata": {
    "ExecuteTime": {
     "end_time": "2020-10-06T01:44:38.423154Z",
     "start_time": "2020-10-06T01:44:38.414447Z"
    }
   },
   "outputs": [
    {
     "name": "stdout",
     "output_type": "stream",
     "text": [
      "accuracy=85.86956521739131\n"
     ]
    }
   ],
   "source": []
  },
  {
   "cell_type": "code",
   "execution_count": null,
   "metadata": {},
   "outputs": [],
   "source": []
  }
 ],
 "metadata": {
  "kernelspec": {
   "display_name": "Python 3",
   "language": "python",
   "name": "python3"
  },
  "language_info": {
   "codemirror_mode": {
    "name": "ipython",
    "version": 3
   },
   "file_extension": ".py",
   "mimetype": "text/x-python",
   "name": "python",
   "nbconvert_exporter": "python",
   "pygments_lexer": "ipython3",
   "version": "3.7.9"
  }
 },
 "nbformat": 4,
 "nbformat_minor": 4
}
