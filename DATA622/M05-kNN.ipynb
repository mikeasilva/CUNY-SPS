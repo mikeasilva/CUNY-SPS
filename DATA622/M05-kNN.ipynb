{
 "cells": [
  {
   "cell_type": "markdown",
   "metadata": {},
   "source": [
    "# kNN\n",
    "\n",
    "We will continue with Instance based methods. These algorithms do NOT compute\n",
    "probability distribution.\n",
    "\n",
    "kNN works as follows\n",
    "\n",
    "compute the distance between the given instance and all the known instance.\n",
    "Sort by distance and assign the most frequent class of the k nearest neighbors."
   ]
  },
  {
   "cell_type": "code",
   "execution_count": 1,
   "metadata": {
    "ExecuteTime": {
     "end_time": "2020-09-30T21:52:06.646002Z",
     "start_time": "2020-09-30T21:52:06.635640Z"
    }
   },
   "outputs": [],
   "source": [
    "def euclidean_distance(a, b):\n",
    "    d = [(x - y)**2 for x, y in zip(a, b)]\n",
    "    d = math.sqrt(sum(d))\n",
    "    return d"
   ]
  },
  {
   "cell_type": "markdown",
   "metadata": {},
   "source": [
    "Let us write another function to iterate over the test set \n",
    "and over the training set for each observation in the test set."
   ]
  },
  {
   "cell_type": "code",
   "execution_count": null,
   "metadata": {},
   "outputs": [],
   "source": [
    "def knn_predict2(test_data, train_data, k_value, labelcol):\n",
    "    print(k_value)\n",
    "    print(labelcol)\n",
    "    pred <- c()  #empty pred vector \n",
    "  #LOOP-1\n",
    "  for(i in c(1:nrow(test_data))){   #looping over each record of test data\n",
    "    eu_dist =c()          #eu_dist & eu_char empty  vector\n",
    "    eu_char = c()\n",
    "    good = 0              #good & bad variable initialization with 0 value\n",
    "    bad = 0\n",
    "    \n",
    "    #LOOP-2-looping over train data \n",
    "    for(j in c(1:nrow(train_data))){\n",
    "      \n",
    "      #adding euclidean distance b/w test data point and train data to eu_dist vector\n",
    "      eu_dist <- c(eu_dist, euclideanDist(test_data[i,-c(labelcol)], train_data[j,-c(labelcol)]))\n",
    "      \n",
    "      #adding class variable of training data in eu_char\n",
    "      eu_char <- c(eu_char, as.character(train_data[j,][[labelcol]]))\n",
    "      #print(i,j,as.character(train_data[j,][[labelcol]])))\n",
    "    }\n",
    "    \n",
    "    eu <- data.frame(eu_char, eu_dist) #eu dataframe created with eu_char & eu_dist columns\n",
    "    \n",
    "    eu <- eu[order(eu$eu_dist),]       #sorting eu dataframe to gettop K neighbors\n",
    "   # print(k_value)\n",
    "    eu <- eu[1:k_value,]               #eu dataframe with top K neighbors\n",
    "    \n",
    "    head(eu[1:k_value,])\n",
    "    tbl.sm.df<-table(eu$eu_char)\n",
    "    cl_label<-  names(tbl.sm.df)[[as.integer(which.max(tbl.sm.df))]]\n",
    "    \n",
    "    pred <- c(pred, cl_label)\n",
    "  }\n",
    "  return(pred) #return pred vector\n",
    "}"
   ]
  }
 ],
 "metadata": {
  "kernelspec": {
   "display_name": "Python 3",
   "language": "python",
   "name": "python3"
  },
  "language_info": {
   "codemirror_mode": {
    "name": "ipython",
    "version": 3
   },
   "file_extension": ".py",
   "mimetype": "text/x-python",
   "name": "python",
   "nbconvert_exporter": "python",
   "pygments_lexer": "ipython3",
   "version": "3.7.9"
  }
 },
 "nbformat": 4,
 "nbformat_minor": 4
}
