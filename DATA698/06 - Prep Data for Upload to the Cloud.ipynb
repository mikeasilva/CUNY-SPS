{
 "cells": [
  {
   "cell_type": "markdown",
   "metadata": {},
   "source": [
    "# Prep Data for Upload to the Cloud\n",
    "\n",
    "Having labeled the data, we can prep it for uploading it to Google drive for further processing."
   ]
  },
  {
   "cell_type": "code",
   "execution_count": 1,
   "metadata": {
    "ExecuteTime": {
     "end_time": "2020-12-05T09:00:50.144334Z",
     "start_time": "2020-12-05T09:00:21.013470Z"
    }
   },
   "outputs": [],
   "source": [
    "from glob import glob\n",
    "import os\n",
    "import shutil\n",
    "\n",
    "n_images_per_class = 250\n",
    "\n",
    "def init_clean_dir(path):\n",
    "    if os.path.exists(path):\n",
    "        shutil.rmtree(path)\n",
    "    os.mkdir(path)\n",
    "\n",
    "dataset_name = str(n_images_per_class) + \"_images\"\n",
    "dataset_path = \"./dataset/\" + dataset_name\n",
    "init_clean_dir(dataset_path)\n",
    "\n",
    "objects_per_image = {}\n",
    "object_counts = {}\n",
    "image_counts = {}\n",
    "all_labels = {}\n",
    "\n",
    "class_file_path = \"./iNaturalist/images/Poison Ivy/classes.txt\"\n",
    "shutil.copyfile(class_file_path, dataset_path + \"/obj.names\")\n",
    "\n",
    "# Collect a dictionary of all the labels\n",
    "i = 0\n",
    "for line in open(class_file_path):\n",
    "    all_labels[str(i)] = line.strip()\n",
    "    i += 1\n",
    "\n",
    "# Let's build the data set!\n",
    "for line in open(class_file_path):\n",
    "    the_label = line.strip()\n",
    "    save_data_to = dataset_path + \"/\" + the_label.replace(\" \", \"_\")\n",
    "    init_clean_dir(save_data_to)\n",
    "    pattern = \"./iNaturalist/images/\" + the_label + \"/*.txt\"\n",
    "    labels = glob(pattern)\n",
    "    labels.remove(\"./iNaturalist/images/\" + the_label + \"\\\\classes.txt\")\n",
    "    i = 0\n",
    "    for coords_path in labels:\n",
    "        # Check to see we are under the threshold\n",
    "        if i < n_images_per_class:\n",
    "            # Add this image\n",
    "            i += 1\n",
    "            record_id = int(coords_path.split(\"\\\\\")[-1].split(\".txt\")[0])\n",
    "            pattern = \"./iNaturalist/images/\" + the_label + \"/*\" + str(record_id) + \"*\"\n",
    "            files = glob(pattern)\n",
    "            image_path = [x for x in files if x not in coords_path][0]\n",
    "            new_image_path = save_data_to + \"/\" + str(record_id) + \".jpg\"\n",
    "            new_coords_path = save_data_to + \"/\" + str(record_id) + \".txt\"\n",
    "            shutil.copyfile(image_path, new_image_path)\n",
    "            shutil.copyfile(coords_path, new_coords_path)\n",
    "            # Count the number of objects in this image\n",
    "            for line in open(coords_path):\n",
    "                label_id = line.split(\" \")[0]\n",
    "                this_label = all_labels[label_id]\n",
    "                object_counts[this_label] = object_counts.get(this_label, 0) + 1\n",
    "                ic = image_counts.get(this_label, set())\n",
    "                ic.add(coords_path)\n",
    "                image_counts[this_label] = ic\n",
    "                objects_per_image[this_label] = objects_per_image.get(this_label, dict())\n",
    "                objects_per_image[this_label][record_id] = objects_per_image[this_label].get(record_id, 0) + 1"
   ]
  },
  {
   "cell_type": "markdown",
   "metadata": {},
   "source": [
    "What is the maximum number of objects in an image?"
   ]
  },
  {
   "cell_type": "code",
   "execution_count": 2,
   "metadata": {
    "ExecuteTime": {
     "end_time": "2020-12-05T09:00:50.175301Z",
     "start_time": "2020-12-05T09:00:50.144334Z"
    }
   },
   "outputs": [
    {
     "data": {
      "text/plain": [
       "35"
      ]
     },
     "execution_count": 2,
     "metadata": {},
     "output_type": "execute_result"
    }
   ],
   "source": [
    "objects_per_image_counts = {}\n",
    "for k, v in objects_per_image.items():\n",
    "    objects_per_image_counts[k] = {}\n",
    "    for x, k2 in v.items():\n",
    "        objects_per_image_counts[k][k2] = objects_per_image_counts[k].get(k2, 0) + 1\n",
    "        \n",
    "max_object_count = 0\n",
    "for k, v in objects_per_image_counts.items():\n",
    "    for k2, v2 in v.items():\n",
    "        if k2 > max_object_count:\n",
    "            max_object_count = k2\n",
    "            \n",
    "max_object_count"
   ]
  },
  {
   "cell_type": "markdown",
   "metadata": {},
   "source": [
    "## YOLOv5 Config\n",
    "Generate the YAML used to train the YOLOv5 model"
   ]
  },
  {
   "cell_type": "code",
   "execution_count": 3,
   "metadata": {
    "ExecuteTime": {
     "end_time": "2020-12-05T09:00:50.306109Z",
     "start_time": "2020-12-05T09:00:50.177266Z"
    }
   },
   "outputs": [],
   "source": [
    "names = \"names: [\"\n",
    "n_classes = 0\n",
    "file = open(class_file_path, \"r\")\n",
    "for line in file.readlines():\n",
    "    n_classes += 1\n",
    "    names += \"'\" + line.strip() + \"', \"\n",
    "names = names[:len(names)-2] + \"]\"\n",
    "\n",
    "f = open(dataset_path + \"yolov5.yaml\", \"w\")\n",
    "f.write(\"train: ../data/images/train/\\r\")\n",
    "f.write(\"val: ../data/images/val/\\r\")\n",
    "f.write(\"\\r\")\n",
    "f.write(\"nc: \" + str(n_classes) + \"\\r\")\n",
    "f.write(\"\\r\")\n",
    "f.write(names)\n",
    "f.close()"
   ]
  },
  {
   "cell_type": "markdown",
   "metadata": {},
   "source": [
    "## YOLOv4 Config"
   ]
  },
  {
   "cell_type": "code",
   "execution_count": 4,
   "metadata": {
    "ExecuteTime": {
     "end_time": "2020-12-05T09:00:50.459724Z",
     "start_time": "2020-12-05T09:00:50.306109Z"
    }
   },
   "outputs": [],
   "source": [
    "yolov4_config = dataset_path + \"/yolov4-custom.cfg\"\n",
    "shutil.copyfile(\"YOLO config files/yolov4-custom.cfg\", yolov4_config)\n",
    "lines = open(yolov4_config, \"r\").readlines()\n",
    "for line_num in [970, 1058, 1146]:\n",
    "    lines[line_num] = \"classes=\"+str(n_classes)+\"\\n\"\n",
    "for line_num in [963, 1051, 1139]:\n",
    "    lines[line_num] = \"filters=\" + str((n_classes + 5) * 3)+\"\\n\"\n",
    "out = open(yolov4_config, 'w')\n",
    "out.writelines(lines)\n",
    "out.close()"
   ]
  },
  {
   "cell_type": "markdown",
   "metadata": {},
   "source": [
    "## YOLOv3 Config"
   ]
  },
  {
   "cell_type": "code",
   "execution_count": 5,
   "metadata": {
    "ExecuteTime": {
     "end_time": "2020-12-05T09:00:50.670911Z",
     "start_time": "2020-12-05T09:00:50.459724Z"
    }
   },
   "outputs": [],
   "source": [
    "yolov3_config = dataset_path + \"/yolov3-spp.cfg\"\n",
    "shutil.copyfile(\"YOLO config files/yolov3-spp.cfg\", yolov3_config)\n",
    "lines = open(yolov3_config, \"r\").readlines()\n",
    "for line_num in [643, 729, 816]:\n",
    "    lines[line_num] = \"classes=\"+str(n_classes)+\"\\n\"\n",
    "for line_num in [636, 722, 809]:\n",
    "    lines[line_num] = \"filters=\" + str((n_classes + 5) * 3)+\"\\n\"\n",
    "out = open(yolov3_config, 'w')\n",
    "out.writelines(lines)\n",
    "out.close()"
   ]
  },
  {
   "cell_type": "markdown",
   "metadata": {},
   "source": [
    "## Zip it up\n",
    "Finally compress everything so it can be uploaded to the cloud"
   ]
  },
  {
   "cell_type": "code",
   "execution_count": 6,
   "metadata": {
    "ExecuteTime": {
     "end_time": "2020-12-05T09:01:12.477294Z",
     "start_time": "2020-12-05T09:00:50.672768Z"
    }
   },
   "outputs": [
    {
     "name": "stdout",
     "output_type": "stream",
     "text": [
      "Ready for Upload!\n"
     ]
    }
   ],
   "source": [
    "shutil.make_archive(\"./dataset/\" + dataset_name, \"zip\", dataset_path)\n",
    "shutil.rmtree(dataset_path)\n",
    "print(\"Ready for Upload!\")"
   ]
  }
 ],
 "metadata": {
  "kernelspec": {
   "display_name": "Python 3",
   "language": "python",
   "name": "python3"
  },
  "language_info": {
   "codemirror_mode": {
    "name": "ipython",
    "version": 3
   },
   "file_extension": ".py",
   "mimetype": "text/x-python",
   "name": "python",
   "nbconvert_exporter": "python",
   "pygments_lexer": "ipython3",
   "version": "3.7.9"
  }
 },
 "nbformat": 4,
 "nbformat_minor": 4
}
