{
 "cells": [
  {
   "cell_type": "markdown",
   "metadata": {},
   "source": [
    "# Prep Data for Upload to the Cloud\n",
    "\n",
    "Having labeled the data, we can prep it for uploading it to Google drive for further processing."
   ]
  },
  {
   "cell_type": "code",
   "execution_count": 1,
   "metadata": {
    "ExecuteTime": {
     "end_time": "2020-11-12T02:44:27.250509Z",
     "start_time": "2020-11-12T02:44:27.076569Z"
    }
   },
   "outputs": [],
   "source": [
    "from glob import glob\n",
    "import os\n",
    "import shutil\n",
    "\n",
    "n_images_per_class = 250\n",
    "\n",
    "def init_clean_dir(path):\n",
    "    if os.path.exists(path):\n",
    "        shutil.rmtree(path)\n",
    "    os.mkdir(path)\n",
    "\n",
    "dataset_name = str(n_images_per_class) + \"_images\"\n",
    "dataset_path = \"./dataset/\" + dataset_name\n",
    "init_clean_dir(dataset_path)\n",
    "\n",
    "class_file_path = \"./iNaturalist/images/Poison Ivy/classes.txt\"\n",
    "shutil.copyfile(class_file_path, dataset_path + \"/obj.names\")\n",
    "\n",
    "for line in open(class_file_path):\n",
    "    the_label = line.strip()\n",
    "    save_data_to = dataset_path + \"/\" + the_label.replace(\" \", \"_\")\n",
    "    init_clean_dir(save_data_to)\n",
    "    pattern = \"./iNaturalist/images/\" + the_label + \"/*.txt\"\n",
    "    labels = glob(pattern)\n",
    "    labels.remove(\"./iNaturalist/images/\" + the_label + \"\\\\classes.txt\")\n",
    "    i = 0\n",
    "    for coords_path in labels:\n",
    "        if i < n_images_per_class:\n",
    "            i += 1\n",
    "            record_id = int(coords_path.split(\"\\\\\")[-1].split(\".txt\")[0])\n",
    "            pattern = \"./iNaturalist/images/\" + the_label + \"/*\" + str(record_id) + \"*\"\n",
    "            files = glob(pattern)\n",
    "            image_path = [x for x in files if x not in coords_path][0]\n",
    "            new_image_path = save_data_to + \"/\" + str(record_id) + \".jpg\"\n",
    "            new_coords_path = save_data_to + \"/\" + str(record_id) + \".txt\"\n",
    "            shutil.copyfile(image_path, new_image_path)\n",
    "            shutil.copyfile(coords_path, new_coords_path)    "
   ]
  },
  {
   "cell_type": "markdown",
   "metadata": {},
   "source": [
    "## YOLOv5 Config\n",
    "Generate the YAML used to train the YOLOv5 model"
   ]
  },
  {
   "cell_type": "code",
   "execution_count": 2,
   "metadata": {
    "ExecuteTime": {
     "end_time": "2020-11-12T02:44:27.266460Z",
     "start_time": "2020-11-12T02:44:27.251366Z"
    }
   },
   "outputs": [],
   "source": [
    "names = \"names: [\"\n",
    "n_classes = 0\n",
    "file = open(class_file_path, \"r\")\n",
    "for line in file.readlines():\n",
    "    n_classes += 1\n",
    "    names += \"'\" + line.strip() + \"', \"\n",
    "names = names[:len(names)-2] + \"]\"\n",
    "\n",
    "f = open(dataset_path + \"yolov5.yaml\", \"w\")\n",
    "f.write(\"train: ../data/images/train/\\r\")\n",
    "f.write(\"val: ../data/images/val/\\r\")\n",
    "f.write(\"\\r\")\n",
    "f.write(\"nc: \" + str(n_classes) + \"\\r\")\n",
    "f.write(\"\\r\")\n",
    "f.write(names)\n",
    "f.close()"
   ]
  },
  {
   "cell_type": "markdown",
   "metadata": {},
   "source": [
    "## YOLOv4 Config"
   ]
  },
  {
   "cell_type": "code",
   "execution_count": 3,
   "metadata": {
    "ExecuteTime": {
     "end_time": "2020-11-12T02:44:27.406604Z",
     "start_time": "2020-11-12T02:44:27.268420Z"
    }
   },
   "outputs": [],
   "source": [
    "yolov4_config = dataset_path + \"/yolov4-custom.cfg\"\n",
    "shutil.copyfile(\"YOLO config files/yolov4-custom.cfg\", yolov4_config)\n",
    "lines = open(yolov4_config, \"r\").readlines()\n",
    "for line_num in [970, 1058, 1146]:\n",
    "    lines[line_num] = \"classes=\"+str(n_classes)+\"\\n\"\n",
    "for line_num in [963, 1051, 1139]:\n",
    "    lines[line_num] = \"filters=\" + str((n_classes + 5) * 3)+\"\\n\"\n",
    "out = open(yolov4_config, 'w')\n",
    "out.writelines(lines)\n",
    "out.close()"
   ]
  },
  {
   "cell_type": "markdown",
   "metadata": {},
   "source": [
    "## YOLOv3 Config"
   ]
  },
  {
   "cell_type": "code",
   "execution_count": 4,
   "metadata": {
    "ExecuteTime": {
     "end_time": "2020-11-12T02:44:27.484146Z",
     "start_time": "2020-11-12T02:44:27.408385Z"
    }
   },
   "outputs": [],
   "source": [
    "yolov3_config = dataset_path + \"/yolov3-spp.cfg\"\n",
    "shutil.copyfile(\"YOLO config files/yolov3-spp.cfg\", yolov3_config)\n",
    "lines = open(yolov3_config, \"r\").readlines()\n",
    "for line_num in [643, 729, 816]:\n",
    "    lines[line_num] = \"classes=\"+str(n_classes)+\"\\n\"\n",
    "for line_num in [636, 722, 809]:\n",
    "    lines[line_num] = \"filters=\" + str((n_classes + 5) * 3)+\"\\n\"\n",
    "out = open(yolov3_config, 'w')\n",
    "out.writelines(lines)\n",
    "out.close()"
   ]
  },
  {
   "cell_type": "markdown",
   "metadata": {},
   "source": [
    "## Zip it up\n",
    "Finally compress everything so it can be uploaded to the cloud"
   ]
  },
  {
   "cell_type": "code",
   "execution_count": 5,
   "metadata": {
    "ExecuteTime": {
     "end_time": "2020-11-12T02:44:27.624037Z",
     "start_time": "2020-11-12T02:44:27.486141Z"
    }
   },
   "outputs": [
    {
     "name": "stdout",
     "output_type": "stream",
     "text": [
      "Ready for Upload!\n"
     ]
    }
   ],
   "source": [
    "shutil.make_archive(\"./dataset/\" + dataset_name, \"zip\", dataset_path)\n",
    "shutil.rmtree(dataset_path)\n",
    "print(\"Ready for Upload!\")"
   ]
  }
 ],
 "metadata": {
  "kernelspec": {
   "display_name": "Python 3",
   "language": "python",
   "name": "python3"
  },
  "language_info": {
   "codemirror_mode": {
    "name": "ipython",
    "version": 3
   },
   "file_extension": ".py",
   "mimetype": "text/x-python",
   "name": "python",
   "nbconvert_exporter": "python",
   "pygments_lexer": "ipython3",
   "version": "3.7.9"
  }
 },
 "nbformat": 4,
 "nbformat_minor": 4
}
