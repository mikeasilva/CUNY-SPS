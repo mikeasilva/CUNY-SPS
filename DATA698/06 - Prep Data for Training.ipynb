{
 "cells": [
  {
   "cell_type": "code",
   "execution_count": 1,
   "metadata": {
    "ExecuteTime": {
     "end_time": "2020-09-26T13:37:03.060928Z",
     "start_time": "2020-09-26T13:36:47.226637Z"
    }
   },
   "outputs": [
    {
     "name": "stdout",
     "output_type": "stream",
     "text": [
      "Training Data:\n",
      "00073461 00072774 00072670 00073602 00072950 00072919 00072896 00072804 00073597 00072753 00073528 00073653 00073207 00072737 00073340 00073104 00072679 00072677 00072741 00072888 00072906 00073165 00073398 00072672 00073224 00072860 00073567 00073478 00073558 00073627 00073100 00072889 00073117 00073330 00072952 00072654 00072829 00073554 00073617 00073030 00073566 00072826 00072887 00073019 00073635 00073609 00073062 00072747 00073041 00073032 00073400 00072940 00072691 00073128 00073194 00072792 00073059 00072726 00073216 00072966 00073444 00073428 00073044 00073265 00072856 00072711 00072693 00072900 00072962 00073518 00073631 00072751 00073542 00073583 00073122 00073045 00072832 00073050 00073039 00072881 00072941 00072713 00073410 00072839 00073192 00073646 00073450 00073129 00073667 00072948 00073221 00073577 00073009 00072698 00072901 00073614 00073003 00073081 00072945 00072706 00072883 00073230 00073371 00073315 00073162 00073075 00073127 00072812 00073530 00073641 00072923 00073594 00073196 00072939 00073107 00073080 00073505 00073637 00072803 00073168 00073159 00072739 00072694 00072772 00072822 00073564 00073560 00072705 00073066 00073063 00073133 00072929 00072656 00072780 00073439 00073559 00073661 00073515 00073110 00072827 00073452 00072641 00073223 00073163 00072846 00072930 00073125 00072697 00073170 00073001 00072818 00073103 00073005 00073161 00072981 00072750 00072721 00072851 00073187 00072731 00073407 00073071 00073413 00073237 00073634 00072636 00072977 00072831 00073421 00072655 00073383 00072847 00073112 00073097 00073082 00073226 00072784 00072673 00073111 00072957 00072686 00072689 00073048 00072914 00073088 00072682 00073429 00073181 00073064 00073191 00073093 00073012 00072908 00073647 00072732 00072798 00073131 00073143 00073268 00072759 00073186 00073520 00073451 00073535 00073463 00073040 00073557 00072862 00073018 00073390 00073136 00073517 00072935 00072898 00072701 00073521 00073173 00073372 00072838 00073183 00073171 00072951 00073182 00073036 00073197 00073600 00072683 00073282 00073610 00073034 00073578 00072660 00072834 00073022 00072932 00072783 00073292 00073425 00073072 00073132 00073319 00072959 00072961 00073086 00072790 00072993 00072865 00072743 00073199 00072967 00073563 00072845 00073074 00072873 00073464 00073595 00072695 00073053 00072864 00073511 00073579 00073043 00073539 00072970 00073645 00073499 00072994 00073200 00073148 00072902 00073155 00072685 00072893 00073035 00072964 00072885 00073211 00073658 00072658 00073414 00072802 00073441 00073178 00072668 00072853 00072936 00073217 00073106 00073546 00073264 00073109 00072949 00073135 00072659 00073049 00073114 00073243 00073586 00072999 00072859 00073017 00073431 00073550 00072844 00072848 00073008 00073010 00073503 00073120 00073185 00073095 00072716 00073078 00072877 00072814 00073108 00073113 00073471 00072907 00072978 \n",
      "\n",
      "Test Data:\n",
      "00072652 00072662 00072663 00072696 00072699 00072702 00072709 00072720 00072735 00072738 00072754 00072768 00072782 00072793 00072794 00072797 00072799 00072807 00072816 00072821 00072835 00072841 00072849 00072854 00072858 00072910 00072911 00072928 00072931 00072954 00072956 00072996 00073004 00073006 00073016 00073031 00073037 00073051 00073056 00073067 00073092 00073098 00073105 00073115 00073116 00073118 00073134 00073140 00073142 00073144 00073152 00073154 00073156 00073160 00073164 00073166 00073190 00073209 00073218 00073228 00073238 00073378 00073445 00073459 00073473 00073483 00073500 00073508 00073523 00073529 00073534 00073537 00073545 00073565 00073571 00073584 00073591 00073605 00073618 00073620 "
     ]
    }
   ],
   "source": [
    "from glob import glob\n",
    "from shutil import copyfile\n",
    "import sqlite3\n",
    "import numpy as np\n",
    "import random\n",
    "import shutil\n",
    "import os\n",
    "\n",
    "# Settings\n",
    "min_objects = 3\n",
    "train_share = .8\n",
    "base_path = \"./dataset/v1/\"\n",
    "\n",
    "random.seed(42)\n",
    "labels = glob(\"./iNaturalist/images/Poison Ivy/*.txt\")\n",
    "labels.remove(\"./iNaturalist/images/Poison Ivy\\\\classes.txt\")\n",
    "\n",
    "\n",
    "def cp_stuff(f, destination_path):\n",
    "    record_id = f.split(\"\\\\\")[-1].split(\".txt\")[0]\n",
    "    print(record_id, end=\" \")\n",
    "    img = glob(\"./iNaturalist/images/Poison Ivy/\"+record_id+\".j*\")        \n",
    "    copyfile(f, destination_path + record_id +\".txt\")\n",
    "    copyfile(img[0], destination_path + img[0].split(\"\\\\\")[1])\n",
    "\n",
    "    \n",
    "def cleanup(path):\n",
    "    if os.path.exists(path):\n",
    "        shutil.rmtree(path)\n",
    "    \n",
    "    \n",
    "def init_dir(path):\n",
    "    cleanup(path)\n",
    "    os.mkdir(path)\n",
    "   \n",
    "# Create the directory to hold the data\n",
    "init_dir(base_path)\n",
    "\n",
    "# Split into training and test set\n",
    "keepers = []\n",
    "for f in labels:\n",
    "    objects = sum(1 for line in open(f))\n",
    "    if objects <= min_objects: \n",
    "        keepers.append(f)\n",
    "\n",
    "n_train = int(round(len(keepers) * train_share,0))\n",
    "for_training = random.sample(keepers, n_train)\n",
    "for_testing = np.setdiff1d(keepers,for_training)\n",
    "\n",
    "\n",
    "f = open(base_path + \"obj.names\", \"w\")\n",
    "f.write(\"poison_ivy\")\n",
    "f.close()\n",
    "\n",
    "destination_path = base_path + \"obj/\"\n",
    "init_dir(destination_path)\n",
    "print(\"Training Data:\")\n",
    "for f in for_training:\n",
    "    cp_stuff(f, destination_path)\n",
    "shutil.make_archive(destination_path, 'zip', destination_path)\n",
    "cleanup(destination_path)\n",
    "print(\"\\n\")\n",
    "    \n",
    "destination_path = base_path + \"test/\"\n",
    "init_dir(destination_path)\n",
    "print(\"Test Data:\")\n",
    "for f in for_testing:\n",
    "    cp_stuff(f, destination_path)\n",
    "shutil.make_archive(destination_path, 'zip', destination_path)\n",
    "cleanup(destination_path)"
   ]
  },
  {
   "cell_type": "code",
   "execution_count": 2,
   "metadata": {
    "ExecuteTime": {
     "end_time": "2020-09-26T13:37:03.076889Z",
     "start_time": "2020-09-26T13:37:03.062925Z"
    }
   },
   "outputs": [
    {
     "name": "stdout",
     "output_type": "stream",
     "text": [
      "320 images in training set\n"
     ]
    }
   ],
   "source": [
    "msg = str(len(for_training)) + \" images in training set\"\n",
    "f = open(base_path + \"README\", \"w\")\n",
    "f.write(msg)\n",
    "f.write(\"\\r\")\n",
    "f.close()\n",
    "\n",
    "print(msg)"
   ]
  },
  {
   "cell_type": "code",
   "execution_count": 3,
   "metadata": {
    "ExecuteTime": {
     "end_time": "2020-09-26T13:37:03.265526Z",
     "start_time": "2020-09-26T13:37:03.078897Z"
    }
   },
   "outputs": [
    {
     "name": "stdout",
     "output_type": "stream",
     "text": [
      "80 images in test set\n"
     ]
    }
   ],
   "source": [
    "msg = str(len(for_testing)) + \" images in test set\"\n",
    "f = open(base_path + \"README\", \"a\")\n",
    "f.write(msg)\n",
    "f.close()\n",
    "\n",
    "print(msg)"
   ]
  }
 ],
 "metadata": {
  "kernelspec": {
   "display_name": "Python 3",
   "language": "python",
   "name": "python3"
  },
  "language_info": {
   "codemirror_mode": {
    "name": "ipython",
    "version": 3
   },
   "file_extension": ".py",
   "mimetype": "text/x-python",
   "name": "python",
   "nbconvert_exporter": "python",
   "pygments_lexer": "ipython3",
   "version": "3.7.9"
  }
 },
 "nbformat": 4,
 "nbformat_minor": 4
}
