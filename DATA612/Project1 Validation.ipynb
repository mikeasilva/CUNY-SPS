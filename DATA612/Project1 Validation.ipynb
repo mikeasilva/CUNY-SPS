{
 "cells": [
  {
   "cell_type": "markdown",
   "metadata": {},
   "source": [
    "# DATA 612 Project 1 - Recommender System Validation\n",
    "\n",
    "By Mike Silva\n",
    "\n",
    "## Introduction\n",
    "\n",
    "This is a validation of the calculations used in project 1.  For this validation we will be using the same dataset featured in the [Network20Q's YouTube videos](https://www.youtube.com/watch?v=q97VFt56vRs&list=PLuKhJYywjDe96T2L0-zXFU5Up2jqXlWI9) explaining the mathmatics behind recommendation systems.\n",
    "\n",
    "## Training and Test Sets\n",
    "\n",
    "We will create the training and test sets to match what was used in the videos."
   ]
  },
  {
   "cell_type": "code",
   "execution_count": 1,
   "metadata": {
    "ExecuteTime": {
     "end_time": "2020-02-12T03:07:43.663858Z",
     "start_time": "2020-02-12T03:07:43.193520Z"
    }
   },
   "outputs": [
    {
     "data": {
      "text/html": [
       "<div>\n",
       "<style scoped>\n",
       "    .dataframe tbody tr th:only-of-type {\n",
       "        vertical-align: middle;\n",
       "    }\n",
       "\n",
       "    .dataframe tbody tr th {\n",
       "        vertical-align: top;\n",
       "    }\n",
       "\n",
       "    .dataframe thead th {\n",
       "        text-align: right;\n",
       "    }\n",
       "</style>\n",
       "<table border=\"1\" class=\"dataframe\">\n",
       "  <thead>\n",
       "    <tr style=\"text-align: right;\">\n",
       "      <th></th>\n",
       "      <th>I</th>\n",
       "      <th>II</th>\n",
       "      <th>III</th>\n",
       "      <th>IV</th>\n",
       "      <th>V</th>\n",
       "    </tr>\n",
       "  </thead>\n",
       "  <tbody>\n",
       "    <tr>\n",
       "      <th>A</th>\n",
       "      <td>5.0</td>\n",
       "      <td>NaN</td>\n",
       "      <td>4.0</td>\n",
       "      <td>NaN</td>\n",
       "      <td>4.0</td>\n",
       "    </tr>\n",
       "    <tr>\n",
       "      <th>B</th>\n",
       "      <td>4.0</td>\n",
       "      <td>3.0</td>\n",
       "      <td>5.0</td>\n",
       "      <td>NaN</td>\n",
       "      <td>4.0</td>\n",
       "    </tr>\n",
       "    <tr>\n",
       "      <th>C</th>\n",
       "      <td>NaN</td>\n",
       "      <td>2.0</td>\n",
       "      <td>NaN</td>\n",
       "      <td>NaN</td>\n",
       "      <td>3.0</td>\n",
       "    </tr>\n",
       "    <tr>\n",
       "      <th>D</th>\n",
       "      <td>2.0</td>\n",
       "      <td>NaN</td>\n",
       "      <td>3.0</td>\n",
       "      <td>1.0</td>\n",
       "      <td>2.0</td>\n",
       "    </tr>\n",
       "    <tr>\n",
       "      <th>E</th>\n",
       "      <td>4.0</td>\n",
       "      <td>NaN</td>\n",
       "      <td>NaN</td>\n",
       "      <td>4.0</td>\n",
       "      <td>5.0</td>\n",
       "    </tr>\n",
       "    <tr>\n",
       "      <th>F</th>\n",
       "      <td>4.0</td>\n",
       "      <td>2.0</td>\n",
       "      <td>5.0</td>\n",
       "      <td>4.0</td>\n",
       "      <td>NaN</td>\n",
       "    </tr>\n",
       "  </tbody>\n",
       "</table>\n",
       "</div>"
      ],
      "text/plain": [
       "     I   II  III   IV    V\n",
       "A  5.0  NaN  4.0  NaN  4.0\n",
       "B  4.0  3.0  5.0  NaN  4.0\n",
       "C  NaN  2.0  NaN  NaN  3.0\n",
       "D  2.0  NaN  3.0  1.0  2.0\n",
       "E  4.0  NaN  NaN  4.0  5.0\n",
       "F  4.0  2.0  5.0  4.0  NaN"
      ]
     },
     "execution_count": 1,
     "metadata": {},
     "output_type": "execute_result"
    }
   ],
   "source": [
    "import pandas as pd\n",
    "import data612\n",
    "\n",
    "train_df = pd.DataFrame([\n",
    "    [5, None, 4, None, 4],\n",
    "    [4, 3, 5, None, 4],\n",
    "    [None, 2, None, None, 3],\n",
    "    [2, None, 3, 1, 2],\n",
    "    [4, None, None, 4, 5],\n",
    "    [4, 2, 5, 4, None]\n",
    "], columns=[\"I\", \"II\", \"III\", \"IV\", \"V\"], index=[\"A\", \"B\", \"C\", \"D\", \"E\", \"F\"])\n",
    "train_df"
   ]
  },
  {
   "cell_type": "code",
   "execution_count": 2,
   "metadata": {
    "ExecuteTime": {
     "end_time": "2020-02-12T03:07:43.676814Z",
     "start_time": "2020-02-12T03:07:43.665821Z"
    }
   },
   "outputs": [
    {
     "data": {
      "text/html": [
       "<div>\n",
       "<style scoped>\n",
       "    .dataframe tbody tr th:only-of-type {\n",
       "        vertical-align: middle;\n",
       "    }\n",
       "\n",
       "    .dataframe tbody tr th {\n",
       "        vertical-align: top;\n",
       "    }\n",
       "\n",
       "    .dataframe thead th {\n",
       "        text-align: right;\n",
       "    }\n",
       "</style>\n",
       "<table border=\"1\" class=\"dataframe\">\n",
       "  <thead>\n",
       "    <tr style=\"text-align: right;\">\n",
       "      <th></th>\n",
       "      <th>I</th>\n",
       "      <th>II</th>\n",
       "      <th>III</th>\n",
       "      <th>IV</th>\n",
       "      <th>V</th>\n",
       "    </tr>\n",
       "  </thead>\n",
       "  <tbody>\n",
       "    <tr>\n",
       "      <th>A</th>\n",
       "      <td>NaN</td>\n",
       "      <td>NaN</td>\n",
       "      <td>NaN</td>\n",
       "      <td>NaN</td>\n",
       "      <td>NaN</td>\n",
       "    </tr>\n",
       "    <tr>\n",
       "      <th>B</th>\n",
       "      <td>NaN</td>\n",
       "      <td>NaN</td>\n",
       "      <td>NaN</td>\n",
       "      <td>3.0</td>\n",
       "      <td>NaN</td>\n",
       "    </tr>\n",
       "    <tr>\n",
       "      <th>C</th>\n",
       "      <td>4.0</td>\n",
       "      <td>NaN</td>\n",
       "      <td>NaN</td>\n",
       "      <td>NaN</td>\n",
       "      <td>NaN</td>\n",
       "    </tr>\n",
       "    <tr>\n",
       "      <th>D</th>\n",
       "      <td>NaN</td>\n",
       "      <td>2.0</td>\n",
       "      <td>NaN</td>\n",
       "      <td>NaN</td>\n",
       "      <td>NaN</td>\n",
       "    </tr>\n",
       "    <tr>\n",
       "      <th>E</th>\n",
       "      <td>NaN</td>\n",
       "      <td>NaN</td>\n",
       "      <td>5.0</td>\n",
       "      <td>NaN</td>\n",
       "      <td>NaN</td>\n",
       "    </tr>\n",
       "    <tr>\n",
       "      <th>F</th>\n",
       "      <td>NaN</td>\n",
       "      <td>NaN</td>\n",
       "      <td>NaN</td>\n",
       "      <td>NaN</td>\n",
       "      <td>4.0</td>\n",
       "    </tr>\n",
       "  </tbody>\n",
       "</table>\n",
       "</div>"
      ],
      "text/plain": [
       "     I   II  III   IV    V\n",
       "A  NaN  NaN  NaN  NaN  NaN\n",
       "B  NaN  NaN  NaN  3.0  NaN\n",
       "C  4.0  NaN  NaN  NaN  NaN\n",
       "D  NaN  2.0  NaN  NaN  NaN\n",
       "E  NaN  NaN  5.0  NaN  NaN\n",
       "F  NaN  NaN  NaN  NaN  4.0"
      ]
     },
     "execution_count": 2,
     "metadata": {},
     "output_type": "execute_result"
    }
   ],
   "source": [
    "test_df = pd.DataFrame([\n",
    "    [None, None, None, None, None],\n",
    "    [None, None, None, 3, None],\n",
    "    [4, None, None, None, None],\n",
    "    [None, 2, None, None, None],\n",
    "    [None, None, 5, None, None],\n",
    "    [None, None, None, None, 4]\n",
    "], columns=[\"I\", \"II\", \"III\", \"IV\", \"V\"], index=[\"A\", \"B\", \"C\", \"D\", \"E\", \"F\"])\n",
    "test_df"
   ]
  },
  {
   "cell_type": "markdown",
   "metadata": {},
   "source": [
    "## Calculate the Average Rating\n",
    "\n",
    "Now that we have a training set we need calculate the raw average (mean) rating for every user-item combination. According to the video it should be 3.5."
   ]
  },
  {
   "cell_type": "code",
   "execution_count": 3,
   "metadata": {
    "ExecuteTime": {
     "end_time": "2020-02-12T03:07:43.788632Z",
     "start_time": "2020-02-12T03:07:43.677809Z"
    }
   },
   "outputs": [
    {
     "data": {
      "text/plain": [
       "3.5"
      ]
     },
     "execution_count": 3,
     "metadata": {},
     "output_type": "execute_result"
    }
   ],
   "source": [
    "raw_avg = train_df.sum(numeric_only=True).sum() / train_df.count().sum(axis = 0)\n",
    "raw_avg"
   ]
  },
  {
   "cell_type": "markdown",
   "metadata": {
    "ExecuteTime": {
     "end_time": "2020-01-30T14:57:26.088634Z",
     "start_time": "2020-01-30T14:57:26.031406Z"
    }
   },
   "source": [
    "## Validate the RMSE Calculations \n",
    "\n",
    "Now I will calculate the RMSE for test data.  The [video](https://www.youtube.com/watch?v=prVRuPezW3Q&list=PLuKhJYywjDe96T2L0-zXFU5Up2jqXlWI9&index=12) arrives at a RMSE of 1.0247.  Here's the derivation:"
   ]
  },
  {
   "cell_type": "code",
   "execution_count": 4,
   "metadata": {
    "ExecuteTime": {
     "end_time": "2020-02-12T03:07:43.856288Z",
     "start_time": "2020-02-12T03:07:43.789630Z"
    }
   },
   "outputs": [
    {
     "data": {
      "text/plain": [
       "1.02469507659596"
      ]
     },
     "execution_count": 4,
     "metadata": {},
     "output_type": "execute_result"
    }
   ],
   "source": [
    "(((4 - 3.5)**2 + (2 - 3.5)**2 + (5 - 3.5)**2 + (3 - 3.5)**2 + (4 - 3.5)**2)/5)**(1/2)"
   ]
  },
  {
   "cell_type": "markdown",
   "metadata": {},
   "source": [
    "This matches the video.  Let's validate the get_RMSE() function:"
   ]
  },
  {
   "cell_type": "code",
   "execution_count": 5,
   "metadata": {
    "ExecuteTime": {
     "end_time": "2020-02-12T03:07:43.929675Z",
     "start_time": "2020-02-12T03:07:43.857255Z"
    }
   },
   "outputs": [
    {
     "data": {
      "text/plain": [
       "1.02469507659596"
      ]
     },
     "execution_count": 5,
     "metadata": {},
     "output_type": "execute_result"
    }
   ],
   "source": [
    "test_df_RMSE = data612.get_RMSE(test_df, raw_avg)\n",
    "test_df_RMSE"
   ]
  },
  {
   "cell_type": "markdown",
   "metadata": {
    "ExecuteTime": {
     "end_time": "2020-02-12T01:54:38.819042Z",
     "start_time": "2020-02-12T01:54:38.814071Z"
    }
   },
   "source": [
    "This checks out so everything is awesome!"
   ]
  },
  {
   "cell_type": "markdown",
   "metadata": {},
   "source": [
    "## Calculate the Biases\n",
    "\n",
    "We now can calculate the user and item biases.  The [movie](https://www.youtube.com/watch?v=dGM4bNQcVKI&list=PLuKhJYywjDe96T2L0-zXFU5Up2jqXlWI9&index=14) calculates the biases for user D.  They come up with -1.5.  Here's the derivation:"
   ]
  },
  {
   "cell_type": "code",
   "execution_count": 6,
   "metadata": {
    "ExecuteTime": {
     "end_time": "2020-02-12T03:07:43.988213Z",
     "start_time": "2020-02-12T03:07:43.930642Z"
    }
   },
   "outputs": [
    {
     "data": {
      "text/plain": [
       "-1.5"
      ]
     },
     "execution_count": 6,
     "metadata": {},
     "output_type": "execute_result"
    }
   ],
   "source": [
    "((2 + 3 + 1 + 2) / 4) - 3.5"
   ]
  },
  {
   "cell_type": "markdown",
   "metadata": {},
   "source": [
    "Now we will check that against our function's value"
   ]
  },
  {
   "cell_type": "code",
   "execution_count": 7,
   "metadata": {
    "ExecuteTime": {
     "end_time": "2020-02-12T03:07:44.057144Z",
     "start_time": "2020-02-12T03:07:43.990201Z"
    }
   },
   "outputs": [
    {
     "data": {
      "text/plain": [
       "-1.5"
      ]
     },
     "execution_count": 7,
     "metadata": {},
     "output_type": "execute_result"
    }
   ],
   "source": [
    "user_bias_train_df, item_bias_train_df = data612.get_biases(train_df, raw_avg)\n",
    "user_bias_train_df[\"D\"]"
   ]
  },
  {
   "cell_type": "markdown",
   "metadata": {},
   "source": [
    "This matches.  We will also check the item bias for  movie III.  The video gets X.  Here's their math:"
   ]
  },
  {
   "cell_type": "code",
   "execution_count": 8,
   "metadata": {
    "ExecuteTime": {
     "end_time": "2020-02-12T03:07:44.145954Z",
     "start_time": "2020-02-12T03:07:44.059133Z"
    }
   },
   "outputs": [
    {
     "data": {
      "text/plain": [
       "0.75"
      ]
     },
     "execution_count": 8,
     "metadata": {},
     "output_type": "execute_result"
    }
   ],
   "source": [
    "((4 + 5 + 3 + 5) / 4) - 3.5"
   ]
  },
  {
   "cell_type": "markdown",
   "metadata": {},
   "source": [
    "And here's what I got:"
   ]
  },
  {
   "cell_type": "code",
   "execution_count": 9,
   "metadata": {
    "ExecuteTime": {
     "end_time": "2020-02-12T03:07:44.222184Z",
     "start_time": "2020-02-12T03:07:44.146951Z"
    }
   },
   "outputs": [
    {
     "data": {
      "text/plain": [
       "0.75"
      ]
     },
     "execution_count": 9,
     "metadata": {},
     "output_type": "execute_result"
    }
   ],
   "source": [
    "item_bias_train_df[\"III\"]"
   ]
  },
  {
   "cell_type": "markdown",
   "metadata": {},
   "source": [
    "At the end of the video he gives all the biases.  Here's what he gives for the users\n",
    "* A = 0.83\n",
    "* B = 0.5\n",
    "* C = -1.0\n",
    "* D = -1.5\n",
    "* E = -0.83\n",
    "* F = 0.25\n",
    "\n",
    "Here's what I got:"
   ]
  },
  {
   "cell_type": "code",
   "execution_count": 10,
   "metadata": {
    "ExecuteTime": {
     "end_time": "2020-02-12T03:07:44.301676Z",
     "start_time": "2020-02-12T03:07:44.224156Z"
    }
   },
   "outputs": [
    {
     "data": {
      "text/plain": [
       "A    0.833333\n",
       "B    0.500000\n",
       "C   -1.000000\n",
       "D   -1.500000\n",
       "E    0.833333\n",
       "F    0.250000\n",
       "dtype: float64"
      ]
     },
     "execution_count": 10,
     "metadata": {},
     "output_type": "execute_result"
    }
   ],
   "source": [
    "user_bias_train_df"
   ]
  },
  {
   "cell_type": "markdown",
   "metadata": {},
   "source": [
    "Sweet.  It's a match.  For the items he gives the following values:\n",
    "* I = 0.3\n",
    "* II = -1.17\n",
    "* III = 0.75\n",
    "* IV = -0.5\n",
    "* V = 0.1\n",
    "\n",
    "Here's what I got:"
   ]
  },
  {
   "cell_type": "code",
   "execution_count": 11,
   "metadata": {
    "ExecuteTime": {
     "end_time": "2020-02-12T03:07:44.378970Z",
     "start_time": "2020-02-12T03:07:44.302673Z"
    }
   },
   "outputs": [
    {
     "data": {
      "text/plain": [
       "I      0.300000\n",
       "II    -1.166667\n",
       "III    0.750000\n",
       "IV    -0.500000\n",
       "V      0.100000\n",
       "dtype: float64"
      ]
     },
     "execution_count": 11,
     "metadata": {},
     "output_type": "execute_result"
    }
   ],
   "source": [
    "item_bias_train_df"
   ]
  },
  {
   "cell_type": "markdown",
   "metadata": {},
   "source": [
    "## Baseline Predictors\n",
    "\n",
    "Now we can make our baseline predictions.  In the [movie](https://www.youtube.com/watch?v=4RSigTais8o&list=PLuKhJYywjDe96T2L0-zXFU5Up2jqXlWI9&index=15) he works out user D and movie III.  He come's up with 2.75.  He also works through user A and movie II and gets 3.16."
   ]
  },
  {
   "cell_type": "code",
   "execution_count": 12,
   "metadata": {
    "ExecuteTime": {
     "end_time": "2020-02-12T03:07:44.467265Z",
     "start_time": "2020-02-12T03:07:44.379949Z"
    }
   },
   "outputs": [
    {
     "data": {
      "text/html": [
       "<div>\n",
       "<style scoped>\n",
       "    .dataframe tbody tr th:only-of-type {\n",
       "        vertical-align: middle;\n",
       "    }\n",
       "\n",
       "    .dataframe tbody tr th {\n",
       "        vertical-align: top;\n",
       "    }\n",
       "\n",
       "    .dataframe thead th {\n",
       "        text-align: right;\n",
       "    }\n",
       "</style>\n",
       "<table border=\"1\" class=\"dataframe\">\n",
       "  <thead>\n",
       "    <tr style=\"text-align: right;\">\n",
       "      <th></th>\n",
       "      <th>I</th>\n",
       "      <th>II</th>\n",
       "      <th>III</th>\n",
       "      <th>IV</th>\n",
       "      <th>V</th>\n",
       "    </tr>\n",
       "  </thead>\n",
       "  <tbody>\n",
       "    <tr>\n",
       "      <th>A</th>\n",
       "      <td>4.63</td>\n",
       "      <td>3.17</td>\n",
       "      <td>5.00</td>\n",
       "      <td>3.83</td>\n",
       "      <td>4.43</td>\n",
       "    </tr>\n",
       "    <tr>\n",
       "      <th>B</th>\n",
       "      <td>4.30</td>\n",
       "      <td>2.83</td>\n",
       "      <td>4.75</td>\n",
       "      <td>3.50</td>\n",
       "      <td>4.10</td>\n",
       "    </tr>\n",
       "    <tr>\n",
       "      <th>C</th>\n",
       "      <td>2.80</td>\n",
       "      <td>1.33</td>\n",
       "      <td>3.25</td>\n",
       "      <td>2.00</td>\n",
       "      <td>2.60</td>\n",
       "    </tr>\n",
       "    <tr>\n",
       "      <th>D</th>\n",
       "      <td>2.30</td>\n",
       "      <td>1.00</td>\n",
       "      <td>2.75</td>\n",
       "      <td>1.50</td>\n",
       "      <td>2.10</td>\n",
       "    </tr>\n",
       "    <tr>\n",
       "      <th>E</th>\n",
       "      <td>4.63</td>\n",
       "      <td>3.17</td>\n",
       "      <td>5.00</td>\n",
       "      <td>3.83</td>\n",
       "      <td>4.43</td>\n",
       "    </tr>\n",
       "    <tr>\n",
       "      <th>F</th>\n",
       "      <td>4.05</td>\n",
       "      <td>2.58</td>\n",
       "      <td>4.50</td>\n",
       "      <td>3.25</td>\n",
       "      <td>3.85</td>\n",
       "    </tr>\n",
       "  </tbody>\n",
       "</table>\n",
       "</div>"
      ],
      "text/plain": [
       "      I    II   III    IV     V\n",
       "A  4.63  3.17  5.00  3.83  4.43\n",
       "B  4.30  2.83  4.75  3.50  4.10\n",
       "C  2.80  1.33  3.25  2.00  2.60\n",
       "D  2.30  1.00  2.75  1.50  2.10\n",
       "E  4.63  3.17  5.00  3.83  4.43\n",
       "F  4.05  2.58  4.50  3.25  3.85"
      ]
     },
     "execution_count": 12,
     "metadata": {},
     "output_type": "execute_result"
    }
   ],
   "source": [
    "baseline_predictions_df = data612.get_baseline_predictions(raw_avg, user_bias_train_df, item_bias_train_df)\n",
    "\n",
    "def between_1_and_5(x):\n",
    "    if x > 5:\n",
    "        return 5\n",
    "    elif x < 1:\n",
    "        return 1\n",
    "    return x\n",
    "\n",
    "# Round and validates predictions\n",
    "baseline_predictions_df = baseline_predictions_df.round(2).applymap(between_1_and_5)\n",
    "baseline_predictions_df"
   ]
  },
  {
   "cell_type": "markdown",
   "metadata": {
    "ExecuteTime": {
     "end_time": "2020-02-12T02:59:52.041135Z",
     "start_time": "2020-02-12T02:59:52.030163Z"
    }
   },
   "source": [
    "## RMSE Part II\n",
    "\n",
    "The [video](https://www.youtube.com/watch?v=lppNpLFelOc&list=PLuKhJYywjDe96T2L0-zXFU5Up2jqXlWI9&index=16) works out the RMSE on the test set using the baseline predictions.  He worked it out to be 0.7365 as shown below:"
   ]
  },
  {
   "cell_type": "code",
   "execution_count": 13,
   "metadata": {
    "ExecuteTime": {
     "end_time": "2020-02-12T03:07:44.556879Z",
     "start_time": "2020-02-12T03:07:44.468260Z"
    }
   },
   "outputs": [
    {
     "data": {
      "text/plain": [
       "0.7365459931328119"
      ]
     },
     "execution_count": 13,
     "metadata": {},
     "output_type": "execute_result"
    }
   ],
   "source": [
    "(((4 - 2.8)**2 + (2 - 1)**2 + (5 - 5)**2 + (3 - 3.5)**2 + (4 - 3.85)**2) / 5)**(1/2)"
   ]
  },
  {
   "cell_type": "markdown",
   "metadata": {},
   "source": [
    "Now to see what our function returns:"
   ]
  },
  {
   "cell_type": "code",
   "execution_count": 14,
   "metadata": {
    "ExecuteTime": {
     "end_time": "2020-02-12T03:07:44.651358Z",
     "start_time": "2020-02-12T03:07:44.557833Z"
    }
   },
   "outputs": [
    {
     "data": {
      "text/plain": [
       "0.7365459931328119"
      ]
     },
     "execution_count": 14,
     "metadata": {},
     "output_type": "execute_result"
    }
   ],
   "source": [
    "data612.get_RMSE(test_df, baseline_predictions_df)"
   ]
  },
  {
   "cell_type": "markdown",
   "metadata": {},
   "source": [
    "It matches.  In the video he says the training data has and RMSE of 0.4709.  He doesn't show the derivation because of the number of terms.  We'll take his word for it and check our function:"
   ]
  },
  {
   "cell_type": "code",
   "execution_count": 15,
   "metadata": {
    "ExecuteTime": {
     "end_time": "2020-02-12T03:07:44.739111Z",
     "start_time": "2020-02-12T03:07:44.652355Z"
    }
   },
   "outputs": [
    {
     "data": {
      "text/plain": [
       "0.47099363053018034"
      ]
     },
     "execution_count": 15,
     "metadata": {},
     "output_type": "execute_result"
    }
   ],
   "source": [
    "data612.get_RMSE(train_df, baseline_predictions_df)"
   ]
  },
  {
   "cell_type": "markdown",
   "metadata": {},
   "source": [
    "It matches.  I can conclude that the functions are generating valid results on these small datasets and can be used on larger datasets with confidence."
   ]
  }
 ],
 "metadata": {
  "kernelspec": {
   "display_name": "Python 3",
   "language": "python",
   "name": "python3"
  },
  "language_info": {
   "codemirror_mode": {
    "name": "ipython",
    "version": 3
   },
   "file_extension": ".py",
   "mimetype": "text/x-python",
   "name": "python",
   "nbconvert_exporter": "python",
   "pygments_lexer": "ipython3",
   "version": "3.7.5"
  }
 },
 "nbformat": 4,
 "nbformat_minor": 2
}
