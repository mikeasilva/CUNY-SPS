{
 "cells": [
  {
   "cell_type": "markdown",
   "metadata": {},
   "source": [
    "# DATA 612 Project 1 - Joke Recommender System Validation\n",
    "\n",
    "By Mike Silva\n",
    "\n",
    "## Introduction\n",
    "\n",
    "This recommender system provides our users with jokes that they will find funny.  By providing this content we will keep users engaged longer.\n",
    "\n",
    "### About the Jester Dataset\n",
    "\n",
    "For this project I will be using the [Jester dataset](http://eigentaste.berkeley.edu/dataset/).  It was created by Ken Goldberg at UC Berkley (Eigentaste: A Constant Time Collaborative Filtering Algorithm. Ken Goldberg, Theresa Roeder, Dhruv Gupta, and Chris Perkins. Information Retrieval, 4(2), 133-151. July 2001).\n",
    "\n",
    "Data files are in .zip format, when unzipped, they are in Excel (.xls) format.  The ratings are real values ranging from -10.00 to +10.00 (the value \"99\" corresponds to \"null\" meaning \"not rated\").  Each row is a user.  The first column gives the number of jokes rated by the user. The next 100 give the ratings for jokes 1 to 100.  I will only be the first data set that has data for users that have rated 36 or more jokes.\n",
    "\n",
    "The researchers note that the sub-matrix including only columns {5, 7, 8, 13, 15, 16, 17, 18, 19, 20} is dense. Almost all users have rated those jokes. I will be using this small subset of this matrix to verify the calculations preformed on the whole."
   ]
  },
  {
   "cell_type": "code",
   "execution_count": 1,
   "metadata": {
    "ExecuteTime": {
     "end_time": "2020-02-04T02:47:25.143613Z",
     "start_time": "2020-02-04T02:47:07.658415Z"
    }
   },
   "outputs": [
    {
     "data": {
      "text/plain": [
       "(24983, 101)"
      ]
     },
     "execution_count": 1,
     "metadata": {},
     "output_type": "execute_result"
    }
   ],
   "source": [
    "import os\n",
    "import requests\n",
    "import zipfile\n",
    "import pandas as pd\n",
    "import data612\n",
    "\n",
    "# STEP 1 - DOWNLOAD THE DATA SET\n",
    "if not os.path.exists(\"jester_dataset_1_1.zip\"):\n",
    "    # We need to download it\n",
    "    response = requests.get(\"http://eigentaste.berkeley.edu/dataset/jester_dataset_1_1.zip\")\n",
    "    if response.status_code == 200:\n",
    "        with open(\"jester_dataset_1_1.zip\", \"wb\") as f:\n",
    "            f.write(response.content)\n",
    "# STEP 2 - EXTRACT THE DATA SET\n",
    "if not os.path.exists(\"jester-data-1.xls\"):\n",
    "    with zipfile.ZipFile(\"jester_dataset_1_1.zip\",\"r\") as z:\n",
    "        z.extract(\"jester-data-1.xls\")\n",
    "# STEP 3 - READ ING THE DATA\n",
    "# The data is a continous rating scale from -10 to 10.  99 is used if a user hasn't rated a joke.\n",
    "# The data does not have a header.  Using the column numbers works great.\n",
    "df = pd.read_excel(\"jester-data-1.xls\",  header=None, na_values = 99)\n",
    "# We should have a 24,983 X 101 data frame\n",
    "df.shape"
   ]
  },
  {
   "cell_type": "markdown",
   "metadata": {},
   "source": [
    "Since the first column (0) is the number of jokes rated by the user we can drop that so we are only left with the ratings.\n",
    "\n",
    "Now I will create the small subset using the first 10 users and 10 jokes.  Nine of the ten jokes are identified as having dense ratings data.  The first joke is added to the set to ensure some missing values."
   ]
  },
  {
   "cell_type": "code",
   "execution_count": 2,
   "metadata": {
    "ExecuteTime": {
     "end_time": "2020-02-04T02:47:25.171594Z",
     "start_time": "2020-02-04T02:47:25.143613Z"
    }
   },
   "outputs": [
    {
     "data": {
      "text/html": [
       "<div>\n",
       "<style scoped>\n",
       "    .dataframe tbody tr th:only-of-type {\n",
       "        vertical-align: middle;\n",
       "    }\n",
       "\n",
       "    .dataframe tbody tr th {\n",
       "        vertical-align: top;\n",
       "    }\n",
       "\n",
       "    .dataframe thead th {\n",
       "        text-align: right;\n",
       "    }\n",
       "</style>\n",
       "<table border=\"1\" class=\"dataframe\">\n",
       "  <thead>\n",
       "    <tr style=\"text-align: right;\">\n",
       "      <th></th>\n",
       "      <th>1</th>\n",
       "      <th>7</th>\n",
       "      <th>8</th>\n",
       "      <th>13</th>\n",
       "      <th>15</th>\n",
       "      <th>16</th>\n",
       "      <th>17</th>\n",
       "      <th>18</th>\n",
       "      <th>19</th>\n",
       "      <th>20</th>\n",
       "    </tr>\n",
       "  </thead>\n",
       "  <tbody>\n",
       "    <tr>\n",
       "      <th>0</th>\n",
       "      <td>-7.82</td>\n",
       "      <td>-9.85</td>\n",
       "      <td>4.17</td>\n",
       "      <td>-7.18</td>\n",
       "      <td>-7.18</td>\n",
       "      <td>-7.52</td>\n",
       "      <td>-7.43</td>\n",
       "      <td>-9.81</td>\n",
       "      <td>-9.85</td>\n",
       "      <td>-9.85</td>\n",
       "    </tr>\n",
       "    <tr>\n",
       "      <th>1</th>\n",
       "      <td>4.08</td>\n",
       "      <td>-0.73</td>\n",
       "      <td>-5.34</td>\n",
       "      <td>4.42</td>\n",
       "      <td>4.56</td>\n",
       "      <td>-0.97</td>\n",
       "      <td>4.66</td>\n",
       "      <td>-0.68</td>\n",
       "      <td>3.30</td>\n",
       "      <td>-1.21</td>\n",
       "    </tr>\n",
       "    <tr>\n",
       "      <th>2</th>\n",
       "      <td>NaN</td>\n",
       "      <td>9.03</td>\n",
       "      <td>9.27</td>\n",
       "      <td>9.37</td>\n",
       "      <td>-6.36</td>\n",
       "      <td>-6.89</td>\n",
       "      <td>-7.86</td>\n",
       "      <td>9.03</td>\n",
       "      <td>9.03</td>\n",
       "      <td>9.03</td>\n",
       "    </tr>\n",
       "    <tr>\n",
       "      <th>3</th>\n",
       "      <td>NaN</td>\n",
       "      <td>-2.82</td>\n",
       "      <td>6.21</td>\n",
       "      <td>6.31</td>\n",
       "      <td>-7.23</td>\n",
       "      <td>-6.65</td>\n",
       "      <td>1.17</td>\n",
       "      <td>-6.60</td>\n",
       "      <td>-3.64</td>\n",
       "      <td>-2.09</td>\n",
       "    </tr>\n",
       "    <tr>\n",
       "      <th>4</th>\n",
       "      <td>8.50</td>\n",
       "      <td>7.04</td>\n",
       "      <td>4.61</td>\n",
       "      <td>-3.93</td>\n",
       "      <td>-2.33</td>\n",
       "      <td>-9.66</td>\n",
       "      <td>2.72</td>\n",
       "      <td>-1.36</td>\n",
       "      <td>2.57</td>\n",
       "      <td>4.51</td>\n",
       "    </tr>\n",
       "    <tr>\n",
       "      <th>5</th>\n",
       "      <td>-6.17</td>\n",
       "      <td>-8.69</td>\n",
       "      <td>-0.87</td>\n",
       "      <td>-5.00</td>\n",
       "      <td>0.49</td>\n",
       "      <td>-8.93</td>\n",
       "      <td>-3.69</td>\n",
       "      <td>-2.18</td>\n",
       "      <td>-2.28</td>\n",
       "      <td>-6.12</td>\n",
       "    </tr>\n",
       "    <tr>\n",
       "      <th>6</th>\n",
       "      <td>NaN</td>\n",
       "      <td>7.72</td>\n",
       "      <td>8.79</td>\n",
       "      <td>-6.26</td>\n",
       "      <td>6.07</td>\n",
       "      <td>-3.50</td>\n",
       "      <td>-2.09</td>\n",
       "      <td>6.17</td>\n",
       "      <td>5.15</td>\n",
       "      <td>4.42</td>\n",
       "    </tr>\n",
       "    <tr>\n",
       "      <th>7</th>\n",
       "      <td>6.84</td>\n",
       "      <td>9.27</td>\n",
       "      <td>1.41</td>\n",
       "      <td>-6.94</td>\n",
       "      <td>0.29</td>\n",
       "      <td>-9.90</td>\n",
       "      <td>-7.09</td>\n",
       "      <td>-7.18</td>\n",
       "      <td>1.02</td>\n",
       "      <td>-0.29</td>\n",
       "    </tr>\n",
       "    <tr>\n",
       "      <th>8</th>\n",
       "      <td>-3.79</td>\n",
       "      <td>-5.29</td>\n",
       "      <td>-8.93</td>\n",
       "      <td>-4.85</td>\n",
       "      <td>-8.74</td>\n",
       "      <td>-6.99</td>\n",
       "      <td>-8.74</td>\n",
       "      <td>-2.91</td>\n",
       "      <td>-3.35</td>\n",
       "      <td>-0.29</td>\n",
       "    </tr>\n",
       "    <tr>\n",
       "      <th>9</th>\n",
       "      <td>3.01</td>\n",
       "      <td>8.93</td>\n",
       "      <td>2.52</td>\n",
       "      <td>4.47</td>\n",
       "      <td>-4.66</td>\n",
       "      <td>-0.97</td>\n",
       "      <td>-0.44</td>\n",
       "      <td>1.55</td>\n",
       "      <td>0.49</td>\n",
       "      <td>4.37</td>\n",
       "    </tr>\n",
       "  </tbody>\n",
       "</table>\n",
       "</div>"
      ],
      "text/plain": [
       "     1     7     8     13    15    16    17    18    19    20\n",
       "0 -7.82 -9.85  4.17 -7.18 -7.18 -7.52 -7.43 -9.81 -9.85 -9.85\n",
       "1  4.08 -0.73 -5.34  4.42  4.56 -0.97  4.66 -0.68  3.30 -1.21\n",
       "2   NaN  9.03  9.27  9.37 -6.36 -6.89 -7.86  9.03  9.03  9.03\n",
       "3   NaN -2.82  6.21  6.31 -7.23 -6.65  1.17 -6.60 -3.64 -2.09\n",
       "4  8.50  7.04  4.61 -3.93 -2.33 -9.66  2.72 -1.36  2.57  4.51\n",
       "5 -6.17 -8.69 -0.87 -5.00  0.49 -8.93 -3.69 -2.18 -2.28 -6.12\n",
       "6   NaN  7.72  8.79 -6.26  6.07 -3.50 -2.09  6.17  5.15  4.42\n",
       "7  6.84  9.27  1.41 -6.94  0.29 -9.90 -7.09 -7.18  1.02 -0.29\n",
       "8 -3.79 -5.29 -8.93 -4.85 -8.74 -6.99 -8.74 -2.91 -3.35 -0.29\n",
       "9  3.01  8.93  2.52  4.47 -4.66 -0.97 -0.44  1.55  0.49  4.37"
      ]
     },
     "execution_count": 2,
     "metadata": {},
     "output_type": "execute_result"
    }
   ],
   "source": [
    "df = df[[1, 7, 8, 13, 15, 16, 17, 18, 19, 20]].head(10)\n",
    "df"
   ]
  },
  {
   "cell_type": "markdown",
   "metadata": {},
   "source": [
    "## Break into Training and Test Sets\n",
    "\n",
    "Now that we have data we will break it into training and test sets."
   ]
  },
  {
   "cell_type": "code",
   "execution_count": 3,
   "metadata": {
    "ExecuteTime": {
     "end_time": "2020-02-04T02:47:25.460452Z",
     "start_time": "2020-02-04T02:47:25.175688Z"
    }
   },
   "outputs": [
    {
     "data": {
      "text/html": [
       "<div>\n",
       "<style scoped>\n",
       "    .dataframe tbody tr th:only-of-type {\n",
       "        vertical-align: middle;\n",
       "    }\n",
       "\n",
       "    .dataframe tbody tr th {\n",
       "        vertical-align: top;\n",
       "    }\n",
       "\n",
       "    .dataframe thead th {\n",
       "        text-align: right;\n",
       "    }\n",
       "</style>\n",
       "<table border=\"1\" class=\"dataframe\">\n",
       "  <thead>\n",
       "    <tr style=\"text-align: right;\">\n",
       "      <th></th>\n",
       "      <th>1</th>\n",
       "      <th>7</th>\n",
       "      <th>8</th>\n",
       "      <th>13</th>\n",
       "      <th>15</th>\n",
       "      <th>16</th>\n",
       "      <th>17</th>\n",
       "      <th>18</th>\n",
       "      <th>19</th>\n",
       "      <th>20</th>\n",
       "    </tr>\n",
       "  </thead>\n",
       "  <tbody>\n",
       "    <tr>\n",
       "      <th>0</th>\n",
       "      <td>-7.82</td>\n",
       "      <td>-9.85</td>\n",
       "      <td>4.17</td>\n",
       "      <td>-7.18</td>\n",
       "      <td>-7.18</td>\n",
       "      <td>-7.52</td>\n",
       "      <td>-7.43</td>\n",
       "      <td>-9.81</td>\n",
       "      <td>-9.85</td>\n",
       "      <td>-9.85</td>\n",
       "    </tr>\n",
       "    <tr>\n",
       "      <th>1</th>\n",
       "      <td>4.08</td>\n",
       "      <td>-0.73</td>\n",
       "      <td>-5.34</td>\n",
       "      <td>NaN</td>\n",
       "      <td>4.56</td>\n",
       "      <td>-0.97</td>\n",
       "      <td>4.66</td>\n",
       "      <td>NaN</td>\n",
       "      <td>3.30</td>\n",
       "      <td>-1.21</td>\n",
       "    </tr>\n",
       "    <tr>\n",
       "      <th>2</th>\n",
       "      <td>NaN</td>\n",
       "      <td>9.03</td>\n",
       "      <td>9.27</td>\n",
       "      <td>9.37</td>\n",
       "      <td>-6.36</td>\n",
       "      <td>-6.89</td>\n",
       "      <td>NaN</td>\n",
       "      <td>9.03</td>\n",
       "      <td>9.03</td>\n",
       "      <td>9.03</td>\n",
       "    </tr>\n",
       "    <tr>\n",
       "      <th>3</th>\n",
       "      <td>NaN</td>\n",
       "      <td>-2.82</td>\n",
       "      <td>6.21</td>\n",
       "      <td>6.31</td>\n",
       "      <td>-7.23</td>\n",
       "      <td>-6.65</td>\n",
       "      <td>1.17</td>\n",
       "      <td>NaN</td>\n",
       "      <td>-3.64</td>\n",
       "      <td>-2.09</td>\n",
       "    </tr>\n",
       "    <tr>\n",
       "      <th>4</th>\n",
       "      <td>NaN</td>\n",
       "      <td>7.04</td>\n",
       "      <td>NaN</td>\n",
       "      <td>-3.93</td>\n",
       "      <td>-2.33</td>\n",
       "      <td>-9.66</td>\n",
       "      <td>2.72</td>\n",
       "      <td>-1.36</td>\n",
       "      <td>2.57</td>\n",
       "      <td>4.51</td>\n",
       "    </tr>\n",
       "    <tr>\n",
       "      <th>5</th>\n",
       "      <td>-6.17</td>\n",
       "      <td>NaN</td>\n",
       "      <td>-0.87</td>\n",
       "      <td>-5.00</td>\n",
       "      <td>NaN</td>\n",
       "      <td>-8.93</td>\n",
       "      <td>-3.69</td>\n",
       "      <td>-2.18</td>\n",
       "      <td>-2.28</td>\n",
       "      <td>-6.12</td>\n",
       "    </tr>\n",
       "    <tr>\n",
       "      <th>6</th>\n",
       "      <td>NaN</td>\n",
       "      <td>7.72</td>\n",
       "      <td>8.79</td>\n",
       "      <td>NaN</td>\n",
       "      <td>NaN</td>\n",
       "      <td>-3.50</td>\n",
       "      <td>-2.09</td>\n",
       "      <td>6.17</td>\n",
       "      <td>5.15</td>\n",
       "      <td>NaN</td>\n",
       "    </tr>\n",
       "    <tr>\n",
       "      <th>7</th>\n",
       "      <td>6.84</td>\n",
       "      <td>9.27</td>\n",
       "      <td>NaN</td>\n",
       "      <td>-6.94</td>\n",
       "      <td>NaN</td>\n",
       "      <td>-9.90</td>\n",
       "      <td>-7.09</td>\n",
       "      <td>-7.18</td>\n",
       "      <td>1.02</td>\n",
       "      <td>-0.29</td>\n",
       "    </tr>\n",
       "    <tr>\n",
       "      <th>8</th>\n",
       "      <td>NaN</td>\n",
       "      <td>NaN</td>\n",
       "      <td>NaN</td>\n",
       "      <td>-4.85</td>\n",
       "      <td>-8.74</td>\n",
       "      <td>-6.99</td>\n",
       "      <td>NaN</td>\n",
       "      <td>-2.91</td>\n",
       "      <td>-3.35</td>\n",
       "      <td>-0.29</td>\n",
       "    </tr>\n",
       "    <tr>\n",
       "      <th>9</th>\n",
       "      <td>3.01</td>\n",
       "      <td>8.93</td>\n",
       "      <td>NaN</td>\n",
       "      <td>4.47</td>\n",
       "      <td>-4.66</td>\n",
       "      <td>NaN</td>\n",
       "      <td>-0.44</td>\n",
       "      <td>1.55</td>\n",
       "      <td>0.49</td>\n",
       "      <td>4.37</td>\n",
       "    </tr>\n",
       "  </tbody>\n",
       "</table>\n",
       "</div>"
      ],
      "text/plain": [
       "     1     7     8     13    15    16    17    18    19    20\n",
       "0 -7.82 -9.85  4.17 -7.18 -7.18 -7.52 -7.43 -9.81 -9.85 -9.85\n",
       "1  4.08 -0.73 -5.34   NaN  4.56 -0.97  4.66   NaN  3.30 -1.21\n",
       "2   NaN  9.03  9.27  9.37 -6.36 -6.89   NaN  9.03  9.03  9.03\n",
       "3   NaN -2.82  6.21  6.31 -7.23 -6.65  1.17   NaN -3.64 -2.09\n",
       "4   NaN  7.04   NaN -3.93 -2.33 -9.66  2.72 -1.36  2.57  4.51\n",
       "5 -6.17   NaN -0.87 -5.00   NaN -8.93 -3.69 -2.18 -2.28 -6.12\n",
       "6   NaN  7.72  8.79   NaN   NaN -3.50 -2.09  6.17  5.15   NaN\n",
       "7  6.84  9.27   NaN -6.94   NaN -9.90 -7.09 -7.18  1.02 -0.29\n",
       "8   NaN   NaN   NaN -4.85 -8.74 -6.99   NaN -2.91 -3.35 -0.29\n",
       "9  3.01  8.93   NaN  4.47 -4.66   NaN -0.44  1.55  0.49  4.37"
      ]
     },
     "execution_count": 3,
     "metadata": {},
     "output_type": "execute_result"
    }
   ],
   "source": [
    "train_df, test_df = data612.train_test_split(df)\n",
    "train_df"
   ]
  },
  {
   "cell_type": "code",
   "execution_count": 4,
   "metadata": {
    "ExecuteTime": {
     "end_time": "2020-02-04T02:47:25.572314Z",
     "start_time": "2020-02-04T02:47:25.463444Z"
    }
   },
   "outputs": [
    {
     "data": {
      "text/html": [
       "<div>\n",
       "<style scoped>\n",
       "    .dataframe tbody tr th:only-of-type {\n",
       "        vertical-align: middle;\n",
       "    }\n",
       "\n",
       "    .dataframe tbody tr th {\n",
       "        vertical-align: top;\n",
       "    }\n",
       "\n",
       "    .dataframe thead th {\n",
       "        text-align: right;\n",
       "    }\n",
       "</style>\n",
       "<table border=\"1\" class=\"dataframe\">\n",
       "  <thead>\n",
       "    <tr style=\"text-align: right;\">\n",
       "      <th></th>\n",
       "      <th>1</th>\n",
       "      <th>7</th>\n",
       "      <th>8</th>\n",
       "      <th>13</th>\n",
       "      <th>15</th>\n",
       "      <th>16</th>\n",
       "      <th>17</th>\n",
       "      <th>18</th>\n",
       "      <th>19</th>\n",
       "      <th>20</th>\n",
       "    </tr>\n",
       "  </thead>\n",
       "  <tbody>\n",
       "    <tr>\n",
       "      <th>0</th>\n",
       "      <td>NaN</td>\n",
       "      <td>NaN</td>\n",
       "      <td>NaN</td>\n",
       "      <td>NaN</td>\n",
       "      <td>NaN</td>\n",
       "      <td>NaN</td>\n",
       "      <td>NaN</td>\n",
       "      <td>NaN</td>\n",
       "      <td>NaN</td>\n",
       "      <td>NaN</td>\n",
       "    </tr>\n",
       "    <tr>\n",
       "      <th>1</th>\n",
       "      <td>NaN</td>\n",
       "      <td>NaN</td>\n",
       "      <td>NaN</td>\n",
       "      <td>4.42</td>\n",
       "      <td>NaN</td>\n",
       "      <td>NaN</td>\n",
       "      <td>NaN</td>\n",
       "      <td>-0.68</td>\n",
       "      <td>NaN</td>\n",
       "      <td>NaN</td>\n",
       "    </tr>\n",
       "    <tr>\n",
       "      <th>2</th>\n",
       "      <td>NaN</td>\n",
       "      <td>NaN</td>\n",
       "      <td>NaN</td>\n",
       "      <td>NaN</td>\n",
       "      <td>NaN</td>\n",
       "      <td>NaN</td>\n",
       "      <td>-7.86</td>\n",
       "      <td>NaN</td>\n",
       "      <td>NaN</td>\n",
       "      <td>NaN</td>\n",
       "    </tr>\n",
       "    <tr>\n",
       "      <th>3</th>\n",
       "      <td>NaN</td>\n",
       "      <td>NaN</td>\n",
       "      <td>NaN</td>\n",
       "      <td>NaN</td>\n",
       "      <td>NaN</td>\n",
       "      <td>NaN</td>\n",
       "      <td>NaN</td>\n",
       "      <td>-6.60</td>\n",
       "      <td>NaN</td>\n",
       "      <td>NaN</td>\n",
       "    </tr>\n",
       "    <tr>\n",
       "      <th>4</th>\n",
       "      <td>8.50</td>\n",
       "      <td>NaN</td>\n",
       "      <td>4.61</td>\n",
       "      <td>NaN</td>\n",
       "      <td>NaN</td>\n",
       "      <td>NaN</td>\n",
       "      <td>NaN</td>\n",
       "      <td>NaN</td>\n",
       "      <td>NaN</td>\n",
       "      <td>NaN</td>\n",
       "    </tr>\n",
       "    <tr>\n",
       "      <th>5</th>\n",
       "      <td>NaN</td>\n",
       "      <td>-8.69</td>\n",
       "      <td>NaN</td>\n",
       "      <td>NaN</td>\n",
       "      <td>0.49</td>\n",
       "      <td>NaN</td>\n",
       "      <td>NaN</td>\n",
       "      <td>NaN</td>\n",
       "      <td>NaN</td>\n",
       "      <td>NaN</td>\n",
       "    </tr>\n",
       "    <tr>\n",
       "      <th>6</th>\n",
       "      <td>NaN</td>\n",
       "      <td>NaN</td>\n",
       "      <td>NaN</td>\n",
       "      <td>-6.26</td>\n",
       "      <td>6.07</td>\n",
       "      <td>NaN</td>\n",
       "      <td>NaN</td>\n",
       "      <td>NaN</td>\n",
       "      <td>NaN</td>\n",
       "      <td>4.42</td>\n",
       "    </tr>\n",
       "    <tr>\n",
       "      <th>7</th>\n",
       "      <td>NaN</td>\n",
       "      <td>NaN</td>\n",
       "      <td>1.41</td>\n",
       "      <td>NaN</td>\n",
       "      <td>0.29</td>\n",
       "      <td>NaN</td>\n",
       "      <td>NaN</td>\n",
       "      <td>NaN</td>\n",
       "      <td>NaN</td>\n",
       "      <td>NaN</td>\n",
       "    </tr>\n",
       "    <tr>\n",
       "      <th>8</th>\n",
       "      <td>-3.79</td>\n",
       "      <td>-5.29</td>\n",
       "      <td>-8.93</td>\n",
       "      <td>NaN</td>\n",
       "      <td>NaN</td>\n",
       "      <td>NaN</td>\n",
       "      <td>-8.74</td>\n",
       "      <td>NaN</td>\n",
       "      <td>NaN</td>\n",
       "      <td>NaN</td>\n",
       "    </tr>\n",
       "    <tr>\n",
       "      <th>9</th>\n",
       "      <td>NaN</td>\n",
       "      <td>NaN</td>\n",
       "      <td>2.52</td>\n",
       "      <td>NaN</td>\n",
       "      <td>NaN</td>\n",
       "      <td>-0.97</td>\n",
       "      <td>NaN</td>\n",
       "      <td>NaN</td>\n",
       "      <td>NaN</td>\n",
       "      <td>NaN</td>\n",
       "    </tr>\n",
       "  </tbody>\n",
       "</table>\n",
       "</div>"
      ],
      "text/plain": [
       "     1     7     8     13    15    16    17    18  19    20\n",
       "0   NaN   NaN   NaN   NaN   NaN   NaN   NaN   NaN NaN   NaN\n",
       "1   NaN   NaN   NaN  4.42   NaN   NaN   NaN -0.68 NaN   NaN\n",
       "2   NaN   NaN   NaN   NaN   NaN   NaN -7.86   NaN NaN   NaN\n",
       "3   NaN   NaN   NaN   NaN   NaN   NaN   NaN -6.60 NaN   NaN\n",
       "4  8.50   NaN  4.61   NaN   NaN   NaN   NaN   NaN NaN   NaN\n",
       "5   NaN -8.69   NaN   NaN  0.49   NaN   NaN   NaN NaN   NaN\n",
       "6   NaN   NaN   NaN -6.26  6.07   NaN   NaN   NaN NaN  4.42\n",
       "7   NaN   NaN  1.41   NaN  0.29   NaN   NaN   NaN NaN   NaN\n",
       "8 -3.79 -5.29 -8.93   NaN   NaN   NaN -8.74   NaN NaN   NaN\n",
       "9   NaN   NaN  2.52   NaN   NaN -0.97   NaN   NaN NaN   NaN"
      ]
     },
     "execution_count": 4,
     "metadata": {},
     "output_type": "execute_result"
    }
   ],
   "source": [
    "test_df"
   ]
  },
  {
   "cell_type": "markdown",
   "metadata": {},
   "source": [
    "## Calculate the Average Rating\n",
    "\n",
    "Now that we have a training set we need calculate the raw average (mean) rating for every user-item combination."
   ]
  },
  {
   "cell_type": "code",
   "execution_count": 5,
   "metadata": {
    "ExecuteTime": {
     "end_time": "2020-02-04T02:47:25.679476Z",
     "start_time": "2020-02-04T02:47:25.576303Z"
    }
   },
   "outputs": [
    {
     "data": {
      "text/plain": [
       "-0.8758974358974362"
      ]
     },
     "execution_count": 5,
     "metadata": {},
     "output_type": "execute_result"
    }
   ],
   "source": [
    "raw_avg = train_df.sum(numeric_only=True).sum() / train_df.count().sum(axis = 0)\n",
    "raw_avg"
   ]
  },
  {
   "cell_type": "markdown",
   "metadata": {},
   "source": [
    "This almost negative 1 mean rating indicates most of the jokes are not very funny.\n",
    "\n",
    "### Validation\n",
    "\n",
    "This may seem silly but we will validate the above calulation just to make sure we did it right."
   ]
  },
  {
   "cell_type": "code",
   "execution_count": 6,
   "metadata": {
    "ExecuteTime": {
     "end_time": "2020-02-04T02:47:25.762026Z",
     "start_time": "2020-02-04T02:47:25.685409Z"
    }
   },
   "outputs": [
    {
     "data": {
      "text/plain": [
       "-0.8758974358974354"
      ]
     },
     "execution_count": 6,
     "metadata": {},
     "output_type": "execute_result"
    }
   ],
   "source": [
    "the_avg = (-7.82 - 9.85 + 4.17 - 7.18 - 7.18 - 7.52 - 7.43 - 9.81 - 9.85 - 9.85 + 4.08 - 0.73 - 5.34 + 4.56 - 0.97 + 4.66 + 3.30 - 1.21 + 9.03 + 9.27 + 9.37 - 6.36 - 6.89 + 9.03 + 9.03 + 9.03 - 2.82 + 6.21 + 6.31 - 7.23 - 6.65 + 1.17 - 3.64 - 2.09 + 7.04 - 3.93 - 2.33 - 9.66 + 2.72 - 1.36 + 2.57 + 4.51 - 6.17 - 0.87 - 5.00 - 8.93 - 3.69 - 2.18 - 2.28 - 6.12 + 7.72 + 8.79 - 3.50 - 2.09 + 6.17 + 5.15 + 6.84 + 9.27 - 6.94 - 9.90 - 7.09 - 7.18 + 1.02 - 0.29 - 4.85 - 8.74 - 6.99 - 2.91 - 3.35 - 0.29 + 3.01 + 8.93 + 4.47 - 4.66 - 0.44 + 1.55 + 0.49 + 4.37) / 78\n",
    "the_avg"
   ]
  },
  {
   "cell_type": "markdown",
   "metadata": {
    "ExecuteTime": {
     "end_time": "2020-01-30T14:57:26.088634Z",
     "start_time": "2020-01-30T14:57:26.031406Z"
    }
   },
   "source": [
    "There's a bit of some slight difference but it is after the 12th place.  I'm not going to sweat that.\n",
    "\n",
    "## Calculate the RMSE \n",
    "\n",
    "Now I will calculate the RMSE for raw average for both the training and test data."
   ]
  },
  {
   "cell_type": "code",
   "execution_count": 7,
   "metadata": {
    "ExecuteTime": {
     "end_time": "2020-02-04T02:47:25.873298Z",
     "start_time": "2020-02-04T02:47:25.765851Z"
    }
   },
   "outputs": [
    {
     "data": {
      "text/plain": [
       "6.0313466276882775"
      ]
     },
     "execution_count": 7,
     "metadata": {},
     "output_type": "execute_result"
    }
   ],
   "source": [
    "train_df_RMSE = data612.get_RMSE(train_df, raw_avg)\n",
    "train_df_RMSE"
   ]
  },
  {
   "cell_type": "code",
   "execution_count": 8,
   "metadata": {
    "ExecuteTime": {
     "end_time": "2020-02-04T02:47:25.950073Z",
     "start_time": "2020-02-04T02:47:25.880386Z"
    }
   },
   "outputs": [
    {
     "data": {
      "text/plain": [
       "5.4707428277558865"
      ]
     },
     "execution_count": 8,
     "metadata": {},
     "output_type": "execute_result"
    }
   ],
   "source": [
    "test_df_RMSE = data612.get_RMSE(test_df, raw_avg)\n",
    "test_df_RMSE"
   ]
  },
  {
   "cell_type": "markdown",
   "metadata": {},
   "source": [
    "### Validation\n",
    "\n",
    "I will verify the above calculations.  I will do so on the training data.\n",
    "\n",
    "#### Initial Data Set"
   ]
  },
  {
   "cell_type": "code",
   "execution_count": 9,
   "metadata": {
    "ExecuteTime": {
     "end_time": "2020-02-04T02:47:26.057264Z",
     "start_time": "2020-02-04T02:47:25.955060Z"
    }
   },
   "outputs": [
    {
     "data": {
      "text/html": [
       "<div>\n",
       "<style scoped>\n",
       "    .dataframe tbody tr th:only-of-type {\n",
       "        vertical-align: middle;\n",
       "    }\n",
       "\n",
       "    .dataframe tbody tr th {\n",
       "        vertical-align: top;\n",
       "    }\n",
       "\n",
       "    .dataframe thead th {\n",
       "        text-align: right;\n",
       "    }\n",
       "</style>\n",
       "<table border=\"1\" class=\"dataframe\">\n",
       "  <thead>\n",
       "    <tr style=\"text-align: right;\">\n",
       "      <th></th>\n",
       "      <th>1</th>\n",
       "      <th>7</th>\n",
       "      <th>8</th>\n",
       "      <th>13</th>\n",
       "      <th>15</th>\n",
       "      <th>16</th>\n",
       "      <th>17</th>\n",
       "      <th>18</th>\n",
       "      <th>19</th>\n",
       "      <th>20</th>\n",
       "    </tr>\n",
       "  </thead>\n",
       "  <tbody>\n",
       "    <tr>\n",
       "      <th>0</th>\n",
       "      <td>-7.82</td>\n",
       "      <td>-9.85</td>\n",
       "      <td>4.17</td>\n",
       "      <td>-7.18</td>\n",
       "      <td>-7.18</td>\n",
       "      <td>-7.52</td>\n",
       "      <td>-7.43</td>\n",
       "      <td>-9.81</td>\n",
       "      <td>-9.85</td>\n",
       "      <td>-9.85</td>\n",
       "    </tr>\n",
       "    <tr>\n",
       "      <th>1</th>\n",
       "      <td>4.08</td>\n",
       "      <td>-0.73</td>\n",
       "      <td>-5.34</td>\n",
       "      <td>NaN</td>\n",
       "      <td>4.56</td>\n",
       "      <td>-0.97</td>\n",
       "      <td>4.66</td>\n",
       "      <td>NaN</td>\n",
       "      <td>3.30</td>\n",
       "      <td>-1.21</td>\n",
       "    </tr>\n",
       "    <tr>\n",
       "      <th>2</th>\n",
       "      <td>NaN</td>\n",
       "      <td>9.03</td>\n",
       "      <td>9.27</td>\n",
       "      <td>9.37</td>\n",
       "      <td>-6.36</td>\n",
       "      <td>-6.89</td>\n",
       "      <td>NaN</td>\n",
       "      <td>9.03</td>\n",
       "      <td>9.03</td>\n",
       "      <td>9.03</td>\n",
       "    </tr>\n",
       "    <tr>\n",
       "      <th>3</th>\n",
       "      <td>NaN</td>\n",
       "      <td>-2.82</td>\n",
       "      <td>6.21</td>\n",
       "      <td>6.31</td>\n",
       "      <td>-7.23</td>\n",
       "      <td>-6.65</td>\n",
       "      <td>1.17</td>\n",
       "      <td>NaN</td>\n",
       "      <td>-3.64</td>\n",
       "      <td>-2.09</td>\n",
       "    </tr>\n",
       "    <tr>\n",
       "      <th>4</th>\n",
       "      <td>NaN</td>\n",
       "      <td>7.04</td>\n",
       "      <td>NaN</td>\n",
       "      <td>-3.93</td>\n",
       "      <td>-2.33</td>\n",
       "      <td>-9.66</td>\n",
       "      <td>2.72</td>\n",
       "      <td>-1.36</td>\n",
       "      <td>2.57</td>\n",
       "      <td>4.51</td>\n",
       "    </tr>\n",
       "    <tr>\n",
       "      <th>5</th>\n",
       "      <td>-6.17</td>\n",
       "      <td>NaN</td>\n",
       "      <td>-0.87</td>\n",
       "      <td>-5.00</td>\n",
       "      <td>NaN</td>\n",
       "      <td>-8.93</td>\n",
       "      <td>-3.69</td>\n",
       "      <td>-2.18</td>\n",
       "      <td>-2.28</td>\n",
       "      <td>-6.12</td>\n",
       "    </tr>\n",
       "    <tr>\n",
       "      <th>6</th>\n",
       "      <td>NaN</td>\n",
       "      <td>7.72</td>\n",
       "      <td>8.79</td>\n",
       "      <td>NaN</td>\n",
       "      <td>NaN</td>\n",
       "      <td>-3.50</td>\n",
       "      <td>-2.09</td>\n",
       "      <td>6.17</td>\n",
       "      <td>5.15</td>\n",
       "      <td>NaN</td>\n",
       "    </tr>\n",
       "    <tr>\n",
       "      <th>7</th>\n",
       "      <td>6.84</td>\n",
       "      <td>9.27</td>\n",
       "      <td>NaN</td>\n",
       "      <td>-6.94</td>\n",
       "      <td>NaN</td>\n",
       "      <td>-9.90</td>\n",
       "      <td>-7.09</td>\n",
       "      <td>-7.18</td>\n",
       "      <td>1.02</td>\n",
       "      <td>-0.29</td>\n",
       "    </tr>\n",
       "    <tr>\n",
       "      <th>8</th>\n",
       "      <td>NaN</td>\n",
       "      <td>NaN</td>\n",
       "      <td>NaN</td>\n",
       "      <td>-4.85</td>\n",
       "      <td>-8.74</td>\n",
       "      <td>-6.99</td>\n",
       "      <td>NaN</td>\n",
       "      <td>-2.91</td>\n",
       "      <td>-3.35</td>\n",
       "      <td>-0.29</td>\n",
       "    </tr>\n",
       "    <tr>\n",
       "      <th>9</th>\n",
       "      <td>3.01</td>\n",
       "      <td>8.93</td>\n",
       "      <td>NaN</td>\n",
       "      <td>4.47</td>\n",
       "      <td>-4.66</td>\n",
       "      <td>NaN</td>\n",
       "      <td>-0.44</td>\n",
       "      <td>1.55</td>\n",
       "      <td>0.49</td>\n",
       "      <td>4.37</td>\n",
       "    </tr>\n",
       "  </tbody>\n",
       "</table>\n",
       "</div>"
      ],
      "text/plain": [
       "     1     7     8     13    15    16    17    18    19    20\n",
       "0 -7.82 -9.85  4.17 -7.18 -7.18 -7.52 -7.43 -9.81 -9.85 -9.85\n",
       "1  4.08 -0.73 -5.34   NaN  4.56 -0.97  4.66   NaN  3.30 -1.21\n",
       "2   NaN  9.03  9.27  9.37 -6.36 -6.89   NaN  9.03  9.03  9.03\n",
       "3   NaN -2.82  6.21  6.31 -7.23 -6.65  1.17   NaN -3.64 -2.09\n",
       "4   NaN  7.04   NaN -3.93 -2.33 -9.66  2.72 -1.36  2.57  4.51\n",
       "5 -6.17   NaN -0.87 -5.00   NaN -8.93 -3.69 -2.18 -2.28 -6.12\n",
       "6   NaN  7.72  8.79   NaN   NaN -3.50 -2.09  6.17  5.15   NaN\n",
       "7  6.84  9.27   NaN -6.94   NaN -9.90 -7.09 -7.18  1.02 -0.29\n",
       "8   NaN   NaN   NaN -4.85 -8.74 -6.99   NaN -2.91 -3.35 -0.29\n",
       "9  3.01  8.93   NaN  4.47 -4.66   NaN -0.44  1.55  0.49  4.37"
      ]
     },
     "execution_count": 9,
     "metadata": {},
     "output_type": "execute_result"
    }
   ],
   "source": [
    "train_df"
   ]
  },
  {
   "cell_type": "markdown",
   "metadata": {},
   "source": [
    "#### Prediction Error\n",
    "\n",
    "Adjusting the initial data by the prediction to yeild the error"
   ]
  },
  {
   "cell_type": "code",
   "execution_count": 10,
   "metadata": {
    "ExecuteTime": {
     "end_time": "2020-02-04T02:47:26.164632Z",
     "start_time": "2020-02-04T02:47:26.061448Z"
    }
   },
   "outputs": [
    {
     "data": {
      "text/html": [
       "<div>\n",
       "<style scoped>\n",
       "    .dataframe tbody tr th:only-of-type {\n",
       "        vertical-align: middle;\n",
       "    }\n",
       "\n",
       "    .dataframe tbody tr th {\n",
       "        vertical-align: top;\n",
       "    }\n",
       "\n",
       "    .dataframe thead th {\n",
       "        text-align: right;\n",
       "    }\n",
       "</style>\n",
       "<table border=\"1\" class=\"dataframe\">\n",
       "  <thead>\n",
       "    <tr style=\"text-align: right;\">\n",
       "      <th></th>\n",
       "      <th>1</th>\n",
       "      <th>7</th>\n",
       "      <th>8</th>\n",
       "      <th>13</th>\n",
       "      <th>15</th>\n",
       "      <th>16</th>\n",
       "      <th>17</th>\n",
       "      <th>18</th>\n",
       "      <th>19</th>\n",
       "      <th>20</th>\n",
       "    </tr>\n",
       "  </thead>\n",
       "  <tbody>\n",
       "    <tr>\n",
       "      <th>0</th>\n",
       "      <td>-6.944103</td>\n",
       "      <td>-8.974103</td>\n",
       "      <td>5.045897</td>\n",
       "      <td>-6.304103</td>\n",
       "      <td>-6.304103</td>\n",
       "      <td>-6.644103</td>\n",
       "      <td>-6.554103</td>\n",
       "      <td>-8.934103</td>\n",
       "      <td>-8.974103</td>\n",
       "      <td>-8.974103</td>\n",
       "    </tr>\n",
       "    <tr>\n",
       "      <th>1</th>\n",
       "      <td>4.955897</td>\n",
       "      <td>0.145897</td>\n",
       "      <td>-4.464103</td>\n",
       "      <td>NaN</td>\n",
       "      <td>5.435897</td>\n",
       "      <td>-0.094103</td>\n",
       "      <td>5.535897</td>\n",
       "      <td>NaN</td>\n",
       "      <td>4.175897</td>\n",
       "      <td>-0.334103</td>\n",
       "    </tr>\n",
       "    <tr>\n",
       "      <th>2</th>\n",
       "      <td>NaN</td>\n",
       "      <td>9.905897</td>\n",
       "      <td>10.145897</td>\n",
       "      <td>10.245897</td>\n",
       "      <td>-5.484103</td>\n",
       "      <td>-6.014103</td>\n",
       "      <td>NaN</td>\n",
       "      <td>9.905897</td>\n",
       "      <td>9.905897</td>\n",
       "      <td>9.905897</td>\n",
       "    </tr>\n",
       "    <tr>\n",
       "      <th>3</th>\n",
       "      <td>NaN</td>\n",
       "      <td>-1.944103</td>\n",
       "      <td>7.085897</td>\n",
       "      <td>7.185897</td>\n",
       "      <td>-6.354103</td>\n",
       "      <td>-5.774103</td>\n",
       "      <td>2.045897</td>\n",
       "      <td>NaN</td>\n",
       "      <td>-2.764103</td>\n",
       "      <td>-1.214103</td>\n",
       "    </tr>\n",
       "    <tr>\n",
       "      <th>4</th>\n",
       "      <td>NaN</td>\n",
       "      <td>7.915897</td>\n",
       "      <td>NaN</td>\n",
       "      <td>-3.054103</td>\n",
       "      <td>-1.454103</td>\n",
       "      <td>-8.784103</td>\n",
       "      <td>3.595897</td>\n",
       "      <td>-0.484103</td>\n",
       "      <td>3.445897</td>\n",
       "      <td>5.385897</td>\n",
       "    </tr>\n",
       "    <tr>\n",
       "      <th>5</th>\n",
       "      <td>-5.294103</td>\n",
       "      <td>NaN</td>\n",
       "      <td>0.005897</td>\n",
       "      <td>-4.124103</td>\n",
       "      <td>NaN</td>\n",
       "      <td>-8.054103</td>\n",
       "      <td>-2.814103</td>\n",
       "      <td>-1.304103</td>\n",
       "      <td>-1.404103</td>\n",
       "      <td>-5.244103</td>\n",
       "    </tr>\n",
       "    <tr>\n",
       "      <th>6</th>\n",
       "      <td>NaN</td>\n",
       "      <td>8.595897</td>\n",
       "      <td>9.665897</td>\n",
       "      <td>NaN</td>\n",
       "      <td>NaN</td>\n",
       "      <td>-2.624103</td>\n",
       "      <td>-1.214103</td>\n",
       "      <td>7.045897</td>\n",
       "      <td>6.025897</td>\n",
       "      <td>NaN</td>\n",
       "    </tr>\n",
       "    <tr>\n",
       "      <th>7</th>\n",
       "      <td>7.715897</td>\n",
       "      <td>10.145897</td>\n",
       "      <td>NaN</td>\n",
       "      <td>-6.064103</td>\n",
       "      <td>NaN</td>\n",
       "      <td>-9.024103</td>\n",
       "      <td>-6.214103</td>\n",
       "      <td>-6.304103</td>\n",
       "      <td>1.895897</td>\n",
       "      <td>0.585897</td>\n",
       "    </tr>\n",
       "    <tr>\n",
       "      <th>8</th>\n",
       "      <td>NaN</td>\n",
       "      <td>NaN</td>\n",
       "      <td>NaN</td>\n",
       "      <td>-3.974103</td>\n",
       "      <td>-7.864103</td>\n",
       "      <td>-6.114103</td>\n",
       "      <td>NaN</td>\n",
       "      <td>-2.034103</td>\n",
       "      <td>-2.474103</td>\n",
       "      <td>0.585897</td>\n",
       "    </tr>\n",
       "    <tr>\n",
       "      <th>9</th>\n",
       "      <td>3.885897</td>\n",
       "      <td>9.805897</td>\n",
       "      <td>NaN</td>\n",
       "      <td>5.345897</td>\n",
       "      <td>-3.784103</td>\n",
       "      <td>NaN</td>\n",
       "      <td>0.435897</td>\n",
       "      <td>2.425897</td>\n",
       "      <td>1.365897</td>\n",
       "      <td>5.245897</td>\n",
       "    </tr>\n",
       "  </tbody>\n",
       "</table>\n",
       "</div>"
      ],
      "text/plain": [
       "         1          7          8          13        15        16        17  \\\n",
       "0 -6.944103  -8.974103   5.045897  -6.304103 -6.304103 -6.644103 -6.554103   \n",
       "1  4.955897   0.145897  -4.464103        NaN  5.435897 -0.094103  5.535897   \n",
       "2       NaN   9.905897  10.145897  10.245897 -5.484103 -6.014103       NaN   \n",
       "3       NaN  -1.944103   7.085897   7.185897 -6.354103 -5.774103  2.045897   \n",
       "4       NaN   7.915897        NaN  -3.054103 -1.454103 -8.784103  3.595897   \n",
       "5 -5.294103        NaN   0.005897  -4.124103       NaN -8.054103 -2.814103   \n",
       "6       NaN   8.595897   9.665897        NaN       NaN -2.624103 -1.214103   \n",
       "7  7.715897  10.145897        NaN  -6.064103       NaN -9.024103 -6.214103   \n",
       "8       NaN        NaN        NaN  -3.974103 -7.864103 -6.114103       NaN   \n",
       "9  3.885897   9.805897        NaN   5.345897 -3.784103       NaN  0.435897   \n",
       "\n",
       "         18        19        20  \n",
       "0 -8.934103 -8.974103 -8.974103  \n",
       "1       NaN  4.175897 -0.334103  \n",
       "2  9.905897  9.905897  9.905897  \n",
       "3       NaN -2.764103 -1.214103  \n",
       "4 -0.484103  3.445897  5.385897  \n",
       "5 -1.304103 -1.404103 -5.244103  \n",
       "6  7.045897  6.025897       NaN  \n",
       "7 -6.304103  1.895897  0.585897  \n",
       "8 -2.034103 -2.474103  0.585897  \n",
       "9  2.425897  1.365897  5.245897  "
      ]
     },
     "execution_count": 10,
     "metadata": {},
     "output_type": "execute_result"
    }
   ],
   "source": [
    "error_df = train_df - raw_avg\n",
    "error_df"
   ]
  },
  {
   "cell_type": "markdown",
   "metadata": {},
   "source": [
    "#### Squared Prediction Error\n",
    "\n",
    "Now we square the prediction error"
   ]
  },
  {
   "cell_type": "code",
   "execution_count": 11,
   "metadata": {
    "ExecuteTime": {
     "end_time": "2020-02-04T02:47:26.323489Z",
     "start_time": "2020-02-04T02:47:26.168659Z"
    }
   },
   "outputs": [
    {
     "data": {
      "text/html": [
       "<div>\n",
       "<style scoped>\n",
       "    .dataframe tbody tr th:only-of-type {\n",
       "        vertical-align: middle;\n",
       "    }\n",
       "\n",
       "    .dataframe tbody tr th {\n",
       "        vertical-align: top;\n",
       "    }\n",
       "\n",
       "    .dataframe thead th {\n",
       "        text-align: right;\n",
       "    }\n",
       "</style>\n",
       "<table border=\"1\" class=\"dataframe\">\n",
       "  <thead>\n",
       "    <tr style=\"text-align: right;\">\n",
       "      <th></th>\n",
       "      <th>1</th>\n",
       "      <th>7</th>\n",
       "      <th>8</th>\n",
       "      <th>13</th>\n",
       "      <th>15</th>\n",
       "      <th>16</th>\n",
       "      <th>17</th>\n",
       "      <th>18</th>\n",
       "      <th>19</th>\n",
       "      <th>20</th>\n",
       "    </tr>\n",
       "  </thead>\n",
       "  <tbody>\n",
       "    <tr>\n",
       "      <th>0</th>\n",
       "      <td>48.220560</td>\n",
       "      <td>80.534517</td>\n",
       "      <td>25.461081</td>\n",
       "      <td>39.741709</td>\n",
       "      <td>39.741709</td>\n",
       "      <td>44.144099</td>\n",
       "      <td>42.956260</td>\n",
       "      <td>79.818189</td>\n",
       "      <td>80.534517</td>\n",
       "      <td>80.534517</td>\n",
       "    </tr>\n",
       "    <tr>\n",
       "      <th>1</th>\n",
       "      <td>24.560919</td>\n",
       "      <td>0.021286</td>\n",
       "      <td>19.928212</td>\n",
       "      <td>NaN</td>\n",
       "      <td>29.548981</td>\n",
       "      <td>0.008855</td>\n",
       "      <td>30.646160</td>\n",
       "      <td>NaN</td>\n",
       "      <td>17.438119</td>\n",
       "      <td>0.111625</td>\n",
       "    </tr>\n",
       "    <tr>\n",
       "      <th>2</th>\n",
       "      <td>NaN</td>\n",
       "      <td>98.126804</td>\n",
       "      <td>102.939235</td>\n",
       "      <td>104.978414</td>\n",
       "      <td>30.075381</td>\n",
       "      <td>36.169430</td>\n",
       "      <td>NaN</td>\n",
       "      <td>98.126804</td>\n",
       "      <td>98.126804</td>\n",
       "      <td>98.126804</td>\n",
       "    </tr>\n",
       "    <tr>\n",
       "      <th>3</th>\n",
       "      <td>NaN</td>\n",
       "      <td>3.779535</td>\n",
       "      <td>50.209942</td>\n",
       "      <td>51.637122</td>\n",
       "      <td>40.374619</td>\n",
       "      <td>33.340260</td>\n",
       "      <td>4.185696</td>\n",
       "      <td>NaN</td>\n",
       "      <td>7.640263</td>\n",
       "      <td>1.474045</td>\n",
       "    </tr>\n",
       "    <tr>\n",
       "      <th>4</th>\n",
       "      <td>NaN</td>\n",
       "      <td>62.661432</td>\n",
       "      <td>NaN</td>\n",
       "      <td>9.327542</td>\n",
       "      <td>2.114414</td>\n",
       "      <td>77.160458</td>\n",
       "      <td>12.930478</td>\n",
       "      <td>0.234355</td>\n",
       "      <td>11.874209</td>\n",
       "      <td>29.007891</td>\n",
       "    </tr>\n",
       "    <tr>\n",
       "      <th>5</th>\n",
       "      <td>28.027522</td>\n",
       "      <td>NaN</td>\n",
       "      <td>0.000035</td>\n",
       "      <td>17.008222</td>\n",
       "      <td>NaN</td>\n",
       "      <td>64.868568</td>\n",
       "      <td>7.919173</td>\n",
       "      <td>1.700683</td>\n",
       "      <td>1.971504</td>\n",
       "      <td>27.500612</td>\n",
       "    </tr>\n",
       "    <tr>\n",
       "      <th>6</th>\n",
       "      <td>NaN</td>\n",
       "      <td>73.889453</td>\n",
       "      <td>93.429573</td>\n",
       "      <td>NaN</td>\n",
       "      <td>NaN</td>\n",
       "      <td>6.885914</td>\n",
       "      <td>1.474045</td>\n",
       "      <td>49.644671</td>\n",
       "      <td>36.311440</td>\n",
       "      <td>NaN</td>\n",
       "    </tr>\n",
       "    <tr>\n",
       "      <th>7</th>\n",
       "      <td>59.535073</td>\n",
       "      <td>102.939235</td>\n",
       "      <td>NaN</td>\n",
       "      <td>36.773340</td>\n",
       "      <td>NaN</td>\n",
       "      <td>81.434427</td>\n",
       "      <td>38.615071</td>\n",
       "      <td>39.741709</td>\n",
       "      <td>3.594427</td>\n",
       "      <td>0.343276</td>\n",
       "    </tr>\n",
       "    <tr>\n",
       "      <th>8</th>\n",
       "      <td>NaN</td>\n",
       "      <td>NaN</td>\n",
       "      <td>NaN</td>\n",
       "      <td>15.793491</td>\n",
       "      <td>61.844109</td>\n",
       "      <td>37.382250</td>\n",
       "      <td>NaN</td>\n",
       "      <td>4.137573</td>\n",
       "      <td>6.121183</td>\n",
       "      <td>0.343276</td>\n",
       "    </tr>\n",
       "    <tr>\n",
       "      <th>9</th>\n",
       "      <td>15.100199</td>\n",
       "      <td>96.155625</td>\n",
       "      <td>NaN</td>\n",
       "      <td>28.578619</td>\n",
       "      <td>14.319432</td>\n",
       "      <td>NaN</td>\n",
       "      <td>0.190007</td>\n",
       "      <td>5.884978</td>\n",
       "      <td>1.865676</td>\n",
       "      <td>27.519440</td>\n",
       "    </tr>\n",
       "  </tbody>\n",
       "</table>\n",
       "</div>"
      ],
      "text/plain": [
       "          1           7           8           13         15         16  \\\n",
       "0  48.220560   80.534517   25.461081   39.741709  39.741709  44.144099   \n",
       "1  24.560919    0.021286   19.928212         NaN  29.548981   0.008855   \n",
       "2        NaN   98.126804  102.939235  104.978414  30.075381  36.169430   \n",
       "3        NaN    3.779535   50.209942   51.637122  40.374619  33.340260   \n",
       "4        NaN   62.661432         NaN    9.327542   2.114414  77.160458   \n",
       "5  28.027522         NaN    0.000035   17.008222        NaN  64.868568   \n",
       "6        NaN   73.889453   93.429573         NaN        NaN   6.885914   \n",
       "7  59.535073  102.939235         NaN   36.773340        NaN  81.434427   \n",
       "8        NaN         NaN         NaN   15.793491  61.844109  37.382250   \n",
       "9  15.100199   96.155625         NaN   28.578619  14.319432        NaN   \n",
       "\n",
       "          17         18         19         20  \n",
       "0  42.956260  79.818189  80.534517  80.534517  \n",
       "1  30.646160        NaN  17.438119   0.111625  \n",
       "2        NaN  98.126804  98.126804  98.126804  \n",
       "3   4.185696        NaN   7.640263   1.474045  \n",
       "4  12.930478   0.234355  11.874209  29.007891  \n",
       "5   7.919173   1.700683   1.971504  27.500612  \n",
       "6   1.474045  49.644671  36.311440        NaN  \n",
       "7  38.615071  39.741709   3.594427   0.343276  \n",
       "8        NaN   4.137573   6.121183   0.343276  \n",
       "9   0.190007   5.884978   1.865676  27.519440  "
      ]
     },
     "execution_count": 11,
     "metadata": {},
     "output_type": "execute_result"
    }
   ],
   "source": [
    "squared_error_df = error_df ** 2\n",
    "squared_error_df"
   ]
  },
  {
   "cell_type": "markdown",
   "metadata": {},
   "source": [
    "#### Average the Square Errors\n",
    "\n",
    "Now we will get the mean of the squared errors"
   ]
  },
  {
   "cell_type": "code",
   "execution_count": 12,
   "metadata": {
    "ExecuteTime": {
     "end_time": "2020-02-04T02:47:26.428781Z",
     "start_time": "2020-02-04T02:47:26.328872Z"
    }
   },
   "outputs": [
    {
     "data": {
      "text/plain": [
       "36.37714214332676"
      ]
     },
     "execution_count": 12,
     "metadata": {},
     "output_type": "execute_result"
    }
   ],
   "source": [
    "mean_squared_errors = squared_error_df.stack().mean()\n",
    "mean_squared_errors"
   ]
  },
  {
   "cell_type": "markdown",
   "metadata": {},
   "source": [
    "#### Root Mean Square Errors\n",
    "\n",
    "Finally we will take the square root of the mean squared errors"
   ]
  },
  {
   "cell_type": "code",
   "execution_count": 13,
   "metadata": {
    "ExecuteTime": {
     "end_time": "2020-02-04T02:47:26.608866Z",
     "start_time": "2020-02-04T02:47:26.432085Z"
    }
   },
   "outputs": [
    {
     "data": {
      "text/plain": [
       "6.0313466276882775"
      ]
     },
     "execution_count": 13,
     "metadata": {},
     "output_type": "execute_result"
    }
   ],
   "source": [
    "RMSE = mean_squared_errors ** (1/2)\n",
    "RMSE"
   ]
  },
  {
   "cell_type": "markdown",
   "metadata": {},
   "source": [
    "#### Check Results\n",
    "\n",
    "Now to check these results with what we got previously"
   ]
  },
  {
   "cell_type": "code",
   "execution_count": 14,
   "metadata": {
    "ExecuteTime": {
     "end_time": "2020-02-04T02:47:26.685404Z",
     "start_time": "2020-02-04T02:47:26.614804Z"
    }
   },
   "outputs": [
    {
     "name": "stdout",
     "output_type": "stream",
     "text": [
      "Everything is awesome\n"
     ]
    }
   ],
   "source": [
    "if RMSE == train_df_RMSE:\n",
    "    print(\"Everything is awesome\")\n",
    "else:\n",
    "    print(\"Something bad happened\")"
   ]
  },
  {
   "cell_type": "markdown",
   "metadata": {},
   "source": [
    "## Calculate the Biases\n",
    "\n",
    "We now can calculate the user and item biases"
   ]
  },
  {
   "cell_type": "code",
   "execution_count": 15,
   "metadata": {
    "ExecuteTime": {
     "end_time": "2020-02-04T02:47:26.806889Z",
     "start_time": "2020-02-04T02:47:26.688464Z"
    }
   },
   "outputs": [],
   "source": [
    "user_bias_train_df, item_bias_train_df = data612.get_biases(train_df, raw_avg)"
   ]
  },
  {
   "cell_type": "markdown",
   "metadata": {},
   "source": [
    "### Validation\n",
    "\n",
    "Now to validate the biases calculations\n",
    "\n",
    "#### User Bias\n",
    "\n",
    "We will compute the bias for the first user.  If it is right for one it is right for all."
   ]
  },
  {
   "cell_type": "code",
   "execution_count": 16,
   "metadata": {
    "ExecuteTime": {
     "end_time": "2020-02-04T02:47:26.944786Z",
     "start_time": "2020-02-04T02:47:26.812822Z"
    }
   },
   "outputs": [
    {
     "data": {
      "text/plain": [
       "1    -7.82\n",
       "7    -9.85\n",
       "8     4.17\n",
       "13   -7.18\n",
       "15   -7.18\n",
       "16   -7.52\n",
       "17   -7.43\n",
       "18   -9.81\n",
       "19   -9.85\n",
       "20   -9.85\n",
       "Name: 0, dtype: float64"
      ]
     },
     "execution_count": 16,
     "metadata": {},
     "output_type": "execute_result"
    }
   ],
   "source": [
    "train_df.loc[0]"
   ]
  },
  {
   "cell_type": "code",
   "execution_count": 17,
   "metadata": {
    "ExecuteTime": {
     "end_time": "2020-02-04T02:47:27.016841Z",
     "start_time": "2020-02-04T02:47:26.950863Z"
    }
   },
   "outputs": [
    {
     "data": {
      "text/plain": [
       "-6.356102564102563"
      ]
     },
     "execution_count": 17,
     "metadata": {},
     "output_type": "execute_result"
    }
   ],
   "source": [
    "user_0_avg = (-7.82 -9.85 + 4.17 - 7.18 - 7.18 -7.52 - 7.43 - 9.81 - 9.85 - 9.85) / 10\n",
    "user_0_bias = user_0_avg - raw_avg\n",
    "user_0_bias"
   ]
  },
  {
   "cell_type": "markdown",
   "metadata": {},
   "source": [
    "Looks like the first user was not very impressed by the jokes.  Let's see if the calculations match:"
   ]
  },
  {
   "cell_type": "code",
   "execution_count": 18,
   "metadata": {
    "ExecuteTime": {
     "end_time": "2020-02-04T02:47:27.104530Z",
     "start_time": "2020-02-04T02:47:27.020829Z"
    }
   },
   "outputs": [
    {
     "name": "stdout",
     "output_type": "stream",
     "text": [
      "Everything is awesome\n"
     ]
    }
   ],
   "source": [
    "if user_bias_train_df[0] == user_0_bias:\n",
    "    print(\"Everything is awesome\")\n",
    "else:\n",
    "    print(\"Something bad happened\")"
   ]
  },
  {
   "cell_type": "markdown",
   "metadata": {},
   "source": [
    "It matches.\n",
    "\n",
    "#### Item Bias\n",
    "\n",
    "Now let's see how the first joke fared."
   ]
  },
  {
   "cell_type": "code",
   "execution_count": 19,
   "metadata": {
    "ExecuteTime": {
     "end_time": "2020-02-04T02:47:27.197162Z",
     "start_time": "2020-02-04T02:47:27.111449Z"
    }
   },
   "outputs": [
    {
     "data": {
      "text/plain": [
       "0   -7.82\n",
       "1    4.08\n",
       "2     NaN\n",
       "3     NaN\n",
       "4     NaN\n",
       "5   -6.17\n",
       "6     NaN\n",
       "7    6.84\n",
       "8     NaN\n",
       "9    3.01\n",
       "Name: 1, dtype: float64"
      ]
     },
     "execution_count": 19,
     "metadata": {},
     "output_type": "execute_result"
    }
   ],
   "source": [
    "train_df.iloc[:,0]"
   ]
  },
  {
   "cell_type": "code",
   "execution_count": 20,
   "metadata": {
    "ExecuteTime": {
     "end_time": "2020-02-04T02:47:27.281876Z",
     "start_time": "2020-02-04T02:47:27.202347Z"
    }
   },
   "outputs": [
    {
     "data": {
      "text/plain": [
       "0.8638974358974361"
      ]
     },
     "execution_count": 20,
     "metadata": {},
     "output_type": "execute_result"
    }
   ],
   "source": [
    "item_1_avg = (-7.82 + 4.08 - 6.17 + 6.84 + 3.01) / 5\n",
    "item_1_bias = item_1_avg - raw_avg\n",
    "item_1_bias"
   ]
  },
  {
   "cell_type": "markdown",
   "metadata": {},
   "source": [
    "This joke did slighly better than the mean."
   ]
  },
  {
   "cell_type": "code",
   "execution_count": 21,
   "metadata": {
    "ExecuteTime": {
     "end_time": "2020-02-04T02:47:27.358274Z",
     "start_time": "2020-02-04T02:47:27.286300Z"
    }
   },
   "outputs": [
    {
     "name": "stdout",
     "output_type": "stream",
     "text": [
      "Everything is awesome\n"
     ]
    }
   ],
   "source": [
    "if item_bias_train_df[1] == item_1_bias:\n",
    "    print(\"Everything is awesome\")\n",
    "else:\n",
    "    print(\"Something bad happened\")"
   ]
  },
  {
   "cell_type": "markdown",
   "metadata": {},
   "source": [
    "## Baseline Predictors\n",
    "\n",
    "Now we can make our baseline predictions."
   ]
  },
  {
   "cell_type": "code",
   "execution_count": 22,
   "metadata": {
    "ExecuteTime": {
     "end_time": "2020-02-04T02:47:27.544514Z",
     "start_time": "2020-02-04T02:47:27.362076Z"
    }
   },
   "outputs": [
    {
     "data": {
      "text/html": [
       "<div>\n",
       "<style scoped>\n",
       "    .dataframe tbody tr th:only-of-type {\n",
       "        vertical-align: middle;\n",
       "    }\n",
       "\n",
       "    .dataframe tbody tr th {\n",
       "        vertical-align: top;\n",
       "    }\n",
       "\n",
       "    .dataframe thead th {\n",
       "        text-align: right;\n",
       "    }\n",
       "</style>\n",
       "<table border=\"1\" class=\"dataframe\">\n",
       "  <thead>\n",
       "    <tr style=\"text-align: right;\">\n",
       "      <th></th>\n",
       "      <th>1</th>\n",
       "      <th>7</th>\n",
       "      <th>8</th>\n",
       "      <th>13</th>\n",
       "      <th>15</th>\n",
       "      <th>16</th>\n",
       "      <th>17</th>\n",
       "      <th>18</th>\n",
       "      <th>19</th>\n",
       "      <th>20</th>\n",
       "    </tr>\n",
       "  </thead>\n",
       "  <tbody>\n",
       "    <tr>\n",
       "      <th>0</th>\n",
       "      <td>-6</td>\n",
       "      <td>-3</td>\n",
       "      <td>-3</td>\n",
       "      <td>-7</td>\n",
       "      <td>-10</td>\n",
       "      <td>-10</td>\n",
       "      <td>-8</td>\n",
       "      <td>-7</td>\n",
       "      <td>-6</td>\n",
       "      <td>-7</td>\n",
       "    </tr>\n",
       "    <tr>\n",
       "      <th>1</th>\n",
       "      <td>2</td>\n",
       "      <td>5</td>\n",
       "      <td>6</td>\n",
       "      <td>1</td>\n",
       "      <td>-3</td>\n",
       "      <td>-5</td>\n",
       "      <td>0</td>\n",
       "      <td>1</td>\n",
       "      <td>2</td>\n",
       "      <td>2</td>\n",
       "    </tr>\n",
       "    <tr>\n",
       "      <th>2</th>\n",
       "      <td>6</td>\n",
       "      <td>10</td>\n",
       "      <td>10</td>\n",
       "      <td>5</td>\n",
       "      <td>2</td>\n",
       "      <td>-1</td>\n",
       "      <td>5</td>\n",
       "      <td>5</td>\n",
       "      <td>6</td>\n",
       "      <td>6</td>\n",
       "    </tr>\n",
       "    <tr>\n",
       "      <th>3</th>\n",
       "      <td>0</td>\n",
       "      <td>3</td>\n",
       "      <td>3</td>\n",
       "      <td>-1</td>\n",
       "      <td>-5</td>\n",
       "      <td>-7</td>\n",
       "      <td>-2</td>\n",
       "      <td>-1</td>\n",
       "      <td>0</td>\n",
       "      <td>0</td>\n",
       "    </tr>\n",
       "    <tr>\n",
       "      <th>4</th>\n",
       "      <td>1</td>\n",
       "      <td>4</td>\n",
       "      <td>5</td>\n",
       "      <td>0</td>\n",
       "      <td>-4</td>\n",
       "      <td>-6</td>\n",
       "      <td>-1</td>\n",
       "      <td>0</td>\n",
       "      <td>1</td>\n",
       "      <td>1</td>\n",
       "    </tr>\n",
       "    <tr>\n",
       "      <th>5</th>\n",
       "      <td>-4</td>\n",
       "      <td>0</td>\n",
       "      <td>0</td>\n",
       "      <td>-4</td>\n",
       "      <td>-8</td>\n",
       "      <td>-10</td>\n",
       "      <td>-5</td>\n",
       "      <td>-4</td>\n",
       "      <td>-3</td>\n",
       "      <td>-4</td>\n",
       "    </tr>\n",
       "    <tr>\n",
       "      <th>6</th>\n",
       "      <td>5</td>\n",
       "      <td>8</td>\n",
       "      <td>8</td>\n",
       "      <td>4</td>\n",
       "      <td>0</td>\n",
       "      <td>-2</td>\n",
       "      <td>3</td>\n",
       "      <td>4</td>\n",
       "      <td>5</td>\n",
       "      <td>4</td>\n",
       "    </tr>\n",
       "    <tr>\n",
       "      <th>7</th>\n",
       "      <td>-1</td>\n",
       "      <td>3</td>\n",
       "      <td>3</td>\n",
       "      <td>-2</td>\n",
       "      <td>-5</td>\n",
       "      <td>-8</td>\n",
       "      <td>-2</td>\n",
       "      <td>-2</td>\n",
       "      <td>-1</td>\n",
       "      <td>-1</td>\n",
       "    </tr>\n",
       "    <tr>\n",
       "      <th>8</th>\n",
       "      <td>-4</td>\n",
       "      <td>0</td>\n",
       "      <td>0</td>\n",
       "      <td>-5</td>\n",
       "      <td>-8</td>\n",
       "      <td>-10</td>\n",
       "      <td>-5</td>\n",
       "      <td>-4</td>\n",
       "      <td>-3</td>\n",
       "      <td>-4</td>\n",
       "    </tr>\n",
       "    <tr>\n",
       "      <th>9</th>\n",
       "      <td>3</td>\n",
       "      <td>7</td>\n",
       "      <td>7</td>\n",
       "      <td>2</td>\n",
       "      <td>-1</td>\n",
       "      <td>-4</td>\n",
       "      <td>2</td>\n",
       "      <td>2</td>\n",
       "      <td>3</td>\n",
       "      <td>3</td>\n",
       "    </tr>\n",
       "  </tbody>\n",
       "</table>\n",
       "</div>"
      ],
      "text/plain": [
       "   1   7   8   13  15  16  17  18  19  20\n",
       "0  -6  -3  -3  -7 -10 -10  -8  -7  -6  -7\n",
       "1   2   5   6   1  -3  -5   0   1   2   2\n",
       "2   6  10  10   5   2  -1   5   5   6   6\n",
       "3   0   3   3  -1  -5  -7  -2  -1   0   0\n",
       "4   1   4   5   0  -4  -6  -1   0   1   1\n",
       "5  -4   0   0  -4  -8 -10  -5  -4  -3  -4\n",
       "6   5   8   8   4   0  -2   3   4   5   4\n",
       "7  -1   3   3  -2  -5  -8  -2  -2  -1  -1\n",
       "8  -4   0   0  -5  -8 -10  -5  -4  -3  -4\n",
       "9   3   7   7   2  -1  -4   2   2   3   3"
      ]
     },
     "execution_count": 22,
     "metadata": {},
     "output_type": "execute_result"
    }
   ],
   "source": [
    "baseline_predictions_df = data612.get_baseline_predictions(raw_avg, user_bias_train_df, item_bias_train_df)\n",
    "baseline_predictions_df"
   ]
  },
  {
   "cell_type": "code",
   "execution_count": 23,
   "metadata": {
    "ExecuteTime": {
     "end_time": "2020-02-04T02:47:27.618753Z",
     "start_time": "2020-02-04T02:47:27.551786Z"
    }
   },
   "outputs": [
    {
     "data": {
      "text/plain": [
       "3.722589393805311"
      ]
     },
     "execution_count": 23,
     "metadata": {},
     "output_type": "execute_result"
    }
   ],
   "source": [
    "data612.get_RMSE(train_df, baseline_predictions_df)"
   ]
  },
  {
   "cell_type": "code",
   "execution_count": 24,
   "metadata": {
    "ExecuteTime": {
     "end_time": "2020-02-04T02:47:27.713881Z",
     "start_time": "2020-02-04T02:47:27.623706Z"
    }
   },
   "outputs": [
    {
     "data": {
      "text/plain": [
       "6.236859027292166"
      ]
     },
     "execution_count": 24,
     "metadata": {},
     "output_type": "execute_result"
    }
   ],
   "source": [
    "data612.get_RMSE(test_df, baseline_predictions_df)"
   ]
  }
 ],
 "metadata": {
  "kernelspec": {
   "display_name": "Python 3",
   "language": "python",
   "name": "python3"
  },
  "language_info": {
   "codemirror_mode": {
    "name": "ipython",
    "version": 3
   },
   "file_extension": ".py",
   "mimetype": "text/x-python",
   "name": "python",
   "nbconvert_exporter": "python",
   "pygments_lexer": "ipython3",
   "version": "3.7.5"
  }
 },
 "nbformat": 4,
 "nbformat_minor": 2
}
