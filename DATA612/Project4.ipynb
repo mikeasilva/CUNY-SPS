{
 "cells": [
  {
   "cell_type": "markdown",
   "metadata": {},
   "source": [
    "# DATA 612 Project 4 - Accuracy and Beyond\n",
    "\n",
    "By Mike Silva\n",
    "\n",
    "## Introduction\n",
    "\n",
    "This project has two main components.  The first is to assess the accuracy of the recommender system.  Two different algorithms will be evaluated against offline data.\n",
    "\n",
    "The second component will be an implementation of the goal of increased serendipity, novelty or diversity.  Once this is implemented, I will reevaluate the accuracy of the recommendations.\n",
    "\n",
    "### About the Book-Crossing Data\n",
    "\n",
    "The [Book-Crossing data](http://www2.informatik.uni-freiburg.de/~cziegler/BX/) was collected by Cai-Nicolas Ziegler in a 4-week crawl (August / September 2004) from the Book-Crossing community with kind permission from Ron Hornbaker, CTO of Humankind Systems. It contains 278,858 users (anonymized but with some demographic information) and 1,149,780 ratings (explicit & implicit) about 271,379 books.\n",
    "\n",
    "\n",
    "## Data Acquisition and Exploration"
   ]
  },
  {
   "cell_type": "code",
   "execution_count": 1,
   "metadata": {
    "ExecuteTime": {
     "end_time": "2020-04-04T17:07:55.982866Z",
     "start_time": "2020-04-04T17:07:43.891153Z"
    }
   },
   "outputs": [
    {
     "data": {
      "text/html": [
       "<div>\n",
       "<style scoped>\n",
       "    .dataframe tbody tr th:only-of-type {\n",
       "        vertical-align: middle;\n",
       "    }\n",
       "\n",
       "    .dataframe tbody tr th {\n",
       "        vertical-align: top;\n",
       "    }\n",
       "\n",
       "    .dataframe thead th {\n",
       "        text-align: right;\n",
       "    }\n",
       "</style>\n",
       "<table border=\"1\" class=\"dataframe\">\n",
       "  <thead>\n",
       "    <tr style=\"text-align: right;\">\n",
       "      <th></th>\n",
       "      <th>User-ID</th>\n",
       "      <th>ISBN</th>\n",
       "      <th>Book-Rating</th>\n",
       "    </tr>\n",
       "  </thead>\n",
       "  <tbody>\n",
       "    <tr>\n",
       "      <th>0</th>\n",
       "      <td>276725</td>\n",
       "      <td>034545104X</td>\n",
       "      <td>0</td>\n",
       "    </tr>\n",
       "    <tr>\n",
       "      <th>1</th>\n",
       "      <td>276726</td>\n",
       "      <td>0155061224</td>\n",
       "      <td>5</td>\n",
       "    </tr>\n",
       "    <tr>\n",
       "      <th>2</th>\n",
       "      <td>276727</td>\n",
       "      <td>0446520802</td>\n",
       "      <td>0</td>\n",
       "    </tr>\n",
       "    <tr>\n",
       "      <th>3</th>\n",
       "      <td>276729</td>\n",
       "      <td>052165615X</td>\n",
       "      <td>3</td>\n",
       "    </tr>\n",
       "    <tr>\n",
       "      <th>4</th>\n",
       "      <td>276729</td>\n",
       "      <td>0521795028</td>\n",
       "      <td>6</td>\n",
       "    </tr>\n",
       "  </tbody>\n",
       "</table>\n",
       "</div>"
      ],
      "text/plain": [
       "   User-ID        ISBN  Book-Rating\n",
       "0   276725  034545104X            0\n",
       "1   276726  0155061224            5\n",
       "2   276727  0446520802            0\n",
       "3   276729  052165615X            3\n",
       "4   276729  0521795028            6"
      ]
     },
     "execution_count": 1,
     "metadata": {},
     "output_type": "execute_result"
    }
   ],
   "source": [
    "import matplotlib.pyplot as plt\n",
    "import csv\n",
    "from collections import defaultdict\n",
    "import os\n",
    "import random\n",
    "import numpy as np\n",
    "import pandas as pd\n",
    "import requests\n",
    "import zipfile\n",
    "import seaborn as sns\n",
    "# I will be using the surprise package to build my recommender system\n",
    "from surprise import Reader\n",
    "from surprise import Dataset\n",
    "from surprise.model_selection import KFold, cross_validate\n",
    "from surprise import SVD, SVDpp, NMF\n",
    "from surprise import accuracy\n",
    "\n",
    "# Make this repeatable\n",
    "my_seed = 42\n",
    "random.seed(my_seed)\n",
    "np.random.seed(my_seed)\n",
    "\n",
    "%matplotlib inline\n",
    "\n",
    "# STEP 1 - DOWNLOAD THE DATA SET\n",
    "if not os.path.exists(\"BX-CSV-Dump.zip\"):\n",
    "    # We need to download it\n",
    "    response = requests.get(\"http://www2.informatik.uni-freiburg.de/~cziegler/BX/BX-CSV-Dump.zip\")\n",
    "    if response.status_code == 200:\n",
    "        with open(\"BX-CSV-Dump.zip\", \"wb\") as f:\n",
    "            f.write(response.content)\n",
    "# STEP 2 - EXTRACT THE DATA SET\n",
    "if not os.path.exists(\"BX-Book-Ratings.csv\"):\n",
    "    with zipfile.ZipFile(\"BX-CSV-Dump.zip\",\"r\") as z:\n",
    "        z.extractall()\n",
    "# STEP 3 - READ IN THE DATA\n",
    "ratings = pd.read_csv(\"BX-Book-Ratings.csv\", sep=\";\", encoding = \"unicode_escape\") \n",
    "\n",
    "users = pd.read_csv(\"BX-Users.csv\", sep=\";\", encoding = \"unicode_escape\") \n",
    "\n",
    "# Had to do this the old fashioned way\n",
    "items = []\n",
    "\n",
    "with open(\"BX-Books.csv\") as csvfile:\n",
    "    reader = csv.DictReader(csvfile, delimiter=\";\")\n",
    "    for row in reader:\n",
    "        items.append(row)\n",
    "        \n",
    "items = pd.DataFrame(items)\n",
    "ratings.head()"
   ]
  },
  {
   "cell_type": "markdown",
   "metadata": {},
   "source": [
    "I'm going to simplify the data by converting the ISBN and User ID to an index number.  This will be a bit easier to work with than an ISBN"
   ]
  },
  {
   "cell_type": "code",
   "execution_count": 2,
   "metadata": {
    "ExecuteTime": {
     "end_time": "2020-04-04T17:07:58.146996Z",
     "start_time": "2020-04-04T17:07:55.984935Z"
    }
   },
   "outputs": [
    {
     "data": {
      "text/html": [
       "<div>\n",
       "<style scoped>\n",
       "    .dataframe tbody tr th:only-of-type {\n",
       "        vertical-align: middle;\n",
       "    }\n",
       "\n",
       "    .dataframe tbody tr th {\n",
       "        vertical-align: top;\n",
       "    }\n",
       "\n",
       "    .dataframe thead th {\n",
       "        text-align: right;\n",
       "    }\n",
       "</style>\n",
       "<table border=\"1\" class=\"dataframe\">\n",
       "  <thead>\n",
       "    <tr style=\"text-align: right;\">\n",
       "      <th></th>\n",
       "      <th>book_id</th>\n",
       "      <th>user_id</th>\n",
       "      <th>rating</th>\n",
       "    </tr>\n",
       "  </thead>\n",
       "  <tbody>\n",
       "    <tr>\n",
       "      <th>0</th>\n",
       "      <td>0</td>\n",
       "      <td>0</td>\n",
       "      <td>0</td>\n",
       "    </tr>\n",
       "    <tr>\n",
       "      <th>1</th>\n",
       "      <td>0</td>\n",
       "      <td>1655</td>\n",
       "      <td>5</td>\n",
       "    </tr>\n",
       "    <tr>\n",
       "      <th>2</th>\n",
       "      <td>383</td>\n",
       "      <td>1655</td>\n",
       "      <td>9</td>\n",
       "    </tr>\n",
       "    <tr>\n",
       "      <th>3</th>\n",
       "      <td>443</td>\n",
       "      <td>1655</td>\n",
       "      <td>8</td>\n",
       "    </tr>\n",
       "    <tr>\n",
       "      <th>4</th>\n",
       "      <td>1313</td>\n",
       "      <td>1655</td>\n",
       "      <td>9</td>\n",
       "    </tr>\n",
       "    <tr>\n",
       "      <th>...</th>\n",
       "      <td>...</td>\n",
       "      <td>...</td>\n",
       "      <td>...</td>\n",
       "    </tr>\n",
       "    <tr>\n",
       "      <th>1149775</th>\n",
       "      <td>340494</td>\n",
       "      <td>105254</td>\n",
       "      <td>10</td>\n",
       "    </tr>\n",
       "    <tr>\n",
       "      <th>1149776</th>\n",
       "      <td>340500</td>\n",
       "      <td>105260</td>\n",
       "      <td>8</td>\n",
       "    </tr>\n",
       "    <tr>\n",
       "      <th>1149777</th>\n",
       "      <td>340501</td>\n",
       "      <td>105261</td>\n",
       "      <td>5</td>\n",
       "    </tr>\n",
       "    <tr>\n",
       "      <th>1149778</th>\n",
       "      <td>340510</td>\n",
       "      <td>105264</td>\n",
       "      <td>8</td>\n",
       "    </tr>\n",
       "    <tr>\n",
       "      <th>1149779</th>\n",
       "      <td>340555</td>\n",
       "      <td>105282</td>\n",
       "      <td>8</td>\n",
       "    </tr>\n",
       "  </tbody>\n",
       "</table>\n",
       "<p>1149780 rows × 3 columns</p>\n",
       "</div>"
      ],
      "text/plain": [
       "         book_id  user_id  rating\n",
       "0              0        0       0\n",
       "1              0     1655       5\n",
       "2            383     1655       9\n",
       "3            443     1655       8\n",
       "4           1313     1655       9\n",
       "...          ...      ...     ...\n",
       "1149775   340494   105254      10\n",
       "1149776   340500   105260       8\n",
       "1149777   340501   105261       5\n",
       "1149778   340510   105264       8\n",
       "1149779   340555   105282       8\n",
       "\n",
       "[1149780 rows x 3 columns]"
      ]
     },
     "execution_count": 2,
     "metadata": {},
     "output_type": "execute_result"
    }
   ],
   "source": [
    "item_index = pd.DataFrame({\"ISBN\": ratings[\"ISBN\"].unique()}).reset_index().rename(columns={\"index\": \"book_id\"})\n",
    "user_index = pd.DataFrame({\"User-ID\": ratings[\"User-ID\"].unique()}).reset_index().rename(columns={\"index\": \"user_id\"})\n",
    "ratings = pd.merge(ratings, item_index).drop(columns=[\"ISBN\"])\n",
    "ratings = pd.merge(ratings, user_index).drop(columns=[\"User-ID\"]).rename(columns={\"Book-Rating\": \"rating\"})\n",
    "ratings = ratings[[\"book_id\", \"user_id\", \"rating\"]]\n",
    "ratings"
   ]
  },
  {
   "cell_type": "markdown",
   "metadata": {},
   "source": [
    "There is over one million records here which will be a problem on my computer.  Let's get a quick tally of how many of each ratings are in this data set:"
   ]
  },
  {
   "cell_type": "code",
   "execution_count": 3,
   "metadata": {
    "ExecuteTime": {
     "end_time": "2020-04-04T17:07:58.200051Z",
     "start_time": "2020-04-04T17:07:58.149764Z"
    }
   },
   "outputs": [
    {
     "data": {
      "text/plain": [
       "rating\n",
       "0     716109\n",
       "1       1770\n",
       "2       2759\n",
       "3       5996\n",
       "4       8904\n",
       "5      50974\n",
       "6      36924\n",
       "7      76457\n",
       "8     103736\n",
       "9      67541\n",
       "10     78610\n",
       "Name: rating, dtype: int64"
      ]
     },
     "execution_count": 3,
     "metadata": {},
     "output_type": "execute_result"
    }
   ],
   "source": [
    "ratings.groupby(\"rating\")[\"rating\"].count()"
   ]
  },
  {
   "cell_type": "markdown",
   "metadata": {},
   "source": [
    "Well over 700K are zeros.  The documentation indicates they are implicit ratings.  Let's visualize the non-zero (explicit) ratings."
   ]
  },
  {
   "cell_type": "code",
   "execution_count": 4,
   "metadata": {
    "ExecuteTime": {
     "end_time": "2020-04-04T17:07:58.305939Z",
     "start_time": "2020-04-04T17:07:58.204016Z"
    }
   },
   "outputs": [
    {
     "data": {
      "text/plain": [
       "433671"
      ]
     },
     "execution_count": 4,
     "metadata": {},
     "output_type": "execute_result"
    }
   ],
   "source": [
    "non_zero_ratings = ratings[ratings[\"rating\"] > 0].reset_index(drop=True)\n",
    "len(non_zero_ratings.index)"
   ]
  },
  {
   "cell_type": "code",
   "execution_count": 5,
   "metadata": {
    "ExecuteTime": {
     "end_time": "2020-04-04T17:07:58.714704Z",
     "start_time": "2020-04-04T17:07:58.307126Z"
    }
   },
   "outputs": [
    {
     "data": {
      "text/plain": [
       "<matplotlib.axes._subplots.AxesSubplot at 0x27b483af8c8>"
      ]
     },
     "execution_count": 5,
     "metadata": {},
     "output_type": "execute_result"
    },
    {
     "data": {
      "image/png": "[encoded data removed]",
      "text/plain": [
       "<Figure size 432x288 with 1 Axes>"
      ]
     },
     "metadata": {
      "needs_background": "light"
     },
     "output_type": "display_data"
    }
   ],
   "source": [
    "sns.countplot(x=\"rating\", data=non_zero_ratings)"
   ]
  },
  {
   "cell_type": "markdown",
   "metadata": {
    "ExecuteTime": {
     "end_time": "2020-03-28T20:20:07.483143Z",
     "start_time": "2020-03-28T20:20:07.362875Z"
    }
   },
   "source": [
    "There's quite a few books that received an 8+ rating.  That may be what I will call the \"good\" recommendations.  Let's see what the average rating is for the non-zero rated books:"
   ]
  },
  {
   "cell_type": "code",
   "execution_count": 6,
   "metadata": {
    "ExecuteTime": {
     "end_time": "2020-04-04T17:07:58.728432Z",
     "start_time": "2020-04-04T17:07:58.717660Z"
    }
   },
   "outputs": [
    {
     "data": {
      "text/plain": [
       "7.601066246071331"
      ]
     },
     "execution_count": 6,
     "metadata": {},
     "output_type": "execute_result"
    }
   ],
   "source": [
    "average_non_zero_rating = non_zero_ratings[\"rating\"].mean()\n",
    "average_non_zero_rating"
   ]
  },
  {
   "cell_type": "markdown",
   "metadata": {},
   "source": [
    "I will use 8+ as they have a higher than average rating.  Seven or lower are not desirable recommendations. "
   ]
  },
  {
   "cell_type": "markdown",
   "metadata": {},
   "source": [
    "## Recommender System Development\n",
    "\n",
    "I will develop a SVD recommender system.  Due to the quantity of ratings, an the limits of my computer, I am not able to implement a collaborative filter.  However I can preform a couple of matrix factorization based systems: [non-negative matrix factorization](https://medium.com/logicai/non-negative-matrix-factorization-for-recommendation-systems-985ca8d5c16c) (NMF) and SVD++.\n",
    "\n",
    "I will also try to increase the diversity of the recommendations.  To do this I will select a sub-group of users that have the most ratings to train the model.  I am working under the assumption that by using the users who have reviewed a diverse set of books at the basis of the training data, the recommender system will produce more diverse recommendations.\n",
    "\n",
    "For this project I will be utilizing the [Suprise python package](http://surpriselib.com/) to aid in building the recommendation systems.  This package was able to handle the large amount of data.  I will first create my diverse data set by taking the explicit ratings and subsetting the data."
   ]
  },
  {
   "cell_type": "code",
   "execution_count": 7,
   "metadata": {
    "ExecuteTime": {
     "end_time": "2020-04-04T17:07:59.025993Z",
     "start_time": "2020-04-04T17:07:58.730482Z"
    }
   },
   "outputs": [
    {
     "data": {
      "text/plain": [
       "89247"
      ]
     },
     "execution_count": 7,
     "metadata": {},
     "output_type": "execute_result"
    }
   ],
   "source": [
    "diverse_user_set = non_zero_ratings.groupby(['user_id']).agg({'book_id': 'count'}).reset_index().rename(columns={\"book_id\": \"Reviews\"}).sort_values(\"Reviews\", ascending=False).head(50)['user_id'].to_list()\n",
    "diverse_ratings = pd.merge(ratings, pd.DataFrame({\"user_id\": diverse_user_set}))\n",
    "len(diverse_ratings.index)"
   ]
  },
  {
   "cell_type": "markdown",
   "metadata": {},
   "source": [
    "This leave just under 90,000 ratings for training the recommender system, down from  965,000.  I will set up the data sets to work with the Surprise package."
   ]
  },
  {
   "cell_type": "code",
   "execution_count": 8,
   "metadata": {
    "ExecuteTime": {
     "end_time": "2020-04-04T17:08:00.103798Z",
     "start_time": "2020-04-04T17:07:59.030869Z"
    }
   },
   "outputs": [],
   "source": [
    "reader = Reader(rating_scale=(1, 10))\n",
    "data = Dataset.load_from_df(non_zero_ratings, reader)\n",
    "diverse = Dataset.load_from_df(diverse_ratings, reader)"
   ]
  },
  {
   "cell_type": "markdown",
   "metadata": {
    "ExecuteTime": {
     "end_time": "2020-04-03T02:26:58.008981Z",
     "start_time": "2020-04-03T02:26:57.921477Z"
    }
   },
   "source": [
    "Now that I have the data set I will train a SVD model on the full diverse set to be the model that offers diverse recommendations.  I will then preform K-Fold validation of the model by training other models and measuring the accuracy in terms of RMSE and MAE on the test set.  I will also gather the precision and recall for the various models using the source code provided in the [Surprise documentation](https://surprise.readthedocs.io/en/stable/FAQ.html) with minor alterations by me.  \n",
    "\n",
    "In order to evaluate the level of diversity of the recommendations, "
   ]
  },
  {
   "cell_type": "code",
   "execution_count": 9,
   "metadata": {
    "ExecuteTime": {
     "end_time": "2020-04-04T17:41:12.906516Z",
     "start_time": "2020-04-04T17:08:00.107965Z"
    }
   },
   "outputs": [
    {
     "name": "stdout",
     "output_type": "stream",
     "text": [
      "Working through K-Fold #1\n",
      " Training models...\n",
      " Predicting test set...\n",
      " Getting the coverage of the predictions...\n",
      " Evaluating accuracy...\n",
      "Working through K-Fold #2\n",
      " Training models...\n",
      " Predicting test set...\n",
      " Getting the coverage of the predictions...\n",
      " Evaluating accuracy...\n",
      "Working through K-Fold #3\n",
      " Training models...\n",
      " Predicting test set...\n",
      " Getting the coverage of the predictions...\n",
      " Evaluating accuracy...\n",
      "Working through K-Fold #4\n",
      " Training models...\n",
      " Predicting test set...\n",
      " Getting the coverage of the predictions...\n",
      " Evaluating accuracy...\n",
      "Working through K-Fold #5\n",
      " Training models...\n",
      " Predicting test set...\n",
      " Getting the coverage of the predictions...\n",
      " Evaluating accuracy...\n"
     ]
    }
   ],
   "source": [
    "def get_top_n(predictions, n=10):\n",
    "    '''Return the top-N recommendation for each user from a set of predictions.\n",
    "\n",
    "    Args:\n",
    "        predictions(list of Prediction objects): The list of predictions, as\n",
    "            returned by the test method of an algorithm.\n",
    "        n(int): The number of recommendation to output for each user. Default\n",
    "            is 10.\n",
    "\n",
    "    Returns:\n",
    "    A dict where keys are user (raw) ids and values are lists of tuples:\n",
    "        [(raw item id, rating estimation), ...] of size n.\n",
    "    '''\n",
    "\n",
    "    # First map the predictions to each user.\n",
    "    top_n = defaultdict(list)\n",
    "    for uid, iid, true_r, est, _ in predictions:\n",
    "        top_n[uid].append((iid, est))\n",
    "\n",
    "    # Then sort the predictions for each user and retrieve the k highest ones.\n",
    "    for uid, user_ratings in top_n.items():\n",
    "        user_ratings.sort(key=lambda x: x[1], reverse=True)\n",
    "        top_n[uid] = user_ratings[:n]\n",
    "\n",
    "    return top_n\n",
    "\n",
    "\n",
    "def get_item_coverage(predictions, n=10, threshold = 8):\n",
    "    top_n = get_top_n(predictions, n)\n",
    "    items_recommended = set()\n",
    "    for user, items in top_n.items():\n",
    "        for item, rating in items:\n",
    "            if round(rating, 0) >= threshold:\n",
    "                items_recommended.add(item)\n",
    "\n",
    "    return len(items_recommended)\n",
    "\n",
    "diverse_ratings_N = diverse_ratings.nunique(axis = 0, dropna = True)[\"book_id\"]\n",
    "ratings_N = non_zero_ratings.nunique(axis = 0, dropna = True)[\"book_id\"]\n",
    "\n",
    "kf = KFold(n_splits=5)\n",
    "svd = SVD()\n",
    "diverse_svd = SVD()\n",
    "diverse_svd.fit(diverse.build_full_trainset())\n",
    "svdpp = SVDpp()\n",
    "nmf = NMF()\n",
    "\n",
    "results = list()\n",
    "precision_and_recall = list()\n",
    "\n",
    "fold = 0\n",
    "for training_set, test_set in kf.split(data):\n",
    "    fold += 1\n",
    "    print(\"Working through K-Fold #\" + str(fold))\n",
    "    # Train the models on the training set\n",
    "    print(\" Training models...\")\n",
    "    svd.fit(training_set)\n",
    "    svdpp.fit(training_set)\n",
    "    nmf.fit(training_set)\n",
    "    # Remember diverse_svd was already trained on the full diverse training set\n",
    "    \n",
    "    # Get the predictions on the test set\n",
    "    print(\" Predicting test set...\")\n",
    "    svd_predictions = svd.test(test_set)\n",
    "    svdpp_predictions = svdpp.test(test_set)\n",
    "    nmf_predictions = nmf.test(test_set)\n",
    "    diverse_svd_predictions = diverse_svd.test(test_set)\n",
    "    \n",
    "    # Compute the coverage of the top 10 \"good\" predictions\n",
    "    print(\" Getting the coverage of the predictions...\")\n",
    "    svd_predictions_coverage = (get_item_coverage(svd_predictions) / ratings_N) * 100\n",
    "    svdpp_predictions_coverage = (get_item_coverage(svdpp_predictions) / ratings_N) * 100\n",
    "    nmf_predictions_coverage = (get_item_coverage(nmf_predictions) / ratings_N) * 100\n",
    "    diverse_svd_predictions_coverage = (get_item_coverage(diverse_svd_predictions) / diverse_ratings_N) * 100\n",
    "            \n",
    "    # Compute the RMSEs\n",
    "    print(\" Evaluating accuracy...\")\n",
    "    results.append({\"Algorithm\":\"SVD\", \"K-Fold\": fold, \"Coverage\": svd_predictions_coverage, \"RMSE\": accuracy.rmse(svd_predictions, verbose=False), \"MAE\": accuracy.mae(svd_predictions, verbose=False)})\n",
    "    results.append({\"Algorithm\":\"SVD++\", \"K-Fold\": fold, \"Coverage\": svdpp_predictions_coverage, \"RMSE\": accuracy.rmse(svdpp_predictions, verbose=False), \"MAE\": accuracy.mae(svdpp_predictions, verbose=False)})\n",
    "    results.append({\"Algorithm\":\"NMF\", \"K-Fold\": fold, \"Coverage\": nmf_predictions_coverage, \"RMSE\": accuracy.rmse(nmf_predictions, verbose=False), \"MAE\": accuracy.mae(nmf_predictions, verbose=False)})\n",
    "    results.append({\"Algorithm\":\"Diverse SVD\", \"K-Fold\": fold, \"Coverage\": diverse_svd_predictions_coverage, \"RMSE\": accuracy.rmse(diverse_svd_predictions, verbose=False), \"MAE\": accuracy.mae(diverse_svd_predictions, verbose=False)})\n",
    "    \n",
    "    "
   ]
  },
  {
   "cell_type": "code",
   "execution_count": 10,
   "metadata": {
    "ExecuteTime": {
     "end_time": "2020-04-04T17:41:12.953912Z",
     "start_time": "2020-04-04T17:41:12.909911Z"
    }
   },
   "outputs": [
    {
     "data": {
      "text/html": [
       "<div>\n",
       "<style scoped>\n",
       "    .dataframe tbody tr th:only-of-type {\n",
       "        vertical-align: middle;\n",
       "    }\n",
       "\n",
       "    .dataframe tbody tr th {\n",
       "        vertical-align: top;\n",
       "    }\n",
       "\n",
       "    .dataframe thead th {\n",
       "        text-align: right;\n",
       "    }\n",
       "</style>\n",
       "<table border=\"1\" class=\"dataframe\">\n",
       "  <thead>\n",
       "    <tr style=\"text-align: right;\">\n",
       "      <th></th>\n",
       "      <th>Algorithm</th>\n",
       "      <th>K-Fold</th>\n",
       "      <th>Coverage</th>\n",
       "      <th>RMSE</th>\n",
       "      <th>MAE</th>\n",
       "    </tr>\n",
       "  </thead>\n",
       "  <tbody>\n",
       "    <tr>\n",
       "      <th>0</th>\n",
       "      <td>SVD</td>\n",
       "      <td>1</td>\n",
       "      <td>10.374087</td>\n",
       "      <td>1.636041</td>\n",
       "      <td>1.262913</td>\n",
       "    </tr>\n",
       "    <tr>\n",
       "      <th>1</th>\n",
       "      <td>SVD++</td>\n",
       "      <td>1</td>\n",
       "      <td>10.209547</td>\n",
       "      <td>1.659081</td>\n",
       "      <td>1.288650</td>\n",
       "    </tr>\n",
       "    <tr>\n",
       "      <th>2</th>\n",
       "      <td>NMF</td>\n",
       "      <td>1</td>\n",
       "      <td>10.331070</td>\n",
       "      <td>2.447826</td>\n",
       "      <td>2.030095</td>\n",
       "    </tr>\n",
       "    <tr>\n",
       "      <th>3</th>\n",
       "      <td>Diverse SVD</td>\n",
       "      <td>1</td>\n",
       "      <td>0.073408</td>\n",
       "      <td>3.840451</td>\n",
       "      <td>3.339021</td>\n",
       "    </tr>\n",
       "    <tr>\n",
       "      <th>4</th>\n",
       "      <td>SVD</td>\n",
       "      <td>2</td>\n",
       "      <td>10.328919</td>\n",
       "      <td>1.641852</td>\n",
       "      <td>1.266390</td>\n",
       "    </tr>\n",
       "    <tr>\n",
       "      <th>5</th>\n",
       "      <td>SVD++</td>\n",
       "      <td>2</td>\n",
       "      <td>10.232130</td>\n",
       "      <td>1.672420</td>\n",
       "      <td>1.299062</td>\n",
       "    </tr>\n",
       "    <tr>\n",
       "      <th>6</th>\n",
       "      <td>NMF</td>\n",
       "      <td>2</td>\n",
       "      <td>10.317089</td>\n",
       "      <td>2.455121</td>\n",
       "      <td>2.037910</td>\n",
       "    </tr>\n",
       "    <tr>\n",
       "      <th>7</th>\n",
       "      <td>Diverse SVD</td>\n",
       "      <td>2</td>\n",
       "      <td>0.071910</td>\n",
       "      <td>3.840242</td>\n",
       "      <td>3.332777</td>\n",
       "    </tr>\n",
       "    <tr>\n",
       "      <th>8</th>\n",
       "      <td>SVD</td>\n",
       "      <td>3</td>\n",
       "      <td>10.320315</td>\n",
       "      <td>1.631889</td>\n",
       "      <td>1.259990</td>\n",
       "    </tr>\n",
       "    <tr>\n",
       "      <th>9</th>\n",
       "      <td>SVD++</td>\n",
       "      <td>3</td>\n",
       "      <td>10.192340</td>\n",
       "      <td>1.659791</td>\n",
       "      <td>1.290163</td>\n",
       "    </tr>\n",
       "    <tr>\n",
       "      <th>10</th>\n",
       "      <td>NMF</td>\n",
       "      <td>3</td>\n",
       "      <td>10.254714</td>\n",
       "      <td>2.453975</td>\n",
       "      <td>2.037903</td>\n",
       "    </tr>\n",
       "    <tr>\n",
       "      <th>11</th>\n",
       "      <td>Diverse SVD</td>\n",
       "      <td>3</td>\n",
       "      <td>0.071910</td>\n",
       "      <td>3.850187</td>\n",
       "      <td>3.348918</td>\n",
       "    </tr>\n",
       "    <tr>\n",
       "      <th>12</th>\n",
       "      <td>SVD</td>\n",
       "      <td>4</td>\n",
       "      <td>10.342899</td>\n",
       "      <td>1.646603</td>\n",
       "      <td>1.271901</td>\n",
       "    </tr>\n",
       "    <tr>\n",
       "      <th>13</th>\n",
       "      <td>SVD++</td>\n",
       "      <td>4</td>\n",
       "      <td>10.237508</td>\n",
       "      <td>1.669074</td>\n",
       "      <td>1.298490</td>\n",
       "    </tr>\n",
       "    <tr>\n",
       "      <th>14</th>\n",
       "      <td>NMF</td>\n",
       "      <td>4</td>\n",
       "      <td>10.303646</td>\n",
       "      <td>2.450135</td>\n",
       "      <td>2.031461</td>\n",
       "    </tr>\n",
       "    <tr>\n",
       "      <th>15</th>\n",
       "      <td>Diverse SVD</td>\n",
       "      <td>4</td>\n",
       "      <td>0.073408</td>\n",
       "      <td>3.843952</td>\n",
       "      <td>3.336919</td>\n",
       "    </tr>\n",
       "    <tr>\n",
       "      <th>16</th>\n",
       "      <td>SVD</td>\n",
       "      <td>5</td>\n",
       "      <td>10.418717</td>\n",
       "      <td>1.652471</td>\n",
       "      <td>1.273661</td>\n",
       "    </tr>\n",
       "    <tr>\n",
       "      <th>17</th>\n",
       "      <td>SVD++</td>\n",
       "      <td>5</td>\n",
       "      <td>10.285902</td>\n",
       "      <td>1.679953</td>\n",
       "      <td>1.305062</td>\n",
       "    </tr>\n",
       "    <tr>\n",
       "      <th>18</th>\n",
       "      <td>NMF</td>\n",
       "      <td>5</td>\n",
       "      <td>10.294505</td>\n",
       "      <td>2.450319</td>\n",
       "      <td>2.035143</td>\n",
       "    </tr>\n",
       "    <tr>\n",
       "      <th>19</th>\n",
       "      <td>Diverse SVD</td>\n",
       "      <td>5</td>\n",
       "      <td>0.071910</td>\n",
       "      <td>3.839884</td>\n",
       "      <td>3.332519</td>\n",
       "    </tr>\n",
       "  </tbody>\n",
       "</table>\n",
       "</div>"
      ],
      "text/plain": [
       "      Algorithm  K-Fold   Coverage      RMSE       MAE\n",
       "0           SVD       1  10.374087  1.636041  1.262913\n",
       "1         SVD++       1  10.209547  1.659081  1.288650\n",
       "2           NMF       1  10.331070  2.447826  2.030095\n",
       "3   Diverse SVD       1   0.073408  3.840451  3.339021\n",
       "4           SVD       2  10.328919  1.641852  1.266390\n",
       "5         SVD++       2  10.232130  1.672420  1.299062\n",
       "6           NMF       2  10.317089  2.455121  2.037910\n",
       "7   Diverse SVD       2   0.071910  3.840242  3.332777\n",
       "8           SVD       3  10.320315  1.631889  1.259990\n",
       "9         SVD++       3  10.192340  1.659791  1.290163\n",
       "10          NMF       3  10.254714  2.453975  2.037903\n",
       "11  Diverse SVD       3   0.071910  3.850187  3.348918\n",
       "12          SVD       4  10.342899  1.646603  1.271901\n",
       "13        SVD++       4  10.237508  1.669074  1.298490\n",
       "14          NMF       4  10.303646  2.450135  2.031461\n",
       "15  Diverse SVD       4   0.073408  3.843952  3.336919\n",
       "16          SVD       5  10.418717  1.652471  1.273661\n",
       "17        SVD++       5  10.285902  1.679953  1.305062\n",
       "18          NMF       5  10.294505  2.450319  2.035143\n",
       "19  Diverse SVD       5   0.071910  3.839884  3.332519"
      ]
     },
     "execution_count": 10,
     "metadata": {},
     "output_type": "execute_result"
    }
   ],
   "source": [
    "results = pd.DataFrame(results)\n",
    "results"
   ]
  },
  {
   "cell_type": "markdown",
   "metadata": {},
   "source": [
    "4. As part of your textual conclusion, discuss one or more additional experiments that\n",
    "could be performed and/or metrics that could be evaluated only if online evaluation\n",
    "was possible. Also, briefly propose how you would design a reasonable online\n",
    "evaluation environment. "
   ]
  }
 ],
 "metadata": {
  "kernelspec": {
   "display_name": "Python 3",
   "language": "python",
   "name": "python3"
  },
  "language_info": {
   "codemirror_mode": {
    "name": "ipython",
    "version": 3
   },
   "file_extension": ".py",
   "mimetype": "text/x-python",
   "name": "python",
   "nbconvert_exporter": "python",
   "pygments_lexer": "ipython3",
   "version": "3.7.7"
  }
 },
 "nbformat": 4,
 "nbformat_minor": 4
}
