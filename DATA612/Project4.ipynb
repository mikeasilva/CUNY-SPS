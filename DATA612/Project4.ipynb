{
 "cells": [
  {
   "cell_type": "markdown",
   "metadata": {},
   "source": [
    "# DATA 612 Project 4 - Accuracy and Beyond\n",
    "\n",
    "By Mike Silva\n",
    "\n",
    "## Introduction\n",
    "\n",
    "This project has two main components.  The first is to assess the accuracy of the recommender system.  Two different algorithms will be evaluated against offline data.\n",
    "\n",
    "The second component will be an implementation of the goal of increased serendipity, novelty or diversity.  Once this is implemented, I will reevaluate the accuracy of the recommendations.\n",
    "\n",
    "### About the Book-Crossing Data\n",
    "\n",
    "The [Book-Crossing data](http://www2.informatik.uni-freiburg.de/~cziegler/BX/) was collected by Cai-Nicolas Ziegler in a 4-week crawl (August / September 2004) from the Book-Crossing community with kind permission from Ron Hornbaker, CTO of Humankind Systems. It contains 278,858 users (anonymized but with some demographic information) and 1,149,780 ratings (explicit & implicit) about 271,379 books.\n",
    "\n",
    "\n",
    "## Data Acquisition and Exploration"
   ]
  },
  {
   "cell_type": "code",
   "execution_count": 1,
   "metadata": {
    "ExecuteTime": {
     "end_time": "2020-04-01T11:24:29.298103Z",
     "start_time": "2020-04-01T11:24:08.053095Z"
    }
   },
   "outputs": [
    {
     "data": {
      "text/html": [
       "<div>\n",
       "<style scoped>\n",
       "    .dataframe tbody tr th:only-of-type {\n",
       "        vertical-align: middle;\n",
       "    }\n",
       "\n",
       "    .dataframe tbody tr th {\n",
       "        vertical-align: top;\n",
       "    }\n",
       "\n",
       "    .dataframe thead th {\n",
       "        text-align: right;\n",
       "    }\n",
       "</style>\n",
       "<table border=\"1\" class=\"dataframe\">\n",
       "  <thead>\n",
       "    <tr style=\"text-align: right;\">\n",
       "      <th></th>\n",
       "      <th>User-ID</th>\n",
       "      <th>ISBN</th>\n",
       "      <th>Book-Rating</th>\n",
       "    </tr>\n",
       "  </thead>\n",
       "  <tbody>\n",
       "    <tr>\n",
       "      <th>0</th>\n",
       "      <td>276725</td>\n",
       "      <td>034545104X</td>\n",
       "      <td>0</td>\n",
       "    </tr>\n",
       "    <tr>\n",
       "      <th>1</th>\n",
       "      <td>276726</td>\n",
       "      <td>0155061224</td>\n",
       "      <td>5</td>\n",
       "    </tr>\n",
       "    <tr>\n",
       "      <th>2</th>\n",
       "      <td>276727</td>\n",
       "      <td>0446520802</td>\n",
       "      <td>0</td>\n",
       "    </tr>\n",
       "    <tr>\n",
       "      <th>3</th>\n",
       "      <td>276729</td>\n",
       "      <td>052165615X</td>\n",
       "      <td>3</td>\n",
       "    </tr>\n",
       "    <tr>\n",
       "      <th>4</th>\n",
       "      <td>276729</td>\n",
       "      <td>0521795028</td>\n",
       "      <td>6</td>\n",
       "    </tr>\n",
       "  </tbody>\n",
       "</table>\n",
       "</div>"
      ],
      "text/plain": [
       "   User-ID        ISBN  Book-Rating\n",
       "0   276725  034545104X            0\n",
       "1   276726  0155061224            5\n",
       "2   276727  0446520802            0\n",
       "3   276729  052165615X            3\n",
       "4   276729  0521795028            6"
      ]
     },
     "execution_count": 1,
     "metadata": {},
     "output_type": "execute_result"
    }
   ],
   "source": [
    "import matplotlib.pyplot as plt\n",
    "import csv\n",
    "import os\n",
    "import numpy as np\n",
    "import pandas as pd\n",
    "import requests\n",
    "import zipfile\n",
    "from scipy.sparse.linalg import svds\n",
    "from sklearn.model_selection import train_test_split\n",
    "from sklearn.metrics.pairwise import cosine_similarity\n",
    "import seaborn as sns\n",
    "\n",
    "%matplotlib inline\n",
    "\n",
    "# STEP 1 - DOWNLOAD THE DATA SET\n",
    "if not os.path.exists(\"BX-CSV-Dump.zip\"):\n",
    "    # We need to download it\n",
    "    response = requests.get(\"http://www2.informatik.uni-freiburg.de/~cziegler/BX/BX-CSV-Dump.zip\")\n",
    "    if response.status_code == 200:\n",
    "        with open(\"BX-CSV-Dump.zip\", \"wb\") as f:\n",
    "            f.write(response.content)\n",
    "# STEP 2 - EXTRACT THE DATA SET\n",
    "if not os.path.exists(\"BX-Book-Ratings.csv\"):\n",
    "    with zipfile.ZipFile(\"BX-CSV-Dump.zip\",\"r\") as z:\n",
    "        z.extractall()\n",
    "# STEP 3 - READ IN THE DATA\n",
    "ratings = pd.read_csv(\"BX-Book-Ratings.csv\", sep=\";\", encoding = \"unicode_escape\") \n",
    "\n",
    "users = pd.read_csv(\"BX-Users.csv\", sep=\";\", encoding = \"unicode_escape\") \n",
    "\n",
    "# Had to do this the old fashioned way\n",
    "items = []\n",
    "\n",
    "with open(\"BX-Books.csv\") as csvfile:\n",
    "    reader = csv.DictReader(csvfile, delimiter=\";\")\n",
    "    for row in reader:\n",
    "        items.append(row)\n",
    "        \n",
    "items = pd.DataFrame(items)\n",
    "ratings.head()"
   ]
  },
  {
   "cell_type": "markdown",
   "metadata": {},
   "source": [
    "I'm going to simplify the data by converting the ISBN and User ID to an index number.  This will be a bit easier to work with than an ISBN"
   ]
  },
  {
   "cell_type": "code",
   "execution_count": 2,
   "metadata": {
    "ExecuteTime": {
     "end_time": "2020-04-01T11:24:30.597234Z",
     "start_time": "2020-04-01T11:24:29.299107Z"
    }
   },
   "outputs": [
    {
     "data": {
      "text/html": [
       "<div>\n",
       "<style scoped>\n",
       "    .dataframe tbody tr th:only-of-type {\n",
       "        vertical-align: middle;\n",
       "    }\n",
       "\n",
       "    .dataframe tbody tr th {\n",
       "        vertical-align: top;\n",
       "    }\n",
       "\n",
       "    .dataframe thead th {\n",
       "        text-align: right;\n",
       "    }\n",
       "</style>\n",
       "<table border=\"1\" class=\"dataframe\">\n",
       "  <thead>\n",
       "    <tr style=\"text-align: right;\">\n",
       "      <th></th>\n",
       "      <th>rating</th>\n",
       "      <th>book_id</th>\n",
       "      <th>user_id</th>\n",
       "    </tr>\n",
       "  </thead>\n",
       "  <tbody>\n",
       "    <tr>\n",
       "      <th>0</th>\n",
       "      <td>0</td>\n",
       "      <td>0</td>\n",
       "      <td>0</td>\n",
       "    </tr>\n",
       "    <tr>\n",
       "      <th>1</th>\n",
       "      <td>5</td>\n",
       "      <td>0</td>\n",
       "      <td>1655</td>\n",
       "    </tr>\n",
       "    <tr>\n",
       "      <th>2</th>\n",
       "      <td>9</td>\n",
       "      <td>383</td>\n",
       "      <td>1655</td>\n",
       "    </tr>\n",
       "    <tr>\n",
       "      <th>3</th>\n",
       "      <td>8</td>\n",
       "      <td>443</td>\n",
       "      <td>1655</td>\n",
       "    </tr>\n",
       "    <tr>\n",
       "      <th>4</th>\n",
       "      <td>9</td>\n",
       "      <td>1313</td>\n",
       "      <td>1655</td>\n",
       "    </tr>\n",
       "    <tr>\n",
       "      <th>...</th>\n",
       "      <td>...</td>\n",
       "      <td>...</td>\n",
       "      <td>...</td>\n",
       "    </tr>\n",
       "    <tr>\n",
       "      <th>1149775</th>\n",
       "      <td>10</td>\n",
       "      <td>340494</td>\n",
       "      <td>105254</td>\n",
       "    </tr>\n",
       "    <tr>\n",
       "      <th>1149776</th>\n",
       "      <td>8</td>\n",
       "      <td>340500</td>\n",
       "      <td>105260</td>\n",
       "    </tr>\n",
       "    <tr>\n",
       "      <th>1149777</th>\n",
       "      <td>5</td>\n",
       "      <td>340501</td>\n",
       "      <td>105261</td>\n",
       "    </tr>\n",
       "    <tr>\n",
       "      <th>1149778</th>\n",
       "      <td>8</td>\n",
       "      <td>340510</td>\n",
       "      <td>105264</td>\n",
       "    </tr>\n",
       "    <tr>\n",
       "      <th>1149779</th>\n",
       "      <td>8</td>\n",
       "      <td>340555</td>\n",
       "      <td>105282</td>\n",
       "    </tr>\n",
       "  </tbody>\n",
       "</table>\n",
       "<p>1149780 rows × 3 columns</p>\n",
       "</div>"
      ],
      "text/plain": [
       "         rating  book_id  user_id\n",
       "0             0        0        0\n",
       "1             5        0     1655\n",
       "2             9      383     1655\n",
       "3             8      443     1655\n",
       "4             9     1313     1655\n",
       "...         ...      ...      ...\n",
       "1149775      10   340494   105254\n",
       "1149776       8   340500   105260\n",
       "1149777       5   340501   105261\n",
       "1149778       8   340510   105264\n",
       "1149779       8   340555   105282\n",
       "\n",
       "[1149780 rows x 3 columns]"
      ]
     },
     "execution_count": 2,
     "metadata": {},
     "output_type": "execute_result"
    }
   ],
   "source": [
    "item_index = pd.DataFrame({\"ISBN\": ratings[\"ISBN\"].unique()}).reset_index().rename(columns={\"index\": \"book_id\"})\n",
    "user_index = pd.DataFrame({\"User-ID\": ratings[\"User-ID\"].unique()}).reset_index().rename(columns={\"index\": \"user_id\"})\n",
    "ratings = pd.merge(ratings, item_index).drop(columns=[\"ISBN\"])\n",
    "ratings = pd.merge(ratings, user_index).drop(columns=[\"User-ID\"]).rename(columns={\"Book-Rating\": \"rating\"})\n",
    "ratings"
   ]
  },
  {
   "cell_type": "markdown",
   "metadata": {},
   "source": [
    "There is over one million records here which will be a problem on my computer.  Let's get a quick tally of how many of each ratings are in this data set:"
   ]
  },
  {
   "cell_type": "code",
   "execution_count": 4,
   "metadata": {
    "ExecuteTime": {
     "end_time": "2020-04-01T11:24:30.744085Z",
     "start_time": "2020-04-01T11:24:30.709179Z"
    }
   },
   "outputs": [
    {
     "data": {
      "text/plain": [
       "rating\n",
       "0     716109\n",
       "1       1770\n",
       "2       2759\n",
       "3       5996\n",
       "4       8904\n",
       "5      50974\n",
       "6      36924\n",
       "7      76457\n",
       "8     103736\n",
       "9      67541\n",
       "10     78610\n",
       "Name: rating, dtype: int64"
      ]
     },
     "execution_count": 4,
     "metadata": {},
     "output_type": "execute_result"
    }
   ],
   "source": [
    "ratings.groupby(\"rating\")[\"rating\"].count()"
   ]
  },
  {
   "cell_type": "markdown",
   "metadata": {},
   "source": [
    "Well over 700K are zeros.  The documentation indicates they are implicit ratings.  Let's visualize the non-zero (explicit) ratings."
   ]
  },
  {
   "cell_type": "code",
   "execution_count": 5,
   "metadata": {
    "ExecuteTime": {
     "end_time": "2020-04-01T11:24:31.562161Z",
     "start_time": "2020-04-01T11:24:30.745272Z"
    }
   },
   "outputs": [
    {
     "data": {
      "text/plain": [
       "<matplotlib.axes._subplots.AxesSubplot at 0x1e49e339988>"
      ]
     },
     "execution_count": 5,
     "metadata": {},
     "output_type": "execute_result"
    },
    {
     "data": {
      "image/png": "[encoded data removed]",
      "text/plain": [
       "<Figure size 432x288 with 1 Axes>"
      ]
     },
     "metadata": {
      "needs_background": "light"
     },
     "output_type": "display_data"
    }
   ],
   "source": [
    "non_zero_ratings = ratings[ratings[\"rating\"] > 0].reset_index(drop=True)\n",
    "sns.countplot(x=\"rating\", data=non_zero_ratings)"
   ]
  },
  {
   "cell_type": "markdown",
   "metadata": {
    "ExecuteTime": {
     "end_time": "2020-03-28T20:20:07.483143Z",
     "start_time": "2020-03-28T20:20:07.362875Z"
    }
   },
   "source": [
    "There's quite a few books that received an 8+ rating.  That may be what I will call the \"good\" recommendations.  Let's see what the average rating is for the non-zero rated books:"
   ]
  },
  {
   "cell_type": "code",
   "execution_count": 6,
   "metadata": {
    "ExecuteTime": {
     "end_time": "2020-04-01T11:24:31.569177Z",
     "start_time": "2020-04-01T11:24:31.564155Z"
    }
   },
   "outputs": [
    {
     "data": {
      "text/plain": [
       "7.601066246071331"
      ]
     },
     "execution_count": 6,
     "metadata": {},
     "output_type": "execute_result"
    }
   ],
   "source": [
    "average_non_zero_rating = non_zero_ratings[\"rating\"].mean()\n",
    "average_non_zero_rating"
   ]
  },
  {
   "cell_type": "markdown",
   "metadata": {},
   "source": [
    "I will use 8+ as they have a higher than average rating.  Seven or lower are not desirable recommendations. "
   ]
  },
  {
   "cell_type": "markdown",
   "metadata": {},
   "source": [
    "## Recommender System Development\n",
    "\n",
    "I will develop a SVD recommender system and an item based collaborative filtering recommender system.  As previously noted I have a lot more data here than can fit in the limited memory of my computer.  Let's get a count of how many non-zero ratings I have:"
   ]
  },
  {
   "cell_type": "code",
   "execution_count": 7,
   "metadata": {
    "ExecuteTime": {
     "end_time": "2020-04-01T11:24:31.642326Z",
     "start_time": "2020-04-01T11:24:31.570139Z"
    }
   },
   "outputs": [
    {
     "data": {
      "text/plain": [
       "433671"
      ]
     },
     "execution_count": 7,
     "metadata": {},
     "output_type": "execute_result"
    }
   ],
   "source": [
    "len(non_zero_ratings.index)"
   ]
  },
  {
   "cell_type": "markdown",
   "metadata": {},
   "source": [
    "### Subsetting the Data\n",
    "\n",
    "I have over 400K ratings which is too much for my computer to handle.  I know from previous work with the MovieLense 100K data set that my computer can handle it.  There were 8,600 movies and 509 users.  I'm going to try to create a similar sized data set from the books crossing data."
   ]
  },
  {
   "cell_type": "code",
   "execution_count": 8,
   "metadata": {
    "ExecuteTime": {
     "end_time": "2020-04-01T11:24:31.778457Z",
     "start_time": "2020-04-01T11:24:31.644321Z"
    }
   },
   "outputs": [
    {
     "data": {
      "text/plain": [
       "count    32423.000000\n",
       "mean        11.975727\n",
       "std         67.646164\n",
       "min          2.000000\n",
       "25%          2.000000\n",
       "50%          4.000000\n",
       "75%          9.000000\n",
       "max       8524.000000\n",
       "Name: count, dtype: float64"
      ]
     },
     "execution_count": 8,
     "metadata": {},
     "output_type": "execute_result"
    }
   ],
   "source": [
    "temp = non_zero_ratings.groupby(\"user_id\")[\"user_id\"].count().to_frame().rename(columns={\"user_id\": \"count\"}).reset_index()\n",
    "temp[temp[\"count\"] > 1]['count'].describe()"
   ]
  },
  {
   "cell_type": "markdown",
   "metadata": {},
   "source": [
    "Interesting.  The user that has the most non-zero reviews has reviewed 8,524 books.  I think I will limit the books to just those that has been rated by this ultra-reader.  I will find out who the ultra-reader is:"
   ]
  },
  {
   "cell_type": "code",
   "execution_count": 9,
   "metadata": {
    "ExecuteTime": {
     "end_time": "2020-04-01T11:24:31.787855Z",
     "start_time": "2020-04-01T11:24:31.779457Z"
    }
   },
   "outputs": [
    {
     "data": {
      "text/html": [
       "<div>\n",
       "<style scoped>\n",
       "    .dataframe tbody tr th:only-of-type {\n",
       "        vertical-align: middle;\n",
       "    }\n",
       "\n",
       "    .dataframe tbody tr th {\n",
       "        vertical-align: top;\n",
       "    }\n",
       "\n",
       "    .dataframe thead th {\n",
       "        text-align: right;\n",
       "    }\n",
       "</style>\n",
       "<table border=\"1\" class=\"dataframe\">\n",
       "  <thead>\n",
       "    <tr style=\"text-align: right;\">\n",
       "      <th></th>\n",
       "      <th>user_id</th>\n",
       "      <th>count</th>\n",
       "    </tr>\n",
       "  </thead>\n",
       "  <tbody>\n",
       "    <tr>\n",
       "      <th>3785</th>\n",
       "      <td>5063</td>\n",
       "      <td>8524</td>\n",
       "    </tr>\n",
       "  </tbody>\n",
       "</table>\n",
       "</div>"
      ],
      "text/plain": [
       "      user_id  count\n",
       "3785     5063   8524"
      ]
     },
     "execution_count": 9,
     "metadata": {},
     "output_type": "execute_result"
    }
   ],
   "source": [
    "temp[temp[\"count\"] == 8524]"
   ]
  },
  {
   "cell_type": "code",
   "execution_count": 10,
   "metadata": {
    "ExecuteTime": {
     "end_time": "2020-04-01T11:24:31.911241Z",
     "start_time": "2020-04-01T11:24:31.788853Z"
    }
   },
   "outputs": [
    {
     "data": {
      "text/plain": [
       "84843"
      ]
     },
     "execution_count": 10,
     "metadata": {},
     "output_type": "execute_result"
    }
   ],
   "source": [
    "book_filter = non_zero_ratings[non_zero_ratings[\"user_id\"] == 5063][\"book_id\"].to_frame().reset_index(drop=True)\n",
    "non_zero_ratings = pd.merge(non_zero_ratings, book_filter).reset_index(drop=True)\n",
    "len(non_zero_ratings.index)"
   ]
  },
  {
   "cell_type": "code",
   "execution_count": 21,
   "metadata": {
    "ExecuteTime": {
     "end_time": "2020-04-01T11:28:58.436226Z",
     "start_time": "2020-04-01T11:28:58.409267Z"
    }
   },
   "outputs": [
    {
     "data": {
      "text/plain": [
       "27871"
      ]
     },
     "execution_count": 21,
     "metadata": {},
     "output_type": "execute_result"
    }
   ],
   "source": [
    "user_filter = non_zero_ratings.groupby(\"user_id\")[\"user_id\"].count().to_frame().rename(columns={\"user_id\": \"count\"}).reset_index()\n",
    "user_filter = user_filter[user_filter[\"count\"] > 14].reset_index(drop=True)\n",
    "non_zero_ratings = pd.merge(non_zero_ratings, user_filter).reset_index(drop=True)\n",
    "len(non_zero_ratings.index)"
   ]
  },
  {
   "cell_type": "markdown",
   "metadata": {},
   "source": [
    "This process left just under 26,000 ratings.  This seems workable.  Let's see how well this subset represents the data:"
   ]
  },
  {
   "cell_type": "code",
   "execution_count": 22,
   "metadata": {
    "ExecuteTime": {
     "end_time": "2020-04-01T11:29:21.567288Z",
     "start_time": "2020-04-01T11:29:21.449166Z"
    }
   },
   "outputs": [
    {
     "data": {
      "text/plain": [
       "<matplotlib.axes._subplots.AxesSubplot at 0x1e4b0137608>"
      ]
     },
     "execution_count": 22,
     "metadata": {},
     "output_type": "execute_result"
    },
    {
     "data": {
      "image/png": "[encoded data removed]",
      "text/plain": [
       "<Figure size 432x288 with 1 Axes>"
      ]
     },
     "metadata": {
      "needs_background": "light"
     },
     "output_type": "display_data"
    }
   ],
   "source": [
    "sns.countplot(x=\"rating\", data=non_zero_ratings)"
   ]
  },
  {
   "cell_type": "code",
   "execution_count": 23,
   "metadata": {
    "ExecuteTime": {
     "end_time": "2020-04-01T11:29:58.410849Z",
     "start_time": "2020-04-01T11:29:58.400876Z"
    }
   },
   "outputs": [
    {
     "data": {
      "text/plain": [
       "count    27871.000000\n",
       "mean         7.704029\n",
       "std          1.845966\n",
       "min          1.000000\n",
       "25%          7.000000\n",
       "50%          8.000000\n",
       "75%          9.000000\n",
       "max         10.000000\n",
       "Name: rating, dtype: float64"
      ]
     },
     "execution_count": 23,
     "metadata": {},
     "output_type": "execute_result"
    }
   ],
   "source": [
    "non_zero_ratings[\"rating\"].describe()"
   ]
  },
  {
   "cell_type": "code",
   "execution_count": 24,
   "metadata": {
    "ExecuteTime": {
     "end_time": "2020-04-01T11:30:01.612107Z",
     "start_time": "2020-04-01T11:30:01.401364Z"
    }
   },
   "outputs": [],
   "source": [
    "def train_eval_test_split(df, seed=42):\n",
    "    ratings_train, temp = train_test_split(df, test_size=0.2, random_state=seed, stratify=df[[\"rating\"]])\n",
    "    ratings_eval, ratings_test = train_test_split(temp, test_size=0.5, random_state=seed, stratify=temp[[\"rating\"]])\n",
    "    return (ratings_train, ratings_eval, ratings_test)\n",
    "\n",
    "ratings_train, ratings_eval, ratings_test = train_eval_test_split(non_zero_ratings)"
   ]
  },
  {
   "cell_type": "markdown",
   "metadata": {},
   "source": [
    "Now that I have four equally sized data sets, I can test the modeling method against 4 different but similar data sets to see how the model preforms.  Each will be trained on 80% of the non-zero ratings, with 10% for tuning the system and 10% for a test set."
   ]
  },
  {
   "cell_type": "code",
   "execution_count": 25,
   "metadata": {
    "ExecuteTime": {
     "end_time": "2020-04-01T11:30:09.388873Z",
     "start_time": "2020-04-01T11:30:09.265100Z"
    }
   },
   "outputs": [],
   "source": [
    "A = ratings_train.pivot(index=\"user_id\", columns=\"book_id\", values=\"rating\").fillna(0)"
   ]
  },
  {
   "cell_type": "code",
   "execution_count": 26,
   "metadata": {
    "ExecuteTime": {
     "end_time": "2020-04-01T11:30:17.088559Z",
     "start_time": "2020-04-01T11:30:14.081193Z"
    }
   },
   "outputs": [
    {
     "data": {
      "text/html": [
       "<div>\n",
       "<style scoped>\n",
       "    .dataframe tbody tr th:only-of-type {\n",
       "        vertical-align: middle;\n",
       "    }\n",
       "\n",
       "    .dataframe tbody tr th {\n",
       "        vertical-align: top;\n",
       "    }\n",
       "\n",
       "    .dataframe thead th {\n",
       "        text-align: right;\n",
       "    }\n",
       "</style>\n",
       "<table border=\"1\" class=\"dataframe\">\n",
       "  <thead>\n",
       "    <tr style=\"text-align: right;\">\n",
       "      <th>book_id</th>\n",
       "      <th>2</th>\n",
       "      <th>8</th>\n",
       "      <th>11</th>\n",
       "      <th>13</th>\n",
       "      <th>19</th>\n",
       "      <th>20</th>\n",
       "      <th>25</th>\n",
       "      <th>28</th>\n",
       "      <th>61</th>\n",
       "      <th>73</th>\n",
       "      <th>...</th>\n",
       "      <th>42573</th>\n",
       "      <th>42574</th>\n",
       "      <th>42577</th>\n",
       "      <th>42578</th>\n",
       "      <th>42579</th>\n",
       "      <th>42580</th>\n",
       "      <th>42581</th>\n",
       "      <th>42582</th>\n",
       "      <th>42586</th>\n",
       "      <th>42588</th>\n",
       "    </tr>\n",
       "    <tr>\n",
       "      <th>user_id</th>\n",
       "      <th></th>\n",
       "      <th></th>\n",
       "      <th></th>\n",
       "      <th></th>\n",
       "      <th></th>\n",
       "      <th></th>\n",
       "      <th></th>\n",
       "      <th></th>\n",
       "      <th></th>\n",
       "      <th></th>\n",
       "      <th></th>\n",
       "      <th></th>\n",
       "      <th></th>\n",
       "      <th></th>\n",
       "      <th></th>\n",
       "      <th></th>\n",
       "      <th></th>\n",
       "      <th></th>\n",
       "      <th></th>\n",
       "      <th></th>\n",
       "      <th></th>\n",
       "    </tr>\n",
       "  </thead>\n",
       "  <tbody>\n",
       "    <tr>\n",
       "      <th>255</th>\n",
       "      <td>1.0</td>\n",
       "      <td>1.0</td>\n",
       "      <td>1.0</td>\n",
       "      <td>1.0</td>\n",
       "      <td>1.0</td>\n",
       "      <td>1.0</td>\n",
       "      <td>1.0</td>\n",
       "      <td>1.0</td>\n",
       "      <td>1.0</td>\n",
       "      <td>1.0</td>\n",
       "      <td>...</td>\n",
       "      <td>1.0</td>\n",
       "      <td>1.0</td>\n",
       "      <td>1.0</td>\n",
       "      <td>1.0</td>\n",
       "      <td>1.0</td>\n",
       "      <td>1.0</td>\n",
       "      <td>1.0</td>\n",
       "      <td>1.0</td>\n",
       "      <td>1.0</td>\n",
       "      <td>1.0</td>\n",
       "    </tr>\n",
       "    <tr>\n",
       "      <th>522</th>\n",
       "      <td>1.0</td>\n",
       "      <td>1.0</td>\n",
       "      <td>1.0</td>\n",
       "      <td>1.0</td>\n",
       "      <td>1.0</td>\n",
       "      <td>1.0</td>\n",
       "      <td>1.0</td>\n",
       "      <td>1.0</td>\n",
       "      <td>1.0</td>\n",
       "      <td>1.0</td>\n",
       "      <td>...</td>\n",
       "      <td>1.0</td>\n",
       "      <td>1.0</td>\n",
       "      <td>1.0</td>\n",
       "      <td>1.0</td>\n",
       "      <td>1.0</td>\n",
       "      <td>1.0</td>\n",
       "      <td>1.0</td>\n",
       "      <td>1.0</td>\n",
       "      <td>1.0</td>\n",
       "      <td>1.0</td>\n",
       "    </tr>\n",
       "    <tr>\n",
       "      <th>1063</th>\n",
       "      <td>1.0</td>\n",
       "      <td>1.0</td>\n",
       "      <td>1.0</td>\n",
       "      <td>1.0</td>\n",
       "      <td>1.0</td>\n",
       "      <td>1.0</td>\n",
       "      <td>1.0</td>\n",
       "      <td>2.0</td>\n",
       "      <td>1.0</td>\n",
       "      <td>1.0</td>\n",
       "      <td>...</td>\n",
       "      <td>1.0</td>\n",
       "      <td>1.0</td>\n",
       "      <td>1.0</td>\n",
       "      <td>1.0</td>\n",
       "      <td>1.0</td>\n",
       "      <td>1.0</td>\n",
       "      <td>1.0</td>\n",
       "      <td>1.0</td>\n",
       "      <td>1.0</td>\n",
       "      <td>1.0</td>\n",
       "    </tr>\n",
       "    <tr>\n",
       "      <th>1641</th>\n",
       "      <td>1.0</td>\n",
       "      <td>1.0</td>\n",
       "      <td>1.0</td>\n",
       "      <td>1.0</td>\n",
       "      <td>1.0</td>\n",
       "      <td>1.0</td>\n",
       "      <td>1.0</td>\n",
       "      <td>1.0</td>\n",
       "      <td>1.0</td>\n",
       "      <td>1.0</td>\n",
       "      <td>...</td>\n",
       "      <td>1.0</td>\n",
       "      <td>1.0</td>\n",
       "      <td>1.0</td>\n",
       "      <td>1.0</td>\n",
       "      <td>1.0</td>\n",
       "      <td>1.0</td>\n",
       "      <td>1.0</td>\n",
       "      <td>1.0</td>\n",
       "      <td>1.0</td>\n",
       "      <td>1.0</td>\n",
       "    </tr>\n",
       "    <tr>\n",
       "      <th>1831</th>\n",
       "      <td>1.0</td>\n",
       "      <td>1.0</td>\n",
       "      <td>1.0</td>\n",
       "      <td>1.0</td>\n",
       "      <td>1.0</td>\n",
       "      <td>1.0</td>\n",
       "      <td>1.0</td>\n",
       "      <td>1.0</td>\n",
       "      <td>1.0</td>\n",
       "      <td>1.0</td>\n",
       "      <td>...</td>\n",
       "      <td>1.0</td>\n",
       "      <td>1.0</td>\n",
       "      <td>1.0</td>\n",
       "      <td>1.0</td>\n",
       "      <td>1.0</td>\n",
       "      <td>1.0</td>\n",
       "      <td>1.0</td>\n",
       "      <td>1.0</td>\n",
       "      <td>1.0</td>\n",
       "      <td>1.0</td>\n",
       "    </tr>\n",
       "    <tr>\n",
       "      <th>...</th>\n",
       "      <td>...</td>\n",
       "      <td>...</td>\n",
       "      <td>...</td>\n",
       "      <td>...</td>\n",
       "      <td>...</td>\n",
       "      <td>...</td>\n",
       "      <td>...</td>\n",
       "      <td>...</td>\n",
       "      <td>...</td>\n",
       "      <td>...</td>\n",
       "      <td>...</td>\n",
       "      <td>...</td>\n",
       "      <td>...</td>\n",
       "      <td>...</td>\n",
       "      <td>...</td>\n",
       "      <td>...</td>\n",
       "      <td>...</td>\n",
       "      <td>...</td>\n",
       "      <td>...</td>\n",
       "      <td>...</td>\n",
       "      <td>...</td>\n",
       "    </tr>\n",
       "    <tr>\n",
       "      <th>104364</th>\n",
       "      <td>1.0</td>\n",
       "      <td>1.0</td>\n",
       "      <td>1.0</td>\n",
       "      <td>1.0</td>\n",
       "      <td>1.0</td>\n",
       "      <td>1.0</td>\n",
       "      <td>1.0</td>\n",
       "      <td>1.0</td>\n",
       "      <td>1.0</td>\n",
       "      <td>1.0</td>\n",
       "      <td>...</td>\n",
       "      <td>1.0</td>\n",
       "      <td>1.0</td>\n",
       "      <td>1.0</td>\n",
       "      <td>1.0</td>\n",
       "      <td>1.0</td>\n",
       "      <td>1.0</td>\n",
       "      <td>1.0</td>\n",
       "      <td>1.0</td>\n",
       "      <td>1.0</td>\n",
       "      <td>1.0</td>\n",
       "    </tr>\n",
       "    <tr>\n",
       "      <th>104367</th>\n",
       "      <td>1.0</td>\n",
       "      <td>1.0</td>\n",
       "      <td>1.0</td>\n",
       "      <td>1.0</td>\n",
       "      <td>1.0</td>\n",
       "      <td>1.0</td>\n",
       "      <td>1.0</td>\n",
       "      <td>1.0</td>\n",
       "      <td>1.0</td>\n",
       "      <td>1.0</td>\n",
       "      <td>...</td>\n",
       "      <td>1.0</td>\n",
       "      <td>1.0</td>\n",
       "      <td>1.0</td>\n",
       "      <td>1.0</td>\n",
       "      <td>1.0</td>\n",
       "      <td>1.0</td>\n",
       "      <td>1.0</td>\n",
       "      <td>1.0</td>\n",
       "      <td>1.0</td>\n",
       "      <td>1.0</td>\n",
       "    </tr>\n",
       "    <tr>\n",
       "      <th>104997</th>\n",
       "      <td>1.0</td>\n",
       "      <td>1.0</td>\n",
       "      <td>1.0</td>\n",
       "      <td>1.0</td>\n",
       "      <td>1.0</td>\n",
       "      <td>1.0</td>\n",
       "      <td>1.0</td>\n",
       "      <td>1.0</td>\n",
       "      <td>1.0</td>\n",
       "      <td>1.0</td>\n",
       "      <td>...</td>\n",
       "      <td>1.0</td>\n",
       "      <td>1.0</td>\n",
       "      <td>1.0</td>\n",
       "      <td>1.0</td>\n",
       "      <td>1.0</td>\n",
       "      <td>1.0</td>\n",
       "      <td>1.0</td>\n",
       "      <td>1.0</td>\n",
       "      <td>1.0</td>\n",
       "      <td>1.0</td>\n",
       "    </tr>\n",
       "    <tr>\n",
       "      <th>105108</th>\n",
       "      <td>1.0</td>\n",
       "      <td>1.0</td>\n",
       "      <td>1.0</td>\n",
       "      <td>1.0</td>\n",
       "      <td>1.0</td>\n",
       "      <td>1.0</td>\n",
       "      <td>1.0</td>\n",
       "      <td>1.0</td>\n",
       "      <td>1.0</td>\n",
       "      <td>1.0</td>\n",
       "      <td>...</td>\n",
       "      <td>1.0</td>\n",
       "      <td>1.0</td>\n",
       "      <td>1.0</td>\n",
       "      <td>1.0</td>\n",
       "      <td>1.0</td>\n",
       "      <td>1.0</td>\n",
       "      <td>1.0</td>\n",
       "      <td>1.0</td>\n",
       "      <td>1.0</td>\n",
       "      <td>1.0</td>\n",
       "    </tr>\n",
       "    <tr>\n",
       "      <th>105271</th>\n",
       "      <td>1.0</td>\n",
       "      <td>1.0</td>\n",
       "      <td>1.0</td>\n",
       "      <td>1.0</td>\n",
       "      <td>1.0</td>\n",
       "      <td>1.0</td>\n",
       "      <td>1.0</td>\n",
       "      <td>1.0</td>\n",
       "      <td>1.0</td>\n",
       "      <td>1.0</td>\n",
       "      <td>...</td>\n",
       "      <td>1.0</td>\n",
       "      <td>1.0</td>\n",
       "      <td>1.0</td>\n",
       "      <td>1.0</td>\n",
       "      <td>1.0</td>\n",
       "      <td>1.0</td>\n",
       "      <td>1.0</td>\n",
       "      <td>1.0</td>\n",
       "      <td>1.0</td>\n",
       "      <td>1.0</td>\n",
       "    </tr>\n",
       "  </tbody>\n",
       "</table>\n",
       "<p>701 rows × 7469 columns</p>\n",
       "</div>"
      ],
      "text/plain": [
       "book_id  2      8      11     13     19     20     25     28     61     73     \\\n",
       "user_id                                                                         \n",
       "255        1.0    1.0    1.0    1.0    1.0    1.0    1.0    1.0    1.0    1.0   \n",
       "522        1.0    1.0    1.0    1.0    1.0    1.0    1.0    1.0    1.0    1.0   \n",
       "1063       1.0    1.0    1.0    1.0    1.0    1.0    1.0    2.0    1.0    1.0   \n",
       "1641       1.0    1.0    1.0    1.0    1.0    1.0    1.0    1.0    1.0    1.0   \n",
       "1831       1.0    1.0    1.0    1.0    1.0    1.0    1.0    1.0    1.0    1.0   \n",
       "...        ...    ...    ...    ...    ...    ...    ...    ...    ...    ...   \n",
       "104364     1.0    1.0    1.0    1.0    1.0    1.0    1.0    1.0    1.0    1.0   \n",
       "104367     1.0    1.0    1.0    1.0    1.0    1.0    1.0    1.0    1.0    1.0   \n",
       "104997     1.0    1.0    1.0    1.0    1.0    1.0    1.0    1.0    1.0    1.0   \n",
       "105108     1.0    1.0    1.0    1.0    1.0    1.0    1.0    1.0    1.0    1.0   \n",
       "105271     1.0    1.0    1.0    1.0    1.0    1.0    1.0    1.0    1.0    1.0   \n",
       "\n",
       "book_id  ...  42573  42574  42577  42578  42579  42580  42581  42582  42586  \\\n",
       "user_id  ...                                                                  \n",
       "255      ...    1.0    1.0    1.0    1.0    1.0    1.0    1.0    1.0    1.0   \n",
       "522      ...    1.0    1.0    1.0    1.0    1.0    1.0    1.0    1.0    1.0   \n",
       "1063     ...    1.0    1.0    1.0    1.0    1.0    1.0    1.0    1.0    1.0   \n",
       "1641     ...    1.0    1.0    1.0    1.0    1.0    1.0    1.0    1.0    1.0   \n",
       "1831     ...    1.0    1.0    1.0    1.0    1.0    1.0    1.0    1.0    1.0   \n",
       "...      ...    ...    ...    ...    ...    ...    ...    ...    ...    ...   \n",
       "104364   ...    1.0    1.0    1.0    1.0    1.0    1.0    1.0    1.0    1.0   \n",
       "104367   ...    1.0    1.0    1.0    1.0    1.0    1.0    1.0    1.0    1.0   \n",
       "104997   ...    1.0    1.0    1.0    1.0    1.0    1.0    1.0    1.0    1.0   \n",
       "105108   ...    1.0    1.0    1.0    1.0    1.0    1.0    1.0    1.0    1.0   \n",
       "105271   ...    1.0    1.0    1.0    1.0    1.0    1.0    1.0    1.0    1.0   \n",
       "\n",
       "book_id  42588  \n",
       "user_id         \n",
       "255        1.0  \n",
       "522        1.0  \n",
       "1063       1.0  \n",
       "1641       1.0  \n",
       "1831       1.0  \n",
       "...        ...  \n",
       "104364     1.0  \n",
       "104367     1.0  \n",
       "104997     1.0  \n",
       "105108     1.0  \n",
       "105271     1.0  \n",
       "\n",
       "[701 rows x 7469 columns]"
      ]
     },
     "execution_count": 26,
     "metadata": {},
     "output_type": "execute_result"
    }
   ],
   "source": [
    "def get_svd_predictions(A, k):\n",
    "    \"\"\"Get ratings predictions using SVD.\n",
    "        Args:\n",
    "    A (DataFrame): The user item rating matrix\n",
    "    k (int): The number of singular values\n",
    "        Returns:\n",
    "    predictions_long (DataFrame): Predicted user item rating data frame\n",
    "    \"\"\"\n",
    "    # Account for user bias\n",
    "    user_ratings_mean = np.mean(A.values, axis=1)\n",
    "    A = A - user_ratings_mean.reshape(-1, 1)\n",
    "    # Do the SVD decomposition\n",
    "    U, sigma, Vt = svds(A, k=k)\n",
    "    sigma = np.diag(sigma)\n",
    "    # Build the prediction matrix\n",
    "    predictions = np.dot(np.dot(U, sigma), Vt)\n",
    "    # Add back in the user bias\n",
    "    predictions = predictions + user_ratings_mean.reshape(-1, 1)\n",
    "    # Let's round it to the nearest integer\n",
    "    predictions = np.matrix.round(predictions, 0)\n",
    "    # Make sure values are between 1 and 10\n",
    "    predictions[predictions < 1] = 1\n",
    "    predictions[predictions > 10] = 10\n",
    "    # Return the predictions\n",
    "    predictions = pd.DataFrame(predictions, index=A.index, columns=A.columns)\n",
    "    return predictions\n",
    "\n",
    "\n",
    "predictions = get_svd_predictions(A, 100)\n",
    "predictions"
   ]
  },
  {
   "cell_type": "code",
   "execution_count": 28,
   "metadata": {
    "ExecuteTime": {
     "end_time": "2020-04-01T11:35:51.716772Z",
     "start_time": "2020-04-01T11:35:51.561876Z"
    }
   },
   "outputs": [
    {
     "data": {
      "text/plain": [
       "<surprise.dataset.DatasetAutoFolds at 0x1e4b6655488>"
      ]
     },
     "execution_count": 28,
     "metadata": {},
     "output_type": "execute_result"
    }
   ],
   "source": [
    "from surprise import SVD\n",
    "from surprise import Dataset\n",
    "from surprise.model_selection import cross_validate\n",
    "\n",
    "# Load the movielens-100k dataset (download it if needed).\n",
    "data = Dataset.load_builtin('ml-100k')\n",
    "\n",
    "# Use the famous SVD algorithm.\n",
    "algo = SVD()\n",
    "\n",
    "# Run 5-fold cross-validation and print results.\n",
    "#cross_validate(algo, data, measures=['RMSE', 'MAE'], cv=5, verbose=True)\n",
    "data"
   ]
  },
  {
   "cell_type": "markdown",
   "metadata": {},
   "source": [
    "4. As part of your textual conclusion, discuss one or more additional experiments that\n",
    "could be performed and/or metrics that could be evaluated only if online evaluation\n",
    "was possible. Also, briefly propose how you would design a reasonable online\n",
    "evaluation environment. "
   ]
  }
 ],
 "metadata": {
  "kernelspec": {
   "display_name": "Python 3",
   "language": "python",
   "name": "python3"
  },
  "language_info": {
   "codemirror_mode": {
    "name": "ipython",
    "version": 3
   },
   "file_extension": ".py",
   "mimetype": "text/x-python",
   "name": "python",
   "nbconvert_exporter": "python",
   "pygments_lexer": "ipython3",
   "version": "3.7.7"
  }
 },
 "nbformat": 4,
 "nbformat_minor": 4
}
