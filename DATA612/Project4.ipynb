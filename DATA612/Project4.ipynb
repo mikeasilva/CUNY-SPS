{
 "cells": [
  {
   "cell_type": "markdown",
   "metadata": {},
   "source": [
    "# DATA 612 Project 4 - Accuracy and Beyond\n",
    "\n",
    "By Mike Silva\n",
    "\n",
    "## Introduction\n",
    "\n",
    "This project has two main components.  The first is to assess the accuracy of the recommender system.  Two different algorithms will be evaluated against offline data.\n",
    "\n",
    "The second component will be an implementation of the goal of increased serendipity, novelty or diversity.  Once this is implemented, I will reevaluate the accuracy of the recommendations.\n",
    "\n",
    "### About the Book-Crossing Data\n",
    "\n",
    "The [Book-Crossing data](http://www2.informatik.uni-freiburg.de/~cziegler/BX/) was collected by Cai-Nicolas Ziegler in a 4-week crawl (August / September 2004) from the Book-Crossing community with kind permission from Ron Hornbaker, CTO of Humankind Systems. It contains 278,858 users (anonymized but with some demographic information) and 1,149,780 ratings (explicit & implicit) about 271,379 books.\n",
    "\n",
    "\n",
    "## Data Acquisition and Exploration"
   ]
  },
  {
   "cell_type": "code",
   "execution_count": 1,
   "metadata": {
    "ExecuteTime": {
     "end_time": "2020-04-05T14:34:11.576305Z",
     "start_time": "2020-04-05T14:34:06.673462Z"
    }
   },
   "outputs": [
    {
     "data": {
      "text/html": [
       "<div>\n",
       "<style scoped>\n",
       "    .dataframe tbody tr th:only-of-type {\n",
       "        vertical-align: middle;\n",
       "    }\n",
       "\n",
       "    .dataframe tbody tr th {\n",
       "        vertical-align: top;\n",
       "    }\n",
       "\n",
       "    .dataframe thead th {\n",
       "        text-align: right;\n",
       "    }\n",
       "</style>\n",
       "<table border=\"1\" class=\"dataframe\">\n",
       "  <thead>\n",
       "    <tr style=\"text-align: right;\">\n",
       "      <th></th>\n",
       "      <th>User-ID</th>\n",
       "      <th>ISBN</th>\n",
       "      <th>Book-Rating</th>\n",
       "    </tr>\n",
       "  </thead>\n",
       "  <tbody>\n",
       "    <tr>\n",
       "      <th>0</th>\n",
       "      <td>276725</td>\n",
       "      <td>034545104X</td>\n",
       "      <td>0</td>\n",
       "    </tr>\n",
       "    <tr>\n",
       "      <th>1</th>\n",
       "      <td>276726</td>\n",
       "      <td>0155061224</td>\n",
       "      <td>5</td>\n",
       "    </tr>\n",
       "    <tr>\n",
       "      <th>2</th>\n",
       "      <td>276727</td>\n",
       "      <td>0446520802</td>\n",
       "      <td>0</td>\n",
       "    </tr>\n",
       "    <tr>\n",
       "      <th>3</th>\n",
       "      <td>276729</td>\n",
       "      <td>052165615X</td>\n",
       "      <td>3</td>\n",
       "    </tr>\n",
       "    <tr>\n",
       "      <th>4</th>\n",
       "      <td>276729</td>\n",
       "      <td>0521795028</td>\n",
       "      <td>6</td>\n",
       "    </tr>\n",
       "  </tbody>\n",
       "</table>\n",
       "</div>"
      ],
      "text/plain": [
       "   User-ID        ISBN  Book-Rating\n",
       "0   276725  034545104X            0\n",
       "1   276726  0155061224            5\n",
       "2   276727  0446520802            0\n",
       "3   276729  052165615X            3\n",
       "4   276729  0521795028            6"
      ]
     },
     "execution_count": 1,
     "metadata": {},
     "output_type": "execute_result"
    }
   ],
   "source": [
    "import matplotlib.pyplot as plt\n",
    "import csv\n",
    "from collections import defaultdict\n",
    "import os\n",
    "import random\n",
    "import numpy as np\n",
    "import pandas as pd\n",
    "import requests\n",
    "import zipfile\n",
    "import seaborn as sns\n",
    "# I will be using the surprise package to build my recommender system\n",
    "from surprise import Reader\n",
    "from surprise import Dataset\n",
    "from surprise.model_selection import KFold, cross_validate\n",
    "from surprise import SVD, SVDpp, NMF\n",
    "from surprise import accuracy\n",
    "\n",
    "# Make this repeatable\n",
    "my_seed = 42\n",
    "random.seed(my_seed)\n",
    "np.random.seed(my_seed)\n",
    "\n",
    "%matplotlib inline\n",
    "\n",
    "# STEP 1 - DOWNLOAD THE DATA SET\n",
    "if not os.path.exists(\"BX-CSV-Dump.zip\"):\n",
    "    # We need to download it\n",
    "    response = requests.get(\"http://www2.informatik.uni-freiburg.de/~cziegler/BX/BX-CSV-Dump.zip\")\n",
    "    if response.status_code == 200:\n",
    "        with open(\"BX-CSV-Dump.zip\", \"wb\") as f:\n",
    "            f.write(response.content)\n",
    "# STEP 2 - EXTRACT THE DATA SET\n",
    "if not os.path.exists(\"BX-Book-Ratings.csv\"):\n",
    "    with zipfile.ZipFile(\"BX-CSV-Dump.zip\",\"r\") as z:\n",
    "        z.extractall()\n",
    "# STEP 3 - READ IN THE DATA\n",
    "ratings = pd.read_csv(\"BX-Book-Ratings.csv\", sep=\";\", encoding = \"unicode_escape\") \n",
    "\n",
    "users = pd.read_csv(\"BX-Users.csv\", sep=\";\", encoding = \"unicode_escape\") \n",
    "\n",
    "# Had to do this the old fashioned way\n",
    "items = []\n",
    "\n",
    "with open(\"BX-Books.csv\") as csvfile:\n",
    "    reader = csv.DictReader(csvfile, delimiter=\";\")\n",
    "    for row in reader:\n",
    "        items.append(row)\n",
    "        \n",
    "items = pd.DataFrame(items)\n",
    "ratings.head()"
   ]
  },
  {
   "cell_type": "markdown",
   "metadata": {},
   "source": [
    "I'm going to simplify the data by converting the ISBN and User ID to an index number.  This will be a bit easier to work with than an ISBN"
   ]
  },
  {
   "cell_type": "code",
   "execution_count": 2,
   "metadata": {
    "ExecuteTime": {
     "end_time": "2020-04-05T14:34:12.616660Z",
     "start_time": "2020-04-05T14:34:11.576305Z"
    }
   },
   "outputs": [
    {
     "data": {
      "text/html": [
       "<div>\n",
       "<style scoped>\n",
       "    .dataframe tbody tr th:only-of-type {\n",
       "        vertical-align: middle;\n",
       "    }\n",
       "\n",
       "    .dataframe tbody tr th {\n",
       "        vertical-align: top;\n",
       "    }\n",
       "\n",
       "    .dataframe thead th {\n",
       "        text-align: right;\n",
       "    }\n",
       "</style>\n",
       "<table border=\"1\" class=\"dataframe\">\n",
       "  <thead>\n",
       "    <tr style=\"text-align: right;\">\n",
       "      <th></th>\n",
       "      <th>book_id</th>\n",
       "      <th>user_id</th>\n",
       "      <th>rating</th>\n",
       "    </tr>\n",
       "  </thead>\n",
       "  <tbody>\n",
       "    <tr>\n",
       "      <th>0</th>\n",
       "      <td>0</td>\n",
       "      <td>0</td>\n",
       "      <td>0</td>\n",
       "    </tr>\n",
       "    <tr>\n",
       "      <th>1</th>\n",
       "      <td>0</td>\n",
       "      <td>1655</td>\n",
       "      <td>5</td>\n",
       "    </tr>\n",
       "    <tr>\n",
       "      <th>2</th>\n",
       "      <td>383</td>\n",
       "      <td>1655</td>\n",
       "      <td>9</td>\n",
       "    </tr>\n",
       "    <tr>\n",
       "      <th>3</th>\n",
       "      <td>443</td>\n",
       "      <td>1655</td>\n",
       "      <td>8</td>\n",
       "    </tr>\n",
       "    <tr>\n",
       "      <th>4</th>\n",
       "      <td>1313</td>\n",
       "      <td>1655</td>\n",
       "      <td>9</td>\n",
       "    </tr>\n",
       "    <tr>\n",
       "      <th>...</th>\n",
       "      <td>...</td>\n",
       "      <td>...</td>\n",
       "      <td>...</td>\n",
       "    </tr>\n",
       "    <tr>\n",
       "      <th>1149775</th>\n",
       "      <td>340494</td>\n",
       "      <td>105254</td>\n",
       "      <td>10</td>\n",
       "    </tr>\n",
       "    <tr>\n",
       "      <th>1149776</th>\n",
       "      <td>340500</td>\n",
       "      <td>105260</td>\n",
       "      <td>8</td>\n",
       "    </tr>\n",
       "    <tr>\n",
       "      <th>1149777</th>\n",
       "      <td>340501</td>\n",
       "      <td>105261</td>\n",
       "      <td>5</td>\n",
       "    </tr>\n",
       "    <tr>\n",
       "      <th>1149778</th>\n",
       "      <td>340510</td>\n",
       "      <td>105264</td>\n",
       "      <td>8</td>\n",
       "    </tr>\n",
       "    <tr>\n",
       "      <th>1149779</th>\n",
       "      <td>340555</td>\n",
       "      <td>105282</td>\n",
       "      <td>8</td>\n",
       "    </tr>\n",
       "  </tbody>\n",
       "</table>\n",
       "<p>1149780 rows × 3 columns</p>\n",
       "</div>"
      ],
      "text/plain": [
       "         book_id  user_id  rating\n",
       "0              0        0       0\n",
       "1              0     1655       5\n",
       "2            383     1655       9\n",
       "3            443     1655       8\n",
       "4           1313     1655       9\n",
       "...          ...      ...     ...\n",
       "1149775   340494   105254      10\n",
       "1149776   340500   105260       8\n",
       "1149777   340501   105261       5\n",
       "1149778   340510   105264       8\n",
       "1149779   340555   105282       8\n",
       "\n",
       "[1149780 rows x 3 columns]"
      ]
     },
     "execution_count": 2,
     "metadata": {},
     "output_type": "execute_result"
    }
   ],
   "source": [
    "item_index = pd.DataFrame({\"ISBN\": ratings[\"ISBN\"].unique()}).reset_index().rename(columns={\"index\": \"book_id\"})\n",
    "user_index = pd.DataFrame({\"User-ID\": ratings[\"User-ID\"].unique()}).reset_index().rename(columns={\"index\": \"user_id\"})\n",
    "ratings = pd.merge(ratings, item_index).drop(columns=[\"ISBN\"])\n",
    "ratings = pd.merge(ratings, user_index).drop(columns=[\"User-ID\"]).rename(columns={\"Book-Rating\": \"rating\"})\n",
    "ratings = ratings[[\"book_id\", \"user_id\", \"rating\"]]\n",
    "ratings"
   ]
  },
  {
   "cell_type": "markdown",
   "metadata": {},
   "source": [
    "There is over one million records.  Let's get a quick tally of how many of each ratings are in this data set:"
   ]
  },
  {
   "cell_type": "code",
   "execution_count": 3,
   "metadata": {
    "ExecuteTime": {
     "end_time": "2020-04-05T14:34:12.651536Z",
     "start_time": "2020-04-05T14:34:12.618655Z"
    }
   },
   "outputs": [
    {
     "data": {
      "text/plain": [
       "rating\n",
       "0     716109\n",
       "1       1770\n",
       "2       2759\n",
       "3       5996\n",
       "4       8904\n",
       "5      50974\n",
       "6      36924\n",
       "7      76457\n",
       "8     103736\n",
       "9      67541\n",
       "10     78610\n",
       "Name: rating, dtype: int64"
      ]
     },
     "execution_count": 3,
     "metadata": {},
     "output_type": "execute_result"
    }
   ],
   "source": [
    "ratings.groupby(\"rating\")[\"rating\"].count()"
   ]
  },
  {
   "cell_type": "markdown",
   "metadata": {},
   "source": [
    "Well over 700K are zeros.  The documentation indicates they are implicit ratings.  Let's visualize the non-zero (explicit) ratings."
   ]
  },
  {
   "cell_type": "code",
   "execution_count": 4,
   "metadata": {
    "ExecuteTime": {
     "end_time": "2020-04-05T14:34:12.735751Z",
     "start_time": "2020-04-05T14:34:12.653539Z"
    }
   },
   "outputs": [
    {
     "data": {
      "text/plain": [
       "433671"
      ]
     },
     "execution_count": 4,
     "metadata": {},
     "output_type": "execute_result"
    }
   ],
   "source": [
    "non_zero_ratings = ratings[ratings[\"rating\"] > 0].reset_index(drop=True)\n",
    "len(non_zero_ratings.index)"
   ]
  },
  {
   "cell_type": "code",
   "execution_count": 5,
   "metadata": {
    "ExecuteTime": {
     "end_time": "2020-04-05T14:34:12.980753Z",
     "start_time": "2020-04-05T14:34:12.736726Z"
    }
   },
   "outputs": [
    {
     "data": {
      "text/plain": [
       "<matplotlib.axes._subplots.AxesSubplot at 0x23a63c18508>"
      ]
     },
     "execution_count": 5,
     "metadata": {},
     "output_type": "execute_result"
    },
    {
     "data": {
      "image/png": "[encoded data removed]",
      "text/plain": [
       "<Figure size 432x288 with 1 Axes>"
      ]
     },
     "metadata": {
      "needs_background": "light"
     },
     "output_type": "display_data"
    }
   ],
   "source": [
    "sns.countplot(x=\"rating\", data=non_zero_ratings)"
   ]
  },
  {
   "cell_type": "markdown",
   "metadata": {
    "ExecuteTime": {
     "end_time": "2020-03-28T20:20:07.483143Z",
     "start_time": "2020-03-28T20:20:07.362875Z"
    }
   },
   "source": [
    "There's quite a few books that received an 8+ rating.  That may be what I will call the \"good\" recommendations.  Let's see what the average rating is for the non-zero rated books:"
   ]
  },
  {
   "cell_type": "code",
   "execution_count": 6,
   "metadata": {
    "ExecuteTime": {
     "end_time": "2020-04-05T14:34:12.988345Z",
     "start_time": "2020-04-05T14:34:12.982335Z"
    }
   },
   "outputs": [
    {
     "data": {
      "text/plain": [
       "7.601066246071331"
      ]
     },
     "execution_count": 6,
     "metadata": {},
     "output_type": "execute_result"
    }
   ],
   "source": [
    "average_non_zero_rating = non_zero_ratings[\"rating\"].mean()\n",
    "average_non_zero_rating"
   ]
  },
  {
   "cell_type": "markdown",
   "metadata": {},
   "source": [
    "I will use 8+ as they have a higher than average rating.  Seven or lower are not desirable recommendations. "
   ]
  },
  {
   "cell_type": "markdown",
   "metadata": {},
   "source": [
    "## Recommender System Development\n",
    "\n",
    "I will develop a SVD recommender system.  Due to the quantity of ratings, an the limits of my computer, I am not able to implement a collaborative filter.  However I can preform a couple of matrix factorization based systems: [non-negative matrix factorization](https://medium.com/logicai/non-negative-matrix-factorization-for-recommendation-systems-985ca8d5c16c) (NMF) and SVD++.\n",
    "\n",
    "I will also try to increase the diversity of the recommendations.  To do this I will select a sub-group of users that have the most ratings to train the model.  I am working under the assumption that by using the users who have reviewed a diverse set of books at the basis of the training data, the recommender system will produce more diverse recommendations.\n",
    "\n",
    "For this project I will be utilizing the [Suprise python package](http://surpriselib.com/) to aid in building the recommendation systems.  This package was able to handle the large amount of data.  I tried implementing it myself but was unable to efficiently.\n",
    "\n",
    "### Creating Diverse Recommendations\n",
    "\n",
    "In order to increase the diversity of the ratings, I will include the implicit ratings data.  This is done with the hypothesis that a deeper set of data will result in new items being recommended.  \n",
    "\n",
    "Since the implicit items are things that these users will like, I will give them a rating of 10.\n",
    "\n",
    "Because of the size of the dataset, I will be using SVD to predict the ratings."
   ]
  },
  {
   "cell_type": "code",
   "execution_count": 7,
   "metadata": {
    "ExecuteTime": {
     "end_time": "2020-04-05T14:34:13.113914Z",
     "start_time": "2020-04-05T14:34:12.989343Z"
    }
   },
   "outputs": [],
   "source": [
    "diverse_ratings = ratings.copy()\n",
    "diverse_ratings.loc[diverse_ratings[\"rating\"] == 0, \"rating\"] = 10"
   ]
  },
  {
   "cell_type": "markdown",
   "metadata": {},
   "source": [
    "### Final Data Prep\n",
    "\n",
    "Now I can create the data sets for the Surprise package."
   ]
  },
  {
   "cell_type": "code",
   "execution_count": 8,
   "metadata": {
    "ExecuteTime": {
     "end_time": "2020-04-05T14:34:14.388907Z",
     "start_time": "2020-04-05T14:34:13.115706Z"
    }
   },
   "outputs": [],
   "source": [
    "reader = Reader(rating_scale=(1, 10))\n",
    "data = Dataset.load_from_df(non_zero_ratings, reader)\n",
    "diverse = Dataset.load_from_df(diverse_ratings, reader)"
   ]
  },
  {
   "cell_type": "markdown",
   "metadata": {
    "ExecuteTime": {
     "end_time": "2020-04-03T02:26:58.008981Z",
     "start_time": "2020-04-03T02:26:57.921477Z"
    }
   },
   "source": [
    "### Model Training and Evaluation Metric Collection\n",
    "\n",
    "Now that I have the data set I will train a SVD model on the full diverse set to be the model that offers diverse recommendations.  I will then preform K-Fold validation of the model by training other models and measuring the accuracy in terms of RMSE and MAE on the test set.    \n",
    "\n",
    "In order to evaluate the level of diversity of the recommendations, I will look at the number of items that are recommended.  I will only look at the top 10 recommendations that are above the rating threshold of 8."
   ]
  },
  {
   "cell_type": "code",
   "execution_count": 9,
   "metadata": {
    "ExecuteTime": {
     "end_time": "2020-04-05T14:47:14.751886Z",
     "start_time": "2020-04-05T14:34:14.390904Z"
    }
   },
   "outputs": [
    {
     "name": "stdout",
     "output_type": "stream",
     "text": [
      "Working through K-Fold #1\n",
      " Training models...\n",
      " Predicting test set...\n",
      " Getting the coverage of the predictions...\n",
      " Evaluating accuracy...\n",
      "Working through K-Fold #2\n",
      " Training models...\n",
      " Predicting test set...\n",
      " Getting the coverage of the predictions...\n",
      " Evaluating accuracy...\n",
      "Working through K-Fold #3\n",
      " Training models...\n",
      " Predicting test set...\n",
      " Getting the coverage of the predictions...\n",
      " Evaluating accuracy...\n",
      "Working through K-Fold #4\n",
      " Training models...\n",
      " Predicting test set...\n",
      " Getting the coverage of the predictions...\n",
      " Evaluating accuracy...\n",
      "Working through K-Fold #5\n",
      " Training models...\n",
      " Predicting test set...\n",
      " Getting the coverage of the predictions...\n",
      " Evaluating accuracy...\n"
     ]
    }
   ],
   "source": [
    "def get_top_n(predictions, n=10):\n",
    "    '''Return the top-N recommendation for each user from a set of predictions.\n",
    "\n",
    "    Args:\n",
    "        predictions(list of Prediction objects): The list of predictions, as\n",
    "            returned by the test method of an algorithm.\n",
    "        n(int): The number of recommendation to output for each user. Default\n",
    "            is 10.\n",
    "\n",
    "    Returns:\n",
    "    A dict where keys are user (raw) ids and values are lists of tuples:\n",
    "        [(raw item id, rating estimation), ...] of size n.\n",
    "    '''\n",
    "\n",
    "    # First map the predictions to each user.\n",
    "    top_n = defaultdict(list)\n",
    "    for uid, iid, true_r, est, _ in predictions:\n",
    "        top_n[uid].append((iid, est))\n",
    "\n",
    "    # Then sort the predictions for each user and retrieve the k highest ones.\n",
    "    for uid, user_ratings in top_n.items():\n",
    "        user_ratings.sort(key=lambda x: x[1], reverse=True)\n",
    "        top_n[uid] = user_ratings[:n]\n",
    "\n",
    "    return top_n\n",
    "\n",
    "\n",
    "def get_item_coverage(predictions, n=10, threshold = 8):\n",
    "    top_n = get_top_n(predictions, n)\n",
    "    items_recommended = set()\n",
    "    for user, items in top_n.items():\n",
    "        for item, rating in items:\n",
    "            if round(rating, 0) >= threshold:\n",
    "                items_recommended.add(item)\n",
    "\n",
    "    return len(items_recommended)\n",
    "\n",
    "\n",
    "kf = KFold(n_splits=5)\n",
    "svd = SVD()\n",
    "diverse_svd = SVD()\n",
    "diverse_svd.fit(diverse.build_full_trainset())\n",
    "svdpp = SVDpp()\n",
    "nmf = NMF()\n",
    "\n",
    "results = list()\n",
    "precision_and_recall = list()\n",
    "\n",
    "fold = 0\n",
    "for training_set, test_set in kf.split(data):\n",
    "    fold += 1\n",
    "    print(\"Working through K-Fold #\" + str(fold))\n",
    "    # Train the models on the training set\n",
    "    print(\" Training models...\")\n",
    "    svd.fit(training_set)\n",
    "    svdpp.fit(training_set)\n",
    "    nmf.fit(training_set)\n",
    "    # Remember diverse_svd was already trained on the full diverse training set\n",
    "    \n",
    "    # Get the predictions on the test set\n",
    "    print(\" Predicting test set...\")\n",
    "    svd_predictions = svd.test(test_set)\n",
    "    svdpp_predictions = svdpp.test(test_set)\n",
    "    nmf_predictions = nmf.test(test_set)\n",
    "    diverse_svd_predictions = diverse_svd.test(test_set)\n",
    "    \n",
    "    # Compute the coverage of the top 10 \"good\" predictions\n",
    "    print(\" Getting the coverage of the predictions...\")\n",
    "    svd_predictions_coverage = get_item_coverage(svd_predictions)\n",
    "    svdpp_predictions_coverage = get_item_coverage(svdpp_predictions)\n",
    "    nmf_predictions_coverage = get_item_coverage(nmf_predictions)\n",
    "    diverse_svd_predictions_coverage = get_item_coverage(diverse_svd_predictions)\n",
    "            \n",
    "    # Compute the RMSEs\n",
    "    print(\" Evaluating accuracy...\")\n",
    "    results.append({\"Algorithm\":\"SVD\", \"K-Fold\": fold, \"Coverage\": svd_predictions_coverage, \"RMSE\": accuracy.rmse(svd_predictions, verbose=False), \"MAE\": accuracy.mae(svd_predictions, verbose=False)})\n",
    "    results.append({\"Algorithm\":\"SVD++\", \"K-Fold\": fold, \"Coverage\": svdpp_predictions_coverage, \"RMSE\": accuracy.rmse(svdpp_predictions, verbose=False), \"MAE\": accuracy.mae(svdpp_predictions, verbose=False)})\n",
    "    results.append({\"Algorithm\":\"NMF\", \"K-Fold\": fold, \"Coverage\": nmf_predictions_coverage, \"RMSE\": accuracy.rmse(nmf_predictions, verbose=False), \"MAE\": accuracy.mae(nmf_predictions, verbose=False)})\n",
    "    results.append({\"Algorithm\":\"Diverse SVD\", \"K-Fold\": fold, \"Coverage\": diverse_svd_predictions_coverage, \"RMSE\": accuracy.rmse(diverse_svd_predictions, verbose=False), \"MAE\": accuracy.mae(diverse_svd_predictions, verbose=False)})    "
   ]
  },
  {
   "cell_type": "markdown",
   "metadata": {},
   "source": [
    "## Evaluation\n",
    "\n",
    "Let's examine the relationship between model accuracy (measured by RMSE and MAE) and the number of items recommend."
   ]
  },
  {
   "cell_type": "code",
   "execution_count": 10,
   "metadata": {
    "ExecuteTime": {
     "end_time": "2020-04-05T14:47:14.901266Z",
     "start_time": "2020-04-05T14:47:14.751886Z"
    }
   },
   "outputs": [
    {
     "data": {
      "text/plain": [
       "<matplotlib.axes._subplots.AxesSubplot at 0x23a164404c8>"
      ]
     },
     "execution_count": 10,
     "metadata": {},
     "output_type": "execute_result"
    },
    {
     "data": {
      "image/png": "[encoded data removed]",
      "text/plain": [
       "<Figure size 432x288 with 1 Axes>"
      ]
     },
     "metadata": {
      "needs_background": "light"
     },
     "output_type": "display_data"
    }
   ],
   "source": [
    "results = pd.DataFrame(results)\n",
    "sns.scatterplot(x=\"RMSE\", y=\"Coverage\", hue=\"Algorithm\", data=results)"
   ]
  },
  {
   "cell_type": "code",
   "execution_count": 11,
   "metadata": {
    "ExecuteTime": {
     "end_time": "2020-04-05T14:47:15.050477Z",
     "start_time": "2020-04-05T14:47:14.903261Z"
    }
   },
   "outputs": [
    {
     "data": {
      "text/plain": [
       "<matplotlib.axes._subplots.AxesSubplot at 0x23a5ca05b08>"
      ]
     },
     "execution_count": 11,
     "metadata": {},
     "output_type": "execute_result"
    },
    {
     "data": {
      "image/png": "[encoded data removed]",
      "text/plain": [
       "<Figure size 432x288 with 1 Axes>"
      ]
     },
     "metadata": {
      "needs_background": "light"
     },
     "output_type": "display_data"
    }
   ],
   "source": [
    "sns.scatterplot(x=\"MAE\", y=\"Coverage\", hue=\"Algorithm\", data=results)"
   ]
  },
  {
   "cell_type": "code",
   "execution_count": 12,
   "metadata": {
    "ExecuteTime": {
     "end_time": "2020-04-05T14:47:15.063652Z",
     "start_time": "2020-04-05T14:47:15.051473Z"
    }
   },
   "outputs": [
    {
     "data": {
      "text/html": [
       "<div>\n",
       "<style scoped>\n",
       "    .dataframe tbody tr th:only-of-type {\n",
       "        vertical-align: middle;\n",
       "    }\n",
       "\n",
       "    .dataframe tbody tr th {\n",
       "        vertical-align: top;\n",
       "    }\n",
       "\n",
       "    .dataframe thead th {\n",
       "        text-align: right;\n",
       "    }\n",
       "</style>\n",
       "<table border=\"1\" class=\"dataframe\">\n",
       "  <thead>\n",
       "    <tr style=\"text-align: right;\">\n",
       "      <th></th>\n",
       "      <th>Algorithm</th>\n",
       "      <th>Coverage</th>\n",
       "      <th>RMSE</th>\n",
       "      <th>MAE</th>\n",
       "    </tr>\n",
       "  </thead>\n",
       "  <tbody>\n",
       "    <tr>\n",
       "      <th>0</th>\n",
       "      <td>Diverse SVD</td>\n",
       "      <td>25007.2</td>\n",
       "      <td>1.242639</td>\n",
       "      <td>0.912424</td>\n",
       "    </tr>\n",
       "    <tr>\n",
       "      <th>1</th>\n",
       "      <td>NMF</td>\n",
       "      <td>19155.2</td>\n",
       "      <td>2.450634</td>\n",
       "      <td>2.034484</td>\n",
       "    </tr>\n",
       "    <tr>\n",
       "      <th>2</th>\n",
       "      <td>SVD</td>\n",
       "      <td>19268.2</td>\n",
       "      <td>1.641584</td>\n",
       "      <td>1.267173</td>\n",
       "    </tr>\n",
       "    <tr>\n",
       "      <th>3</th>\n",
       "      <td>SVD++</td>\n",
       "      <td>19098.2</td>\n",
       "      <td>1.668991</td>\n",
       "      <td>1.297500</td>\n",
       "    </tr>\n",
       "  </tbody>\n",
       "</table>\n",
       "</div>"
      ],
      "text/plain": [
       "     Algorithm  Coverage      RMSE       MAE\n",
       "0  Diverse SVD   25007.2  1.242639  0.912424\n",
       "1          NMF   19155.2  2.450634  2.034484\n",
       "2          SVD   19268.2  1.641584  1.267173\n",
       "3        SVD++   19098.2  1.668991  1.297500"
      ]
     },
     "execution_count": 12,
     "metadata": {},
     "output_type": "execute_result"
    }
   ],
   "source": [
    "results.groupby(\"Algorithm\", as_index=False).agg({\"Coverage\":\"mean\", \"RMSE\": \"mean\", \"MAE\":\"mean\"})"
   ]
  },
  {
   "cell_type": "markdown",
   "metadata": {
    "ExecuteTime": {
     "end_time": "2020-04-05T14:10:45.885457Z",
     "start_time": "2020-04-05T14:10:45.689973Z"
    }
   },
   "source": [
    "This is a surprising result!  All of the articles I read about increasing the diversity of recommendations indicated an inverse relationship between the RMSE and increasing the diversity.  For this data set it has both increased the number of items offered as \"good\" recommendations, and decreased the RMSE of predictions on the test set.\n",
    "\n",
    "## Summary\n",
    "\n",
    "I set out to create a recommender system using rating data scrapped from the Book Crossing website.  I trained SVD, SVD++ and NMF models on the explicit ratings data.  In an effort to increase the diversity, I included the implicit ratings giving them a rating of 10 in an SVD model.  I evaluated the models for accuracy looking at the RMSE and MAE, and the diversity of the recommendations by the number of books offered in the top 10 recommendations.\n",
    "\n",
    "The \"diverse\" SVD out preformed all other algorithms in both prediction accuracy and diversity of recommendations.\n",
    "\n",
    "## Future Work\n",
    "\n",
    "Additional work should be done on this model.  The intra-list similarity should be calculated on the recommendations to confirm that the \"diverse\" SVD did truly provide a more diverse set of recommendations.  \n",
    "\n",
    "This offline work is built on the assumption that if a \"good\" recommendation is provided, the user will find the utility in them.  This should be tested through A/B testing assessing the precision and recall of the model."
   ]
  }
 ],
 "metadata": {
  "kernelspec": {
   "display_name": "Python 3",
   "language": "python",
   "name": "python3"
  },
  "language_info": {
   "codemirror_mode": {
    "name": "ipython",
    "version": 3
   },
   "file_extension": ".py",
   "mimetype": "text/x-python",
   "name": "python",
   "nbconvert_exporter": "python",
   "pygments_lexer": "ipython3",
   "version": "3.7.7"
  }
 },
 "nbformat": 4,
 "nbformat_minor": 4
}
