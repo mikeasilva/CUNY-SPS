{
 "cells": [
  {
   "cell_type": "markdown",
   "metadata": {},
   "source": [
    "# Research Discussion Assignment 4\n",
    "\n",
    "## Serve up the opposite of what they want\n",
    "\n",
    "I found the articles very interesting, and I agree that there is a real problem here.  How do you deal with that?  I like the key is found in the [first article](https://www.wired.com/story/creating-ethical-recommendation-engines/) about \"giving people more control over what their their algorithmic feed serves up\" however I think that might increase the bias, by serving up an echo chamber of recommendations.\n",
    "\n",
    "Here's a more radical idea.  What if recommender systems served up the exact opposite. I listen to the podcast [EconTalk](http://econtalk.org/).  One theme that reoccurs is a discussion about tribalism.  The host suggests that people with \"right wing\" attitudes should engage in a \"left wing\" activity like do Yoga or shop at WholeFoods.  He recommends that left wingers go to NASCAR.  It is his hope that through exposure to the \"other side\" you will realize they have good too.\n",
    "\n",
    "What if that concept was carried over into recommender systems?  Imagine signing in to YouTube and being presented with a \"On the Other Hand\" set of recommendations.  It would serve up content from other people that are about the opposite of the current users in an effort to produce a more eclectic user.  It's the act of choosing to give the user a chance to try something totally different.  I would think of it in the same way as generals are in college.  The goal is to broaden your horizons."
   ]
  }
 ],
 "metadata": {
  "kernelspec": {
   "display_name": "Python 3",
   "language": "python",
   "name": "python3"
  },
  "language_info": {
   "codemirror_mode": {
    "name": "ipython",
    "version": 3
   },
   "file_extension": ".py",
   "mimetype": "text/x-python",
   "name": "python",
   "nbconvert_exporter": "python",
   "pygments_lexer": "ipython3",
   "version": "3.7.7"
  }
 },
 "nbformat": 4,
 "nbformat_minor": 4
}
