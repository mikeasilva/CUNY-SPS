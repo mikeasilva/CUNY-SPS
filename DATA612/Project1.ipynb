{
 "cells": [
  {
   "cell_type": "markdown",
   "metadata": {},
   "source": [
    "# DATA 612 Project 1 - Joke Recommender System\n",
    "\n",
    "By Mike Silva\n",
    "\n",
    "## Introduction\n",
    "\n",
    "This recommender system provides our users with jokes that they will find funny.  By providing this content we will keep users engaged longer.\n",
    "\n",
    "## Project Requirements\n",
    "\n",
    "• Briefly describe the recommender system that you’re going to build out from a business perspective, e.g. “This system recommends data science books to readers.”\n",
    "\n",
    "• Find a dataset, or build out your own toy dataset. As a minimum requirement for complexity, please include numeric ratings for at least five users, across at least five items, with some missing data.\n",
    "\n",
    "• Load your data into (for example) an R or pandas dataframe, a Python dictionary or list of lists, (or another data structure of your choosing). From there, create a user-item matrix.\n",
    "\n",
    "• If you choose to work with a large dataset, you’re encouraged to also create a small, relatively dense “user-item” matrix as a subset so that you can hand-verify your calculations.\n",
    "\n",
    "• Break your ratings into separate training and test datasets.\n",
    "\n",
    "• Using your training data, calculate the raw average (mean) rating for every user-item combination.\n",
    "\n",
    "• Calculate the RMSE for raw average for both your training data and your test data.\n",
    "\n",
    "• Using your training data, calculate the bias for each user and each item.\n",
    "\n",
    "• From the raw average, and the appropriate user and item biases, calculate the baseline predictors for every user-item combination.\n",
    "\n",
    "• Calculate the RMSE for the baseline predictors for both your training data and your test data.\n",
    "\n",
    "• Summarize your results"
   ]
  },
  {
   "cell_type": "markdown",
   "metadata": {},
   "source": [
    "### About the Jester Dataset\n",
    "\n",
    "For this project I will be using the [Jester dataset](http://eigentaste.berkeley.edu/dataset/).  It was created by Ken Goldberg at UC Berkley (Eigentaste: A Constant Time Collaborative Filtering Algorithm. Ken Goldberg, Theresa Roeder, Dhruv Gupta, and Chris Perkins. Information Retrieval, 4(2), 133-151. July 2001).\n",
    "\n",
    "Data files are in .zip format, when unzipped, they are in Excel (.xls) format.  The ratings are real values ranging from -10.00 to +10.00 (the value \"99\" corresponds to \"null\" meaning \"not rated\").  Each row is a user.  The first column gives the number of jokes rated by the user. The next 100 give the ratings for jokes 1 to 100.  I will only be the first data set that has data for users that have rated 36 or more jokes.\n",
    "\n",
    "The researchers note that the sub-matrix including only columns {5, 7, 8, 13, 15, 16, 17, 18, 19, 20} is dense. Almost all users have rated those jokes.  I will be using a small subset of this matrix to verify the calculations preformed on the whole."
   ]
  },
  {
   "cell_type": "code",
   "execution_count": 1,
   "metadata": {
    "ExecuteTime": {
     "end_time": "2020-01-31T00:32:08.215953Z",
     "start_time": "2020-01-31T00:32:01.667436Z"
    }
   },
   "outputs": [
    {
     "data": {
      "text/plain": [
       "(24983, 101)"
      ]
     },
     "execution_count": 1,
     "metadata": {},
     "output_type": "execute_result"
    }
   ],
   "source": [
    "from os import path\n",
    "import requests\n",
    "import zipfile\n",
    "import numpy as np\n",
    "import pandas as pd\n",
    "\n",
    "# STEP 1 - DOWNLOAD THE DATA SET\n",
    "if not path.exists(\"jester_dataset_1_1.zip\"):\n",
    "    # We need to download it\n",
    "    response = requests.get(\"http://eigentaste.berkeley.edu/dataset/jester_dataset_1_1.zip\")\n",
    "    if response.status_code == 200:\n",
    "        with open(\"jester_dataset_1_1.zip\", \"wb\") as f:\n",
    "            f.write(response.content)\n",
    "# STEP 2 - EXTRACT THE DATA SET\n",
    "if not path.exists(\"jester-data-1.xls\"):\n",
    "    with zipfile.ZipFile(\"jester_dataset_1_1.zip\",\"r\") as z:\n",
    "        z.extract(\"jester-data-1.xls\")\n",
    "# STEP 3 - READ ING THE DATA\n",
    "# The data is a continous rating scale from -10 to 10.  99 is used if a user hasn't rated a joke.\n",
    "# The data does not have a header.  Using the column numbers works great.\n",
    "df = pd.read_excel(\"jester-data-1.xls\",  header=None, na_values = 99)\n",
    "# We should have a 24,983 X 101 data frame\n",
    "df.shape"
   ]
  },
  {
   "cell_type": "markdown",
   "metadata": {},
   "source": [
    "Since the first column (0) is the number of jokes rated by the user we can drop that so we are only left with the ratings."
   ]
  },
  {
   "cell_type": "code",
   "execution_count": 2,
   "metadata": {
    "ExecuteTime": {
     "end_time": "2020-01-31T00:32:08.231881Z",
     "start_time": "2020-01-31T00:32:08.216920Z"
    }
   },
   "outputs": [],
   "source": [
    "df = df.drop([0], axis=1)"
   ]
  },
  {
   "cell_type": "markdown",
   "metadata": {},
   "source": [
    "The rating scale was continous from -10 to 10.  We will simplify this data set by transforming all values to the nearest whole number."
   ]
  },
  {
   "cell_type": "code",
   "execution_count": 3,
   "metadata": {
    "ExecuteTime": {
     "end_time": "2020-01-31T00:32:08.508085Z",
     "start_time": "2020-01-31T00:32:08.234883Z"
    }
   },
   "outputs": [],
   "source": [
    "df = df.round(0)"
   ]
  },
  {
   "cell_type": "markdown",
   "metadata": {},
   "source": [
    "Now I will create the small subset using the first 10 users and 10 jokes.  Nine of the ten jokes are identified as having dense ratings data.  The first joke is added to the set to ensure some missing values."
   ]
  },
  {
   "cell_type": "code",
   "execution_count": 4,
   "metadata": {
    "ExecuteTime": {
     "end_time": "2020-01-31T00:32:08.528032Z",
     "start_time": "2020-01-31T00:32:08.510046Z"
    }
   },
   "outputs": [
    {
     "data": {
      "text/html": [
       "<div>\n",
       "<style scoped>\n",
       "    .dataframe tbody tr th:only-of-type {\n",
       "        vertical-align: middle;\n",
       "    }\n",
       "\n",
       "    .dataframe tbody tr th {\n",
       "        vertical-align: top;\n",
       "    }\n",
       "\n",
       "    .dataframe thead th {\n",
       "        text-align: right;\n",
       "    }\n",
       "</style>\n",
       "<table border=\"1\" class=\"dataframe\">\n",
       "  <thead>\n",
       "    <tr style=\"text-align: right;\">\n",
       "      <th></th>\n",
       "      <th>1</th>\n",
       "      <th>7</th>\n",
       "      <th>8</th>\n",
       "      <th>13</th>\n",
       "      <th>15</th>\n",
       "      <th>16</th>\n",
       "      <th>17</th>\n",
       "      <th>18</th>\n",
       "      <th>19</th>\n",
       "      <th>20</th>\n",
       "    </tr>\n",
       "  </thead>\n",
       "  <tbody>\n",
       "    <tr>\n",
       "      <th>0</th>\n",
       "      <td>-8.0</td>\n",
       "      <td>-10.0</td>\n",
       "      <td>4.0</td>\n",
       "      <td>-7.0</td>\n",
       "      <td>-7.0</td>\n",
       "      <td>-8.0</td>\n",
       "      <td>-7.0</td>\n",
       "      <td>-10.0</td>\n",
       "      <td>-10.0</td>\n",
       "      <td>-10.0</td>\n",
       "    </tr>\n",
       "    <tr>\n",
       "      <th>1</th>\n",
       "      <td>4.0</td>\n",
       "      <td>-1.0</td>\n",
       "      <td>-5.0</td>\n",
       "      <td>4.0</td>\n",
       "      <td>5.0</td>\n",
       "      <td>-1.0</td>\n",
       "      <td>5.0</td>\n",
       "      <td>-1.0</td>\n",
       "      <td>3.0</td>\n",
       "      <td>-1.0</td>\n",
       "    </tr>\n",
       "    <tr>\n",
       "      <th>2</th>\n",
       "      <td>NaN</td>\n",
       "      <td>9.0</td>\n",
       "      <td>9.0</td>\n",
       "      <td>9.0</td>\n",
       "      <td>-6.0</td>\n",
       "      <td>-7.0</td>\n",
       "      <td>-8.0</td>\n",
       "      <td>9.0</td>\n",
       "      <td>9.0</td>\n",
       "      <td>9.0</td>\n",
       "    </tr>\n",
       "    <tr>\n",
       "      <th>3</th>\n",
       "      <td>NaN</td>\n",
       "      <td>-3.0</td>\n",
       "      <td>6.0</td>\n",
       "      <td>6.0</td>\n",
       "      <td>-7.0</td>\n",
       "      <td>-7.0</td>\n",
       "      <td>1.0</td>\n",
       "      <td>-7.0</td>\n",
       "      <td>-4.0</td>\n",
       "      <td>-2.0</td>\n",
       "    </tr>\n",
       "    <tr>\n",
       "      <th>4</th>\n",
       "      <td>8.0</td>\n",
       "      <td>7.0</td>\n",
       "      <td>5.0</td>\n",
       "      <td>-4.0</td>\n",
       "      <td>-2.0</td>\n",
       "      <td>-10.0</td>\n",
       "      <td>3.0</td>\n",
       "      <td>-1.0</td>\n",
       "      <td>3.0</td>\n",
       "      <td>5.0</td>\n",
       "    </tr>\n",
       "    <tr>\n",
       "      <th>5</th>\n",
       "      <td>-6.0</td>\n",
       "      <td>-9.0</td>\n",
       "      <td>-1.0</td>\n",
       "      <td>-5.0</td>\n",
       "      <td>0.0</td>\n",
       "      <td>-9.0</td>\n",
       "      <td>-4.0</td>\n",
       "      <td>-2.0</td>\n",
       "      <td>-2.0</td>\n",
       "      <td>-6.0</td>\n",
       "    </tr>\n",
       "    <tr>\n",
       "      <th>6</th>\n",
       "      <td>NaN</td>\n",
       "      <td>8.0</td>\n",
       "      <td>9.0</td>\n",
       "      <td>-6.0</td>\n",
       "      <td>6.0</td>\n",
       "      <td>-4.0</td>\n",
       "      <td>-2.0</td>\n",
       "      <td>6.0</td>\n",
       "      <td>5.0</td>\n",
       "      <td>4.0</td>\n",
       "    </tr>\n",
       "    <tr>\n",
       "      <th>7</th>\n",
       "      <td>7.0</td>\n",
       "      <td>9.0</td>\n",
       "      <td>1.0</td>\n",
       "      <td>-7.0</td>\n",
       "      <td>0.0</td>\n",
       "      <td>-10.0</td>\n",
       "      <td>-7.0</td>\n",
       "      <td>-7.0</td>\n",
       "      <td>1.0</td>\n",
       "      <td>-0.0</td>\n",
       "    </tr>\n",
       "    <tr>\n",
       "      <th>8</th>\n",
       "      <td>-4.0</td>\n",
       "      <td>-5.0</td>\n",
       "      <td>-9.0</td>\n",
       "      <td>-5.0</td>\n",
       "      <td>-9.0</td>\n",
       "      <td>-7.0</td>\n",
       "      <td>-9.0</td>\n",
       "      <td>-3.0</td>\n",
       "      <td>-3.0</td>\n",
       "      <td>-0.0</td>\n",
       "    </tr>\n",
       "    <tr>\n",
       "      <th>9</th>\n",
       "      <td>3.0</td>\n",
       "      <td>9.0</td>\n",
       "      <td>3.0</td>\n",
       "      <td>4.0</td>\n",
       "      <td>-5.0</td>\n",
       "      <td>-1.0</td>\n",
       "      <td>-0.0</td>\n",
       "      <td>2.0</td>\n",
       "      <td>0.0</td>\n",
       "      <td>4.0</td>\n",
       "    </tr>\n",
       "  </tbody>\n",
       "</table>\n",
       "</div>"
      ],
      "text/plain": [
       "    1     7    8    13   15    16   17    18    19    20\n",
       "0 -8.0 -10.0  4.0 -7.0 -7.0  -8.0 -7.0 -10.0 -10.0 -10.0\n",
       "1  4.0  -1.0 -5.0  4.0  5.0  -1.0  5.0  -1.0   3.0  -1.0\n",
       "2  NaN   9.0  9.0  9.0 -6.0  -7.0 -8.0   9.0   9.0   9.0\n",
       "3  NaN  -3.0  6.0  6.0 -7.0  -7.0  1.0  -7.0  -4.0  -2.0\n",
       "4  8.0   7.0  5.0 -4.0 -2.0 -10.0  3.0  -1.0   3.0   5.0\n",
       "5 -6.0  -9.0 -1.0 -5.0  0.0  -9.0 -4.0  -2.0  -2.0  -6.0\n",
       "6  NaN   8.0  9.0 -6.0  6.0  -4.0 -2.0   6.0   5.0   4.0\n",
       "7  7.0   9.0  1.0 -7.0  0.0 -10.0 -7.0  -7.0   1.0  -0.0\n",
       "8 -4.0  -5.0 -9.0 -5.0 -9.0  -7.0 -9.0  -3.0  -3.0  -0.0\n",
       "9  3.0   9.0  3.0  4.0 -5.0  -1.0 -0.0   2.0   0.0   4.0"
      ]
     },
     "execution_count": 4,
     "metadata": {},
     "output_type": "execute_result"
    }
   ],
   "source": [
    "small_df = df[[1, 7, 8, 13, 15, 16, 17, 18, 19, 20]].head(10)\n",
    "small_df"
   ]
  },
  {
   "cell_type": "markdown",
   "metadata": {},
   "source": [
    "## Break into Training and Test Sets\n",
    "\n",
    "Now that we have data we will break it into training and test sets.  We will begin with the smaller data set to verify the function is working properly.  The smaller data set has 97 non N/A values.  If we want 20% to be in the test set there will be 19 non N/A data points in the test set."
   ]
  },
  {
   "cell_type": "code",
   "execution_count": 5,
   "metadata": {
    "ExecuteTime": {
     "end_time": "2020-01-31T00:32:08.672705Z",
     "start_time": "2020-01-31T00:32:08.528995Z"
    }
   },
   "outputs": [
    {
     "data": {
      "text/html": [
       "<div>\n",
       "<style scoped>\n",
       "    .dataframe tbody tr th:only-of-type {\n",
       "        vertical-align: middle;\n",
       "    }\n",
       "\n",
       "    .dataframe tbody tr th {\n",
       "        vertical-align: top;\n",
       "    }\n",
       "\n",
       "    .dataframe thead th {\n",
       "        text-align: right;\n",
       "    }\n",
       "</style>\n",
       "<table border=\"1\" class=\"dataframe\">\n",
       "  <thead>\n",
       "    <tr style=\"text-align: right;\">\n",
       "      <th></th>\n",
       "      <th>1</th>\n",
       "      <th>7</th>\n",
       "      <th>8</th>\n",
       "      <th>13</th>\n",
       "      <th>15</th>\n",
       "      <th>16</th>\n",
       "      <th>17</th>\n",
       "      <th>18</th>\n",
       "      <th>19</th>\n",
       "      <th>20</th>\n",
       "    </tr>\n",
       "  </thead>\n",
       "  <tbody>\n",
       "    <tr>\n",
       "      <th>0</th>\n",
       "      <td>NaN</td>\n",
       "      <td>NaN</td>\n",
       "      <td>NaN</td>\n",
       "      <td>NaN</td>\n",
       "      <td>NaN</td>\n",
       "      <td>NaN</td>\n",
       "      <td>NaN</td>\n",
       "      <td>NaN</td>\n",
       "      <td>NaN</td>\n",
       "      <td>NaN</td>\n",
       "    </tr>\n",
       "    <tr>\n",
       "      <th>1</th>\n",
       "      <td>NaN</td>\n",
       "      <td>NaN</td>\n",
       "      <td>NaN</td>\n",
       "      <td>4.0</td>\n",
       "      <td>NaN</td>\n",
       "      <td>NaN</td>\n",
       "      <td>NaN</td>\n",
       "      <td>-1.0</td>\n",
       "      <td>NaN</td>\n",
       "      <td>NaN</td>\n",
       "    </tr>\n",
       "    <tr>\n",
       "      <th>2</th>\n",
       "      <td>NaN</td>\n",
       "      <td>NaN</td>\n",
       "      <td>NaN</td>\n",
       "      <td>NaN</td>\n",
       "      <td>NaN</td>\n",
       "      <td>NaN</td>\n",
       "      <td>-8.0</td>\n",
       "      <td>NaN</td>\n",
       "      <td>NaN</td>\n",
       "      <td>NaN</td>\n",
       "    </tr>\n",
       "    <tr>\n",
       "      <th>3</th>\n",
       "      <td>NaN</td>\n",
       "      <td>NaN</td>\n",
       "      <td>NaN</td>\n",
       "      <td>NaN</td>\n",
       "      <td>NaN</td>\n",
       "      <td>NaN</td>\n",
       "      <td>NaN</td>\n",
       "      <td>-7.0</td>\n",
       "      <td>NaN</td>\n",
       "      <td>NaN</td>\n",
       "    </tr>\n",
       "    <tr>\n",
       "      <th>4</th>\n",
       "      <td>8.0</td>\n",
       "      <td>NaN</td>\n",
       "      <td>5.0</td>\n",
       "      <td>NaN</td>\n",
       "      <td>NaN</td>\n",
       "      <td>NaN</td>\n",
       "      <td>NaN</td>\n",
       "      <td>NaN</td>\n",
       "      <td>NaN</td>\n",
       "      <td>NaN</td>\n",
       "    </tr>\n",
       "    <tr>\n",
       "      <th>5</th>\n",
       "      <td>NaN</td>\n",
       "      <td>-9.0</td>\n",
       "      <td>NaN</td>\n",
       "      <td>NaN</td>\n",
       "      <td>0.0</td>\n",
       "      <td>NaN</td>\n",
       "      <td>NaN</td>\n",
       "      <td>NaN</td>\n",
       "      <td>NaN</td>\n",
       "      <td>NaN</td>\n",
       "    </tr>\n",
       "    <tr>\n",
       "      <th>6</th>\n",
       "      <td>NaN</td>\n",
       "      <td>NaN</td>\n",
       "      <td>NaN</td>\n",
       "      <td>-6.0</td>\n",
       "      <td>6.0</td>\n",
       "      <td>NaN</td>\n",
       "      <td>NaN</td>\n",
       "      <td>NaN</td>\n",
       "      <td>NaN</td>\n",
       "      <td>4.0</td>\n",
       "    </tr>\n",
       "    <tr>\n",
       "      <th>7</th>\n",
       "      <td>NaN</td>\n",
       "      <td>NaN</td>\n",
       "      <td>1.0</td>\n",
       "      <td>NaN</td>\n",
       "      <td>0.0</td>\n",
       "      <td>NaN</td>\n",
       "      <td>NaN</td>\n",
       "      <td>NaN</td>\n",
       "      <td>NaN</td>\n",
       "      <td>NaN</td>\n",
       "    </tr>\n",
       "    <tr>\n",
       "      <th>8</th>\n",
       "      <td>-4.0</td>\n",
       "      <td>-5.0</td>\n",
       "      <td>-9.0</td>\n",
       "      <td>NaN</td>\n",
       "      <td>NaN</td>\n",
       "      <td>NaN</td>\n",
       "      <td>-9.0</td>\n",
       "      <td>NaN</td>\n",
       "      <td>NaN</td>\n",
       "      <td>NaN</td>\n",
       "    </tr>\n",
       "    <tr>\n",
       "      <th>9</th>\n",
       "      <td>NaN</td>\n",
       "      <td>NaN</td>\n",
       "      <td>3.0</td>\n",
       "      <td>NaN</td>\n",
       "      <td>NaN</td>\n",
       "      <td>-1.0</td>\n",
       "      <td>NaN</td>\n",
       "      <td>NaN</td>\n",
       "      <td>NaN</td>\n",
       "      <td>NaN</td>\n",
       "    </tr>\n",
       "  </tbody>\n",
       "</table>\n",
       "</div>"
      ],
      "text/plain": [
       "    1    7    8    13   15   16   17   18  19   20\n",
       "0  NaN  NaN  NaN  NaN  NaN  NaN  NaN  NaN NaN  NaN\n",
       "1  NaN  NaN  NaN  4.0  NaN  NaN  NaN -1.0 NaN  NaN\n",
       "2  NaN  NaN  NaN  NaN  NaN  NaN -8.0  NaN NaN  NaN\n",
       "3  NaN  NaN  NaN  NaN  NaN  NaN  NaN -7.0 NaN  NaN\n",
       "4  8.0  NaN  5.0  NaN  NaN  NaN  NaN  NaN NaN  NaN\n",
       "5  NaN -9.0  NaN  NaN  0.0  NaN  NaN  NaN NaN  NaN\n",
       "6  NaN  NaN  NaN -6.0  6.0  NaN  NaN  NaN NaN  4.0\n",
       "7  NaN  NaN  1.0  NaN  0.0  NaN  NaN  NaN NaN  NaN\n",
       "8 -4.0 -5.0 -9.0  NaN  NaN  NaN -9.0  NaN NaN  NaN\n",
       "9  NaN  NaN  3.0  NaN  NaN -1.0  NaN  NaN NaN  NaN"
      ]
     },
     "execution_count": 5,
     "metadata": {},
     "output_type": "execute_result"
    }
   ],
   "source": [
    "def train_test_split(user_item_df, train_proportion = 0.8, random_seed = 42):\n",
    "    \"\"\"Splits a data frame into two data frames.\n",
    "    Args:\n",
    "        user_item_df (DataFrame): the pandas dataframe of that is a user item matrix.\n",
    "        train_proportion (float): the proportion of the non N/A data in the training set (Optional - 80% default)\n",
    "        random_seed (int): the random number seed (Optional - 42 default).\n",
    "    Returns:\n",
    "        train_df (DataFrame): The training set dataframe.\n",
    "        test_df (DataFrame): The testing set dataframe.\n",
    "    \"\"\"\n",
    "    train_df = user_item_df.copy()\n",
    "    np.random.seed(random_seed)\n",
    "    # Count how many non N/A values are in the data frame\n",
    "    has_data = train_df.count().sum(axis = 0)\n",
    "    # Determine how many values we need in the test set (there is no N/A's in the test set)\n",
    "    n_test = has_data - int(round(has_data * train_proportion, 0))\n",
    "    # Create an empty test data frame\n",
    "    test_df = pd.DataFrame(np.nan, index = train_df.index, columns = train_df.columns)\n",
    "    # Fill it with randomly selected values\n",
    "    while test_df.count().sum(axis = 0) < n_test:\n",
    "        # Randomly select a row & column\n",
    "        row_id = np.random.choice(list(train_df.index), 1)\n",
    "        col_id = np.random.choice(list(train_df.columns), 1)\n",
    "        # Get the data at that location\n",
    "        val = train_df.iloc[row_id][col_id].values\n",
    "        # Check to see if it is not N/A\n",
    "        if not np.isnan(val):\n",
    "            # Remove it from the training set\n",
    "            train_df.at[row_id, col_id] = None\n",
    "            # Save it to the test set\n",
    "            test_df.at[row_id, col_id] = val\n",
    "    return(train_df, test_df)\n",
    "\n",
    "train_small_df, test_small_df = train_test_split(small_df)\n",
    "test_small_df"
   ]
  },
  {
   "cell_type": "markdown",
   "metadata": {},
   "source": [
    "We see the above data frame does indeed have 19 non N/A values. We can apply this to all of the data. There are 1,810,455 ratings in the data set so this will take some time.  I am going to \"cache\" the output of this cell by saving it to disk and reading it in if it is present for future runs."
   ]
  },
  {
   "cell_type": "code",
   "execution_count": 6,
   "metadata": {
    "ExecuteTime": {
     "end_time": "2020-01-31T02:17:10.011068Z",
     "start_time": "2020-01-31T00:32:08.673704Z"
    }
   },
   "outputs": [],
   "source": [
    "if not path.exists(\"project_1_train_df.csv\") or not path.exists(\"project_1_test_df.csv\"):\n",
    "    train_df, test_df = train_test_split(df)\n",
    "    train_df.to_csv(\"project_1_train_df.csv\", index = False)\n",
    "    test_df.to_csv(\"project_1_test_df.csv\", index = False)\n",
    "else:\n",
    "    train_df = pd.read_csv(\"project_1_train_df.csv\")\n",
    "    test_df = pd.read_csv(\"project_1_test_df.csv\")"
   ]
  },
  {
   "cell_type": "markdown",
   "metadata": {},
   "source": [
    "## Calculate the Average Rating\n",
    "\n",
    "Now that we have a training set we need calculate the raw average (mean) rating for every user-item combination. Let's begin with the small data frame."
   ]
  },
  {
   "cell_type": "code",
   "execution_count": 7,
   "metadata": {
    "ExecuteTime": {
     "end_time": "2020-01-31T02:17:10.020039Z",
     "start_time": "2020-01-31T02:17:10.012066Z"
    }
   },
   "outputs": [
    {
     "data": {
      "text/plain": [
       "-0.8846153846153846"
      ]
     },
     "execution_count": 7,
     "metadata": {},
     "output_type": "execute_result"
    }
   ],
   "source": [
    "small_df_raw_avg = train_small_df.sum(numeric_only=True).sum() / train_small_df.count().sum(axis = 0)\n",
    "small_df_raw_avg"
   ]
  },
  {
   "cell_type": "markdown",
   "metadata": {},
   "source": [
    "If this was calculated properly it indicates that on average most of the jokes get a lukewarm reception.  Let's verify that the calculation is done properly.  Here's the training data:"
   ]
  },
  {
   "cell_type": "code",
   "execution_count": 8,
   "metadata": {
    "ExecuteTime": {
     "end_time": "2020-01-31T02:17:10.118721Z",
     "start_time": "2020-01-31T02:17:10.022009Z"
    }
   },
   "outputs": [
    {
     "data": {
      "text/html": [
       "<div>\n",
       "<style scoped>\n",
       "    .dataframe tbody tr th:only-of-type {\n",
       "        vertical-align: middle;\n",
       "    }\n",
       "\n",
       "    .dataframe tbody tr th {\n",
       "        vertical-align: top;\n",
       "    }\n",
       "\n",
       "    .dataframe thead th {\n",
       "        text-align: right;\n",
       "    }\n",
       "</style>\n",
       "<table border=\"1\" class=\"dataframe\">\n",
       "  <thead>\n",
       "    <tr style=\"text-align: right;\">\n",
       "      <th></th>\n",
       "      <th>1</th>\n",
       "      <th>7</th>\n",
       "      <th>8</th>\n",
       "      <th>13</th>\n",
       "      <th>15</th>\n",
       "      <th>16</th>\n",
       "      <th>17</th>\n",
       "      <th>18</th>\n",
       "      <th>19</th>\n",
       "      <th>20</th>\n",
       "    </tr>\n",
       "  </thead>\n",
       "  <tbody>\n",
       "    <tr>\n",
       "      <th>0</th>\n",
       "      <td>-8.0</td>\n",
       "      <td>-10.0</td>\n",
       "      <td>4.0</td>\n",
       "      <td>-7.0</td>\n",
       "      <td>-7.0</td>\n",
       "      <td>-8.0</td>\n",
       "      <td>-7.0</td>\n",
       "      <td>-10.0</td>\n",
       "      <td>-10.0</td>\n",
       "      <td>-10.0</td>\n",
       "    </tr>\n",
       "    <tr>\n",
       "      <th>1</th>\n",
       "      <td>4.0</td>\n",
       "      <td>-1.0</td>\n",
       "      <td>-5.0</td>\n",
       "      <td>NaN</td>\n",
       "      <td>5.0</td>\n",
       "      <td>-1.0</td>\n",
       "      <td>5.0</td>\n",
       "      <td>NaN</td>\n",
       "      <td>3.0</td>\n",
       "      <td>-1.0</td>\n",
       "    </tr>\n",
       "    <tr>\n",
       "      <th>2</th>\n",
       "      <td>NaN</td>\n",
       "      <td>9.0</td>\n",
       "      <td>9.0</td>\n",
       "      <td>9.0</td>\n",
       "      <td>-6.0</td>\n",
       "      <td>-7.0</td>\n",
       "      <td>NaN</td>\n",
       "      <td>9.0</td>\n",
       "      <td>9.0</td>\n",
       "      <td>9.0</td>\n",
       "    </tr>\n",
       "    <tr>\n",
       "      <th>3</th>\n",
       "      <td>NaN</td>\n",
       "      <td>-3.0</td>\n",
       "      <td>6.0</td>\n",
       "      <td>6.0</td>\n",
       "      <td>-7.0</td>\n",
       "      <td>-7.0</td>\n",
       "      <td>1.0</td>\n",
       "      <td>NaN</td>\n",
       "      <td>-4.0</td>\n",
       "      <td>-2.0</td>\n",
       "    </tr>\n",
       "    <tr>\n",
       "      <th>4</th>\n",
       "      <td>NaN</td>\n",
       "      <td>7.0</td>\n",
       "      <td>NaN</td>\n",
       "      <td>-4.0</td>\n",
       "      <td>-2.0</td>\n",
       "      <td>-10.0</td>\n",
       "      <td>3.0</td>\n",
       "      <td>-1.0</td>\n",
       "      <td>3.0</td>\n",
       "      <td>5.0</td>\n",
       "    </tr>\n",
       "    <tr>\n",
       "      <th>5</th>\n",
       "      <td>-6.0</td>\n",
       "      <td>NaN</td>\n",
       "      <td>-1.0</td>\n",
       "      <td>-5.0</td>\n",
       "      <td>NaN</td>\n",
       "      <td>-9.0</td>\n",
       "      <td>-4.0</td>\n",
       "      <td>-2.0</td>\n",
       "      <td>-2.0</td>\n",
       "      <td>-6.0</td>\n",
       "    </tr>\n",
       "    <tr>\n",
       "      <th>6</th>\n",
       "      <td>NaN</td>\n",
       "      <td>8.0</td>\n",
       "      <td>9.0</td>\n",
       "      <td>NaN</td>\n",
       "      <td>NaN</td>\n",
       "      <td>-4.0</td>\n",
       "      <td>-2.0</td>\n",
       "      <td>6.0</td>\n",
       "      <td>5.0</td>\n",
       "      <td>NaN</td>\n",
       "    </tr>\n",
       "    <tr>\n",
       "      <th>7</th>\n",
       "      <td>7.0</td>\n",
       "      <td>9.0</td>\n",
       "      <td>NaN</td>\n",
       "      <td>-7.0</td>\n",
       "      <td>NaN</td>\n",
       "      <td>-10.0</td>\n",
       "      <td>-7.0</td>\n",
       "      <td>-7.0</td>\n",
       "      <td>1.0</td>\n",
       "      <td>-0.0</td>\n",
       "    </tr>\n",
       "    <tr>\n",
       "      <th>8</th>\n",
       "      <td>NaN</td>\n",
       "      <td>NaN</td>\n",
       "      <td>NaN</td>\n",
       "      <td>-5.0</td>\n",
       "      <td>-9.0</td>\n",
       "      <td>-7.0</td>\n",
       "      <td>NaN</td>\n",
       "      <td>-3.0</td>\n",
       "      <td>-3.0</td>\n",
       "      <td>-0.0</td>\n",
       "    </tr>\n",
       "    <tr>\n",
       "      <th>9</th>\n",
       "      <td>3.0</td>\n",
       "      <td>9.0</td>\n",
       "      <td>NaN</td>\n",
       "      <td>4.0</td>\n",
       "      <td>-5.0</td>\n",
       "      <td>NaN</td>\n",
       "      <td>-0.0</td>\n",
       "      <td>2.0</td>\n",
       "      <td>0.0</td>\n",
       "      <td>4.0</td>\n",
       "    </tr>\n",
       "  </tbody>\n",
       "</table>\n",
       "</div>"
      ],
      "text/plain": [
       "    1     7    8    13   15    16   17    18    19    20\n",
       "0 -8.0 -10.0  4.0 -7.0 -7.0  -8.0 -7.0 -10.0 -10.0 -10.0\n",
       "1  4.0  -1.0 -5.0  NaN  5.0  -1.0  5.0   NaN   3.0  -1.0\n",
       "2  NaN   9.0  9.0  9.0 -6.0  -7.0  NaN   9.0   9.0   9.0\n",
       "3  NaN  -3.0  6.0  6.0 -7.0  -7.0  1.0   NaN  -4.0  -2.0\n",
       "4  NaN   7.0  NaN -4.0 -2.0 -10.0  3.0  -1.0   3.0   5.0\n",
       "5 -6.0   NaN -1.0 -5.0  NaN  -9.0 -4.0  -2.0  -2.0  -6.0\n",
       "6  NaN   8.0  9.0  NaN  NaN  -4.0 -2.0   6.0   5.0   NaN\n",
       "7  7.0   9.0  NaN -7.0  NaN -10.0 -7.0  -7.0   1.0  -0.0\n",
       "8  NaN   NaN  NaN -5.0 -9.0  -7.0  NaN  -3.0  -3.0  -0.0\n",
       "9  3.0   9.0  NaN  4.0 -5.0   NaN -0.0   2.0   0.0   4.0"
      ]
     },
     "execution_count": 8,
     "metadata": {},
     "output_type": "execute_result"
    }
   ],
   "source": [
    "train_small_df"
   ]
  },
  {
   "cell_type": "markdown",
   "metadata": {},
   "source": [
    "We're going to verify this by a series of calculations:"
   ]
  },
  {
   "cell_type": "code",
   "execution_count": 9,
   "metadata": {
    "ExecuteTime": {
     "end_time": "2020-01-31T02:17:10.187778Z",
     "start_time": "2020-01-31T02:17:10.120717Z"
    }
   },
   "outputs": [
    {
     "name": "stdout",
     "output_type": "stream",
     "text": [
      "Everything is awesome!\n"
     ]
    }
   ],
   "source": [
    "# Column 1\n",
    "sum_of_ratings = -8 + 4 - 6 + 7 + 3\n",
    "# Column 7\n",
    "sum_of_ratings = sum_of_ratings - 10 - 1 + 9 - 3 + 7 + 8 + 9 + 9\n",
    "# Column 8\n",
    "sum_of_ratings = sum_of_ratings + 4 - 5 + 9 + 6 - 1 + 9\n",
    "# Column 13\n",
    "sum_of_ratings = sum_of_ratings - 7 + 9 + 6 - 4 - 5 - 7 - 5 + 4\n",
    "# Column 15\n",
    "sum_of_ratings = sum_of_ratings - 7 + 5 - 6 - 7 - 2 - 9 - 5\n",
    "# Column 16\n",
    "sum_of_ratings = sum_of_ratings - 8 - 1 - 7 - 7 - 10 - 9 - 4 - 10 - 7\n",
    "# Column 17\n",
    "sum_of_ratings = sum_of_ratings - 7 + 5 + 1 + 3 - 4 - 2 - 7 - 0\n",
    "# Column 18\n",
    "sum_of_ratings = sum_of_ratings - 10 + 9 - 1 -2 + 6 - 7 - 3 + 2\n",
    "# Column 19\n",
    "sum_of_ratings = sum_of_ratings - 10 + 3 + 9 - 4 + 3 - 2 + 5 + 1 - 3 + 0\n",
    "# Column 20\n",
    "sum_of_ratings = sum_of_ratings - 10 - 1 + 9 - 2 + 5 - 6 - 0 - 0 + 4\n",
    "# Remember the were 97 non N/A values and 19 were made into the test set\n",
    "n_ratings = 97 - 19 \n",
    "# Validate the average rating\n",
    "if (sum_of_ratings / n_ratings) == small_df_raw_avg:\n",
    "    print(\"Everything is awesome!\")\n",
    "else:\n",
    "    print(\"Something bad happened\")"
   ]
  },
  {
   "cell_type": "markdown",
   "metadata": {},
   "source": [
    "This checks out with the average calculated at the begining of this section.  We can replicate the process with the full dataset."
   ]
  },
  {
   "cell_type": "code",
   "execution_count": 10,
   "metadata": {
    "ExecuteTime": {
     "end_time": "2020-01-31T02:17:10.288609Z",
     "start_time": "2020-01-31T02:17:10.188785Z"
    }
   },
   "outputs": [
    {
     "data": {
      "text/plain": [
       "0.8789979590765857"
      ]
     },
     "execution_count": 10,
     "metadata": {},
     "output_type": "execute_result"
    }
   ],
   "source": [
    "df_raw_avg = train_df.sum(numeric_only=True).sum() / train_df.count().sum(axis = 0)\n",
    "df_raw_avg"
   ]
  },
  {
   "cell_type": "markdown",
   "metadata": {
    "ExecuteTime": {
     "end_time": "2020-01-30T14:57:26.088634Z",
     "start_time": "2020-01-30T14:57:26.031406Z"
    }
   },
   "source": [
    "## Calculate the RMSE \n",
    "\n",
    "Now I will calculate the RMSE for raw average for both the training and test data."
   ]
  },
  {
   "cell_type": "code",
   "execution_count": 11,
   "metadata": {
    "ExecuteTime": {
     "end_time": "2020-01-31T02:17:10.336664Z",
     "start_time": "2020-01-31T02:17:10.289604Z"
    }
   },
   "outputs": [
    {
     "data": {
      "text/plain": [
       "5.933733217640245"
      ]
     },
     "execution_count": 11,
     "metadata": {},
     "output_type": "execute_result"
    }
   ],
   "source": [
    "def get_RMSE(user_item_df, predictor):\n",
    "    \"\"\"Calculates the RMSE for the predictor for the dataframe\n",
    "    Args:\n",
    "        user_item_df (DataFrame): the pandas dataframe of that is a user item matrix.\n",
    "        predictor (float): the predicted value.\n",
    "    Returns:\n",
    "        RMSE_df (DataFrame): a data frame with the RMSE values.\n",
    "    \"\"\"\n",
    "    errors = user_item_df - predictor\n",
    "    squared_errors = errors ** 2\n",
    "    mean_squared_errors = squared_errors.stack().mean()\n",
    "    RMSE = mean_squared_errors ** (1/2)\n",
    "    return(RMSE)\n",
    "\n",
    "small_df_RMSE = get_RMSE(small_df, small_df_raw_avg)\n",
    "small_df_RMSE"
   ]
  },
  {
   "cell_type": "markdown",
   "metadata": {},
   "source": [
    "Now we need to verify the calculations:"
   ]
  },
  {
   "cell_type": "code",
   "execution_count": 12,
   "metadata": {
    "ExecuteTime": {
     "end_time": "2020-01-31T02:17:10.423785Z",
     "start_time": "2020-01-31T02:17:10.337661Z"
    }
   },
   "outputs": [
    {
     "data": {
      "text/html": [
       "<div>\n",
       "<style scoped>\n",
       "    .dataframe tbody tr th:only-of-type {\n",
       "        vertical-align: middle;\n",
       "    }\n",
       "\n",
       "    .dataframe tbody tr th {\n",
       "        vertical-align: top;\n",
       "    }\n",
       "\n",
       "    .dataframe thead th {\n",
       "        text-align: right;\n",
       "    }\n",
       "</style>\n",
       "<table border=\"1\" class=\"dataframe\">\n",
       "  <thead>\n",
       "    <tr style=\"text-align: right;\">\n",
       "      <th></th>\n",
       "      <th>1</th>\n",
       "      <th>7</th>\n",
       "      <th>8</th>\n",
       "      <th>13</th>\n",
       "      <th>15</th>\n",
       "      <th>16</th>\n",
       "      <th>17</th>\n",
       "      <th>18</th>\n",
       "      <th>19</th>\n",
       "      <th>20</th>\n",
       "    </tr>\n",
       "  </thead>\n",
       "  <tbody>\n",
       "    <tr>\n",
       "      <th>0</th>\n",
       "      <td>-7.115385</td>\n",
       "      <td>-9.115385</td>\n",
       "      <td>4.884615</td>\n",
       "      <td>-6.115385</td>\n",
       "      <td>-6.115385</td>\n",
       "      <td>-7.115385</td>\n",
       "      <td>-6.115385</td>\n",
       "      <td>-9.115385</td>\n",
       "      <td>-9.115385</td>\n",
       "      <td>-9.115385</td>\n",
       "    </tr>\n",
       "    <tr>\n",
       "      <th>1</th>\n",
       "      <td>4.884615</td>\n",
       "      <td>-0.115385</td>\n",
       "      <td>-4.115385</td>\n",
       "      <td>4.884615</td>\n",
       "      <td>5.884615</td>\n",
       "      <td>-0.115385</td>\n",
       "      <td>5.884615</td>\n",
       "      <td>-0.115385</td>\n",
       "      <td>3.884615</td>\n",
       "      <td>-0.115385</td>\n",
       "    </tr>\n",
       "    <tr>\n",
       "      <th>2</th>\n",
       "      <td>NaN</td>\n",
       "      <td>9.884615</td>\n",
       "      <td>9.884615</td>\n",
       "      <td>9.884615</td>\n",
       "      <td>-5.115385</td>\n",
       "      <td>-6.115385</td>\n",
       "      <td>-7.115385</td>\n",
       "      <td>9.884615</td>\n",
       "      <td>9.884615</td>\n",
       "      <td>9.884615</td>\n",
       "    </tr>\n",
       "    <tr>\n",
       "      <th>3</th>\n",
       "      <td>NaN</td>\n",
       "      <td>-2.115385</td>\n",
       "      <td>6.884615</td>\n",
       "      <td>6.884615</td>\n",
       "      <td>-6.115385</td>\n",
       "      <td>-6.115385</td>\n",
       "      <td>1.884615</td>\n",
       "      <td>-6.115385</td>\n",
       "      <td>-3.115385</td>\n",
       "      <td>-1.115385</td>\n",
       "    </tr>\n",
       "    <tr>\n",
       "      <th>4</th>\n",
       "      <td>8.884615</td>\n",
       "      <td>7.884615</td>\n",
       "      <td>5.884615</td>\n",
       "      <td>-3.115385</td>\n",
       "      <td>-1.115385</td>\n",
       "      <td>-9.115385</td>\n",
       "      <td>3.884615</td>\n",
       "      <td>-0.115385</td>\n",
       "      <td>3.884615</td>\n",
       "      <td>5.884615</td>\n",
       "    </tr>\n",
       "    <tr>\n",
       "      <th>5</th>\n",
       "      <td>-5.115385</td>\n",
       "      <td>-8.115385</td>\n",
       "      <td>-0.115385</td>\n",
       "      <td>-4.115385</td>\n",
       "      <td>0.884615</td>\n",
       "      <td>-8.115385</td>\n",
       "      <td>-3.115385</td>\n",
       "      <td>-1.115385</td>\n",
       "      <td>-1.115385</td>\n",
       "      <td>-5.115385</td>\n",
       "    </tr>\n",
       "    <tr>\n",
       "      <th>6</th>\n",
       "      <td>NaN</td>\n",
       "      <td>8.884615</td>\n",
       "      <td>9.884615</td>\n",
       "      <td>-5.115385</td>\n",
       "      <td>6.884615</td>\n",
       "      <td>-3.115385</td>\n",
       "      <td>-1.115385</td>\n",
       "      <td>6.884615</td>\n",
       "      <td>5.884615</td>\n",
       "      <td>4.884615</td>\n",
       "    </tr>\n",
       "    <tr>\n",
       "      <th>7</th>\n",
       "      <td>7.884615</td>\n",
       "      <td>9.884615</td>\n",
       "      <td>1.884615</td>\n",
       "      <td>-6.115385</td>\n",
       "      <td>0.884615</td>\n",
       "      <td>-9.115385</td>\n",
       "      <td>-6.115385</td>\n",
       "      <td>-6.115385</td>\n",
       "      <td>1.884615</td>\n",
       "      <td>0.884615</td>\n",
       "    </tr>\n",
       "    <tr>\n",
       "      <th>8</th>\n",
       "      <td>-3.115385</td>\n",
       "      <td>-4.115385</td>\n",
       "      <td>-8.115385</td>\n",
       "      <td>-4.115385</td>\n",
       "      <td>-8.115385</td>\n",
       "      <td>-6.115385</td>\n",
       "      <td>-8.115385</td>\n",
       "      <td>-2.115385</td>\n",
       "      <td>-2.115385</td>\n",
       "      <td>0.884615</td>\n",
       "    </tr>\n",
       "    <tr>\n",
       "      <th>9</th>\n",
       "      <td>3.884615</td>\n",
       "      <td>9.884615</td>\n",
       "      <td>3.884615</td>\n",
       "      <td>4.884615</td>\n",
       "      <td>-4.115385</td>\n",
       "      <td>-0.115385</td>\n",
       "      <td>0.884615</td>\n",
       "      <td>2.884615</td>\n",
       "      <td>0.884615</td>\n",
       "      <td>4.884615</td>\n",
       "    </tr>\n",
       "  </tbody>\n",
       "</table>\n",
       "</div>"
      ],
      "text/plain": [
       "         1         7         8         13        15        16        17  \\\n",
       "0 -7.115385 -9.115385  4.884615 -6.115385 -6.115385 -7.115385 -6.115385   \n",
       "1  4.884615 -0.115385 -4.115385  4.884615  5.884615 -0.115385  5.884615   \n",
       "2       NaN  9.884615  9.884615  9.884615 -5.115385 -6.115385 -7.115385   \n",
       "3       NaN -2.115385  6.884615  6.884615 -6.115385 -6.115385  1.884615   \n",
       "4  8.884615  7.884615  5.884615 -3.115385 -1.115385 -9.115385  3.884615   \n",
       "5 -5.115385 -8.115385 -0.115385 -4.115385  0.884615 -8.115385 -3.115385   \n",
       "6       NaN  8.884615  9.884615 -5.115385  6.884615 -3.115385 -1.115385   \n",
       "7  7.884615  9.884615  1.884615 -6.115385  0.884615 -9.115385 -6.115385   \n",
       "8 -3.115385 -4.115385 -8.115385 -4.115385 -8.115385 -6.115385 -8.115385   \n",
       "9  3.884615  9.884615  3.884615  4.884615 -4.115385 -0.115385  0.884615   \n",
       "\n",
       "         18        19        20  \n",
       "0 -9.115385 -9.115385 -9.115385  \n",
       "1 -0.115385  3.884615 -0.115385  \n",
       "2  9.884615  9.884615  9.884615  \n",
       "3 -6.115385 -3.115385 -1.115385  \n",
       "4 -0.115385  3.884615  5.884615  \n",
       "5 -1.115385 -1.115385 -5.115385  \n",
       "6  6.884615  5.884615  4.884615  \n",
       "7 -6.115385  1.884615  0.884615  \n",
       "8 -2.115385 -2.115385  0.884615  \n",
       "9  2.884615  0.884615  4.884615  "
      ]
     },
     "execution_count": 12,
     "metadata": {},
     "output_type": "execute_result"
    }
   ],
   "source": [
    "errors = small_df - small_df_raw_avg\n",
    "errors"
   ]
  },
  {
   "cell_type": "code",
   "execution_count": 13,
   "metadata": {
    "ExecuteTime": {
     "end_time": "2020-01-31T02:17:10.504731Z",
     "start_time": "2020-01-31T02:17:10.424772Z"
    }
   },
   "outputs": [
    {
     "data": {
      "text/html": [
       "<div>\n",
       "<style scoped>\n",
       "    .dataframe tbody tr th:only-of-type {\n",
       "        vertical-align: middle;\n",
       "    }\n",
       "\n",
       "    .dataframe tbody tr th {\n",
       "        vertical-align: top;\n",
       "    }\n",
       "\n",
       "    .dataframe thead th {\n",
       "        text-align: right;\n",
       "    }\n",
       "</style>\n",
       "<table border=\"1\" class=\"dataframe\">\n",
       "  <thead>\n",
       "    <tr style=\"text-align: right;\">\n",
       "      <th></th>\n",
       "      <th>1</th>\n",
       "      <th>7</th>\n",
       "      <th>8</th>\n",
       "      <th>13</th>\n",
       "      <th>15</th>\n",
       "      <th>16</th>\n",
       "      <th>17</th>\n",
       "      <th>18</th>\n",
       "      <th>19</th>\n",
       "      <th>20</th>\n",
       "    </tr>\n",
       "  </thead>\n",
       "  <tbody>\n",
       "    <tr>\n",
       "      <th>0</th>\n",
       "      <td>50.628698</td>\n",
       "      <td>83.090237</td>\n",
       "      <td>23.859467</td>\n",
       "      <td>37.397929</td>\n",
       "      <td>37.397929</td>\n",
       "      <td>50.628698</td>\n",
       "      <td>37.397929</td>\n",
       "      <td>83.090237</td>\n",
       "      <td>83.090237</td>\n",
       "      <td>83.090237</td>\n",
       "    </tr>\n",
       "    <tr>\n",
       "      <th>1</th>\n",
       "      <td>23.859467</td>\n",
       "      <td>0.013314</td>\n",
       "      <td>16.936391</td>\n",
       "      <td>23.859467</td>\n",
       "      <td>34.628698</td>\n",
       "      <td>0.013314</td>\n",
       "      <td>34.628698</td>\n",
       "      <td>0.013314</td>\n",
       "      <td>15.090237</td>\n",
       "      <td>0.013314</td>\n",
       "    </tr>\n",
       "    <tr>\n",
       "      <th>2</th>\n",
       "      <td>NaN</td>\n",
       "      <td>97.705621</td>\n",
       "      <td>97.705621</td>\n",
       "      <td>97.705621</td>\n",
       "      <td>26.167160</td>\n",
       "      <td>37.397929</td>\n",
       "      <td>50.628698</td>\n",
       "      <td>97.705621</td>\n",
       "      <td>97.705621</td>\n",
       "      <td>97.705621</td>\n",
       "    </tr>\n",
       "    <tr>\n",
       "      <th>3</th>\n",
       "      <td>NaN</td>\n",
       "      <td>4.474852</td>\n",
       "      <td>47.397929</td>\n",
       "      <td>47.397929</td>\n",
       "      <td>37.397929</td>\n",
       "      <td>37.397929</td>\n",
       "      <td>3.551775</td>\n",
       "      <td>37.397929</td>\n",
       "      <td>9.705621</td>\n",
       "      <td>1.244083</td>\n",
       "    </tr>\n",
       "    <tr>\n",
       "      <th>4</th>\n",
       "      <td>78.936391</td>\n",
       "      <td>62.167160</td>\n",
       "      <td>34.628698</td>\n",
       "      <td>9.705621</td>\n",
       "      <td>1.244083</td>\n",
       "      <td>83.090237</td>\n",
       "      <td>15.090237</td>\n",
       "      <td>0.013314</td>\n",
       "      <td>15.090237</td>\n",
       "      <td>34.628698</td>\n",
       "    </tr>\n",
       "    <tr>\n",
       "      <th>5</th>\n",
       "      <td>26.167160</td>\n",
       "      <td>65.859467</td>\n",
       "      <td>0.013314</td>\n",
       "      <td>16.936391</td>\n",
       "      <td>0.782544</td>\n",
       "      <td>65.859467</td>\n",
       "      <td>9.705621</td>\n",
       "      <td>1.244083</td>\n",
       "      <td>1.244083</td>\n",
       "      <td>26.167160</td>\n",
       "    </tr>\n",
       "    <tr>\n",
       "      <th>6</th>\n",
       "      <td>NaN</td>\n",
       "      <td>78.936391</td>\n",
       "      <td>97.705621</td>\n",
       "      <td>26.167160</td>\n",
       "      <td>47.397929</td>\n",
       "      <td>9.705621</td>\n",
       "      <td>1.244083</td>\n",
       "      <td>47.397929</td>\n",
       "      <td>34.628698</td>\n",
       "      <td>23.859467</td>\n",
       "    </tr>\n",
       "    <tr>\n",
       "      <th>7</th>\n",
       "      <td>62.167160</td>\n",
       "      <td>97.705621</td>\n",
       "      <td>3.551775</td>\n",
       "      <td>37.397929</td>\n",
       "      <td>0.782544</td>\n",
       "      <td>83.090237</td>\n",
       "      <td>37.397929</td>\n",
       "      <td>37.397929</td>\n",
       "      <td>3.551775</td>\n",
       "      <td>0.782544</td>\n",
       "    </tr>\n",
       "    <tr>\n",
       "      <th>8</th>\n",
       "      <td>9.705621</td>\n",
       "      <td>16.936391</td>\n",
       "      <td>65.859467</td>\n",
       "      <td>16.936391</td>\n",
       "      <td>65.859467</td>\n",
       "      <td>37.397929</td>\n",
       "      <td>65.859467</td>\n",
       "      <td>4.474852</td>\n",
       "      <td>4.474852</td>\n",
       "      <td>0.782544</td>\n",
       "    </tr>\n",
       "    <tr>\n",
       "      <th>9</th>\n",
       "      <td>15.090237</td>\n",
       "      <td>97.705621</td>\n",
       "      <td>15.090237</td>\n",
       "      <td>23.859467</td>\n",
       "      <td>16.936391</td>\n",
       "      <td>0.013314</td>\n",
       "      <td>0.782544</td>\n",
       "      <td>8.321006</td>\n",
       "      <td>0.782544</td>\n",
       "      <td>23.859467</td>\n",
       "    </tr>\n",
       "  </tbody>\n",
       "</table>\n",
       "</div>"
      ],
      "text/plain": [
       "          1          7          8          13         15         16  \\\n",
       "0  50.628698  83.090237  23.859467  37.397929  37.397929  50.628698   \n",
       "1  23.859467   0.013314  16.936391  23.859467  34.628698   0.013314   \n",
       "2        NaN  97.705621  97.705621  97.705621  26.167160  37.397929   \n",
       "3        NaN   4.474852  47.397929  47.397929  37.397929  37.397929   \n",
       "4  78.936391  62.167160  34.628698   9.705621   1.244083  83.090237   \n",
       "5  26.167160  65.859467   0.013314  16.936391   0.782544  65.859467   \n",
       "6        NaN  78.936391  97.705621  26.167160  47.397929   9.705621   \n",
       "7  62.167160  97.705621   3.551775  37.397929   0.782544  83.090237   \n",
       "8   9.705621  16.936391  65.859467  16.936391  65.859467  37.397929   \n",
       "9  15.090237  97.705621  15.090237  23.859467  16.936391   0.013314   \n",
       "\n",
       "          17         18         19         20  \n",
       "0  37.397929  83.090237  83.090237  83.090237  \n",
       "1  34.628698   0.013314  15.090237   0.013314  \n",
       "2  50.628698  97.705621  97.705621  97.705621  \n",
       "3   3.551775  37.397929   9.705621   1.244083  \n",
       "4  15.090237   0.013314  15.090237  34.628698  \n",
       "5   9.705621   1.244083   1.244083  26.167160  \n",
       "6   1.244083  47.397929  34.628698  23.859467  \n",
       "7  37.397929  37.397929   3.551775   0.782544  \n",
       "8  65.859467   4.474852   4.474852   0.782544  \n",
       "9   0.782544   8.321006   0.782544  23.859467  "
      ]
     },
     "execution_count": 13,
     "metadata": {},
     "output_type": "execute_result"
    }
   ],
   "source": [
    "squared_errors = errors**2\n",
    "squared_errors"
   ]
  },
  {
   "cell_type": "code",
   "execution_count": 14,
   "metadata": {
    "ExecuteTime": {
     "end_time": "2020-01-31T02:17:10.620581Z",
     "start_time": "2020-01-31T02:17:10.505707Z"
    }
   },
   "outputs": [
    {
     "data": {
      "text/plain": [
       "35.20918989812725"
      ]
     },
     "execution_count": 14,
     "metadata": {},
     "output_type": "execute_result"
    }
   ],
   "source": [
    "mean_squared_errors = squared_errors.sum(numeric_only=True).sum() / squared_errors.count().sum(axis = 0)\n",
    "mean_squared_errors"
   ]
  },
  {
   "cell_type": "code",
   "execution_count": 15,
   "metadata": {
    "ExecuteTime": {
     "end_time": "2020-01-31T02:17:10.685920Z",
     "start_time": "2020-01-31T02:17:10.621566Z"
    }
   },
   "outputs": [
    {
     "data": {
      "text/plain": [
       "5.933733217640245"
      ]
     },
     "execution_count": 15,
     "metadata": {},
     "output_type": "execute_result"
    }
   ],
   "source": [
    "mean_squared_errors ** (1/2)"
   ]
  },
  {
   "cell_type": "code",
   "execution_count": 16,
   "metadata": {
    "ExecuteTime": {
     "end_time": "2020-01-31T02:17:10.953242Z",
     "start_time": "2020-01-31T02:17:10.686894Z"
    }
   },
   "outputs": [
    {
     "data": {
      "text/plain": [
       "5.243578588345168"
      ]
     },
     "execution_count": 16,
     "metadata": {},
     "output_type": "execute_result"
    }
   ],
   "source": [
    "train_df_RMSE = get_RMSE(train_df, df_raw_avg)\n",
    "train_df_RMSE"
   ]
  },
  {
   "cell_type": "code",
   "execution_count": 17,
   "metadata": {
    "ExecuteTime": {
     "end_time": "2020-01-31T02:17:11.107212Z",
     "start_time": "2020-01-31T02:17:10.954241Z"
    }
   },
   "outputs": [
    {
     "data": {
      "text/plain": [
       "5.242529667597847"
      ]
     },
     "execution_count": 17,
     "metadata": {},
     "output_type": "execute_result"
    }
   ],
   "source": [
    "test_df_RMSE = get_RMSE(test_df, df_raw_avg)\n",
    "test_df_RMSE"
   ]
  }
 ],
 "metadata": {
  "kernelspec": {
   "display_name": "Python 3",
   "language": "python",
   "name": "python3"
  },
  "language_info": {
   "codemirror_mode": {
    "name": "ipython",
    "version": 3
   },
   "file_extension": ".py",
   "mimetype": "text/x-python",
   "name": "python",
   "nbconvert_exporter": "python",
   "pygments_lexer": "ipython3",
   "version": "3.7.5"
  }
 },
 "nbformat": 4,
 "nbformat_minor": 2
}
