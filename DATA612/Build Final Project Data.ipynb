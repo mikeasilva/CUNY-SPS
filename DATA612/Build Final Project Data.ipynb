{
 "cells": [
  {
   "cell_type": "markdown",
   "metadata": {},
   "source": [
    "# DATA 612 Final Project - Developing a Recommender System\n",
    "\n",
    "By Mike Silva\n",
    "\n",
    "## Introduction\n",
    "\n",
    "The goal of this project is to develope a recommender system.  I intend to develop a Flask app to give access to the retem.  If time permits I will integrate user session data into the recomender system.  For this project I will be using data scrapped from BoardGameGeek.com (BGG).\n",
    "\n",
    "### About the BGG Dataset\n",
    "The BoardGameGeek dataset was collected by myself by scrapping data from the API that forms the backend of [BoardGameGeek's website](https://boardgamegeek.com/). Data scrapping in ongoing but this particular data set has over 1.9 million ratings (implicit and explicit) for about 88,000 games by 219,000 users. I have previously exported the ratings from the SQLite database, then exported the data into a CSV for processing."
   ]
  },
  {
   "cell_type": "code",
   "execution_count": 1,
   "metadata": {
    "ExecuteTime": {
     "end_time": "2020-05-18T15:53:04.020434Z",
     "start_time": "2020-05-18T15:52:52.284608Z"
    }
   },
   "outputs": [],
   "source": [
    "import pandas as pd\n",
    "import networkx as nx\n",
    "import sqlite3\n",
    "import html\n",
    "import json\n",
    "import pickle\n",
    "\n",
    "# I will be saving object for use with the recommender system\n",
    "def save_object(obj, filename):\n",
    "    with open(filename, 'wb') as output:\n",
    "        pickle.dump(obj, output, pickle.HIGHEST_PROTOCOL)"
   ]
  },
  {
   "cell_type": "markdown",
   "metadata": {},
   "source": [
    "## Data Wrangling\n",
    "\n",
    "I will begin by reading in the rating data that I have scrapped."
   ]
  },
  {
   "cell_type": "code",
   "execution_count": 2,
   "metadata": {
    "ExecuteTime": {
     "end_time": "2020-05-18T15:53:05.539650Z",
     "start_time": "2020-05-18T15:53:04.022182Z"
    }
   },
   "outputs": [],
   "source": [
    "df = pd.read_csv(\"bgg_ratings.csv\")"
   ]
  },
  {
   "cell_type": "markdown",
   "metadata": {},
   "source": [
    "This data is a mix of explicit and implicit ratings.  We will split the rating data into both categories."
   ]
  },
  {
   "cell_type": "code",
   "execution_count": 3,
   "metadata": {
    "ExecuteTime": {
     "end_time": "2020-05-18T15:53:05.669676Z",
     "start_time": "2020-05-18T15:53:05.540636Z"
    }
   },
   "outputs": [],
   "source": [
    "is_an_explicit_rating = df[\"rating\"] > 0\n",
    "explicit_rating = df[is_an_explicit_rating]\n",
    "implicit_rating = df[~is_an_explicit_rating]"
   ]
  },
  {
   "cell_type": "markdown",
   "metadata": {},
   "source": [
    "I will be implementing a recommender system biased toward the popularity of the game.  I will be reducing the ratings into a binary variable: it was liked or not liked.  Since some users are tougher reviewers than others I will be adjusting for the user bias."
   ]
  },
  {
   "cell_type": "code",
   "execution_count": 4,
   "metadata": {
    "ExecuteTime": {
     "end_time": "2020-05-18T15:53:05.917328Z",
     "start_time": "2020-05-18T15:53:05.670605Z"
    }
   },
   "outputs": [
    {
     "data": {
      "text/html": [
       "<div>\n",
       "<style scoped>\n",
       "    .dataframe tbody tr th:only-of-type {\n",
       "        vertical-align: middle;\n",
       "    }\n",
       "\n",
       "    .dataframe tbody tr th {\n",
       "        vertical-align: top;\n",
       "    }\n",
       "\n",
       "    .dataframe thead th {\n",
       "        text-align: right;\n",
       "    }\n",
       "</style>\n",
       "<table border=\"1\" class=\"dataframe\">\n",
       "  <thead>\n",
       "    <tr style=\"text-align: right;\">\n",
       "      <th></th>\n",
       "      <th>user_id</th>\n",
       "      <th>avg_rating</th>\n",
       "      <th>global_mean</th>\n",
       "      <th>user_bias</th>\n",
       "    </tr>\n",
       "  </thead>\n",
       "  <tbody>\n",
       "    <tr>\n",
       "      <th>0</th>\n",
       "      <td>2</td>\n",
       "      <td>10.000000</td>\n",
       "      <td>7.609077</td>\n",
       "      <td>-2.390923</td>\n",
       "    </tr>\n",
       "    <tr>\n",
       "      <th>1</th>\n",
       "      <td>4</td>\n",
       "      <td>7.306250</td>\n",
       "      <td>7.609077</td>\n",
       "      <td>0.302827</td>\n",
       "    </tr>\n",
       "    <tr>\n",
       "      <th>2</th>\n",
       "      <td>5</td>\n",
       "      <td>5.090909</td>\n",
       "      <td>7.609077</td>\n",
       "      <td>2.518168</td>\n",
       "    </tr>\n",
       "    <tr>\n",
       "      <th>3</th>\n",
       "      <td>6</td>\n",
       "      <td>6.862821</td>\n",
       "      <td>7.609077</td>\n",
       "      <td>0.746256</td>\n",
       "    </tr>\n",
       "    <tr>\n",
       "      <th>4</th>\n",
       "      <td>7</td>\n",
       "      <td>8.426667</td>\n",
       "      <td>7.609077</td>\n",
       "      <td>-0.817590</td>\n",
       "    </tr>\n",
       "    <tr>\n",
       "      <th>...</th>\n",
       "      <td>...</td>\n",
       "      <td>...</td>\n",
       "      <td>...</td>\n",
       "      <td>...</td>\n",
       "    </tr>\n",
       "    <tr>\n",
       "      <th>160100</th>\n",
       "      <td>529207</td>\n",
       "      <td>9.000000</td>\n",
       "      <td>7.609077</td>\n",
       "      <td>-1.390923</td>\n",
       "    </tr>\n",
       "    <tr>\n",
       "      <th>160101</th>\n",
       "      <td>529208</td>\n",
       "      <td>8.000000</td>\n",
       "      <td>7.609077</td>\n",
       "      <td>-0.390923</td>\n",
       "    </tr>\n",
       "    <tr>\n",
       "      <th>160102</th>\n",
       "      <td>529209</td>\n",
       "      <td>8.000000</td>\n",
       "      <td>7.609077</td>\n",
       "      <td>-0.390923</td>\n",
       "    </tr>\n",
       "    <tr>\n",
       "      <th>160103</th>\n",
       "      <td>529210</td>\n",
       "      <td>8.000000</td>\n",
       "      <td>7.609077</td>\n",
       "      <td>-0.390923</td>\n",
       "    </tr>\n",
       "    <tr>\n",
       "      <th>160104</th>\n",
       "      <td>529211</td>\n",
       "      <td>8.000000</td>\n",
       "      <td>7.609077</td>\n",
       "      <td>-0.390923</td>\n",
       "    </tr>\n",
       "  </tbody>\n",
       "</table>\n",
       "<p>160105 rows × 4 columns</p>\n",
       "</div>"
      ],
      "text/plain": [
       "        user_id  avg_rating  global_mean  user_bias\n",
       "0             2   10.000000     7.609077  -2.390923\n",
       "1             4    7.306250     7.609077   0.302827\n",
       "2             5    5.090909     7.609077   2.518168\n",
       "3             6    6.862821     7.609077   0.746256\n",
       "4             7    8.426667     7.609077  -0.817590\n",
       "...         ...         ...          ...        ...\n",
       "160100   529207    9.000000     7.609077  -1.390923\n",
       "160101   529208    8.000000     7.609077  -0.390923\n",
       "160102   529209    8.000000     7.609077  -0.390923\n",
       "160103   529210    8.000000     7.609077  -0.390923\n",
       "160104   529211    8.000000     7.609077  -0.390923\n",
       "\n",
       "[160105 rows x 4 columns]"
      ]
     },
     "execution_count": 4,
     "metadata": {},
     "output_type": "execute_result"
    }
   ],
   "source": [
    "global_mean = explicit_rating[\"rating\"].mean()\n",
    "user_bias = explicit_rating[[\"user_id\", \"rating\"]].groupby(\"user_id\").mean().reset_index().rename(columns={\"rating\": \"avg_rating\"})\n",
    "user_bias[\"global_mean\"] = global_mean\n",
    "user_bias[\"user_bias\"] = user_bias[\"global_mean\"] - user_bias[\"avg_rating\"]\n",
    "user_bias"
   ]
  },
  {
   "cell_type": "markdown",
   "metadata": {},
   "source": [
    "Now that I have the user biases I will merge them in with the explicit ratings and adjust the ratings by the user bias. "
   ]
  },
  {
   "cell_type": "code",
   "execution_count": 5,
   "metadata": {
    "ExecuteTime": {
     "end_time": "2020-05-18T15:53:06.326195Z",
     "start_time": "2020-05-18T15:53:05.918443Z"
    }
   },
   "outputs": [
    {
     "data": {
      "text/html": [
       "<div>\n",
       "<style scoped>\n",
       "    .dataframe tbody tr th:only-of-type {\n",
       "        vertical-align: middle;\n",
       "    }\n",
       "\n",
       "    .dataframe tbody tr th {\n",
       "        vertical-align: top;\n",
       "    }\n",
       "\n",
       "    .dataframe thead th {\n",
       "        text-align: right;\n",
       "    }\n",
       "</style>\n",
       "<table border=\"1\" class=\"dataframe\">\n",
       "  <thead>\n",
       "    <tr style=\"text-align: right;\">\n",
       "      <th></th>\n",
       "      <th>id</th>\n",
       "      <th>item_id</th>\n",
       "      <th>user_id</th>\n",
       "      <th>rating</th>\n",
       "      <th>rating_tstamp</th>\n",
       "      <th>avg_rating</th>\n",
       "      <th>global_mean</th>\n",
       "      <th>user_bias</th>\n",
       "      <th>adj_rating</th>\n",
       "    </tr>\n",
       "  </thead>\n",
       "  <tbody>\n",
       "    <tr>\n",
       "      <th>0</th>\n",
       "      <td>1</td>\n",
       "      <td>3</td>\n",
       "      <td>987</td>\n",
       "      <td>9.0</td>\n",
       "      <td>2016-07-29 08:22:03</td>\n",
       "      <td>7.724503</td>\n",
       "      <td>7.609077</td>\n",
       "      <td>-0.115427</td>\n",
       "      <td>8.884573</td>\n",
       "    </tr>\n",
       "    <tr>\n",
       "      <th>1</th>\n",
       "      <td>1703</td>\n",
       "      <td>93</td>\n",
       "      <td>987</td>\n",
       "      <td>8.0</td>\n",
       "      <td>2018-01-12 08:31:00</td>\n",
       "      <td>7.724503</td>\n",
       "      <td>7.609077</td>\n",
       "      <td>-0.115427</td>\n",
       "      <td>7.884573</td>\n",
       "    </tr>\n",
       "    <tr>\n",
       "      <th>2</th>\n",
       "      <td>3998</td>\n",
       "      <td>200</td>\n",
       "      <td>987</td>\n",
       "      <td>7.0</td>\n",
       "      <td>2013-01-13 14:38:14</td>\n",
       "      <td>7.724503</td>\n",
       "      <td>7.609077</td>\n",
       "      <td>-0.115427</td>\n",
       "      <td>6.884573</td>\n",
       "    </tr>\n",
       "    <tr>\n",
       "      <th>3</th>\n",
       "      <td>8626</td>\n",
       "      <td>571</td>\n",
       "      <td>987</td>\n",
       "      <td>7.5</td>\n",
       "      <td>2012-12-27 15:20:34</td>\n",
       "      <td>7.724503</td>\n",
       "      <td>7.609077</td>\n",
       "      <td>-0.115427</td>\n",
       "      <td>7.384573</td>\n",
       "    </tr>\n",
       "    <tr>\n",
       "      <th>4</th>\n",
       "      <td>21737</td>\n",
       "      <td>1607</td>\n",
       "      <td>987</td>\n",
       "      <td>9.1</td>\n",
       "      <td>2012-12-27 14:43:14</td>\n",
       "      <td>7.724503</td>\n",
       "      <td>7.609077</td>\n",
       "      <td>-0.115427</td>\n",
       "      <td>8.984573</td>\n",
       "    </tr>\n",
       "    <tr>\n",
       "      <th>...</th>\n",
       "      <td>...</td>\n",
       "      <td>...</td>\n",
       "      <td>...</td>\n",
       "      <td>...</td>\n",
       "      <td>...</td>\n",
       "      <td>...</td>\n",
       "      <td>...</td>\n",
       "      <td>...</td>\n",
       "      <td>...</td>\n",
       "    </tr>\n",
       "    <tr>\n",
       "      <th>1013321</th>\n",
       "      <td>1936282</td>\n",
       "      <td>88841</td>\n",
       "      <td>359261</td>\n",
       "      <td>10.0</td>\n",
       "      <td>2019-06-24 05:36:08</td>\n",
       "      <td>10.000000</td>\n",
       "      <td>7.609077</td>\n",
       "      <td>-2.390923</td>\n",
       "      <td>7.609077</td>\n",
       "    </tr>\n",
       "    <tr>\n",
       "      <th>1013322</th>\n",
       "      <td>1936283</td>\n",
       "      <td>88841</td>\n",
       "      <td>207630</td>\n",
       "      <td>10.0</td>\n",
       "      <td>2020-04-07 15:28:37</td>\n",
       "      <td>10.000000</td>\n",
       "      <td>7.609077</td>\n",
       "      <td>-2.390923</td>\n",
       "      <td>7.609077</td>\n",
       "    </tr>\n",
       "    <tr>\n",
       "      <th>1013323</th>\n",
       "      <td>1936311</td>\n",
       "      <td>40504</td>\n",
       "      <td>457329</td>\n",
       "      <td>9.0</td>\n",
       "      <td>2016-10-28 11:56:33</td>\n",
       "      <td>9.000000</td>\n",
       "      <td>7.609077</td>\n",
       "      <td>-1.390923</td>\n",
       "      <td>7.609077</td>\n",
       "    </tr>\n",
       "    <tr>\n",
       "      <th>1013324</th>\n",
       "      <td>1936313</td>\n",
       "      <td>40504</td>\n",
       "      <td>64354</td>\n",
       "      <td>9.0</td>\n",
       "      <td>2019-01-01 12:24:54</td>\n",
       "      <td>9.000000</td>\n",
       "      <td>7.609077</td>\n",
       "      <td>-1.390923</td>\n",
       "      <td>7.609077</td>\n",
       "    </tr>\n",
       "    <tr>\n",
       "      <th>1013325</th>\n",
       "      <td>1936314</td>\n",
       "      <td>40504</td>\n",
       "      <td>31022</td>\n",
       "      <td>9.0</td>\n",
       "      <td>2019-06-04 23:49:43</td>\n",
       "      <td>9.000000</td>\n",
       "      <td>7.609077</td>\n",
       "      <td>-1.390923</td>\n",
       "      <td>7.609077</td>\n",
       "    </tr>\n",
       "  </tbody>\n",
       "</table>\n",
       "<p>1013326 rows × 9 columns</p>\n",
       "</div>"
      ],
      "text/plain": [
       "              id  item_id  user_id  rating        rating_tstamp  avg_rating  \\\n",
       "0              1        3      987     9.0  2016-07-29 08:22:03    7.724503   \n",
       "1           1703       93      987     8.0  2018-01-12 08:31:00    7.724503   \n",
       "2           3998      200      987     7.0  2013-01-13 14:38:14    7.724503   \n",
       "3           8626      571      987     7.5  2012-12-27 15:20:34    7.724503   \n",
       "4          21737     1607      987     9.1  2012-12-27 14:43:14    7.724503   \n",
       "...          ...      ...      ...     ...                  ...         ...   \n",
       "1013321  1936282    88841   359261    10.0  2019-06-24 05:36:08   10.000000   \n",
       "1013322  1936283    88841   207630    10.0  2020-04-07 15:28:37   10.000000   \n",
       "1013323  1936311    40504   457329     9.0  2016-10-28 11:56:33    9.000000   \n",
       "1013324  1936313    40504    64354     9.0  2019-01-01 12:24:54    9.000000   \n",
       "1013325  1936314    40504    31022     9.0  2019-06-04 23:49:43    9.000000   \n",
       "\n",
       "         global_mean  user_bias  adj_rating  \n",
       "0           7.609077  -0.115427    8.884573  \n",
       "1           7.609077  -0.115427    7.884573  \n",
       "2           7.609077  -0.115427    6.884573  \n",
       "3           7.609077  -0.115427    7.384573  \n",
       "4           7.609077  -0.115427    8.984573  \n",
       "...              ...        ...         ...  \n",
       "1013321     7.609077  -2.390923    7.609077  \n",
       "1013322     7.609077  -2.390923    7.609077  \n",
       "1013323     7.609077  -1.390923    7.609077  \n",
       "1013324     7.609077  -1.390923    7.609077  \n",
       "1013325     7.609077  -1.390923    7.609077  \n",
       "\n",
       "[1013326 rows x 9 columns]"
      ]
     },
     "execution_count": 5,
     "metadata": {},
     "output_type": "execute_result"
    }
   ],
   "source": [
    "explicit_rating = pd.merge(explicit_rating, user_bias)\n",
    "explicit_rating[\"adj_rating\"] = explicit_rating[\"rating\"] + explicit_rating[\"user_bias\"]\n",
    "explicit_rating"
   ]
  },
  {
   "cell_type": "markdown",
   "metadata": {},
   "source": [
    "Now that thep as ratings have been adjusted I need to identify which ratings to keep as evidence that the user liked the game.  I will look at the distribution of the adjusted ratings."
   ]
  },
  {
   "cell_type": "code",
   "execution_count": 6,
   "metadata": {
    "ExecuteTime": {
     "end_time": "2020-05-18T15:53:06.407003Z",
     "start_time": "2020-05-18T15:53:06.327316Z"
    }
   },
   "outputs": [
    {
     "data": {
      "text/plain": [
       "count    1.013326e+06\n",
       "mean     7.609077e+00\n",
       "std      1.370001e+00\n",
       "min     -1.380923e+00\n",
       "25%      7.009077e+00\n",
       "50%      7.609077e+00\n",
       "75%      8.359077e+00\n",
       "max      1.655106e+01\n",
       "Name: adj_rating, dtype: float64"
      ]
     },
     "execution_count": 6,
     "metadata": {},
     "output_type": "execute_result"
    }
   ],
   "source": [
    "explicit_rating[\"adj_rating\"].describe()"
   ]
  },
  {
   "cell_type": "markdown",
   "metadata": {},
   "source": [
    "I will say any game that has an adjusted rating equal to or above the global mean are \"liked\" by the user."
   ]
  },
  {
   "cell_type": "code",
   "execution_count": 7,
   "metadata": {
    "ExecuteTime": {
     "end_time": "2020-05-18T15:53:06.556609Z",
     "start_time": "2020-05-18T15:53:06.409305Z"
    }
   },
   "outputs": [
    {
     "data": {
      "text/html": [
       "<div>\n",
       "<style scoped>\n",
       "    .dataframe tbody tr th:only-of-type {\n",
       "        vertical-align: middle;\n",
       "    }\n",
       "\n",
       "    .dataframe tbody tr th {\n",
       "        vertical-align: top;\n",
       "    }\n",
       "\n",
       "    .dataframe thead th {\n",
       "        text-align: right;\n",
       "    }\n",
       "</style>\n",
       "<table border=\"1\" class=\"dataframe\">\n",
       "  <thead>\n",
       "    <tr style=\"text-align: right;\">\n",
       "      <th></th>\n",
       "      <th>item_id</th>\n",
       "      <th>user_id</th>\n",
       "    </tr>\n",
       "  </thead>\n",
       "  <tbody>\n",
       "    <tr>\n",
       "      <th>0</th>\n",
       "      <td>3</td>\n",
       "      <td>987</td>\n",
       "    </tr>\n",
       "    <tr>\n",
       "      <th>1</th>\n",
       "      <td>93</td>\n",
       "      <td>987</td>\n",
       "    </tr>\n",
       "    <tr>\n",
       "      <th>2</th>\n",
       "      <td>1607</td>\n",
       "      <td>987</td>\n",
       "    </tr>\n",
       "    <tr>\n",
       "      <th>3</th>\n",
       "      <td>1671</td>\n",
       "      <td>987</td>\n",
       "    </tr>\n",
       "    <tr>\n",
       "      <th>4</th>\n",
       "      <td>2281</td>\n",
       "      <td>987</td>\n",
       "    </tr>\n",
       "    <tr>\n",
       "      <th>...</th>\n",
       "      <td>...</td>\n",
       "      <td>...</td>\n",
       "    </tr>\n",
       "    <tr>\n",
       "      <th>607578</th>\n",
       "      <td>88841</td>\n",
       "      <td>359261</td>\n",
       "    </tr>\n",
       "    <tr>\n",
       "      <th>607579</th>\n",
       "      <td>88841</td>\n",
       "      <td>207630</td>\n",
       "    </tr>\n",
       "    <tr>\n",
       "      <th>607580</th>\n",
       "      <td>40504</td>\n",
       "      <td>457329</td>\n",
       "    </tr>\n",
       "    <tr>\n",
       "      <th>607581</th>\n",
       "      <td>40504</td>\n",
       "      <td>64354</td>\n",
       "    </tr>\n",
       "    <tr>\n",
       "      <th>607582</th>\n",
       "      <td>40504</td>\n",
       "      <td>31022</td>\n",
       "    </tr>\n",
       "  </tbody>\n",
       "</table>\n",
       "<p>607583 rows × 2 columns</p>\n",
       "</div>"
      ],
      "text/plain": [
       "        item_id  user_id\n",
       "0             3      987\n",
       "1            93      987\n",
       "2          1607      987\n",
       "3          1671      987\n",
       "4          2281      987\n",
       "...         ...      ...\n",
       "607578    88841   359261\n",
       "607579    88841   207630\n",
       "607580    40504   457329\n",
       "607581    40504    64354\n",
       "607582    40504    31022\n",
       "\n",
       "[607583 rows x 2 columns]"
      ]
     },
     "execution_count": 7,
     "metadata": {},
     "output_type": "execute_result"
    }
   ],
   "source": [
    "is_liked = explicit_rating[\"adj_rating\"] >= global_mean\n",
    "explicit_likes = explicit_rating[is_liked][[\"item_id\", \"user_id\"]].reset_index(drop=True)\n",
    "explicit_likes"
   ]
  },
  {
   "cell_type": "markdown",
   "metadata": {},
   "source": [
    "Now I will combine the implicit likes with the explicit likes into one dataset."
   ]
  },
  {
   "cell_type": "code",
   "execution_count": 8,
   "metadata": {
    "ExecuteTime": {
     "end_time": "2020-05-18T15:53:07.163980Z",
     "start_time": "2020-05-18T15:53:06.558688Z"
    }
   },
   "outputs": [],
   "source": [
    "implicit_likes = implicit_rating[[\"item_id\", \"user_id\"]].reset_index(drop=True)\n",
    "likes = pd.concat([explicit_likes, implicit_likes]).sort_values([\"item_id\", \"user_id\"]).reset_index(drop=True)"
   ]
  },
  {
   "cell_type": "markdown",
   "metadata": {},
   "source": [
    "There is 1.5 million likes in the dataset.  I'm going to determine the count of likes for each game and identify the top 25 most popular games."
   ]
  },
  {
   "cell_type": "code",
   "execution_count": 9,
   "metadata": {
    "ExecuteTime": {
     "end_time": "2020-05-18T15:53:14.136498Z",
     "start_time": "2020-05-18T15:53:07.164987Z"
    }
   },
   "outputs": [
    {
     "data": {
      "text/plain": [
       "[21403,\n",
       " 53216,\n",
       " 46151,\n",
       " 49883,\n",
       " 47502,\n",
       " 35140,\n",
       " 50530,\n",
       " 42326,\n",
       " 82563,\n",
       " 21175,\n",
       " 34113,\n",
       " 61330,\n",
       " 7507,\n",
       " 16761,\n",
       " 35373,\n",
       " 43261,\n",
       " 14674,\n",
       " 15673,\n",
       " 4029,\n",
       " 47753,\n",
       " 54736,\n",
       " 41029,\n",
       " 32621,\n",
       " 39560,\n",
       " 39879]"
      ]
     },
     "execution_count": 9,
     "metadata": {},
     "output_type": "execute_result"
    }
   ],
   "source": [
    "n_likes = dict()\n",
    "n_likes_df = likes.groupby(['item_id']).count().reset_index().rename(columns={'user_id':'likes'}).sort_values('likes', ascending  = False).reset_index(drop=True)\n",
    "current_likes = 0\n",
    "ranking = 0\n",
    "most_popular = list()\n",
    "\n",
    "for index, row in n_likes_df.iterrows():\n",
    "    if row['likes'] != current_likes:\n",
    "        ranking += 1\n",
    "        current_likes = row['likes']\n",
    "    n_likes[row['item_id']] = {'likes': row['likes'], 'ranking':ranking}\n",
    "    if ranking < 25:\n",
    "        most_popular.append(row['item_id'])\n",
    "most_popular"
   ]
  },
  {
   "cell_type": "markdown",
   "metadata": {},
   "source": [
    "## Web of Likes\n",
    "\n",
    "I want to combine content filtering with the ratings in a meaningful way.  I will be using a graph based approach to connect these concepts.  The recommender system will then use the graph to for the recommendations.  I will be using NetworkX to build the graph.  In this stage I will connect the users with the games.  I will also connect the games identified as popular to that concept. "
   ]
  },
  {
   "cell_type": "code",
   "execution_count": 10,
   "metadata": {
    "ExecuteTime": {
     "end_time": "2020-05-18T15:56:35.521660Z",
     "start_time": "2020-05-18T15:53:14.137660Z"
    }
   },
   "outputs": [],
   "source": [
    "G = nx.Graph()\n",
    "G.add_node(\"popular\")\n",
    "\n",
    "nodes = set(\"popular\")\n",
    "items = list()\n",
    "\n",
    "for index, row in df.iterrows():\n",
    "    item = \"game_\" + str(row[\"item_id\"])\n",
    "    user = \"user_\" + str(row[\"user_id\"])\n",
    "    if item not in nodes:\n",
    "        G.add_node(item)\n",
    "        nodes.add(item)\n",
    "        items.append(row[\"item_id\"])\n",
    "    if user not in nodes:\n",
    "        G.add_node(user)\n",
    "        nodes.add(user)\n",
    "    G.add_edge(item, user)\n",
    "    # Check to see if this should be tagged as popular\n",
    "    if row[\"item_id\"] in most_popular:\n",
    "        G.add_edge(item, \"popular\")"
   ]
  },
  {
   "cell_type": "markdown",
   "metadata": {},
   "source": [
    "### Augment by Attributes\n",
    "\n",
    "I will pull attributes from the scrapped data.  I will connect the game to the categories (allowing me to weigh similar types of games higher), by the year it was released, and if the game is identified as an integrating with another game (i.e. an expansion of a base game)."
   ]
  },
  {
   "cell_type": "code",
   "execution_count": 11,
   "metadata": {
    "ExecuteTime": {
     "end_time": "2020-05-18T16:08:23.123065Z",
     "start_time": "2020-05-18T15:56:35.522660Z"
    }
   },
   "outputs": [],
   "source": [
    "attributes = dict()\n",
    "DATABASE = \"../../boardgamegeek/games.db\"\n",
    "conn = sqlite3.connect(DATABASE)\n",
    "cur = conn.cursor()\n",
    "category_counts = dict()\n",
    "\n",
    "for item_id in items:\n",
    "    node_id = \"game_\" + str(item_id)\n",
    "    cur.execute(\"SELECT * FROM item WHERE id = \" + str(item_id))\n",
    "    c = cur.fetchone()\n",
    "    # Initialize the attributes for this game\n",
    "    attributes_row = {\"name\": c[1], \"likes\": n_likes[item_id][\"likes\"], \"ranking\": n_likes[item_id][\"ranking\"], \"category\": list(), \"mechanic\": list()}\n",
    "    # Parse the XML file for more attributes\n",
    "    xml_file = \"../../boardgamegeek/scrapped/\" + str(c[2]) + \".xml\"\n",
    "    xml = open(xml_file, \"r\",  encoding=\"utf8\")\n",
    "    for line in xml.readlines():\n",
    "        if \"<description>\" in line:\n",
    "            description = html.unescape(line.split(\"</name>\")[0].split(\">\")[1])\n",
    "            attributes_row[\"description\"] = description\n",
    "        if \"</boardgamemechanic>\" in line:\n",
    "            boardgamemechanic = html.unescape(line.split(\"</boardgamemechanic>\")[0].split(\">\")[1])\n",
    "            attributes_row[\"mechanic\"].append(boardgamemechanic)\n",
    "            mechanic_node = \"mechanic_\" + boardgamemechanic.lower().replace(\" \", \"_\")\n",
    "            if mechanic_node not in nodes:\n",
    "                nodes.add(mechanic_node)\n",
    "                G.add_node(mechanic_node)\n",
    "            G.add_edge(node_id, mechanic_node)\n",
    "        if \"<yearpublished>\" in line:\n",
    "            try:\n",
    "                yearpublished = html.unescape(line.split(\"</yearpublished>\")[0].split(\">\")[1])\n",
    "                year_node = \"year_\" + yearpublished\n",
    "                if year_node not in nodes:\n",
    "                    nodes.add(year_node)\n",
    "                    G.add_node(year_node)\n",
    "                G.add_edge(node_id, year_node)\n",
    "                attributes_row[\"year\"] = int(yearpublished)\n",
    "            except:\n",
    "                continue\n",
    "        if \"<minplayers>\" in line:\n",
    "            try:\n",
    "                minplayers = html.unescape(line.split(\"</minplayers>\")[0].split(\">\")[1])\n",
    "                attributes_row[\"minplayers\"] = int(minplayers)\n",
    "            except:\n",
    "                continue\n",
    "        if \"<maxplayers>\" in line:\n",
    "            try:\n",
    "                minplayers = html.unescape(line.split(\"</maxplayers>\")[0].split(\">\")[1])\n",
    "                attributes_row[\"maxplayers\"] = int(minplayers)\n",
    "            except:\n",
    "                continue\n",
    "        if \"<age>\" in line:\n",
    "            try:\n",
    "                age = html.unescape(line.split(\"</age>\")[0].split(\">\")[1])\n",
    "                attributes_row[\"age\"] = int(age)\n",
    "            except:\n",
    "                continue\n",
    "        if \"<thumbnail>\" in line:\n",
    "            thumbnail = html.unescape(line.split(\"</thumbnail>\")[0].split(\">\")[1])\n",
    "            attributes_row[\"thumbnail\"] = thumbnail\n",
    "        if \"<image>\" in line:\n",
    "            image = html.unescape(line.split(\"</image>\")[0].split(\">\")[1])\n",
    "            attributes_row[\"image\"] = image\n",
    "        if \"</boardgamecategory>\" in line:\n",
    "            boardgamecategory = html.unescape(line.split(\"</boardgamecategory>\")[0].split(\">\")[1])\n",
    "            category_counts[boardgamecategory] = category_counts.get(boardgamecategory, 0) + 1\n",
    "            attributes_row[\"category\"].append(boardgamecategory)\n",
    "            category_node = \"category_\" + boardgamecategory.lower().replace(\" \", \"_\")\n",
    "            if category_node not in nodes:\n",
    "                nodes.add(category_node)\n",
    "                G.add_node(category_node)\n",
    "            G.add_edge(node_id, category_node)\n",
    "        if \"</boardgameintegration>\" in line:\n",
    "            objectid = line.split(\">\")[0].split(\"objectid=\")[1].split('\"')[1]\n",
    "            cur.execute(\"SELECT id FROM item WHERE bgg_id = \" + str(objectid))\n",
    "            try:\n",
    "                c2 = cur.fetchone()\n",
    "                node_id2 = \"game_\" + c2[0]\n",
    "                itegration_id = \"integrates_with_\" + node_id2\n",
    "                if itegration_id not in nodes:\n",
    "                    nodes.add(itegration_id)\n",
    "                    G.add_node(itegration_id)\n",
    "                G.add_edge(node_id, itegration_id)\n",
    "                G.add_edge(node_id2, itegration_id)\n",
    "            except:\n",
    "                continue\n",
    "            \n",
    "    attributes[item_id] = attributes_row"
   ]
  },
  {
   "cell_type": "markdown",
   "metadata": {},
   "source": [
    "## Saving My Work\n",
    "\n",
    "Now that the data has been wrangled, I will save my work.  I will be pickling the data."
   ]
  },
  {
   "cell_type": "code",
   "execution_count": 12,
   "metadata": {
    "ExecuteTime": {
     "end_time": "2020-05-18T16:08:31.280286Z",
     "start_time": "2020-05-18T16:08:23.124796Z"
    }
   },
   "outputs": [],
   "source": [
    "save_object(attributes, \"attributes.pickle\")\n",
    "save_object(most_popular, \"most_popular.pickle\")\n",
    "save_object(category_counts, \"categories.pickle\")\n",
    "nx.write_gpickle(G, \"G.pickle\")"
   ]
  },
  {
   "cell_type": "markdown",
   "metadata": {},
   "source": [
    " ## Next Steps\n",
    "\n",
    "I will be using the saved data in the Flask app which deploys the recommender system.  It will use something like this:"
   ]
  },
  {
   "cell_type": "code",
   "execution_count": 13,
   "metadata": {
    "ExecuteTime": {
     "end_time": "2020-05-18T16:08:31.722650Z",
     "start_time": "2020-05-18T16:08:31.280897Z"
    }
   },
   "outputs": [
    {
     "name": "stdout",
     "output_type": "stream",
     "text": [
      "Recommendations for Ticket to Ride: Europe\n",
      "Ticket to Ride Map Collection: Volume 3 – The Heart of Africa:15\n",
      "Ticket to Ride: Märklin:14\n",
      "Ticket to Ride: Mystery Train Expansion:14\n",
      "Ticket to Ride Map Collection: Volume 6 – France & Old West:13\n",
      "Ticket to Ride Map Collection: Volume 5 – United Kingdom & Pennsylvania:13\n",
      "Ticket to Ride: Germany:12\n",
      "Thurn and Taxis:12\n",
      "Ticket to Ride Map Collection: Volume 4 – Nederland:12\n",
      "Ticket to Ride Map Collection: Volume 1 – Team Asia & Legendary Asia:12\n",
      "Ticket to Ride: Orient Express:11\n"
     ]
    }
   ],
   "source": [
    "def get_recommendations(G, game_id, n_recommendations, return_weights = False):\n",
    "    root_node = \"game_\" + str(game_id)\n",
    "    counts = dict()\n",
    "    for n in G.neighbors(root_node):\n",
    "        if n == \"popular\":\n",
    "            weight = 1\n",
    "        elif \"category\" in n or \"mechanic\" in n:\n",
    "            weight = 2\n",
    "        elif \"integrates_with_\"  in n:\n",
    "            weight = 20\n",
    "        elif \"year\" in n:\n",
    "            weight = 1\n",
    "        elif \"user\" in n:\n",
    "            weight = 1\n",
    "        else:\n",
    "            weight = 0\n",
    "        for node in G.neighbors(n):\n",
    "            node_id = int(node.replace(\"game_\", \"\"))\n",
    "            if node != root_node:\n",
    "                counts[node_id] = counts.get(node_id, 0) + weight\n",
    "    \n",
    "    recommendations = [u[1] for u in sorted(((value, key) for (key,value) in counts.items()), reverse=True)][0:n_recommendations]\n",
    "    \n",
    "    if return_weights:\n",
    "        recommendations = [(u, counts[u]) for u in recommendations]\n",
    "    \n",
    "    return(recommendations)\n",
    "\n",
    "game_id = most_popular[5]\n",
    "print(\"Recommendations for \" + attributes[game_id]['name'])\n",
    "for game, weight in get_recommendations(G, game_id, 10, True):\n",
    "    print(attributes[game]['name'] + \":\" + str(weight))"
   ]
  }
 ],
 "metadata": {
  "kernelspec": {
   "display_name": "Python 3",
   "language": "python",
   "name": "python3"
  },
  "language_info": {
   "codemirror_mode": {
    "name": "ipython",
    "version": 3
   },
   "file_extension": ".py",
   "mimetype": "text/x-python",
   "name": "python",
   "nbconvert_exporter": "python",
   "pygments_lexer": "ipython3",
   "version": "3.7.7"
  }
 },
 "nbformat": 4,
 "nbformat_minor": 4
}
