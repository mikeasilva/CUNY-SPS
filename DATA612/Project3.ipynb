{
 "cells": [
  {
   "cell_type": "markdown",
   "metadata": {},
   "source": [
    "# DATA 612 Project 3 - Matrix Factorization\n",
    "\n",
    "By Mike Silva\n",
    "\n",
    "## Introduction\n",
    "\n",
    "This is an implementation of a matrix factorization method in the context of a recommender system.  For this project I will be using the [MovieLens 100K dataset](https://grouplens.org/datasets/movielens/100k/).\n",
    "\n",
    "### About the MovieLens Dataset\n",
    "\n",
    "The MovieLens datasets were collected by GroupLens Research at the University of Minnesota.  This particular data set has 100,000 ratings and 3,600 tag applications applied to 9,000 movies by 600 users.  It is the data set the GroupLens group recommends for research and education.  It is not a static data set.  The data I will be using was last updated in September of 2018."
   ]
  },
  {
   "cell_type": "code",
   "execution_count": 1,
   "metadata": {
    "ExecuteTime": {
     "end_time": "2020-03-12T16:59:31.342516Z",
     "start_time": "2020-03-12T16:59:30.246949Z"
    }
   },
   "outputs": [
    {
     "data": {
      "text/html": [
       "<div>\n",
       "<style scoped>\n",
       "    .dataframe tbody tr th:only-of-type {\n",
       "        vertical-align: middle;\n",
       "    }\n",
       "\n",
       "    .dataframe tbody tr th {\n",
       "        vertical-align: top;\n",
       "    }\n",
       "\n",
       "    .dataframe thead th {\n",
       "        text-align: right;\n",
       "    }\n",
       "</style>\n",
       "<table border=\"1\" class=\"dataframe\">\n",
       "  <thead>\n",
       "    <tr style=\"text-align: right;\">\n",
       "      <th></th>\n",
       "      <th>userId</th>\n",
       "      <th>movieId</th>\n",
       "      <th>rating</th>\n",
       "      <th>timestamp</th>\n",
       "    </tr>\n",
       "  </thead>\n",
       "  <tbody>\n",
       "    <tr>\n",
       "      <th>0</th>\n",
       "      <td>1</td>\n",
       "      <td>1</td>\n",
       "      <td>4.0</td>\n",
       "      <td>964982703</td>\n",
       "    </tr>\n",
       "    <tr>\n",
       "      <th>1</th>\n",
       "      <td>1</td>\n",
       "      <td>3</td>\n",
       "      <td>4.0</td>\n",
       "      <td>964981247</td>\n",
       "    </tr>\n",
       "    <tr>\n",
       "      <th>2</th>\n",
       "      <td>1</td>\n",
       "      <td>6</td>\n",
       "      <td>4.0</td>\n",
       "      <td>964982224</td>\n",
       "    </tr>\n",
       "    <tr>\n",
       "      <th>3</th>\n",
       "      <td>1</td>\n",
       "      <td>47</td>\n",
       "      <td>5.0</td>\n",
       "      <td>964983815</td>\n",
       "    </tr>\n",
       "    <tr>\n",
       "      <th>4</th>\n",
       "      <td>1</td>\n",
       "      <td>50</td>\n",
       "      <td>5.0</td>\n",
       "      <td>964982931</td>\n",
       "    </tr>\n",
       "  </tbody>\n",
       "</table>\n",
       "</div>"
      ],
      "text/plain": [
       "   userId  movieId  rating  timestamp\n",
       "0       1        1     4.0  964982703\n",
       "1       1        3     4.0  964981247\n",
       "2       1        6     4.0  964982224\n",
       "3       1       47     5.0  964983815\n",
       "4       1       50     5.0  964982931"
      ]
     },
     "execution_count": 1,
     "metadata": {},
     "output_type": "execute_result"
    }
   ],
   "source": [
    "import matplotlib.pyplot as plt\n",
    "import os\n",
    "import numpy as np\n",
    "import pandas as pd\n",
    "import requests\n",
    "import zipfile\n",
    "from scipy.sparse.linalg import svds\n",
    "from sklearn.metrics.pairwise import cosine_similarity\n",
    "import seaborn as sns\n",
    "\n",
    "%matplotlib inline\n",
    "\n",
    "# STEP 1 - DOWNLOAD THE DATA SET\n",
    "if not os.path.exists(\"ml-latest-small.zip\"):\n",
    "    # We need to download it\n",
    "    response = requests.get(\"http://files.grouplens.org/datasets/movielens/ml-latest-small.zip\")\n",
    "    if response.status_code == 200:\n",
    "        with open(\"ml-latest-small.zip\", \"wb\") as f:\n",
    "            f.write(response.content)\n",
    "# STEP 2 - EXTRACT THE DATA SET\n",
    "if not os.path.exists(\"ratings.csv\"):\n",
    "    with zipfile.ZipFile(\"ml-latest-small.zip\",\"r\") as z:\n",
    "        z.extractall()\n",
    "# STEP 3 - READ ING THE DATA\n",
    "ratings = pd.read_csv(\"ml-latest-small/ratings.csv\") \n",
    "ratings.head()"
   ]
  },
  {
   "cell_type": "markdown",
   "metadata": {},
   "source": [
    "Since we have a time stamp we are going to use it to split the data into training, validation and test sets.  We will use and 80/10/10 split.  I will train the model on 80% of the data, use 10% to develop the best model I can by tuning parameters, and then apply it to 10% of the data to see how it would actually preform."
   ]
  },
  {
   "cell_type": "code",
   "execution_count": 2,
   "metadata": {
    "ExecuteTime": {
     "end_time": "2020-03-12T16:59:31.349498Z",
     "start_time": "2020-03-12T16:59:31.343515Z"
    }
   },
   "outputs": [],
   "source": [
    "def train_test_split(df, test_proportion = .2):\n",
    "    test_length = int(len(df) * test_proportion)\n",
    "    train_length = len(df) - test_length\n",
    "    test_df = df.tail(test_length)\n",
    "    train_df = df.head(train_length)\n",
    "    return (train_df, test_df)\n",
    "    \n",
    "ratings_train, temp = train_test_split(ratings)\n",
    "ratings_evaluation, ratings_test = train_test_split(temp, 0.5)"
   ]
  },
  {
   "cell_type": "markdown",
   "metadata": {},
   "source": [
    "Now that the data is split I will create a user item matrix filling in all the missing values with zeros."
   ]
  },
  {
   "cell_type": "code",
   "execution_count": 3,
   "metadata": {
    "ExecuteTime": {
     "end_time": "2020-03-12T16:59:31.596732Z",
     "start_time": "2020-03-12T16:59:31.351494Z"
    }
   },
   "outputs": [
    {
     "data": {
      "text/html": [
       "<div>\n",
       "<style scoped>\n",
       "    .dataframe tbody tr th:only-of-type {\n",
       "        vertical-align: middle;\n",
       "    }\n",
       "\n",
       "    .dataframe tbody tr th {\n",
       "        vertical-align: top;\n",
       "    }\n",
       "\n",
       "    .dataframe thead th {\n",
       "        text-align: right;\n",
       "    }\n",
       "</style>\n",
       "<table border=\"1\" class=\"dataframe\">\n",
       "  <thead>\n",
       "    <tr style=\"text-align: right;\">\n",
       "      <th>movieId</th>\n",
       "      <th>1</th>\n",
       "      <th>2</th>\n",
       "      <th>3</th>\n",
       "      <th>4</th>\n",
       "      <th>5</th>\n",
       "      <th>6</th>\n",
       "      <th>7</th>\n",
       "      <th>8</th>\n",
       "      <th>9</th>\n",
       "      <th>10</th>\n",
       "      <th>...</th>\n",
       "      <th>193565</th>\n",
       "      <th>193567</th>\n",
       "      <th>193571</th>\n",
       "      <th>193573</th>\n",
       "      <th>193579</th>\n",
       "      <th>193581</th>\n",
       "      <th>193583</th>\n",
       "      <th>193585</th>\n",
       "      <th>193587</th>\n",
       "      <th>193609</th>\n",
       "    </tr>\n",
       "    <tr>\n",
       "      <th>userId</th>\n",
       "      <th></th>\n",
       "      <th></th>\n",
       "      <th></th>\n",
       "      <th></th>\n",
       "      <th></th>\n",
       "      <th></th>\n",
       "      <th></th>\n",
       "      <th></th>\n",
       "      <th></th>\n",
       "      <th></th>\n",
       "      <th></th>\n",
       "      <th></th>\n",
       "      <th></th>\n",
       "      <th></th>\n",
       "      <th></th>\n",
       "      <th></th>\n",
       "      <th></th>\n",
       "      <th></th>\n",
       "      <th></th>\n",
       "      <th></th>\n",
       "      <th></th>\n",
       "    </tr>\n",
       "  </thead>\n",
       "  <tbody>\n",
       "    <tr>\n",
       "      <th>1</th>\n",
       "      <td>4.0</td>\n",
       "      <td>0.0</td>\n",
       "      <td>4.0</td>\n",
       "      <td>0.0</td>\n",
       "      <td>0.0</td>\n",
       "      <td>4.0</td>\n",
       "      <td>0.0</td>\n",
       "      <td>0.0</td>\n",
       "      <td>0.0</td>\n",
       "      <td>0.0</td>\n",
       "      <td>...</td>\n",
       "      <td>0.0</td>\n",
       "      <td>0.0</td>\n",
       "      <td>0.0</td>\n",
       "      <td>0.0</td>\n",
       "      <td>0.0</td>\n",
       "      <td>0.0</td>\n",
       "      <td>0.0</td>\n",
       "      <td>0.0</td>\n",
       "      <td>0.0</td>\n",
       "      <td>0.0</td>\n",
       "    </tr>\n",
       "    <tr>\n",
       "      <th>2</th>\n",
       "      <td>0.0</td>\n",
       "      <td>0.0</td>\n",
       "      <td>0.0</td>\n",
       "      <td>0.0</td>\n",
       "      <td>0.0</td>\n",
       "      <td>0.0</td>\n",
       "      <td>0.0</td>\n",
       "      <td>0.0</td>\n",
       "      <td>0.0</td>\n",
       "      <td>0.0</td>\n",
       "      <td>...</td>\n",
       "      <td>0.0</td>\n",
       "      <td>0.0</td>\n",
       "      <td>0.0</td>\n",
       "      <td>0.0</td>\n",
       "      <td>0.0</td>\n",
       "      <td>0.0</td>\n",
       "      <td>0.0</td>\n",
       "      <td>0.0</td>\n",
       "      <td>0.0</td>\n",
       "      <td>0.0</td>\n",
       "    </tr>\n",
       "    <tr>\n",
       "      <th>3</th>\n",
       "      <td>0.0</td>\n",
       "      <td>0.0</td>\n",
       "      <td>0.0</td>\n",
       "      <td>0.0</td>\n",
       "      <td>0.0</td>\n",
       "      <td>0.0</td>\n",
       "      <td>0.0</td>\n",
       "      <td>0.0</td>\n",
       "      <td>0.0</td>\n",
       "      <td>0.0</td>\n",
       "      <td>...</td>\n",
       "      <td>0.0</td>\n",
       "      <td>0.0</td>\n",
       "      <td>0.0</td>\n",
       "      <td>0.0</td>\n",
       "      <td>0.0</td>\n",
       "      <td>0.0</td>\n",
       "      <td>0.0</td>\n",
       "      <td>0.0</td>\n",
       "      <td>0.0</td>\n",
       "      <td>0.0</td>\n",
       "    </tr>\n",
       "    <tr>\n",
       "      <th>4</th>\n",
       "      <td>0.0</td>\n",
       "      <td>0.0</td>\n",
       "      <td>0.0</td>\n",
       "      <td>0.0</td>\n",
       "      <td>0.0</td>\n",
       "      <td>0.0</td>\n",
       "      <td>0.0</td>\n",
       "      <td>0.0</td>\n",
       "      <td>0.0</td>\n",
       "      <td>0.0</td>\n",
       "      <td>...</td>\n",
       "      <td>0.0</td>\n",
       "      <td>0.0</td>\n",
       "      <td>0.0</td>\n",
       "      <td>0.0</td>\n",
       "      <td>0.0</td>\n",
       "      <td>0.0</td>\n",
       "      <td>0.0</td>\n",
       "      <td>0.0</td>\n",
       "      <td>0.0</td>\n",
       "      <td>0.0</td>\n",
       "    </tr>\n",
       "    <tr>\n",
       "      <th>5</th>\n",
       "      <td>4.0</td>\n",
       "      <td>0.0</td>\n",
       "      <td>0.0</td>\n",
       "      <td>0.0</td>\n",
       "      <td>0.0</td>\n",
       "      <td>0.0</td>\n",
       "      <td>0.0</td>\n",
       "      <td>0.0</td>\n",
       "      <td>0.0</td>\n",
       "      <td>0.0</td>\n",
       "      <td>...</td>\n",
       "      <td>0.0</td>\n",
       "      <td>0.0</td>\n",
       "      <td>0.0</td>\n",
       "      <td>0.0</td>\n",
       "      <td>0.0</td>\n",
       "      <td>0.0</td>\n",
       "      <td>0.0</td>\n",
       "      <td>0.0</td>\n",
       "      <td>0.0</td>\n",
       "      <td>0.0</td>\n",
       "    </tr>\n",
       "    <tr>\n",
       "      <th>...</th>\n",
       "      <td>...</td>\n",
       "      <td>...</td>\n",
       "      <td>...</td>\n",
       "      <td>...</td>\n",
       "      <td>...</td>\n",
       "      <td>...</td>\n",
       "      <td>...</td>\n",
       "      <td>...</td>\n",
       "      <td>...</td>\n",
       "      <td>...</td>\n",
       "      <td>...</td>\n",
       "      <td>...</td>\n",
       "      <td>...</td>\n",
       "      <td>...</td>\n",
       "      <td>...</td>\n",
       "      <td>...</td>\n",
       "      <td>...</td>\n",
       "      <td>...</td>\n",
       "      <td>...</td>\n",
       "      <td>...</td>\n",
       "      <td>...</td>\n",
       "    </tr>\n",
       "    <tr>\n",
       "      <th>505</th>\n",
       "      <td>0.0</td>\n",
       "      <td>0.0</td>\n",
       "      <td>0.0</td>\n",
       "      <td>0.0</td>\n",
       "      <td>0.0</td>\n",
       "      <td>0.0</td>\n",
       "      <td>0.0</td>\n",
       "      <td>0.0</td>\n",
       "      <td>0.0</td>\n",
       "      <td>0.0</td>\n",
       "      <td>...</td>\n",
       "      <td>0.0</td>\n",
       "      <td>0.0</td>\n",
       "      <td>0.0</td>\n",
       "      <td>0.0</td>\n",
       "      <td>0.0</td>\n",
       "      <td>0.0</td>\n",
       "      <td>0.0</td>\n",
       "      <td>0.0</td>\n",
       "      <td>0.0</td>\n",
       "      <td>0.0</td>\n",
       "    </tr>\n",
       "    <tr>\n",
       "      <th>506</th>\n",
       "      <td>0.0</td>\n",
       "      <td>0.0</td>\n",
       "      <td>0.0</td>\n",
       "      <td>0.0</td>\n",
       "      <td>0.0</td>\n",
       "      <td>0.0</td>\n",
       "      <td>0.0</td>\n",
       "      <td>0.0</td>\n",
       "      <td>0.0</td>\n",
       "      <td>0.0</td>\n",
       "      <td>...</td>\n",
       "      <td>0.0</td>\n",
       "      <td>0.0</td>\n",
       "      <td>0.0</td>\n",
       "      <td>0.0</td>\n",
       "      <td>0.0</td>\n",
       "      <td>0.0</td>\n",
       "      <td>0.0</td>\n",
       "      <td>0.0</td>\n",
       "      <td>0.0</td>\n",
       "      <td>0.0</td>\n",
       "    </tr>\n",
       "    <tr>\n",
       "      <th>507</th>\n",
       "      <td>0.0</td>\n",
       "      <td>0.0</td>\n",
       "      <td>0.0</td>\n",
       "      <td>0.0</td>\n",
       "      <td>0.0</td>\n",
       "      <td>0.0</td>\n",
       "      <td>0.0</td>\n",
       "      <td>0.0</td>\n",
       "      <td>0.0</td>\n",
       "      <td>0.0</td>\n",
       "      <td>...</td>\n",
       "      <td>0.0</td>\n",
       "      <td>0.0</td>\n",
       "      <td>0.0</td>\n",
       "      <td>0.0</td>\n",
       "      <td>0.0</td>\n",
       "      <td>0.0</td>\n",
       "      <td>0.0</td>\n",
       "      <td>0.0</td>\n",
       "      <td>0.0</td>\n",
       "      <td>0.0</td>\n",
       "    </tr>\n",
       "    <tr>\n",
       "      <th>508</th>\n",
       "      <td>0.0</td>\n",
       "      <td>0.0</td>\n",
       "      <td>0.0</td>\n",
       "      <td>0.0</td>\n",
       "      <td>0.0</td>\n",
       "      <td>0.0</td>\n",
       "      <td>0.0</td>\n",
       "      <td>0.0</td>\n",
       "      <td>0.0</td>\n",
       "      <td>0.0</td>\n",
       "      <td>...</td>\n",
       "      <td>0.0</td>\n",
       "      <td>0.0</td>\n",
       "      <td>0.0</td>\n",
       "      <td>0.0</td>\n",
       "      <td>0.0</td>\n",
       "      <td>0.0</td>\n",
       "      <td>0.0</td>\n",
       "      <td>0.0</td>\n",
       "      <td>0.0</td>\n",
       "      <td>0.0</td>\n",
       "    </tr>\n",
       "    <tr>\n",
       "      <th>509</th>\n",
       "      <td>4.0</td>\n",
       "      <td>0.0</td>\n",
       "      <td>0.0</td>\n",
       "      <td>0.0</td>\n",
       "      <td>1.5</td>\n",
       "      <td>0.0</td>\n",
       "      <td>0.0</td>\n",
       "      <td>0.0</td>\n",
       "      <td>0.0</td>\n",
       "      <td>0.0</td>\n",
       "      <td>...</td>\n",
       "      <td>0.0</td>\n",
       "      <td>0.0</td>\n",
       "      <td>0.0</td>\n",
       "      <td>0.0</td>\n",
       "      <td>0.0</td>\n",
       "      <td>0.0</td>\n",
       "      <td>0.0</td>\n",
       "      <td>0.0</td>\n",
       "      <td>0.0</td>\n",
       "      <td>0.0</td>\n",
       "    </tr>\n",
       "  </tbody>\n",
       "</table>\n",
       "<p>509 rows × 8600 columns</p>\n",
       "</div>"
      ],
      "text/plain": [
       "movieId  1       2       3       4       5       6       7       8       \\\n",
       "userId                                                                    \n",
       "1           4.0     0.0     4.0     0.0     0.0     4.0     0.0     0.0   \n",
       "2           0.0     0.0     0.0     0.0     0.0     0.0     0.0     0.0   \n",
       "3           0.0     0.0     0.0     0.0     0.0     0.0     0.0     0.0   \n",
       "4           0.0     0.0     0.0     0.0     0.0     0.0     0.0     0.0   \n",
       "5           4.0     0.0     0.0     0.0     0.0     0.0     0.0     0.0   \n",
       "...         ...     ...     ...     ...     ...     ...     ...     ...   \n",
       "505         0.0     0.0     0.0     0.0     0.0     0.0     0.0     0.0   \n",
       "506         0.0     0.0     0.0     0.0     0.0     0.0     0.0     0.0   \n",
       "507         0.0     0.0     0.0     0.0     0.0     0.0     0.0     0.0   \n",
       "508         0.0     0.0     0.0     0.0     0.0     0.0     0.0     0.0   \n",
       "509         4.0     0.0     0.0     0.0     1.5     0.0     0.0     0.0   \n",
       "\n",
       "movieId  9       10      ...  193565  193567  193571  193573  193579  193581  \\\n",
       "userId                   ...                                                   \n",
       "1           0.0     0.0  ...     0.0     0.0     0.0     0.0     0.0     0.0   \n",
       "2           0.0     0.0  ...     0.0     0.0     0.0     0.0     0.0     0.0   \n",
       "3           0.0     0.0  ...     0.0     0.0     0.0     0.0     0.0     0.0   \n",
       "4           0.0     0.0  ...     0.0     0.0     0.0     0.0     0.0     0.0   \n",
       "5           0.0     0.0  ...     0.0     0.0     0.0     0.0     0.0     0.0   \n",
       "...         ...     ...  ...     ...     ...     ...     ...     ...     ...   \n",
       "505         0.0     0.0  ...     0.0     0.0     0.0     0.0     0.0     0.0   \n",
       "506         0.0     0.0  ...     0.0     0.0     0.0     0.0     0.0     0.0   \n",
       "507         0.0     0.0  ...     0.0     0.0     0.0     0.0     0.0     0.0   \n",
       "508         0.0     0.0  ...     0.0     0.0     0.0     0.0     0.0     0.0   \n",
       "509         0.0     0.0  ...     0.0     0.0     0.0     0.0     0.0     0.0   \n",
       "\n",
       "movieId  193583  193585  193587  193609  \n",
       "userId                                   \n",
       "1           0.0     0.0     0.0     0.0  \n",
       "2           0.0     0.0     0.0     0.0  \n",
       "3           0.0     0.0     0.0     0.0  \n",
       "4           0.0     0.0     0.0     0.0  \n",
       "5           0.0     0.0     0.0     0.0  \n",
       "...         ...     ...     ...     ...  \n",
       "505         0.0     0.0     0.0     0.0  \n",
       "506         0.0     0.0     0.0     0.0  \n",
       "507         0.0     0.0     0.0     0.0  \n",
       "508         0.0     0.0     0.0     0.0  \n",
       "509         0.0     0.0     0.0     0.0  \n",
       "\n",
       "[509 rows x 8600 columns]"
      ]
     },
     "execution_count": 3,
     "metadata": {},
     "output_type": "execute_result"
    }
   ],
   "source": [
    "A = ratings_train.pivot(index=\"userId\", columns=\"movieId\", values=\"rating\").fillna(0)\n",
    "A"
   ]
  },
  {
   "cell_type": "markdown",
   "metadata": {},
   "source": [
    "## Building the SVD Model\n",
    "\n",
    "Now that we have the training dataset prepared we can start making SVD predictions.  This function allows the user to adjust the number of singular values to keep so they can control how the dimensionality reduction factor.  It also give the option to adjust for the user's rating bias."
   ]
  },
  {
   "cell_type": "code",
   "execution_count": 4,
   "metadata": {
    "ExecuteTime": {
     "end_time": "2020-03-12T16:59:33.743118Z",
     "start_time": "2020-03-12T16:59:31.598728Z"
    }
   },
   "outputs": [
    {
     "data": {
      "text/html": [
       "<div>\n",
       "<style scoped>\n",
       "    .dataframe tbody tr th:only-of-type {\n",
       "        vertical-align: middle;\n",
       "    }\n",
       "\n",
       "    .dataframe tbody tr th {\n",
       "        vertical-align: top;\n",
       "    }\n",
       "\n",
       "    .dataframe thead th {\n",
       "        text-align: right;\n",
       "    }\n",
       "</style>\n",
       "<table border=\"1\" class=\"dataframe\">\n",
       "  <thead>\n",
       "    <tr style=\"text-align: right;\">\n",
       "      <th>movieId</th>\n",
       "      <th>1</th>\n",
       "      <th>2</th>\n",
       "      <th>3</th>\n",
       "      <th>4</th>\n",
       "      <th>5</th>\n",
       "      <th>6</th>\n",
       "      <th>7</th>\n",
       "      <th>8</th>\n",
       "      <th>9</th>\n",
       "      <th>10</th>\n",
       "      <th>...</th>\n",
       "      <th>193565</th>\n",
       "      <th>193567</th>\n",
       "      <th>193571</th>\n",
       "      <th>193573</th>\n",
       "      <th>193579</th>\n",
       "      <th>193581</th>\n",
       "      <th>193583</th>\n",
       "      <th>193585</th>\n",
       "      <th>193587</th>\n",
       "      <th>193609</th>\n",
       "    </tr>\n",
       "    <tr>\n",
       "      <th>userId</th>\n",
       "      <th></th>\n",
       "      <th></th>\n",
       "      <th></th>\n",
       "      <th></th>\n",
       "      <th></th>\n",
       "      <th></th>\n",
       "      <th></th>\n",
       "      <th></th>\n",
       "      <th></th>\n",
       "      <th></th>\n",
       "      <th></th>\n",
       "      <th></th>\n",
       "      <th></th>\n",
       "      <th></th>\n",
       "      <th></th>\n",
       "      <th></th>\n",
       "      <th></th>\n",
       "      <th></th>\n",
       "      <th></th>\n",
       "      <th></th>\n",
       "      <th></th>\n",
       "    </tr>\n",
       "  </thead>\n",
       "  <tbody>\n",
       "    <tr>\n",
       "      <th>1</th>\n",
       "      <td>4.0</td>\n",
       "      <td>-0.0</td>\n",
       "      <td>4.0</td>\n",
       "      <td>0.0</td>\n",
       "      <td>0.0</td>\n",
       "      <td>4.5</td>\n",
       "      <td>0.0</td>\n",
       "      <td>-0.0</td>\n",
       "      <td>-0.0</td>\n",
       "      <td>-0.0</td>\n",
       "      <td>...</td>\n",
       "      <td>0.0</td>\n",
       "      <td>0.0</td>\n",
       "      <td>0.0</td>\n",
       "      <td>0.0</td>\n",
       "      <td>0.0</td>\n",
       "      <td>0.0</td>\n",
       "      <td>0.0</td>\n",
       "      <td>0.0</td>\n",
       "      <td>0.0</td>\n",
       "      <td>-0.0</td>\n",
       "    </tr>\n",
       "    <tr>\n",
       "      <th>2</th>\n",
       "      <td>0.0</td>\n",
       "      <td>-0.0</td>\n",
       "      <td>0.0</td>\n",
       "      <td>0.0</td>\n",
       "      <td>0.0</td>\n",
       "      <td>-0.0</td>\n",
       "      <td>-0.0</td>\n",
       "      <td>0.0</td>\n",
       "      <td>-0.0</td>\n",
       "      <td>0.0</td>\n",
       "      <td>...</td>\n",
       "      <td>0.0</td>\n",
       "      <td>0.0</td>\n",
       "      <td>0.0</td>\n",
       "      <td>0.0</td>\n",
       "      <td>0.0</td>\n",
       "      <td>0.0</td>\n",
       "      <td>0.0</td>\n",
       "      <td>0.0</td>\n",
       "      <td>0.0</td>\n",
       "      <td>0.0</td>\n",
       "    </tr>\n",
       "    <tr>\n",
       "      <th>3</th>\n",
       "      <td>-0.0</td>\n",
       "      <td>0.0</td>\n",
       "      <td>0.0</td>\n",
       "      <td>0.0</td>\n",
       "      <td>0.0</td>\n",
       "      <td>0.0</td>\n",
       "      <td>0.0</td>\n",
       "      <td>0.0</td>\n",
       "      <td>0.0</td>\n",
       "      <td>0.0</td>\n",
       "      <td>...</td>\n",
       "      <td>-0.0</td>\n",
       "      <td>-0.0</td>\n",
       "      <td>-0.0</td>\n",
       "      <td>-0.0</td>\n",
       "      <td>-0.0</td>\n",
       "      <td>-0.0</td>\n",
       "      <td>-0.0</td>\n",
       "      <td>-0.0</td>\n",
       "      <td>-0.0</td>\n",
       "      <td>0.0</td>\n",
       "    </tr>\n",
       "    <tr>\n",
       "      <th>4</th>\n",
       "      <td>-0.0</td>\n",
       "      <td>0.0</td>\n",
       "      <td>0.5</td>\n",
       "      <td>0.0</td>\n",
       "      <td>0.5</td>\n",
       "      <td>0.0</td>\n",
       "      <td>0.5</td>\n",
       "      <td>0.0</td>\n",
       "      <td>0.0</td>\n",
       "      <td>0.0</td>\n",
       "      <td>...</td>\n",
       "      <td>0.0</td>\n",
       "      <td>0.0</td>\n",
       "      <td>0.0</td>\n",
       "      <td>0.0</td>\n",
       "      <td>0.0</td>\n",
       "      <td>0.0</td>\n",
       "      <td>0.0</td>\n",
       "      <td>0.0</td>\n",
       "      <td>0.0</td>\n",
       "      <td>0.0</td>\n",
       "    </tr>\n",
       "    <tr>\n",
       "      <th>5</th>\n",
       "      <td>2.0</td>\n",
       "      <td>0.5</td>\n",
       "      <td>0.0</td>\n",
       "      <td>0.0</td>\n",
       "      <td>0.0</td>\n",
       "      <td>0.5</td>\n",
       "      <td>0.0</td>\n",
       "      <td>0.0</td>\n",
       "      <td>-0.0</td>\n",
       "      <td>1.0</td>\n",
       "      <td>...</td>\n",
       "      <td>-0.0</td>\n",
       "      <td>-0.0</td>\n",
       "      <td>-0.0</td>\n",
       "      <td>-0.0</td>\n",
       "      <td>-0.0</td>\n",
       "      <td>-0.0</td>\n",
       "      <td>-0.0</td>\n",
       "      <td>-0.0</td>\n",
       "      <td>-0.0</td>\n",
       "      <td>0.0</td>\n",
       "    </tr>\n",
       "    <tr>\n",
       "      <th>...</th>\n",
       "      <td>...</td>\n",
       "      <td>...</td>\n",
       "      <td>...</td>\n",
       "      <td>...</td>\n",
       "      <td>...</td>\n",
       "      <td>...</td>\n",
       "      <td>...</td>\n",
       "      <td>...</td>\n",
       "      <td>...</td>\n",
       "      <td>...</td>\n",
       "      <td>...</td>\n",
       "      <td>...</td>\n",
       "      <td>...</td>\n",
       "      <td>...</td>\n",
       "      <td>...</td>\n",
       "      <td>...</td>\n",
       "      <td>...</td>\n",
       "      <td>...</td>\n",
       "      <td>...</td>\n",
       "      <td>...</td>\n",
       "      <td>...</td>\n",
       "    </tr>\n",
       "    <tr>\n",
       "      <th>505</th>\n",
       "      <td>-0.0</td>\n",
       "      <td>0.0</td>\n",
       "      <td>0.0</td>\n",
       "      <td>-0.0</td>\n",
       "      <td>0.0</td>\n",
       "      <td>-0.0</td>\n",
       "      <td>-0.0</td>\n",
       "      <td>-0.0</td>\n",
       "      <td>0.0</td>\n",
       "      <td>-0.0</td>\n",
       "      <td>...</td>\n",
       "      <td>-0.0</td>\n",
       "      <td>-0.0</td>\n",
       "      <td>-0.0</td>\n",
       "      <td>-0.0</td>\n",
       "      <td>-0.0</td>\n",
       "      <td>-0.0</td>\n",
       "      <td>-0.0</td>\n",
       "      <td>-0.0</td>\n",
       "      <td>-0.0</td>\n",
       "      <td>0.0</td>\n",
       "    </tr>\n",
       "    <tr>\n",
       "      <th>506</th>\n",
       "      <td>0.5</td>\n",
       "      <td>0.0</td>\n",
       "      <td>-0.0</td>\n",
       "      <td>-0.0</td>\n",
       "      <td>0.0</td>\n",
       "      <td>0.0</td>\n",
       "      <td>0.0</td>\n",
       "      <td>-0.0</td>\n",
       "      <td>-0.0</td>\n",
       "      <td>-0.0</td>\n",
       "      <td>...</td>\n",
       "      <td>0.0</td>\n",
       "      <td>0.0</td>\n",
       "      <td>0.0</td>\n",
       "      <td>0.0</td>\n",
       "      <td>0.0</td>\n",
       "      <td>0.0</td>\n",
       "      <td>0.0</td>\n",
       "      <td>0.0</td>\n",
       "      <td>0.0</td>\n",
       "      <td>0.0</td>\n",
       "    </tr>\n",
       "    <tr>\n",
       "      <th>507</th>\n",
       "      <td>0.5</td>\n",
       "      <td>0.5</td>\n",
       "      <td>-0.0</td>\n",
       "      <td>-0.0</td>\n",
       "      <td>0.0</td>\n",
       "      <td>0.0</td>\n",
       "      <td>-0.0</td>\n",
       "      <td>-0.0</td>\n",
       "      <td>-0.0</td>\n",
       "      <td>1.0</td>\n",
       "      <td>...</td>\n",
       "      <td>0.0</td>\n",
       "      <td>0.0</td>\n",
       "      <td>0.0</td>\n",
       "      <td>0.0</td>\n",
       "      <td>0.0</td>\n",
       "      <td>0.0</td>\n",
       "      <td>0.0</td>\n",
       "      <td>0.0</td>\n",
       "      <td>0.0</td>\n",
       "      <td>-0.0</td>\n",
       "    </tr>\n",
       "    <tr>\n",
       "      <th>508</th>\n",
       "      <td>0.0</td>\n",
       "      <td>0.0</td>\n",
       "      <td>0.0</td>\n",
       "      <td>-0.0</td>\n",
       "      <td>0.0</td>\n",
       "      <td>0.0</td>\n",
       "      <td>0.0</td>\n",
       "      <td>0.0</td>\n",
       "      <td>0.0</td>\n",
       "      <td>0.0</td>\n",
       "      <td>...</td>\n",
       "      <td>-0.0</td>\n",
       "      <td>-0.0</td>\n",
       "      <td>-0.0</td>\n",
       "      <td>-0.0</td>\n",
       "      <td>-0.0</td>\n",
       "      <td>-0.0</td>\n",
       "      <td>-0.0</td>\n",
       "      <td>-0.0</td>\n",
       "      <td>-0.0</td>\n",
       "      <td>-0.0</td>\n",
       "    </tr>\n",
       "    <tr>\n",
       "      <th>509</th>\n",
       "      <td>5.0</td>\n",
       "      <td>0.0</td>\n",
       "      <td>0.0</td>\n",
       "      <td>0.0</td>\n",
       "      <td>0.5</td>\n",
       "      <td>0.0</td>\n",
       "      <td>0.5</td>\n",
       "      <td>0.0</td>\n",
       "      <td>0.0</td>\n",
       "      <td>0.0</td>\n",
       "      <td>...</td>\n",
       "      <td>-0.0</td>\n",
       "      <td>-0.0</td>\n",
       "      <td>-0.0</td>\n",
       "      <td>-0.0</td>\n",
       "      <td>-0.0</td>\n",
       "      <td>-0.0</td>\n",
       "      <td>-0.0</td>\n",
       "      <td>-0.0</td>\n",
       "      <td>-0.0</td>\n",
       "      <td>-0.0</td>\n",
       "    </tr>\n",
       "  </tbody>\n",
       "</table>\n",
       "<p>509 rows × 8600 columns</p>\n",
       "</div>"
      ],
      "text/plain": [
       "movieId  1       2       3       4       5       6       7       8       \\\n",
       "userId                                                                    \n",
       "1           4.0    -0.0     4.0     0.0     0.0     4.5     0.0    -0.0   \n",
       "2           0.0    -0.0     0.0     0.0     0.0    -0.0    -0.0     0.0   \n",
       "3          -0.0     0.0     0.0     0.0     0.0     0.0     0.0     0.0   \n",
       "4          -0.0     0.0     0.5     0.0     0.5     0.0     0.5     0.0   \n",
       "5           2.0     0.5     0.0     0.0     0.0     0.5     0.0     0.0   \n",
       "...         ...     ...     ...     ...     ...     ...     ...     ...   \n",
       "505        -0.0     0.0     0.0    -0.0     0.0    -0.0    -0.0    -0.0   \n",
       "506         0.5     0.0    -0.0    -0.0     0.0     0.0     0.0    -0.0   \n",
       "507         0.5     0.5    -0.0    -0.0     0.0     0.0    -0.0    -0.0   \n",
       "508         0.0     0.0     0.0    -0.0     0.0     0.0     0.0     0.0   \n",
       "509         5.0     0.0     0.0     0.0     0.5     0.0     0.5     0.0   \n",
       "\n",
       "movieId  9       10      ...  193565  193567  193571  193573  193579  193581  \\\n",
       "userId                   ...                                                   \n",
       "1          -0.0    -0.0  ...     0.0     0.0     0.0     0.0     0.0     0.0   \n",
       "2          -0.0     0.0  ...     0.0     0.0     0.0     0.0     0.0     0.0   \n",
       "3           0.0     0.0  ...    -0.0    -0.0    -0.0    -0.0    -0.0    -0.0   \n",
       "4           0.0     0.0  ...     0.0     0.0     0.0     0.0     0.0     0.0   \n",
       "5          -0.0     1.0  ...    -0.0    -0.0    -0.0    -0.0    -0.0    -0.0   \n",
       "...         ...     ...  ...     ...     ...     ...     ...     ...     ...   \n",
       "505         0.0    -0.0  ...    -0.0    -0.0    -0.0    -0.0    -0.0    -0.0   \n",
       "506        -0.0    -0.0  ...     0.0     0.0     0.0     0.0     0.0     0.0   \n",
       "507        -0.0     1.0  ...     0.0     0.0     0.0     0.0     0.0     0.0   \n",
       "508         0.0     0.0  ...    -0.0    -0.0    -0.0    -0.0    -0.0    -0.0   \n",
       "509         0.0     0.0  ...    -0.0    -0.0    -0.0    -0.0    -0.0    -0.0   \n",
       "\n",
       "movieId  193583  193585  193587  193609  \n",
       "userId                                   \n",
       "1           0.0     0.0     0.0    -0.0  \n",
       "2           0.0     0.0     0.0     0.0  \n",
       "3          -0.0    -0.0    -0.0     0.0  \n",
       "4           0.0     0.0     0.0     0.0  \n",
       "5          -0.0    -0.0    -0.0     0.0  \n",
       "...         ...     ...     ...     ...  \n",
       "505        -0.0    -0.0    -0.0     0.0  \n",
       "506         0.0     0.0     0.0     0.0  \n",
       "507         0.0     0.0     0.0    -0.0  \n",
       "508        -0.0    -0.0    -0.0    -0.0  \n",
       "509        -0.0    -0.0    -0.0    -0.0  \n",
       "\n",
       "[509 rows x 8600 columns]"
      ]
     },
     "execution_count": 4,
     "metadata": {},
     "output_type": "execute_result"
    }
   ],
   "source": [
    "def get_svd_predictions(A, k, adjust_for_user_bias = False):\n",
    "    \"\"\"Get ratings predictions using SVD.\n",
    "        Args:\n",
    "    A (DataFrame): The user item rating matrix\n",
    "    k (int): The number of singular values\n",
    "    adjust_for_user_bias (bool): Should A be adjusted by the user mean? (Optional: False default)\n",
    "        Returns:\n",
    "    predictions (DataFrame): Predicted user item rating matrix\n",
    "    \"\"\"\n",
    "    # Check if we need to remove the user bias\n",
    "    if adjust_for_user_bias:\n",
    "        user_ratings_mean = np.mean(A.values, axis=1)\n",
    "        A = A - user_ratings_mean.reshape(-1, 1)\n",
    "    # Do the SVD decomposition\n",
    "    U, sigma, Vt = svds(A, k=k)\n",
    "    sigma = np.diag(sigma)\n",
    "    # Build the prediction matrix\n",
    "    predictions = np.dot(np.dot(U, sigma), Vt)\n",
    "    # Check if we need to add back in the user bias\n",
    "    if adjust_for_user_bias:\n",
    "        predictions = predictions + user_ratings_mean.reshape(-1, 1)\n",
    "    # Let's round it to the nearest half\n",
    "    predictions = np.matrix.round(predictions * 2, 0) / 2\n",
    "    # Make sure values are between 0 and 5\n",
    "    predictions[predictions < 0] = 0\n",
    "    predictions[predictions > 5] = 5\n",
    "    # Return the predictions\n",
    "    predictions = pd.DataFrame(predictions, index=A.index, columns=A.columns)\n",
    "    return predictions\n",
    "\n",
    "svd_predictions = get_svd_predictions(A, 100)\n",
    "svd_predictions"
   ]
  },
  {
   "cell_type": "markdown",
   "metadata": {
    "ExecuteTime": {
     "end_time": "2020-03-11T10:42:07.806652Z",
     "start_time": "2020-03-11T10:42:07.669652Z"
    }
   },
   "source": [
    "Now that I can produce predictions I need to evaluate them against the validation set and tune the k parameter to minimize the error.  I will be using the average ratings to fill in blanks when I need it."
   ]
  },
  {
   "cell_type": "code",
   "execution_count": 5,
   "metadata": {
    "ExecuteTime": {
     "end_time": "2020-03-12T16:59:34.937185Z",
     "start_time": "2020-03-12T16:59:33.744389Z"
    }
   },
   "outputs": [
    {
     "data": {
      "text/plain": [
       "1.1435103958367634"
      ]
     },
     "execution_count": 5,
     "metadata": {},
     "output_type": "execute_result"
    }
   ],
   "source": [
    "average_rating = round(ratings_test['rating'].mean() * 2, 0) / 2\n",
    "\n",
    "def get_svd_RMSE(predictions, ratings_evaluation, average_rating):\n",
    "    \"\"\"Get the RMSE for a set of test data based off of predictions.\n",
    "    Args:\n",
    "        predictions (DataFrame): user to items rating prediction matrix\n",
    "        ratings_evaluation (DataFrame): Evaluation set of ratings\n",
    "        average_rating (float): Rating to substitute in when no ratings are available\n",
    "    Returns:\n",
    "        RMSE (float): The RMSE for the test set\n",
    "    \"\"\"\n",
    "    predictions_long = pd.melt(predictions.reset_index(), id_vars=['userId'], var_name='movieId', value_name='yhat_rating')\n",
    "    eval_df = pd.merge(ratings_evaluation, predictions_long, how=\"left\").fillna(average_rating)\n",
    "    eval_df['error'] = eval_df['yhat_rating'] - eval_df['rating']\n",
    "    eval_df['squared_error'] = eval_df['error'] ** 2\n",
    "    mean_squared_error = eval_df['squared_error'].mean()\n",
    "    RMSE = mean_squared_error ** (1/2)\n",
    "    return RMSE\n",
    "\n",
    "get_svd_RMSE(svd_predictions, ratings_evaluation, average_rating)"
   ]
  },
  {
   "cell_type": "markdown",
   "metadata": {},
   "source": [
    "The RMSE for the SVD model that is not adjusted for user bias and using a k of 100 is 1.14.  Now I will try to tune the k parameter by finding the k that minimizes the RMSE.  I will first preform a grid search using a wide interval and then narrow it once I have looked at the data."
   ]
  },
  {
   "cell_type": "code",
   "execution_count": 6,
   "metadata": {
    "ExecuteTime": {
     "end_time": "2020-03-12T17:00:10.199353Z",
     "start_time": "2020-03-12T16:59:34.939185Z"
    }
   },
   "outputs": [],
   "source": [
    "svd_RMSEs = []\n",
    "for k in range(1, 500, 50):\n",
    "    svd_predictions = get_svd_predictions(A, k)\n",
    "    RMSE = get_svd_RMSE(svd_predictions, ratings_evaluation, average_rating)\n",
    "    svd_RMSEs.append({'k':k, 'RMSE':RMSE})\n",
    "\n",
    "svd_RMSEs = pd.DataFrame(svd_RMSEs)"
   ]
  },
  {
   "cell_type": "code",
   "execution_count": 7,
   "metadata": {
    "ExecuteTime": {
     "end_time": "2020-03-12T17:00:10.322519Z",
     "start_time": "2020-03-12T17:00:10.199353Z"
    }
   },
   "outputs": [
    {
     "data": {
      "text/plain": [
       "<matplotlib.axes._subplots.AxesSubplot at 0x1d62cc55608>"
      ]
     },
     "execution_count": 7,
     "metadata": {},
     "output_type": "execute_result"
    },
    {
     "data": {
      "image/png": "[encoded data removed]",
      "text/plain": [
       "<Figure size 432x288 with 1 Axes>"
      ]
     },
     "metadata": {
      "needs_background": "light"
     },
     "output_type": "display_data"
    }
   ],
   "source": [
    "svd_RMSEs.plot(x='k', y='RMSE')"
   ]
  },
  {
   "cell_type": "markdown",
   "metadata": {
    "ExecuteTime": {
     "end_time": "2020-03-12T00:46:37.884913Z",
     "start_time": "2020-03-12T00:46:37.864782Z"
    }
   },
   "source": [
    "It looks like the optimal value for k is between 10 and 100.  Let's search for this optimal k."
   ]
  },
  {
   "cell_type": "code",
   "execution_count": 8,
   "metadata": {
    "ExecuteTime": {
     "end_time": "2020-03-12T17:03:33.585905Z",
     "start_time": "2020-03-12T17:00:10.324514Z"
    }
   },
   "outputs": [
    {
     "name": "stdout",
     "output_type": "stream",
     "text": [
      "A k of 13 gives an RMSE of 1.137815955570362 on the evaluation set\n"
     ]
    }
   ],
   "source": [
    "min_RMSE = 100\n",
    "optimal_k = 0\n",
    "RMSEs = []\n",
    "\n",
    "for k in range(10, 100, 1):\n",
    "    svd_predictions = get_svd_predictions(A, k)\n",
    "    RMSE = get_svd_RMSE(svd_predictions, ratings_evaluation, average_rating)\n",
    "    RMSEs.append({'k':k, 'RMSE':RMSE})\n",
    "    if RMSE < min_RMSE:\n",
    "        min_RMSE = RMSE\n",
    "        optimal_k = k\n",
    "\n",
    "print(\"A k of \" + str(optimal_k) + \" gives an RMSE of \" + str(min_RMSE) + \" on the evaluation set\")"
   ]
  },
  {
   "cell_type": "code",
   "execution_count": 9,
   "metadata": {
    "ExecuteTime": {
     "end_time": "2020-03-12T17:03:33.704628Z",
     "start_time": "2020-03-12T17:03:33.587897Z"
    }
   },
   "outputs": [
    {
     "data": {
      "text/plain": [
       "<matplotlib.axes._subplots.AxesSubplot at 0x1d62dc85588>"
      ]
     },
     "execution_count": 9,
     "metadata": {},
     "output_type": "execute_result"
    },
    {
     "data": {
      "image/png": "[encoded data removed]",
      "text/plain": [
       "<Figure size 432x288 with 1 Axes>"
      ]
     },
     "metadata": {
      "needs_background": "light"
     },
     "output_type": "display_data"
    }
   ],
   "source": [
    "RMSEs = pd.DataFrame(RMSEs)\n",
    "RMSEs.plot(x='k', y='RMSE')"
   ]
  },
  {
   "cell_type": "markdown",
   "metadata": {},
   "source": [
    "Now that we have an optimal k value on our evaluation set, let's see how the model preforms on the test set."
   ]
  },
  {
   "cell_type": "code",
   "execution_count": 10,
   "metadata": {
    "ExecuteTime": {
     "end_time": "2020-03-12T17:03:35.400391Z",
     "start_time": "2020-03-12T17:03:33.705626Z"
    }
   },
   "outputs": [
    {
     "data": {
      "text/plain": [
       "1.0492319250999815"
      ]
     },
     "execution_count": 10,
     "metadata": {},
     "output_type": "execute_result"
    }
   ],
   "source": [
    "svd_predictions = get_svd_predictions(A, optimal_k)\n",
    "get_svd_RMSE(svd_predictions, ratings_test, average_rating)"
   ]
  },
  {
   "cell_type": "markdown",
   "metadata": {},
   "source": [
    "This SVD model has a RMSE of about 1.05.\n",
    "\n",
    "### User Biased Adjusted SVD Model\n",
    "\n",
    "I will repeat the process except for this time I will adjust for the user bias.  I will do a grid search using a wide range, assume the errors are somewhat linear in nature, and take a deep dive to see where the optimal k lies."
   ]
  },
  {
   "cell_type": "code",
   "execution_count": 11,
   "metadata": {
    "ExecuteTime": {
     "end_time": "2020-03-12T17:04:09.801999Z",
     "start_time": "2020-03-12T17:03:35.401386Z"
    }
   },
   "outputs": [
    {
     "data": {
      "text/plain": [
       "<matplotlib.axes._subplots.AxesSubplot at 0x1d62ddcdfc8>"
      ]
     },
     "execution_count": 11,
     "metadata": {},
     "output_type": "execute_result"
    },
    {
     "data": {
      "image/png": "[encoded data removed]",
      "text/plain": [
       "<Figure size 432x288 with 1 Axes>"
      ]
     },
     "metadata": {
      "needs_background": "light"
     },
     "output_type": "display_data"
    }
   ],
   "source": [
    "RMSEs = []\n",
    "for k in range(1, 500, 50):\n",
    "    svd_predictions = get_svd_predictions(A, k, True)\n",
    "    RMSE = get_svd_RMSE(svd_predictions, ratings_evaluation, average_rating)\n",
    "    RMSEs.append({'k':k, 'RMSE':RMSE})\n",
    "\n",
    "RMSEs = pd.DataFrame(RMSEs)\n",
    "RMSEs.plot(x='k', y='RMSE')"
   ]
  },
  {
   "cell_type": "markdown",
   "metadata": {},
   "source": [
    "This appears to be preforming slightly better than the SVD on data that hasn't been adjusted for the user bias.  I think we are going to stick with this approach for the model.  Let's determine the optimal k value for this dataset."
   ]
  },
  {
   "cell_type": "code",
   "execution_count": 12,
   "metadata": {
    "ExecuteTime": {
     "end_time": "2020-03-12T17:07:50.724722Z",
     "start_time": "2020-03-12T17:04:09.802997Z"
    }
   },
   "outputs": [
    {
     "name": "stdout",
     "output_type": "stream",
     "text": [
      "A k of 15 gives an RMSE of 1.137903107801777 on the evaluation set\n"
     ]
    }
   ],
   "source": [
    "min_RMSE = 100\n",
    "optimal_k = 0\n",
    "\n",
    "RMSEs = []\n",
    "\n",
    "for k in range(10, 100, 1):\n",
    "    svd_predictions = get_svd_predictions(A, k, True)\n",
    "    RMSE = get_svd_RMSE(svd_predictions, ratings_evaluation, average_rating)\n",
    "    RMSEs.append({'k':k, 'RMSE':RMSE})\n",
    "    if RMSE < min_RMSE:\n",
    "        min_RMSE = RMSE\n",
    "        optimal_k = k\n",
    "\n",
    "print(\"A k of \" + str(optimal_k) + \" gives an RMSE of \" + str(min_RMSE) + \" on the evaluation set\")"
   ]
  },
  {
   "cell_type": "code",
   "execution_count": 13,
   "metadata": {
    "ExecuteTime": {
     "end_time": "2020-03-12T17:07:50.841331Z",
     "start_time": "2020-03-12T17:07:50.725721Z"
    }
   },
   "outputs": [
    {
     "data": {
      "text/plain": [
       "<matplotlib.axes._subplots.AxesSubplot at 0x1d62dd9af88>"
      ]
     },
     "execution_count": 13,
     "metadata": {},
     "output_type": "execute_result"
    },
    {
     "data": {
      "image/png": "[encoded data removed]",
      "text/plain": [
       "<Figure size 432x288 with 1 Axes>"
      ]
     },
     "metadata": {
      "needs_background": "light"
     },
     "output_type": "display_data"
    }
   ],
   "source": [
    "RMSEs = pd.DataFrame(RMSEs)\n",
    "RMSEs.plot(x='k', y='RMSE')"
   ]
  },
  {
   "cell_type": "code",
   "execution_count": 14,
   "metadata": {
    "ExecuteTime": {
     "end_time": "2020-03-12T17:07:52.709233Z",
     "start_time": "2020-03-12T17:07:50.843295Z"
    }
   },
   "outputs": [
    {
     "data": {
      "text/plain": [
       "1.0492319250999815"
      ]
     },
     "execution_count": 14,
     "metadata": {},
     "output_type": "execute_result"
    }
   ],
   "source": [
    "svd_predictions = get_svd_predictions(A, optimal_k, True)\n",
    "get_svd_RMSE(svd_predictions, ratings_test, average_rating)"
   ]
  },
  {
   "cell_type": "markdown",
   "metadata": {},
   "source": [
    "This gives a similar outcome in terms of RMSE as the unadjusted SVD model.\n",
    "\n",
    "## How Does This Compare to Collaborative Filtering?\n",
    "\n",
    "How do these two SVD models preform in comparison to a collaborative filtering approach.  I cannot produce a user to user collaborative filter due to the amount of memory required to compute the cosine similarities.  I am able to produce an item to item collaborative filter, which is preferable anyways.\n",
    "\n",
    "In order to do that I need to transpose the existing matrix and remove the mean ratings prior to computing the cosine similarities."
   ]
  },
  {
   "cell_type": "code",
   "execution_count": 15,
   "metadata": {
    "ExecuteTime": {
     "end_time": "2020-03-12T17:07:53.459237Z",
     "start_time": "2020-03-12T17:07:52.711204Z"
    }
   },
   "outputs": [],
   "source": [
    "At = A.transpose()\n",
    "item_ratings_mean = np.mean(At.values, axis=1)\n",
    "adjusted_At = At - item_ratings_mean.reshape(-1, 1)\n",
    "cosine_similarity_matrix = cosine_similarity(adjusted_At)\n",
    "cosine_similarity_matrix = pd.DataFrame(cosine_similarity_matrix, index=At.index, columns=At.index)"
   ]
  },
  {
   "cell_type": "markdown",
   "metadata": {},
   "source": [
    "Now that I have a cosine similarity matrix I will find the group of movies that are its neighbors and average the ratings users gave of the movies.  This is what I will use as a prediction.  I will further adjust it so that it is on the nearest half star rating."
   ]
  },
  {
   "cell_type": "code",
   "execution_count": 16,
   "metadata": {
    "ExecuteTime": {
     "end_time": "2020-03-12T17:07:53.484736Z",
     "start_time": "2020-03-12T17:07:53.460204Z"
    }
   },
   "outputs": [
    {
     "data": {
      "text/plain": [
       "3.5"
      ]
     },
     "execution_count": 16,
     "metadata": {},
     "output_type": "execute_result"
    }
   ],
   "source": [
    "def get_item_item_cf_prediction(ratings_train, cosine_similarity_matrix, k, movie_id):\n",
    "    \"\"\"Get ratings predictions using an item based collaborative filter.\n",
    "    Args:\n",
    "        ratings_train (DataFrame): The training set of ratings \n",
    "        cosine_similarity_matrix (DataFrame): The cosine similarity matrix in data frame form\n",
    "        k (int): the number of neighbors you want included in the neighborhood.\n",
    "        movie_id (int): The id of the movie you want rating predictions for\n",
    "    Returns:\n",
    "        prediction (float): A number between 0 and 5 rounded to the nearest half\n",
    "    \"\"\"\n",
    "    # Transform the row into a long data frame and reset the index to add the movieId\n",
    "    temp = pd.DataFrame(cosine_similarity_matrix.loc[movie_id]).reset_index()\n",
    "    # Sort the data frame in decreasing order of cosine similarity\n",
    "    temp = temp.sort_values(movie_id, ascending = False)\n",
    "    # Drop the row with it's own similarity\n",
    "    temp = temp[temp['movieId'] != movie_id]\n",
    "    # Pick the top k movies\n",
    "    temp = temp.head(k)\n",
    "    # Transform the series into a list\n",
    "    neighbors = temp['movieId'].tolist()\n",
    "    # Pull the ratings for the neighbors and calculate the mean\n",
    "    prediction = ratings_train[ratings_train['movieId'].isin(neighbors)]['rating'].mean()\n",
    "    # Let's round it to the nearest half\n",
    "    prediction = round(prediction * 2, 0) / 2\n",
    "    # Make sure values are between 0 and 5\n",
    "    if prediction < 0:\n",
    "        prediction = 0\n",
    "    elif prediction > 5:\n",
    "        prediction = 5\n",
    "    return prediction\n",
    "\n",
    "get_item_item_cf_prediction(ratings_train, cosine_similarity_matrix, 10, 1)"
   ]
  },
  {
   "cell_type": "markdown",
   "metadata": {},
   "source": [
    "So based off of 10 similar movies to movie number 1, the system would predict a 3.5 star rating.  Now that I can generate predicted ratings using this item based collaborative filter, let's check out the RMSE on the evaluation set.  I will use a k of 10:"
   ]
  },
  {
   "cell_type": "code",
   "execution_count": 17,
   "metadata": {
    "ExecuteTime": {
     "end_time": "2020-03-12T17:08:37.433844Z",
     "start_time": "2020-03-12T17:07:53.485494Z"
    }
   },
   "outputs": [
    {
     "data": {
      "text/plain": [
       "1.050077441846765"
      ]
     },
     "execution_count": 17,
     "metadata": {},
     "output_type": "execute_result"
    }
   ],
   "source": [
    "def get_cf_RMSE(ratings_evaluation, ratings_train, cosine_similarity_matrix, average_rating, k):\n",
    "    \"\"\"Calculates the RMSE for a collaborative filter.\n",
    "    Arg:\n",
    "        ratings_evaluation (DataFrame): The movies to be evaluated (base truth)\n",
    "        ratings_train (DataFrame): The ratings used to train the collaborative filter\n",
    "        cosine_similarity_matrix (DataFrame): The cosine similarity matrix in data frame form\n",
    "        average_rating (float): The average rating of all the training data.  This will fill in holes.\n",
    "        k (int): The number of neighbors to include in the collaborative filter\n",
    "    Returns:\n",
    "        RMSE (float): The root mean squared error of the predictions on the data set\n",
    "    \"\"\"\n",
    "    squared_errors = []\n",
    "\n",
    "    for index in ratings_evaluation.index:\n",
    "        row = ratings_evaluation.loc[index]\n",
    "        row_index = int(row['movieId'])\n",
    "        use_average = False\n",
    "        try:\n",
    "            yhat_rating = get_item_item_cf_prediction(ratings_train, cosine_similarity_matrix, k, row_index)\n",
    "            if yhat_rating is None:\n",
    "                use_average = True\n",
    "        except:\n",
    "            use_average = True\n",
    "        if use_average:\n",
    "            yhat_rating = average_rating\n",
    "        error = yhat_rating - row['rating']\n",
    "        squared_error = error ** 2\n",
    "        squared_errors.append(squared_error)\n",
    "\n",
    "    mean_squared_errors = sum(squared_errors) / len(squared_errors)\n",
    "    RMSE = mean_squared_errors ** (1/2)\n",
    "    return RMSE\n",
    "\n",
    "get_cf_RMSE(ratings_evaluation, ratings_train, cosine_similarity_matrix, average_rating, 10)"
   ]
  },
  {
   "cell_type": "markdown",
   "metadata": {},
   "source": [
    "The collaborative filter has a very similar RMSE to the SVD predicted ratings.  It does take a lot longer to come up with the predicted ratings (45 time more time).  It may be more efficient to use the SVD method.  \n",
    "\n",
    "However before reaching this conclusion, I will search for the optimal k for this collaborative filter.  Just like the SVG models, I will begin by searching wide and then narrow the search."
   ]
  },
  {
   "cell_type": "code",
   "execution_count": 18,
   "metadata": {
    "ExecuteTime": {
     "end_time": "2020-03-12T17:16:21.436228Z",
     "start_time": "2020-03-12T17:08:37.434811Z"
    }
   },
   "outputs": [
    {
     "data": {
      "text/plain": [
       "<matplotlib.axes._subplots.AxesSubplot at 0x1d62dd040c8>"
      ]
     },
     "execution_count": 18,
     "metadata": {},
     "output_type": "execute_result"
    },
    {
     "data": {
      "image/png": "[encoded data removed]",
      "text/plain": [
       "<Figure size 432x288 with 1 Axes>"
      ]
     },
     "metadata": {
      "needs_background": "light"
     },
     "output_type": "display_data"
    }
   ],
   "source": [
    "RMSEs = []\n",
    "for k in range(1, 500, 50):\n",
    "    RMSE = get_cf_RMSE(ratings_evaluation, ratings_train, cosine_similarity_matrix, average_rating, k)\n",
    "    RMSEs.append({'k':k, 'RMSE':RMSE})\n",
    "\n",
    "RMSEs = pd.DataFrame(RMSEs)\n",
    "RMSEs.plot(x='k', y='RMSE')"
   ]
  },
  {
   "cell_type": "markdown",
   "metadata": {},
   "source": [
    "It looks like the RMSE is the lowest somewhere between 50 and 150.  Due to the time needed to calculate I'm going to do a second sweep.  It might work out that 100 is the best k to use for this collaborative filter."
   ]
  },
  {
   "cell_type": "code",
   "execution_count": 19,
   "metadata": {
    "ExecuteTime": {
     "end_time": "2020-03-12T17:24:24.594906Z",
     "start_time": "2020-03-12T17:16:21.438190Z"
    }
   },
   "outputs": [
    {
     "data": {
      "text/plain": [
       "<matplotlib.axes._subplots.AxesSubplot at 0x1d62de996c8>"
      ]
     },
     "execution_count": 19,
     "metadata": {},
     "output_type": "execute_result"
    },
    {
     "data": {
      "image/png": "[encoded data removed]",
      "text/plain": [
       "<Figure size 432x288 with 1 Axes>"
      ]
     },
     "metadata": {
      "needs_background": "light"
     },
     "output_type": "display_data"
    }
   ],
   "source": [
    "RMSEs = []\n",
    "for k in range(50, 150, 10):\n",
    "    RMSE = get_cf_RMSE(ratings_evaluation, ratings_train, cosine_similarity_matrix, average_rating, k)\n",
    "    RMSEs.append({'k':k, 'RMSE':RMSE})\n",
    "\n",
    "RMSEs = pd.DataFrame(RMSEs)\n",
    "RMSEs.plot(x='k', y='RMSE')"
   ]
  },
  {
   "cell_type": "markdown",
   "metadata": {
    "ExecuteTime": {
     "end_time": "2020-03-12T16:17:40.921890Z",
     "start_time": "2020-03-12T16:17:40.914933Z"
    }
   },
   "source": [
    "It looks like the minimum is around 110.  Let's see if we can figure out the optimal k"
   ]
  },
  {
   "cell_type": "code",
   "execution_count": 20,
   "metadata": {
    "ExecuteTime": {
     "end_time": "2020-03-12T17:35:59.439619Z",
     "start_time": "2020-03-12T17:24:24.595902Z"
    }
   },
   "outputs": [
    {
     "name": "stdout",
     "output_type": "stream",
     "text": [
      "A k of 102 gives an RMSE of 1.0378712422979317 on the evaluation set\n"
     ]
    }
   ],
   "source": [
    "min_RMSE = 100\n",
    "optimal_k = 0\n",
    "\n",
    "RMSEs = []\n",
    "\n",
    "for k in range(100, 115, 1):\n",
    "    RMSE = get_cf_RMSE(ratings_evaluation, ratings_train, cosine_similarity_matrix, average_rating, k)\n",
    "    RMSEs.append({'k':k, 'RMSE':RMSE})\n",
    "    if RMSE < min_RMSE:\n",
    "        min_RMSE = RMSE\n",
    "        optimal_k = k\n",
    "\n",
    "print(\"A k of \" + str(optimal_k) + \" gives an RMSE of \" + str(min_RMSE) + \" on the evaluation set\")"
   ]
  },
  {
   "cell_type": "code",
   "execution_count": 21,
   "metadata": {
    "ExecuteTime": {
     "end_time": "2020-03-12T17:35:59.570269Z",
     "start_time": "2020-03-12T17:35:59.441582Z"
    }
   },
   "outputs": [
    {
     "data": {
      "text/plain": [
       "<matplotlib.axes._subplots.AxesSubplot at 0x1d62def9088>"
      ]
     },
     "execution_count": 21,
     "metadata": {},
     "output_type": "execute_result"
    },
    {
     "data": {
      "image/png": "[encoded data removed]",
      "text/plain": [
       "<Figure size 432x288 with 1 Axes>"
      ]
     },
     "metadata": {
      "needs_background": "light"
     },
     "output_type": "display_data"
    }
   ],
   "source": [
    "RMSEs = pd.DataFrame(RMSEs)\n",
    "RMSEs.plot(x='k', y='RMSE')"
   ]
  },
  {
   "cell_type": "markdown",
   "metadata": {},
   "source": [
    "So it looks like 102 is a fairly good choice for a k.  I will run with that.  Let's see how this \"optimized\" collaborative filter works on the test data set."
   ]
  },
  {
   "cell_type": "code",
   "execution_count": 22,
   "metadata": {
    "ExecuteTime": {
     "end_time": "2020-03-12T17:36:42.448077Z",
     "start_time": "2020-03-12T17:35:59.571289Z"
    }
   },
   "outputs": [
    {
     "data": {
      "text/plain": [
       "0.9755261627745621"
      ]
     },
     "execution_count": 22,
     "metadata": {},
     "output_type": "execute_result"
    }
   ],
   "source": [
    "get_cf_RMSE(ratings_test, ratings_train, cosine_similarity_matrix, average_rating, optimal_k)"
   ]
  },
  {
   "cell_type": "markdown",
   "metadata": {},
   "source": [
    "Interesting.  The collaborative filter has an RMSE of 0.98.\n",
    "\n",
    "## Summary\n",
    "\n",
    "I implemented a SVD model on the MovieLens 100K dataset.  Two versions were tested and optimized.  One adjusted for the user bias, the other one didn't.  These two SVD models were pitted against an item based collaborative filter.  This collaborative filter was also optimized.  All three models were evaluated on a test data set.  The following table summarizes the RMSE of the predictions on the test set:\n",
    "\n",
    "| Method                            | RMSE |\n",
    "|-----------------------------------|------|\n",
    "| SVD                               | 1.05 | \n",
    "| Bias Adjusted SVD                 | 1.05 |\n",
    "| Item to Item Collaborative Filter | 0.98 |\n",
    "\n",
    "The two SVD models generated very similar results.  The collaborative filter preformed much better.  I would hasten to note that these results may be due to my implementation of the SVD model.  For example, the [Surprise](http://surpriselib.com/) python package has an RMSE of 0.93 on their dataset."
   ]
  },
  {
   "cell_type": "code",
   "execution_count": null,
   "metadata": {},
   "outputs": [],
   "source": []
  }
 ],
 "metadata": {
  "kernelspec": {
   "display_name": "Python 3",
   "language": "python",
   "name": "python3"
  },
  "language_info": {
   "codemirror_mode": {
    "name": "ipython",
    "version": 3
   },
   "file_extension": ".py",
   "mimetype": "text/x-python",
   "name": "python",
   "nbconvert_exporter": "python",
   "pygments_lexer": "ipython3",
   "version": "3.7.6"
  }
 },
 "nbformat": 4,
 "nbformat_minor": 4
}
