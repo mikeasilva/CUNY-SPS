{
 "cells": [
  {
   "cell_type": "markdown",
   "metadata": {},
   "source": [
    "# DATA 612 Project 3 - Matrix Factorization\n",
    "\n",
    "By Mike Silva\n",
    "\n",
    "## Introduction\n",
    "\n",
    "This is an implementation of a matrix factorization method in the context of a recommender system.\n",
    "\n",
    "100,000 ratings and 3,600 tag applications applied to 9,000 movies by 600 users. Last updated 9/2018"
   ]
  },
  {
   "cell_type": "code",
   "execution_count": 1,
   "metadata": {
    "ExecuteTime": {
     "end_time": "2020-03-09T17:55:03.788743Z",
     "start_time": "2020-03-09T17:55:03.163244Z"
    }
   },
   "outputs": [
    {
     "data": {
      "text/plain": [
       "(100836, 4)"
      ]
     },
     "execution_count": 1,
     "metadata": {},
     "output_type": "execute_result"
    }
   ],
   "source": [
    "import matplotlib.pyplot as plt\n",
    "import os\n",
    "#import numpy as np\n",
    "import pandas as pd\n",
    "import requests\n",
    "#import scipy.cluster.hierarchy as hclust\n",
    "#import seaborn as sns\n",
    "#from shutil import rmtree\n",
    "#from sklearn.preprocessing import normalize\n",
    "import zipfile\n",
    "# Import my custom module for this class\n",
    "#import data612\n",
    "\n",
    "%matplotlib inline\n",
    "\n",
    "# STEP 1 - DOWNLOAD THE DATA SET\n",
    "if not os.path.exists(\"ml-latest-small.zip\"):\n",
    "    # We need to download it\n",
    "    response = requests.get(\"http://files.grouplens.org/datasets/movielens/ml-latest-small.zip\")\n",
    "    if response.status_code == 200:\n",
    "        with open(\"ml-latest-small.zip\", \"wb\") as f:\n",
    "            f.write(response.content)\n",
    "# STEP 2 - EXTRACT THE DATA SET\n",
    "if not os.path.exists(\"ratings.csv\"):\n",
    "    with zipfile.ZipFile(\"ml-latest-small.zip\",\"r\") as z:\n",
    "        z.extractall()\n",
    "# STEP 3 - READ ING THE DATA\n",
    "df = pd.read_csv(\"ml-latest-small/ratings.csv\")\n",
    "df.shape"
   ]
  },
  {
   "cell_type": "code",
   "execution_count": null,
   "metadata": {},
   "outputs": [],
   "source": []
  }
 ],
 "metadata": {
  "kernelspec": {
   "display_name": "Python 3",
   "language": "python",
   "name": "python3"
  },
  "language_info": {
   "codemirror_mode": {
    "name": "ipython",
    "version": 3
   },
   "file_extension": ".py",
   "mimetype": "text/x-python",
   "name": "python",
   "nbconvert_exporter": "python",
   "pygments_lexer": "ipython3",
   "version": "3.7.6"
  }
 },
 "nbformat": 4,
 "nbformat_minor": 4
}
