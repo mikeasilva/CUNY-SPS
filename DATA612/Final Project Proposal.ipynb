{
 "cells": [
  {
   "cell_type": "markdown",
   "metadata": {},
   "source": [
    "# DATA 612 Final Project Proposal\n",
    "\n",
    "By Mike Silva\n",
    "\n",
    "## Data Set\n",
    "\n",
    "For my final project I will use the scrapped ratings from BoardGameGeek.com.  I will create a recommender system that will use both the implicit and explicit ratings.  In total there is 1.8 million ratings.  It is yet to be determined how many of these ratings will make it into the final product.\n",
    "\n",
    "## Approach\n",
    "\n",
    "I will plan to create a hybrid recommender system that utilizes concepts of content and collaborative filtering.  Given the large number of items in my dataset, calculating cosine similarities will be impossible.  Instead I plan to using a network graph-based approach, similar to what Pinterest did (subject of one of my research assignments).  My implementation will be different.\n",
    "\n",
    "## Deliverable\n",
    "\n",
    "I intend to deploy the recommender system to Microsoft Azure as part of a Flask app.  I hope this gives me some experience that would be covered in the optional 6th assignment which I did not complete. \n"
   ]
  }
 ],
 "metadata": {
  "kernelspec": {
   "display_name": "Python 3",
   "language": "python",
   "name": "python3"
  },
  "language_info": {
   "codemirror_mode": {
    "name": "ipython",
    "version": 3
   },
   "file_extension": ".py",
   "mimetype": "text/x-python",
   "name": "python",
   "nbconvert_exporter": "python",
   "pygments_lexer": "ipython3",
   "version": "3.7.7"
  }
 },
 "nbformat": 4,
 "nbformat_minor": 4
}
