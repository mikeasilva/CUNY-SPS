{
 "cells": [
  {
   "cell_type": "markdown",
   "metadata": {
    "ExecuteTime": {
     "end_time": "2020-03-12T20:08:52.747073Z",
     "start_time": "2020-03-12T20:08:52.731449Z"
    }
   },
   "source": [
    "# Research Discussion Assignment 2\n",
    "\n",
    "There are a few things that stood out when I watched [this video](https://www.youtube.com/watch?v=3LBgiFch4_g) to me.  \n",
    "\n",
    "## Spotify Uses Multiple Methods\n",
    "\n",
    "The first point was made early on when Chris Johnson was explaining their methods of producing recommendations for their users.  He explained that Spotify uses personalized recommendations, artist radio recommendations, related artists recommendations.  They have a multiple prong strategy because their users may find one set of recommendations helpful, while the other not so much.  In developing recommendations for this course this need has stuck out to me.\n",
    "\n",
    "## Implementation/Deployment Changes With Time\n",
    "\n",
    "Another thing I found interesting was the deployment path.  They developed a recommendation system on a Hadoop platform.  As time progressed, this became less feasible or more costly so they moved to a Spark platform.  They had to pick the right tool for the job.  It seems to me that much thought was put into the deployment of the Hadoop system (i.e. what went into what grid).  That section was frankly over my head because I have not worked with Hadoop before.  It seemed as the scale increased the IO overhead became a larger issue until they were better off using a different tool.\n",
    "\n",
    "## Still Room To Grow\n",
    "\n",
    "The last point I found interesting is that about 19:30 in the video, the slide showed GraphLab being faster than Spark at completing ALS.  He was asked questions about GraphLab which seemed like there is another way forward once the Spark system starts to grow long in the tooth."
   ]
  }
 ],
 "metadata": {
  "kernelspec": {
   "display_name": "Python 3",
   "language": "python",
   "name": "python3"
  },
  "language_info": {
   "codemirror_mode": {
    "name": "ipython",
    "version": 3
   },
   "file_extension": ".py",
   "mimetype": "text/x-python",
   "name": "python",
   "nbconvert_exporter": "python",
   "pygments_lexer": "ipython3",
   "version": "3.7.6"
  }
 },
 "nbformat": 4,
 "nbformat_minor": 4
}
