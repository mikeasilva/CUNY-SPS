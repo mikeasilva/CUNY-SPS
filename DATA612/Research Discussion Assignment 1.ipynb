{
 "cells": [
  {
   "cell_type": "markdown",
   "metadata": {},
   "source": [
    "# Research Discussion Assignment 1\n",
    "\n",
    "## Pintrest's Recommender System\n",
    "\n",
    "For this research discussion I selected Pintrest's recommender system.  I selected this because of Pintrest's unique user base.  over 80% of the users are female.  I wanted to know if this had any bearing on the design of the recommendation system.  What I found was suprising.\n",
    "\n",
    "My first thoughts is that it uses content-based recommender system, making recommendations based off of related content.  However I was wrong.  Instead of using content-based or collaborative filtering they use a graph based system to find related content.  [According to their research paper](https://labs.pinterest.com/user/themes/pin_labs/assets/paper/paper-pixie.pdf), their recommender system is called Pixie, and it preforms random walks to find content to recommend. \n",
    "\n",
    "Pinterest is quite transparent about their system and their motivations.  They do not use the techniques that we have covered due to the scale they operate at.  They have 3+ billion items and 200+ million users.  They explained that having to provide real-time recommendations necessitated this type of design.\n",
    "\n",
    "Pintrest is a set of visual bookmarks, or \"pins\", that are curated and organzied by users into \"boards.\"  The boards are named so the users are classifying pins.  For example a pin might be on a \"desert\", \"ice cream\", \"summertime\" and \"patriotic\" board.  These boards helps provide a multi-faceted description of a pin.  They use these connections to form the graph that they use to make their recommendations.  \n",
    "\n",
    "There are a lot more interesting details in the research paper.  I highly recommend it to everyone in this class as a way to understand an alternative method of forming a recommendation system.\n",
    "\n",
    "### Performance\n",
    "\n",
    "How does Pixie perform?  For me it generally provides good content.  I use pinterest in collaboration with my wife to share gardening or home improvement ideas.  I find some of the content not as deep as I would like but I attribute it to the user base. \n",
    "\n",
    "My only complaint about the recommender system is that it has a long memory.  I have researched outdoors activites and so I get knot typing pins (which I don't mind).  I clicked on a pin about fancy ways of lacing up a pair of seakers.  It was something different that caught my attention and so I clicked (stupid me).  Now I continue to get pins recommended about how to lace up shoes, or teach kids how to tie shoes, etc.  The research paper explains how they do provide  It was a one time mistake and I have a lasting consequence everytime I use Pintrest.  So don't click on the click bait or it will haunt you.\n",
    "\n",
    "\n",
    "## Attacks on Recommender System\n",
    "\n",
    "The [Washington Post article](https://www.washingtonpost.com/news/morning-mix/wp/2017/04/19/wisdom-of-the-crowd-imdb-users-gang-up-on-the-promise-before-it-even-opens/?utm_term=.757fa312001d) was very interesting.  It appears that inserting fake data into the recommendation system are common and known about from looking over scholarly literature.  I was unaware of it.  \n",
    "\n",
    "One posible design strategy would be to weigh the opinions.  You could favor those who have an established presense.  If someone has reviewed all of the wines on Amazon, their opinion would be more reliable than some person that has one review of wines.  This would prevent a mob rising up and joining a platform in order to sway the recommender.  It would increase the amount of work needed to develop a profile that would get recognized by the system.  This goes against the wisdom of crowds idea thought.\n",
    "\n",
    "I wonder if it would be possible to create a classifier that identifies a recommendation as whatever the correlary would be to  \"spam\" or \"ham.\"  If a profile generates spam we don't include their data into the recommendations.  Perhaps this could be determined by the timing of the data.  I would imagine that products get recommendations at a normal Poision distribtion like rate.  If there is a surge in the number of recommendations for a certain item, we can know that there is something fishy (or pehaps nefarious) going on."
   ]
  },
  {
   "cell_type": "code",
   "execution_count": null,
   "metadata": {},
   "outputs": [],
   "source": []
  }
 ],
 "metadata": {
  "kernelspec": {
   "display_name": "Python 3",
   "language": "python",
   "name": "python3"
  },
  "language_info": {
   "codemirror_mode": {
    "name": "ipython",
    "version": 3
   },
   "file_extension": ".py",
   "mimetype": "text/x-python",
   "name": "python",
   "nbconvert_exporter": "python",
   "pygments_lexer": "ipython3",
   "version": "3.7.5"
  }
 },
 "nbformat": 4,
 "nbformat_minor": 2
}
