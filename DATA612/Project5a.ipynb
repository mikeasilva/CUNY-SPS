{
 "cells": [
  {
   "cell_type": "markdown",
   "metadata": {},
   "source": [
    "# Project 5 - Implementing a Recommender System on Spark\n",
    "\n",
    "By Mike Silva\n",
    "\n",
    "## Introduction\n",
    "\n",
    "The goal of this project is to practice beginning to work with a distributed recommender system.  I am to compare and contrast creating a recommender system on a distributed platform against one that is not.  This is the first part where I will be creating the model on my laptop.  For this project I will be using data scrapped from BoardGameGeek.com (BGG).\n",
    "\n",
    "### About the BGG Dataset\n",
    "The BoardGameGeek dataset was collected by myself by scrapping data from the API that forms the backend of [BoardGameGeek's website](https://boardgamegeek.com/). Data scrapping in ongoing but this particular data set has over 1.9 million ratings (implicit and explicit) for about 88,000 games by 219,000 users. I have previously exported the ratings from the SQLite database, then exported the data into a CSV for processing."
   ]
  },
  {
   "cell_type": "code",
   "execution_count": 1,
   "metadata": {
    "ExecuteTime": {
     "end_time": "2020-04-29T18:10:54.317090Z",
     "start_time": "2020-04-29T18:10:53.194806Z"
    }
   },
   "outputs": [],
   "source": [
    "import matplotlib.pyplot as plt\n",
    "import pandas as pd\n",
    "import numpy as np\n",
    "import random\n",
    "import seaborn as sns\n",
    "import time\n",
    "\n",
    "from surprise import BaselineOnly\n",
    "from surprise import Reader\n",
    "from surprise import Dataset\n",
    "from surprise.model_selection import KFold\n",
    "from surprise import accuracy\n",
    "\n",
    "my_seed = 42\n",
    "random.seed(my_seed)\n",
    "np.random.seed(my_seed)\n",
    "\n",
    "%matplotlib inline"
   ]
  },
  {
   "cell_type": "markdown",
   "metadata": {},
   "source": [
    "## Data Wrangling\n",
    "\n",
    "I will begin by reading in the rating data that I have scrapped."
   ]
  },
  {
   "cell_type": "code",
   "execution_count": 2,
   "metadata": {
    "ExecuteTime": {
     "end_time": "2020-04-29T18:10:55.200777Z",
     "start_time": "2020-04-29T18:10:54.317090Z"
    }
   },
   "outputs": [
    {
     "data": {
      "text/html": [
       "<div>\n",
       "<style scoped>\n",
       "    .dataframe tbody tr th:only-of-type {\n",
       "        vertical-align: middle;\n",
       "    }\n",
       "\n",
       "    .dataframe tbody tr th {\n",
       "        vertical-align: top;\n",
       "    }\n",
       "\n",
       "    .dataframe thead th {\n",
       "        text-align: right;\n",
       "    }\n",
       "</style>\n",
       "<table border=\"1\" class=\"dataframe\">\n",
       "  <thead>\n",
       "    <tr style=\"text-align: right;\">\n",
       "      <th></th>\n",
       "      <th>id</th>\n",
       "      <th>item_id</th>\n",
       "      <th>user_id</th>\n",
       "      <th>rating</th>\n",
       "      <th>rating_tstamp</th>\n",
       "    </tr>\n",
       "  </thead>\n",
       "  <tbody>\n",
       "    <tr>\n",
       "      <th>0</th>\n",
       "      <td>1</td>\n",
       "      <td>3</td>\n",
       "      <td>987</td>\n",
       "      <td>9.0</td>\n",
       "      <td>2016-07-29 08:22:03</td>\n",
       "    </tr>\n",
       "    <tr>\n",
       "      <th>1</th>\n",
       "      <td>2</td>\n",
       "      <td>3</td>\n",
       "      <td>940</td>\n",
       "      <td>9.0</td>\n",
       "      <td>2015-05-19 09:11:04</td>\n",
       "    </tr>\n",
       "    <tr>\n",
       "      <th>2</th>\n",
       "      <td>3</td>\n",
       "      <td>3</td>\n",
       "      <td>607</td>\n",
       "      <td>8.0</td>\n",
       "      <td>2002-08-25 00:49:42</td>\n",
       "    </tr>\n",
       "    <tr>\n",
       "      <th>3</th>\n",
       "      <td>4</td>\n",
       "      <td>3</td>\n",
       "      <td>8972</td>\n",
       "      <td>8.0</td>\n",
       "      <td>2004-02-28 22:32:59</td>\n",
       "    </tr>\n",
       "    <tr>\n",
       "      <th>4</th>\n",
       "      <td>5</td>\n",
       "      <td>3</td>\n",
       "      <td>8973</td>\n",
       "      <td>8.0</td>\n",
       "      <td>2005-10-21 12:51:52</td>\n",
       "    </tr>\n",
       "    <tr>\n",
       "      <th>...</th>\n",
       "      <td>...</td>\n",
       "      <td>...</td>\n",
       "      <td>...</td>\n",
       "      <td>...</td>\n",
       "      <td>...</td>\n",
       "    </tr>\n",
       "    <tr>\n",
       "      <th>1936354</th>\n",
       "      <td>1936355</td>\n",
       "      <td>57197</td>\n",
       "      <td>599</td>\n",
       "      <td>0.0</td>\n",
       "      <td>NaN</td>\n",
       "    </tr>\n",
       "    <tr>\n",
       "      <th>1936355</th>\n",
       "      <td>1936356</td>\n",
       "      <td>57197</td>\n",
       "      <td>13388</td>\n",
       "      <td>0.0</td>\n",
       "      <td>NaN</td>\n",
       "    </tr>\n",
       "    <tr>\n",
       "      <th>1936356</th>\n",
       "      <td>1936357</td>\n",
       "      <td>57197</td>\n",
       "      <td>9716</td>\n",
       "      <td>0.0</td>\n",
       "      <td>NaN</td>\n",
       "    </tr>\n",
       "    <tr>\n",
       "      <th>1936357</th>\n",
       "      <td>1936358</td>\n",
       "      <td>57197</td>\n",
       "      <td>1</td>\n",
       "      <td>0.0</td>\n",
       "      <td>NaN</td>\n",
       "    </tr>\n",
       "    <tr>\n",
       "      <th>1936358</th>\n",
       "      <td>1936359</td>\n",
       "      <td>57197</td>\n",
       "      <td>305656</td>\n",
       "      <td>0.0</td>\n",
       "      <td>NaN</td>\n",
       "    </tr>\n",
       "  </tbody>\n",
       "</table>\n",
       "<p>1936359 rows × 5 columns</p>\n",
       "</div>"
      ],
      "text/plain": [
       "              id  item_id  user_id  rating        rating_tstamp\n",
       "0              1        3      987     9.0  2016-07-29 08:22:03\n",
       "1              2        3      940     9.0  2015-05-19 09:11:04\n",
       "2              3        3      607     8.0  2002-08-25 00:49:42\n",
       "3              4        3     8972     8.0  2004-02-28 22:32:59\n",
       "4              5        3     8973     8.0  2005-10-21 12:51:52\n",
       "...          ...      ...      ...     ...                  ...\n",
       "1936354  1936355    57197      599     0.0                  NaN\n",
       "1936355  1936356    57197    13388     0.0                  NaN\n",
       "1936356  1936357    57197     9716     0.0                  NaN\n",
       "1936357  1936358    57197        1     0.0                  NaN\n",
       "1936358  1936359    57197   305656     0.0                  NaN\n",
       "\n",
       "[1936359 rows x 5 columns]"
      ]
     },
     "execution_count": 2,
     "metadata": {},
     "output_type": "execute_result"
    }
   ],
   "source": [
    "df = pd.read_csv(\"bgg_ratings.csv\")\n",
    "df"
   ]
  },
  {
   "cell_type": "markdown",
   "metadata": {},
   "source": [
    "There are 1.9 million ratings in the data.  The ratings provided are on a continuous scale.  We want them to be discreet so we will round them and cast them as integers."
   ]
  },
  {
   "cell_type": "code",
   "execution_count": 3,
   "metadata": {
    "ExecuteTime": {
     "end_time": "2020-04-29T18:10:55.248708Z",
     "start_time": "2020-04-29T18:10:55.202773Z"
    }
   },
   "outputs": [],
   "source": [
    "df[\"rounded_rating\"] = df[\"rating\"].round().astype(int)"
   ]
  },
  {
   "cell_type": "markdown",
   "metadata": {},
   "source": [
    "There are both explicit and implicit ratings.  The explicit ratings have a value of zero (as seen in the table above).  Here's the distribution of the ratings."
   ]
  },
  {
   "cell_type": "code",
   "execution_count": 4,
   "metadata": {
    "ExecuteTime": {
     "end_time": "2020-04-29T18:10:55.547951Z",
     "start_time": "2020-04-29T18:10:55.249646Z"
    }
   },
   "outputs": [
    {
     "data": {
      "text/plain": [
       "<matplotlib.axes._subplots.AxesSubplot at 0x1c48bdc4888>"
      ]
     },
     "execution_count": 4,
     "metadata": {},
     "output_type": "execute_result"
    },
    {
     "data": {
      "image/png": "[encoded data removed]",
      "text/plain": [
       "<Figure size 432x288 with 1 Axes>"
      ]
     },
     "metadata": {
      "needs_background": "light"
     },
     "output_type": "display_data"
    }
   ],
   "source": [
    "sns.countplot(x=\"rounded_rating\", data=df)"
   ]
  },
  {
   "cell_type": "markdown",
   "metadata": {},
   "source": [
    "As you can see from the plot above, the majority of the ratings are explicit.  I don't want to loose this information.  \n",
    "\n",
    "### Filling in \"Missing\" Values\n",
    "\n",
    "Since an implicit rating is an prediction of liking a game, I want to fill them in with high values based off of the explicit ratings.  First  I need the explicit ratings. "
   ]
  },
  {
   "cell_type": "code",
   "execution_count": 5,
   "metadata": {
    "ExecuteTime": {
     "end_time": "2020-04-29T18:10:55.676597Z",
     "start_time": "2020-04-29T18:10:55.548919Z"
    }
   },
   "outputs": [
    {
     "data": {
      "text/html": [
       "<div>\n",
       "<style scoped>\n",
       "    .dataframe tbody tr th:only-of-type {\n",
       "        vertical-align: middle;\n",
       "    }\n",
       "\n",
       "    .dataframe tbody tr th {\n",
       "        vertical-align: top;\n",
       "    }\n",
       "\n",
       "    .dataframe thead th {\n",
       "        text-align: right;\n",
       "    }\n",
       "</style>\n",
       "<table border=\"1\" class=\"dataframe\">\n",
       "  <thead>\n",
       "    <tr style=\"text-align: right;\">\n",
       "      <th></th>\n",
       "      <th>id</th>\n",
       "      <th>item_id</th>\n",
       "      <th>user_id</th>\n",
       "      <th>rating</th>\n",
       "      <th>rating_tstamp</th>\n",
       "      <th>rounded_rating</th>\n",
       "    </tr>\n",
       "  </thead>\n",
       "  <tbody>\n",
       "    <tr>\n",
       "      <th>0</th>\n",
       "      <td>1</td>\n",
       "      <td>3</td>\n",
       "      <td>987</td>\n",
       "      <td>9.0</td>\n",
       "      <td>2016-07-29 08:22:03</td>\n",
       "      <td>9</td>\n",
       "    </tr>\n",
       "    <tr>\n",
       "      <th>1</th>\n",
       "      <td>2</td>\n",
       "      <td>3</td>\n",
       "      <td>940</td>\n",
       "      <td>9.0</td>\n",
       "      <td>2015-05-19 09:11:04</td>\n",
       "      <td>9</td>\n",
       "    </tr>\n",
       "    <tr>\n",
       "      <th>2</th>\n",
       "      <td>3</td>\n",
       "      <td>3</td>\n",
       "      <td>607</td>\n",
       "      <td>8.0</td>\n",
       "      <td>2002-08-25 00:49:42</td>\n",
       "      <td>8</td>\n",
       "    </tr>\n",
       "    <tr>\n",
       "      <th>3</th>\n",
       "      <td>4</td>\n",
       "      <td>3</td>\n",
       "      <td>8972</td>\n",
       "      <td>8.0</td>\n",
       "      <td>2004-02-28 22:32:59</td>\n",
       "      <td>8</td>\n",
       "    </tr>\n",
       "    <tr>\n",
       "      <th>4</th>\n",
       "      <td>5</td>\n",
       "      <td>3</td>\n",
       "      <td>8973</td>\n",
       "      <td>8.0</td>\n",
       "      <td>2005-10-21 12:51:52</td>\n",
       "      <td>8</td>\n",
       "    </tr>\n",
       "    <tr>\n",
       "      <th>...</th>\n",
       "      <td>...</td>\n",
       "      <td>...</td>\n",
       "      <td>...</td>\n",
       "      <td>...</td>\n",
       "      <td>...</td>\n",
       "      <td>...</td>\n",
       "    </tr>\n",
       "    <tr>\n",
       "      <th>1936338</th>\n",
       "      <td>1936339</td>\n",
       "      <td>40504</td>\n",
       "      <td>192811</td>\n",
       "      <td>8.0</td>\n",
       "      <td>2015-09-10 09:03:09</td>\n",
       "      <td>8</td>\n",
       "    </tr>\n",
       "    <tr>\n",
       "      <th>1936342</th>\n",
       "      <td>1936343</td>\n",
       "      <td>57197</td>\n",
       "      <td>57613</td>\n",
       "      <td>10.0</td>\n",
       "      <td>2012-03-10 01:14:42</td>\n",
       "      <td>10</td>\n",
       "    </tr>\n",
       "    <tr>\n",
       "      <th>1936343</th>\n",
       "      <td>1936344</td>\n",
       "      <td>57197</td>\n",
       "      <td>11</td>\n",
       "      <td>8.0</td>\n",
       "      <td>2012-04-04 07:18:15</td>\n",
       "      <td>8</td>\n",
       "    </tr>\n",
       "    <tr>\n",
       "      <th>1936344</th>\n",
       "      <td>1936345</td>\n",
       "      <td>57197</td>\n",
       "      <td>10850</td>\n",
       "      <td>8.0</td>\n",
       "      <td>2020-02-09 16:15:06</td>\n",
       "      <td>8</td>\n",
       "    </tr>\n",
       "    <tr>\n",
       "      <th>1936345</th>\n",
       "      <td>1936346</td>\n",
       "      <td>57197</td>\n",
       "      <td>1058</td>\n",
       "      <td>1.0</td>\n",
       "      <td>2016-11-13 18:27:56</td>\n",
       "      <td>1</td>\n",
       "    </tr>\n",
       "  </tbody>\n",
       "</table>\n",
       "<p>1013323 rows × 6 columns</p>\n",
       "</div>"
      ],
      "text/plain": [
       "              id  item_id  user_id  rating        rating_tstamp  \\\n",
       "0              1        3      987     9.0  2016-07-29 08:22:03   \n",
       "1              2        3      940     9.0  2015-05-19 09:11:04   \n",
       "2              3        3      607     8.0  2002-08-25 00:49:42   \n",
       "3              4        3     8972     8.0  2004-02-28 22:32:59   \n",
       "4              5        3     8973     8.0  2005-10-21 12:51:52   \n",
       "...          ...      ...      ...     ...                  ...   \n",
       "1936338  1936339    40504   192811     8.0  2015-09-10 09:03:09   \n",
       "1936342  1936343    57197    57613    10.0  2012-03-10 01:14:42   \n",
       "1936343  1936344    57197       11     8.0  2012-04-04 07:18:15   \n",
       "1936344  1936345    57197    10850     8.0  2020-02-09 16:15:06   \n",
       "1936345  1936346    57197     1058     1.0  2016-11-13 18:27:56   \n",
       "\n",
       "         rounded_rating  \n",
       "0                     9  \n",
       "1                     9  \n",
       "2                     8  \n",
       "3                     8  \n",
       "4                     8  \n",
       "...                 ...  \n",
       "1936338               8  \n",
       "1936342              10  \n",
       "1936343               8  \n",
       "1936344               8  \n",
       "1936345               1  \n",
       "\n",
       "[1013323 rows x 6 columns]"
      ]
     },
     "execution_count": 5,
     "metadata": {},
     "output_type": "execute_result"
    }
   ],
   "source": [
    "is_an_explicit_rating = (df['rating_tstamp'].notnull()) | (df['rounded_rating'] > 0)\n",
    "is_an_explicit_rating = df['rounded_rating'] > 0\n",
    "explicit_rating = df[is_an_explicit_rating]\n",
    "explicit_rating"
   ]
  },
  {
   "cell_type": "markdown",
   "metadata": {},
   "source": [
    "Let's get the descriptive statistics of the explicit ratings."
   ]
  },
  {
   "cell_type": "code",
   "execution_count": 6,
   "metadata": {
    "ExecuteTime": {
     "end_time": "2020-04-29T18:10:55.713498Z",
     "start_time": "2020-04-29T18:10:55.677567Z"
    }
   },
   "outputs": [
    {
     "data": {
      "text/plain": [
       "count    1.013323e+06\n",
       "mean     7.609681e+00\n",
       "std      1.975946e+00\n",
       "min      1.000000e+00\n",
       "25%      6.000000e+00\n",
       "50%      8.000000e+00\n",
       "75%      9.000000e+00\n",
       "max      1.000000e+01\n",
       "Name: rounded_rating, dtype: float64"
      ]
     },
     "execution_count": 6,
     "metadata": {},
     "output_type": "execute_result"
    }
   ],
   "source": [
    "explicit_rating.rounded_rating.describe()"
   ]
  },
  {
   "cell_type": "markdown",
   "metadata": {},
   "source": [
    "The median value is 8.  Since the implicit ratings are predictions that people will like them we will include the range from 7 on up.  Seven is included because people's prediction on how much they will like a game may be inaccurate.  I want to fill in the ratings with a distribution that is similar to the  explicit ratings (instead of filling in all values with one value)."
   ]
  },
  {
   "cell_type": "code",
   "execution_count": 7,
   "metadata": {
    "ExecuteTime": {
     "end_time": "2020-04-29T18:10:55.880054Z",
     "start_time": "2020-04-29T18:10:55.714477Z"
    }
   },
   "outputs": [
    {
     "data": {
      "text/html": [
       "<div>\n",
       "<style scoped>\n",
       "    .dataframe tbody tr th:only-of-type {\n",
       "        vertical-align: middle;\n",
       "    }\n",
       "\n",
       "    .dataframe tbody tr th {\n",
       "        vertical-align: top;\n",
       "    }\n",
       "\n",
       "    .dataframe thead th {\n",
       "        text-align: right;\n",
       "    }\n",
       "</style>\n",
       "<table border=\"1\" class=\"dataframe\">\n",
       "  <thead>\n",
       "    <tr style=\"text-align: right;\">\n",
       "      <th></th>\n",
       "      <th>rounded_rating</th>\n",
       "      <th>n</th>\n",
       "    </tr>\n",
       "  </thead>\n",
       "  <tbody>\n",
       "    <tr>\n",
       "      <th>0</th>\n",
       "      <td>7</td>\n",
       "      <td>161622</td>\n",
       "    </tr>\n",
       "    <tr>\n",
       "      <th>1</th>\n",
       "      <td>8</td>\n",
       "      <td>236835</td>\n",
       "    </tr>\n",
       "    <tr>\n",
       "      <th>2</th>\n",
       "      <td>9</td>\n",
       "      <td>148943</td>\n",
       "    </tr>\n",
       "    <tr>\n",
       "      <th>3</th>\n",
       "      <td>10</td>\n",
       "      <td>207007</td>\n",
       "    </tr>\n",
       "  </tbody>\n",
       "</table>\n",
       "</div>"
      ],
      "text/plain": [
       "   rounded_rating       n\n",
       "0               7  161622\n",
       "1               8  236835\n",
       "2               9  148943\n",
       "3              10  207007"
      ]
     },
     "execution_count": 7,
     "metadata": {},
     "output_type": "execute_result"
    }
   ],
   "source": [
    "explicit_rating = explicit_rating.assign(n= 1)\n",
    "fill_with = explicit_rating[explicit_rating.rounded_rating > 6].groupby(\"rounded_rating\")[[\"n\"]].agg(\"sum\").reset_index()\n",
    "\n",
    "temp = dict()\n",
    "total = 0\n",
    "\n",
    "for item in fill_with.to_dict(\"records\"):\n",
    "    temp[item[\"rounded_rating\"]] = item[\"n\"]\n",
    "    total += item[\"n\"]\n",
    "choices = list(temp.keys())\n",
    "probs = [val / total for rating, val in temp.items()]\n",
    "fill_with"
   ]
  },
  {
   "cell_type": "markdown",
   "metadata": {},
   "source": [
    "Now that I have data on the distribution or the ratings I will fill in the implicit ratings."
   ]
  },
  {
   "cell_type": "code",
   "execution_count": 8,
   "metadata": {
    "ExecuteTime": {
     "end_time": "2020-04-29T18:10:55.994751Z",
     "start_time": "2020-04-29T18:10:55.882050Z"
    }
   },
   "outputs": [
    {
     "data": {
      "text/html": [
       "<div>\n",
       "<style scoped>\n",
       "    .dataframe tbody tr th:only-of-type {\n",
       "        vertical-align: middle;\n",
       "    }\n",
       "\n",
       "    .dataframe tbody tr th {\n",
       "        vertical-align: top;\n",
       "    }\n",
       "\n",
       "    .dataframe thead th {\n",
       "        text-align: right;\n",
       "    }\n",
       "</style>\n",
       "<table border=\"1\" class=\"dataframe\">\n",
       "  <thead>\n",
       "    <tr style=\"text-align: right;\">\n",
       "      <th></th>\n",
       "      <th>id</th>\n",
       "      <th>item_id</th>\n",
       "      <th>user_id</th>\n",
       "      <th>rating</th>\n",
       "      <th>rating_tstamp</th>\n",
       "      <th>rounded_rating</th>\n",
       "    </tr>\n",
       "  </thead>\n",
       "  <tbody>\n",
       "    <tr>\n",
       "      <th>39</th>\n",
       "      <td>40</td>\n",
       "      <td>3</td>\n",
       "      <td>8992</td>\n",
       "      <td>0.0</td>\n",
       "      <td>NaN</td>\n",
       "      <td>8</td>\n",
       "    </tr>\n",
       "    <tr>\n",
       "      <th>40</th>\n",
       "      <td>41</td>\n",
       "      <td>3</td>\n",
       "      <td>8993</td>\n",
       "      <td>0.0</td>\n",
       "      <td>NaN</td>\n",
       "      <td>10</td>\n",
       "    </tr>\n",
       "    <tr>\n",
       "      <th>41</th>\n",
       "      <td>42</td>\n",
       "      <td>3</td>\n",
       "      <td>8994</td>\n",
       "      <td>0.0</td>\n",
       "      <td>NaN</td>\n",
       "      <td>10</td>\n",
       "    </tr>\n",
       "    <tr>\n",
       "      <th>42</th>\n",
       "      <td>43</td>\n",
       "      <td>3</td>\n",
       "      <td>975</td>\n",
       "      <td>0.0</td>\n",
       "      <td>NaN</td>\n",
       "      <td>9</td>\n",
       "    </tr>\n",
       "    <tr>\n",
       "      <th>43</th>\n",
       "      <td>44</td>\n",
       "      <td>3</td>\n",
       "      <td>8290</td>\n",
       "      <td>0.0</td>\n",
       "      <td>NaN</td>\n",
       "      <td>7</td>\n",
       "    </tr>\n",
       "    <tr>\n",
       "      <th>...</th>\n",
       "      <td>...</td>\n",
       "      <td>...</td>\n",
       "      <td>...</td>\n",
       "      <td>...</td>\n",
       "      <td>...</td>\n",
       "      <td>...</td>\n",
       "    </tr>\n",
       "    <tr>\n",
       "      <th>1936354</th>\n",
       "      <td>1936355</td>\n",
       "      <td>57197</td>\n",
       "      <td>599</td>\n",
       "      <td>0.0</td>\n",
       "      <td>NaN</td>\n",
       "      <td>8</td>\n",
       "    </tr>\n",
       "    <tr>\n",
       "      <th>1936355</th>\n",
       "      <td>1936356</td>\n",
       "      <td>57197</td>\n",
       "      <td>13388</td>\n",
       "      <td>0.0</td>\n",
       "      <td>NaN</td>\n",
       "      <td>9</td>\n",
       "    </tr>\n",
       "    <tr>\n",
       "      <th>1936356</th>\n",
       "      <td>1936357</td>\n",
       "      <td>57197</td>\n",
       "      <td>9716</td>\n",
       "      <td>0.0</td>\n",
       "      <td>NaN</td>\n",
       "      <td>8</td>\n",
       "    </tr>\n",
       "    <tr>\n",
       "      <th>1936357</th>\n",
       "      <td>1936358</td>\n",
       "      <td>57197</td>\n",
       "      <td>1</td>\n",
       "      <td>0.0</td>\n",
       "      <td>NaN</td>\n",
       "      <td>8</td>\n",
       "    </tr>\n",
       "    <tr>\n",
       "      <th>1936358</th>\n",
       "      <td>1936359</td>\n",
       "      <td>57197</td>\n",
       "      <td>305656</td>\n",
       "      <td>0.0</td>\n",
       "      <td>NaN</td>\n",
       "      <td>10</td>\n",
       "    </tr>\n",
       "  </tbody>\n",
       "</table>\n",
       "<p>923036 rows × 6 columns</p>\n",
       "</div>"
      ],
      "text/plain": [
       "              id  item_id  user_id  rating rating_tstamp  rounded_rating\n",
       "39            40        3     8992     0.0           NaN               8\n",
       "40            41        3     8993     0.0           NaN              10\n",
       "41            42        3     8994     0.0           NaN              10\n",
       "42            43        3      975     0.0           NaN               9\n",
       "43            44        3     8290     0.0           NaN               7\n",
       "...          ...      ...      ...     ...           ...             ...\n",
       "1936354  1936355    57197      599     0.0           NaN               8\n",
       "1936355  1936356    57197    13388     0.0           NaN               9\n",
       "1936356  1936357    57197     9716     0.0           NaN               8\n",
       "1936357  1936358    57197        1     0.0           NaN               8\n",
       "1936358  1936359    57197   305656     0.0           NaN              10\n",
       "\n",
       "[923036 rows x 6 columns]"
      ]
     },
     "execution_count": 8,
     "metadata": {},
     "output_type": "execute_result"
    }
   ],
   "source": [
    "implicit_rating = df[~is_an_explicit_rating]\n",
    "implicit_rating = implicit_rating.assign(rounded_rating = np.random.choice(choices, len(implicit_rating.index), p=probs))\n",
    "implicit_rating"
   ]
  },
  {
   "cell_type": "markdown",
   "metadata": {},
   "source": [
    "Now that the implicit ratings are filled in I will combine it with the implicit ratings."
   ]
  },
  {
   "cell_type": "code",
   "execution_count": 9,
   "metadata": {
    "ExecuteTime": {
     "end_time": "2020-04-29T18:10:56.050570Z",
     "start_time": "2020-04-29T18:10:55.995717Z"
    }
   },
   "outputs": [
    {
     "data": {
      "text/html": [
       "<div>\n",
       "<style scoped>\n",
       "    .dataframe tbody tr th:only-of-type {\n",
       "        vertical-align: middle;\n",
       "    }\n",
       "\n",
       "    .dataframe tbody tr th {\n",
       "        vertical-align: top;\n",
       "    }\n",
       "\n",
       "    .dataframe thead th {\n",
       "        text-align: right;\n",
       "    }\n",
       "</style>\n",
       "<table border=\"1\" class=\"dataframe\">\n",
       "  <thead>\n",
       "    <tr style=\"text-align: right;\">\n",
       "      <th></th>\n",
       "      <th>user_id</th>\n",
       "      <th>item_id</th>\n",
       "      <th>rounded_rating</th>\n",
       "    </tr>\n",
       "  </thead>\n",
       "  <tbody>\n",
       "    <tr>\n",
       "      <th>0</th>\n",
       "      <td>987</td>\n",
       "      <td>3</td>\n",
       "      <td>9</td>\n",
       "    </tr>\n",
       "    <tr>\n",
       "      <th>1</th>\n",
       "      <td>940</td>\n",
       "      <td>3</td>\n",
       "      <td>9</td>\n",
       "    </tr>\n",
       "    <tr>\n",
       "      <th>2</th>\n",
       "      <td>607</td>\n",
       "      <td>3</td>\n",
       "      <td>8</td>\n",
       "    </tr>\n",
       "    <tr>\n",
       "      <th>3</th>\n",
       "      <td>8972</td>\n",
       "      <td>3</td>\n",
       "      <td>8</td>\n",
       "    </tr>\n",
       "    <tr>\n",
       "      <th>4</th>\n",
       "      <td>8973</td>\n",
       "      <td>3</td>\n",
       "      <td>8</td>\n",
       "    </tr>\n",
       "    <tr>\n",
       "      <th>...</th>\n",
       "      <td>...</td>\n",
       "      <td>...</td>\n",
       "      <td>...</td>\n",
       "    </tr>\n",
       "    <tr>\n",
       "      <th>1936354</th>\n",
       "      <td>599</td>\n",
       "      <td>57197</td>\n",
       "      <td>8</td>\n",
       "    </tr>\n",
       "    <tr>\n",
       "      <th>1936355</th>\n",
       "      <td>13388</td>\n",
       "      <td>57197</td>\n",
       "      <td>9</td>\n",
       "    </tr>\n",
       "    <tr>\n",
       "      <th>1936356</th>\n",
       "      <td>9716</td>\n",
       "      <td>57197</td>\n",
       "      <td>8</td>\n",
       "    </tr>\n",
       "    <tr>\n",
       "      <th>1936357</th>\n",
       "      <td>1</td>\n",
       "      <td>57197</td>\n",
       "      <td>8</td>\n",
       "    </tr>\n",
       "    <tr>\n",
       "      <th>1936358</th>\n",
       "      <td>305656</td>\n",
       "      <td>57197</td>\n",
       "      <td>10</td>\n",
       "    </tr>\n",
       "  </tbody>\n",
       "</table>\n",
       "<p>1936359 rows × 3 columns</p>\n",
       "</div>"
      ],
      "text/plain": [
       "         user_id  item_id  rounded_rating\n",
       "0            987        3               9\n",
       "1            940        3               9\n",
       "2            607        3               8\n",
       "3           8972        3               8\n",
       "4           8973        3               8\n",
       "...          ...      ...             ...\n",
       "1936354      599    57197               8\n",
       "1936355    13388    57197               9\n",
       "1936356     9716    57197               8\n",
       "1936357        1    57197               8\n",
       "1936358   305656    57197              10\n",
       "\n",
       "[1936359 rows x 3 columns]"
      ]
     },
     "execution_count": 9,
     "metadata": {},
     "output_type": "execute_result"
    }
   ],
   "source": [
    "cols = [\"user_id\", \"item_id\", \"rounded_rating\"]\n",
    "bgg_ratings = pd.concat([explicit_rating[cols], implicit_rating[cols]])\n",
    "bgg_ratings"
   ]
  },
  {
   "cell_type": "markdown",
   "metadata": {},
   "source": [
    "Here's what the data now look like"
   ]
  },
  {
   "cell_type": "code",
   "execution_count": 10,
   "metadata": {
    "ExecuteTime": {
     "end_time": "2020-04-29T18:10:56.325866Z",
     "start_time": "2020-04-29T18:10:56.051585Z"
    }
   },
   "outputs": [
    {
     "data": {
      "text/plain": [
       "<matplotlib.axes._subplots.AxesSubplot at 0x1c490f3d648>"
      ]
     },
     "execution_count": 10,
     "metadata": {},
     "output_type": "execute_result"
    },
    {
     "data": {
      "image/png": "[encoded data removed]",
      "text/plain": [
       "<Figure size 432x288 with 1 Axes>"
      ]
     },
     "metadata": {
      "needs_background": "light"
     },
     "output_type": "display_data"
    }
   ],
   "source": [
    "sns.countplot(x=\"rounded_rating\", data=bgg_ratings)"
   ]
  },
  {
   "cell_type": "markdown",
   "metadata": {},
   "source": [
    "### Reducing Sparse Data\n",
    "\n",
    "Now that I have a data set I will deal with the sparsity of the data.  I will only keep items that have 25+ ratings."
   ]
  },
  {
   "cell_type": "code",
   "execution_count": 11,
   "metadata": {
    "ExecuteTime": {
     "end_time": "2020-04-29T18:10:56.660267Z",
     "start_time": "2020-04-29T18:10:56.326831Z"
    }
   },
   "outputs": [
    {
     "data": {
      "text/html": [
       "<div>\n",
       "<style scoped>\n",
       "    .dataframe tbody tr th:only-of-type {\n",
       "        vertical-align: middle;\n",
       "    }\n",
       "\n",
       "    .dataframe tbody tr th {\n",
       "        vertical-align: top;\n",
       "    }\n",
       "\n",
       "    .dataframe thead th {\n",
       "        text-align: right;\n",
       "    }\n",
       "</style>\n",
       "<table border=\"1\" class=\"dataframe\">\n",
       "  <thead>\n",
       "    <tr style=\"text-align: right;\">\n",
       "      <th></th>\n",
       "      <th>user_id</th>\n",
       "      <th>item_id</th>\n",
       "      <th>rounded_rating</th>\n",
       "    </tr>\n",
       "  </thead>\n",
       "  <tbody>\n",
       "    <tr>\n",
       "      <th>0</th>\n",
       "      <td>987</td>\n",
       "      <td>3</td>\n",
       "      <td>9</td>\n",
       "    </tr>\n",
       "    <tr>\n",
       "      <th>1</th>\n",
       "      <td>940</td>\n",
       "      <td>3</td>\n",
       "      <td>9</td>\n",
       "    </tr>\n",
       "    <tr>\n",
       "      <th>2</th>\n",
       "      <td>607</td>\n",
       "      <td>3</td>\n",
       "      <td>8</td>\n",
       "    </tr>\n",
       "    <tr>\n",
       "      <th>3</th>\n",
       "      <td>8972</td>\n",
       "      <td>3</td>\n",
       "      <td>8</td>\n",
       "    </tr>\n",
       "    <tr>\n",
       "      <th>4</th>\n",
       "      <td>8973</td>\n",
       "      <td>3</td>\n",
       "      <td>8</td>\n",
       "    </tr>\n",
       "    <tr>\n",
       "      <th>...</th>\n",
       "      <td>...</td>\n",
       "      <td>...</td>\n",
       "      <td>...</td>\n",
       "    </tr>\n",
       "    <tr>\n",
       "      <th>1556831</th>\n",
       "      <td>140931</td>\n",
       "      <td>88857</td>\n",
       "      <td>8</td>\n",
       "    </tr>\n",
       "    <tr>\n",
       "      <th>1556832</th>\n",
       "      <td>127677</td>\n",
       "      <td>88857</td>\n",
       "      <td>8</td>\n",
       "    </tr>\n",
       "    <tr>\n",
       "      <th>1556833</th>\n",
       "      <td>9074</td>\n",
       "      <td>88857</td>\n",
       "      <td>8</td>\n",
       "    </tr>\n",
       "    <tr>\n",
       "      <th>1556834</th>\n",
       "      <td>54125</td>\n",
       "      <td>88857</td>\n",
       "      <td>9</td>\n",
       "    </tr>\n",
       "    <tr>\n",
       "      <th>1556835</th>\n",
       "      <td>492113</td>\n",
       "      <td>88857</td>\n",
       "      <td>8</td>\n",
       "    </tr>\n",
       "  </tbody>\n",
       "</table>\n",
       "<p>1556836 rows × 3 columns</p>\n",
       "</div>"
      ],
      "text/plain": [
       "         user_id  item_id  rounded_rating\n",
       "0            987        3               9\n",
       "1            940        3               9\n",
       "2            607        3               8\n",
       "3           8972        3               8\n",
       "4           8973        3               8\n",
       "...          ...      ...             ...\n",
       "1556831   140931    88857               8\n",
       "1556832   127677    88857               8\n",
       "1556833     9074    88857               8\n",
       "1556834    54125    88857               9\n",
       "1556835   492113    88857               8\n",
       "\n",
       "[1556836 rows x 3 columns]"
      ]
     },
     "execution_count": 11,
     "metadata": {},
     "output_type": "execute_result"
    }
   ],
   "source": [
    "counts_by_item = bgg_ratings.assign(n = 1).groupby(\"item_id\")[[\"n\"]].agg(\"sum\").reset_index()\n",
    "item_filter = counts_by_item[counts_by_item.n >= 25][\"item_id\"].tolist()\n",
    "bgg_ratings = bgg_ratings[bgg_ratings.item_id.isin(item_filter)].reset_index(drop=True)\n",
    "bgg_ratings"
   ]
  },
  {
   "cell_type": "markdown",
   "metadata": {},
   "source": [
    "That leaves me with about 1.5 million ratings.  Now I will keep data from users that have rated 10 or more games."
   ]
  },
  {
   "cell_type": "code",
   "execution_count": 12,
   "metadata": {
    "ExecuteTime": {
     "end_time": "2020-04-29T18:10:57.148401Z",
     "start_time": "2020-04-29T18:10:56.661265Z"
    }
   },
   "outputs": [
    {
     "data": {
      "text/html": [
       "<div>\n",
       "<style scoped>\n",
       "    .dataframe tbody tr th:only-of-type {\n",
       "        vertical-align: middle;\n",
       "    }\n",
       "\n",
       "    .dataframe tbody tr th {\n",
       "        vertical-align: top;\n",
       "    }\n",
       "\n",
       "    .dataframe thead th {\n",
       "        text-align: right;\n",
       "    }\n",
       "</style>\n",
       "<table border=\"1\" class=\"dataframe\">\n",
       "  <thead>\n",
       "    <tr style=\"text-align: right;\">\n",
       "      <th></th>\n",
       "      <th>user_id</th>\n",
       "      <th>item_id</th>\n",
       "      <th>rounded_rating</th>\n",
       "    </tr>\n",
       "  </thead>\n",
       "  <tbody>\n",
       "    <tr>\n",
       "      <th>0</th>\n",
       "      <td>987</td>\n",
       "      <td>3</td>\n",
       "      <td>9</td>\n",
       "    </tr>\n",
       "    <tr>\n",
       "      <th>1</th>\n",
       "      <td>940</td>\n",
       "      <td>3</td>\n",
       "      <td>9</td>\n",
       "    </tr>\n",
       "    <tr>\n",
       "      <th>2</th>\n",
       "      <td>607</td>\n",
       "      <td>3</td>\n",
       "      <td>8</td>\n",
       "    </tr>\n",
       "    <tr>\n",
       "      <th>3</th>\n",
       "      <td>8972</td>\n",
       "      <td>3</td>\n",
       "      <td>8</td>\n",
       "    </tr>\n",
       "    <tr>\n",
       "      <th>4</th>\n",
       "      <td>8973</td>\n",
       "      <td>3</td>\n",
       "      <td>8</td>\n",
       "    </tr>\n",
       "    <tr>\n",
       "      <th>...</th>\n",
       "      <td>...</td>\n",
       "      <td>...</td>\n",
       "      <td>...</td>\n",
       "    </tr>\n",
       "    <tr>\n",
       "      <th>1125102</th>\n",
       "      <td>492113</td>\n",
       "      <td>88851</td>\n",
       "      <td>10</td>\n",
       "    </tr>\n",
       "    <tr>\n",
       "      <th>1125103</th>\n",
       "      <td>285304</td>\n",
       "      <td>88851</td>\n",
       "      <td>10</td>\n",
       "    </tr>\n",
       "    <tr>\n",
       "      <th>1125104</th>\n",
       "      <td>34632</td>\n",
       "      <td>88857</td>\n",
       "      <td>10</td>\n",
       "    </tr>\n",
       "    <tr>\n",
       "      <th>1125105</th>\n",
       "      <td>9074</td>\n",
       "      <td>88857</td>\n",
       "      <td>8</td>\n",
       "    </tr>\n",
       "    <tr>\n",
       "      <th>1125106</th>\n",
       "      <td>492113</td>\n",
       "      <td>88857</td>\n",
       "      <td>8</td>\n",
       "    </tr>\n",
       "  </tbody>\n",
       "</table>\n",
       "<p>1125107 rows × 3 columns</p>\n",
       "</div>"
      ],
      "text/plain": [
       "         user_id  item_id  rounded_rating\n",
       "0            987        3               9\n",
       "1            940        3               9\n",
       "2            607        3               8\n",
       "3           8972        3               8\n",
       "4           8973        3               8\n",
       "...          ...      ...             ...\n",
       "1125102   492113    88851              10\n",
       "1125103   285304    88851              10\n",
       "1125104    34632    88857              10\n",
       "1125105     9074    88857               8\n",
       "1125106   492113    88857               8\n",
       "\n",
       "[1125107 rows x 3 columns]"
      ]
     },
     "execution_count": 12,
     "metadata": {},
     "output_type": "execute_result"
    }
   ],
   "source": [
    "counts_by_user = bgg_ratings.assign(n= 1).groupby(\"user_id\")[[\"n\"]].agg(\"sum\").reset_index()\n",
    "user_filter = counts_by_user[counts_by_user.n >= 10][\"user_id\"].tolist()\n",
    "bgg_ratings = bgg_ratings[bgg_ratings.user_id.isin(user_filter)].reset_index(drop=True)\n",
    "bgg_ratings"
   ]
  },
  {
   "cell_type": "markdown",
   "metadata": {},
   "source": [
    "That leaves me with 1.1 million records.\n",
    "\n",
    "## Model Development\n",
    "\n",
    "Because I will be building a recommender system on Spark I will be using the ALS algorithm.  I will be using the Surprise library's implementation.  I do feel that this is a fair comparison because the goal of this project is to compare development on a distributed platform vs non-distributed. "
   ]
  },
  {
   "cell_type": "code",
   "execution_count": 13,
   "metadata": {
    "ExecuteTime": {
     "end_time": "2020-04-29T18:11:32.066246Z",
     "start_time": "2020-04-29T18:10:57.149399Z"
    }
   },
   "outputs": [
    {
     "name": "stdout",
     "output_type": "stream",
     "text": [
      "Training Model: 3.666595935821533 seconds\n",
      "Predictions: 1.3354156494140625 seconds\n",
      "Evaluation: 1.506217861175537 seconds\n",
      "RMSE: 1.297831628696796\n"
     ]
    }
   ],
   "source": [
    "reader = Reader(rating_scale=(1, 10))\n",
    "data = Dataset.load_from_df(bgg_ratings, reader)\n",
    "\n",
    "\n",
    "def k_fold_als(algo, k, data):\n",
    "    \"\"\"Returns the average RMSE from k-fold cross validation of the algorythm\n",
    "    Params:\n",
    "        algo = Surprise algorythm (ALS)\n",
    "        k = Number of folds\n",
    "        data = Suprise ratings dataset\n",
    "    Returns:\n",
    "        average_rmse = The average RMSE on the test sets\n",
    "        average_train_time = The average time taken to train the model\n",
    "        average_test_time = The average time needed to predict the test data\n",
    "        average_rmse_time = The average time needed to compute the RMSE\n",
    "    \"\"\"\n",
    "    kf = KFold(n_splits=k)\n",
    "    total_rmse = 0\n",
    "    train_time = 0\n",
    "    test_time = 0\n",
    "    rmse_time = 0\n",
    "    for training_set, test_set in kf.split(data):\n",
    "        # Train the models on the training set\n",
    "        train_start_time = time.time()\n",
    "        algo.fit(training_set)\n",
    "        train_time += time.time() - train_start_time\n",
    "        # Get the predictions on the test set\n",
    "        test_start_time = time.time()\n",
    "        algo_predictions = algo.test(test_set)\n",
    "        test_time += time.time() - test_start_time\n",
    "        # Add in the RMSE\n",
    "        rmse_start_time = time.time()\n",
    "        total_rmse += accuracy.rmse(algo_predictions, verbose=False)\n",
    "        rmse_time += time.time() - test_start_time\n",
    "    average_rmse = total_rmse / k\n",
    "    average_train_time = train_time / k\n",
    "    average_test_time = test_time / k\n",
    "    average_rmse_time = rmse_time / k\n",
    "    return (average_rmse, average_train_time, average_test_time, average_rmse_time)\n",
    "    \n",
    "\n",
    "vanilla_als = BaselineOnly(bsl_options={\"method\": \"als\"}, verbose = False)\n",
    "\n",
    "average_rmse, average_train_time, average_test_time, average_rmse_time = k_fold_als(vanilla_als, 5, data)\n",
    "print(\"Training Model: %s seconds\" % (average_train_time))\n",
    "print(\"Predictions: %s seconds\" % (average_test_time))\n",
    "print(\"Evaluation: %s seconds\" % (average_rmse_time))\n",
    "print(\"RMSE: %s\" % (average_rmse))"
   ]
  },
  {
   "cell_type": "markdown",
   "metadata": {},
   "source": [
    "The RMSE of the plain vanilla ALS model is roughly 1.3. It takes about 4 seconds to train the model, 1.5 seconds to create test set predictions, 1.5 seconds to compute the RMSE of these predictions."
   ]
  }
 ],
 "metadata": {
  "kernelspec": {
   "display_name": "Python 3",
   "language": "python",
   "name": "python3"
  },
  "language_info": {
   "codemirror_mode": {
    "name": "ipython",
    "version": 3
   },
   "file_extension": ".py",
   "mimetype": "text/x-python",
   "name": "python",
   "nbconvert_exporter": "python",
   "pygments_lexer": "ipython3",
   "version": "3.7.7"
  }
 },
 "nbformat": 4,
 "nbformat_minor": 4
}
